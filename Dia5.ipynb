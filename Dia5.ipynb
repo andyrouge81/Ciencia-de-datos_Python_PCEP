{
 "cells": [
  {
   "cell_type": "markdown",
   "metadata": {},
   "source": [
    "## Ciencia de datos con Python - Preparación para la certificación PCEP de Python Institute-Día 5"
   ]
  },
  {
   "cell_type": "code",
   "execution_count": 1,
   "metadata": {},
   "outputs": [
    {
     "name": "stdout",
     "output_type": "stream",
     "text": [
      "                Cliente  Precio Unidad  Cantidad\n",
      "0  Comercial Pérez S.A.           1.74        29\n",
      "1  Distribuciones López           2.68        37\n",
      "2   Almacenes Rodríguez           1.65        64\n",
      "3    Importadora García           2.23        35\n",
      "4   Mercantil Fernández           1.64        19\n",
      "5  Suministros Martínez           3.67        22\n"
     ]
    }
   ],
   "source": [
    "# Los dataframes en pandas, que son estructuras de dos dimensiones(filas y columnas)\n",
    "# Se puden cargar de dos maneras: - de manera manual o leyendo de un origen de datos\n",
    "# Es te origen de datos puede ser desde un fichero plano(.csv, .txt ,.json, .xlsx, .pdf) o de una base \n",
    "# de datos Ms Access, SQL Server, Oracle, Informix, MySQL, Postgres, MariaDB\n",
    "\n",
    "import pandas as pd\n",
    "# 1-paréntesis (), si es una función\n",
    "# 2- Corchete [],si hay más de un elemento\n",
    "# 3- Llave {}, para poner un registro\n",
    "pedidos = pd.DataFrame([\n",
    "    {'Cliente':'Comercial Pérez S.A.','Precio Unidad':1.74,'Cantidad':29},\n",
    "    {'Cliente':'Distribuciones López','Precio Unidad':2.68,'Cantidad':37},\n",
    "    {'Cliente':'Almacenes Rodríguez','Precio Unidad':1.65,'Cantidad':64},\n",
    "    {'Cliente':'Importadora García','Precio Unidad':2.23,'Cantidad':35},\n",
    "    {'Cliente':'Mercantil Fernández','Precio Unidad':1.64,'Cantidad':19},\n",
    "    {'Cliente':'Suministros Martínez','Precio Unidad':3.67,'Cantidad':22}\n",
    "])\n",
    "# Vemos el dataframe, con formato pandas, mas curioso\n",
    "pedidos\n",
    "# Muestrame el dataframe con print original de python, más sencillo\n",
    "print(pedidos)"
   ]
  },
  {
   "cell_type": "code",
   "execution_count": 3,
   "metadata": {},
   "outputs": [
    {
     "data": {
      "text/plain": [
       "0    Comercial Pérez S.A.\n",
       "1    Distribuciones López\n",
       "2     Almacenes Rodríguez\n",
       "3      Importadora García\n",
       "4     Mercantil Fernández\n",
       "5    Suministros Martínez\n",
       "Name: Cliente, dtype: object"
      ]
     },
     "execution_count": 3,
     "metadata": {},
     "output_type": "execute_result"
    }
   ],
   "source": [
    "# Cómo ver solamente un campo o una serie, es lo mismo\n",
    "pedidos['Cliente'] # vemos los campos de \"cliente\""
   ]
  },
  {
   "cell_type": "code",
   "execution_count": 4,
   "metadata": {},
   "outputs": [
    {
     "data": {
      "application/vnd.microsoft.datawrangler.viewer.v0+json": {
       "columns": [
        {
         "name": "index",
         "rawType": "int64",
         "type": "integer"
        },
        {
         "name": "Precio Unidad",
         "rawType": "float64",
         "type": "float"
        },
        {
         "name": "Cliente",
         "rawType": "object",
         "type": "string"
        }
       ],
       "conversionMethod": "pd.DataFrame",
       "ref": "439d2e64-9427-4ab6-b9a1-4517793fe798",
       "rows": [
        [
         "0",
         "1.74",
         "Comercial Pérez S.A."
        ],
        [
         "1",
         "2.68",
         "Distribuciones López"
        ],
        [
         "2",
         "1.65",
         "Almacenes Rodríguez"
        ],
        [
         "3",
         "2.23",
         "Importadora García"
        ],
        [
         "4",
         "1.64",
         "Mercantil Fernández"
        ],
        [
         "5",
         "3.67",
         "Suministros Martínez"
        ]
       ],
       "shape": {
        "columns": 2,
        "rows": 6
       }
      },
      "text/html": [
       "<div>\n",
       "<style scoped>\n",
       "    .dataframe tbody tr th:only-of-type {\n",
       "        vertical-align: middle;\n",
       "    }\n",
       "\n",
       "    .dataframe tbody tr th {\n",
       "        vertical-align: top;\n",
       "    }\n",
       "\n",
       "    .dataframe thead th {\n",
       "        text-align: right;\n",
       "    }\n",
       "</style>\n",
       "<table border=\"1\" class=\"dataframe\">\n",
       "  <thead>\n",
       "    <tr style=\"text-align: right;\">\n",
       "      <th></th>\n",
       "      <th>Precio Unidad</th>\n",
       "      <th>Cliente</th>\n",
       "    </tr>\n",
       "  </thead>\n",
       "  <tbody>\n",
       "    <tr>\n",
       "      <th>0</th>\n",
       "      <td>1.74</td>\n",
       "      <td>Comercial Pérez S.A.</td>\n",
       "    </tr>\n",
       "    <tr>\n",
       "      <th>1</th>\n",
       "      <td>2.68</td>\n",
       "      <td>Distribuciones López</td>\n",
       "    </tr>\n",
       "    <tr>\n",
       "      <th>2</th>\n",
       "      <td>1.65</td>\n",
       "      <td>Almacenes Rodríguez</td>\n",
       "    </tr>\n",
       "    <tr>\n",
       "      <th>3</th>\n",
       "      <td>2.23</td>\n",
       "      <td>Importadora García</td>\n",
       "    </tr>\n",
       "    <tr>\n",
       "      <th>4</th>\n",
       "      <td>1.64</td>\n",
       "      <td>Mercantil Fernández</td>\n",
       "    </tr>\n",
       "    <tr>\n",
       "      <th>5</th>\n",
       "      <td>3.67</td>\n",
       "      <td>Suministros Martínez</td>\n",
       "    </tr>\n",
       "  </tbody>\n",
       "</table>\n",
       "</div>"
      ],
      "text/plain": [
       "   Precio Unidad               Cliente\n",
       "0           1.74  Comercial Pérez S.A.\n",
       "1           2.68  Distribuciones López\n",
       "2           1.65   Almacenes Rodríguez\n",
       "3           2.23    Importadora García\n",
       "4           1.64   Mercantil Fernández\n",
       "5           3.67  Suministros Martínez"
      ]
     },
     "execution_count": 4,
     "metadata": {},
     "output_type": "execute_result"
    }
   ],
   "source": [
    "# Cómo ver más de un campo/serie a la vez\n",
    "pedidos[['Cliente','Precio Unidad']] # Ver 1er campo 'Cliente\n",
    "pedidos[['Precio Unidad', 'Cliente']] # ver 1er campo 'Precio Unidad'"
   ]
  },
  {
   "cell_type": "code",
   "execution_count": 5,
   "metadata": {},
   "outputs": [
    {
     "data": {
      "text/plain": [
       "0     Almacenes Rodríguez\n",
       "1    Comercial Pérez S.A.\n",
       "2    Distribuciones López\n",
       "3      Importadora García\n",
       "4     Mercantil Fernández\n",
       "5    Suministros Martínez\n",
       "Name: Cliente, dtype: object"
      ]
     },
     "execution_count": 5,
     "metadata": {},
     "output_type": "execute_result"
    }
   ],
   "source": [
    "# muestra ordenado clientes de lectura y reindexado debe coincidir con minus y mayus el nombre del campo\n",
    "pedidos['Cliente'].sort_values(ascending = True, ignore_index= True)"
   ]
  },
  {
   "cell_type": "code",
   "execution_count": 6,
   "metadata": {},
   "outputs": [
    {
     "data": {
      "application/vnd.microsoft.datawrangler.viewer.v0+json": {
       "columns": [
        {
         "name": "index",
         "rawType": "int64",
         "type": "integer"
        },
        {
         "name": "Cliente",
         "rawType": "object",
         "type": "string"
        },
        {
         "name": "Precio Unidad",
         "rawType": "float64",
         "type": "float"
        },
        {
         "name": "Cantidad",
         "rawType": "int64",
         "type": "integer"
        },
        {
         "name": "Zona",
         "rawType": "object",
         "type": "string"
        }
       ],
       "conversionMethod": "pd.DataFrame",
       "ref": "334ca142-498b-4b25-822b-6d2c24288c99",
       "rows": [
        [
         "0",
         "Comercial Pérez S.A.",
         "1.74",
         "29",
         "Zona Centro"
        ],
        [
         "1",
         "Distribuciones López",
         "2.68",
         "37",
         "Zona Centro"
        ],
        [
         "2",
         "Almacenes Rodríguez",
         "1.65",
         "64",
         "Zona Centro"
        ],
        [
         "3",
         "Importadora García",
         "2.23",
         "35",
         "Zona Centro"
        ],
        [
         "4",
         "Mercantil Fernández",
         "1.64",
         "19",
         "Zona Centro"
        ],
        [
         "5",
         "Suministros Martínez",
         "3.67",
         "22",
         "Zona Centro"
        ]
       ],
       "shape": {
        "columns": 4,
        "rows": 6
       }
      },
      "text/html": [
       "<div>\n",
       "<style scoped>\n",
       "    .dataframe tbody tr th:only-of-type {\n",
       "        vertical-align: middle;\n",
       "    }\n",
       "\n",
       "    .dataframe tbody tr th {\n",
       "        vertical-align: top;\n",
       "    }\n",
       "\n",
       "    .dataframe thead th {\n",
       "        text-align: right;\n",
       "    }\n",
       "</style>\n",
       "<table border=\"1\" class=\"dataframe\">\n",
       "  <thead>\n",
       "    <tr style=\"text-align: right;\">\n",
       "      <th></th>\n",
       "      <th>Cliente</th>\n",
       "      <th>Precio Unidad</th>\n",
       "      <th>Cantidad</th>\n",
       "      <th>Zona</th>\n",
       "    </tr>\n",
       "  </thead>\n",
       "  <tbody>\n",
       "    <tr>\n",
       "      <th>0</th>\n",
       "      <td>Comercial Pérez S.A.</td>\n",
       "      <td>1.74</td>\n",
       "      <td>29</td>\n",
       "      <td>Zona Centro</td>\n",
       "    </tr>\n",
       "    <tr>\n",
       "      <th>1</th>\n",
       "      <td>Distribuciones López</td>\n",
       "      <td>2.68</td>\n",
       "      <td>37</td>\n",
       "      <td>Zona Centro</td>\n",
       "    </tr>\n",
       "    <tr>\n",
       "      <th>2</th>\n",
       "      <td>Almacenes Rodríguez</td>\n",
       "      <td>1.65</td>\n",
       "      <td>64</td>\n",
       "      <td>Zona Centro</td>\n",
       "    </tr>\n",
       "    <tr>\n",
       "      <th>3</th>\n",
       "      <td>Importadora García</td>\n",
       "      <td>2.23</td>\n",
       "      <td>35</td>\n",
       "      <td>Zona Centro</td>\n",
       "    </tr>\n",
       "    <tr>\n",
       "      <th>4</th>\n",
       "      <td>Mercantil Fernández</td>\n",
       "      <td>1.64</td>\n",
       "      <td>19</td>\n",
       "      <td>Zona Centro</td>\n",
       "    </tr>\n",
       "    <tr>\n",
       "      <th>5</th>\n",
       "      <td>Suministros Martínez</td>\n",
       "      <td>3.67</td>\n",
       "      <td>22</td>\n",
       "      <td>Zona Centro</td>\n",
       "    </tr>\n",
       "  </tbody>\n",
       "</table>\n",
       "</div>"
      ],
      "text/plain": [
       "                Cliente  Precio Unidad  Cantidad         Zona\n",
       "0  Comercial Pérez S.A.           1.74        29  Zona Centro\n",
       "1  Distribuciones López           2.68        37  Zona Centro\n",
       "2   Almacenes Rodríguez           1.65        64  Zona Centro\n",
       "3    Importadora García           2.23        35  Zona Centro\n",
       "4   Mercantil Fernández           1.64        19  Zona Centro\n",
       "5  Suministros Martínez           3.67        22  Zona Centro"
      ]
     },
     "execution_count": 6,
     "metadata": {},
     "output_type": "execute_result"
    }
   ],
   "source": [
    "# Cómo añadir un campo o serie a un DataFrame\n",
    "# 1- Con un valor manual fijo(Que será el mismo, para todas las filas)\n",
    "# 2- Usando la función apply()\n",
    "# 3- Partiendo dde una columna existente\n",
    "\n",
    "# Caso1 - Valor manual fijo para todas las filas del df, poniendo un nombre de campo  que no existía en el df\n",
    "pedidos['Zona'] = 'Zona Centro'\n",
    "pedidos # vista desde pandas"
   ]
  },
  {
   "cell_type": "code",
   "execution_count": 7,
   "metadata": {},
   "outputs": [
    {
     "name": "stdout",
     "output_type": "stream",
     "text": [
      "                Cliente  Precio Unidad  Cantidad         Zona  Cantidad2\n",
      "0  Comercial Pérez S.A.           1.74        29  Zona Centro         31\n",
      "1  Distribuciones López           2.68        37  Zona Centro         39\n",
      "2   Almacenes Rodríguez           1.65        64  Zona Centro         66\n",
      "3    Importadora García           2.23        35  Zona Centro         37\n",
      "4   Mercantil Fernández           1.64        19  Zona Centro         16\n",
      "5  Suministros Martínez           3.67        22  Zona Centro         19\n"
     ]
    }
   ],
   "source": [
    "# Caso2 - Mediante apply() voy a sumar 2 unidades a cantidad, para las cantidades mayores de 25 \n",
    "# y voy a restar 3 unidades a cantidad, para las cantidades menor o igual a 25\n",
    "\n",
    "def modifica_cant(x):\n",
    "    if x >25:\n",
    "        return x + 2\n",
    "    else:\n",
    "        return x - 3\n",
    "    \n",
    "# aplicar la función\n",
    "\n",
    "pedidos['Cantidad2'] = pedidos['Cantidad'].apply(modifica_cant)\n",
    "print(pedidos) # visualización con el nativo de python\n",
    "    \n"
   ]
  },
  {
   "cell_type": "code",
   "execution_count": 8,
   "metadata": {},
   "outputs": [
    {
     "name": "stdout",
     "output_type": "stream",
     "text": [
      "                Cliente  Precio Unidad  Cantidad         Zona  Cantidad2  \\\n",
      "0  Comercial Pérez S.A.           1.74        29  Zona Centro         31   \n",
      "1  Distribuciones López           2.68        37  Zona Centro         39   \n",
      "2   Almacenes Rodríguez           1.65        64  Zona Centro         66   \n",
      "3    Importadora García           2.23        35  Zona Centro         37   \n",
      "4   Mercantil Fernández           1.64        19  Zona Centro         16   \n",
      "5  Suministros Martínez           3.67        22  Zona Centro         19   \n",
      "\n",
      "   Cantidad3  Cantidad4  \n",
      "0         39         60  \n",
      "1         47         76  \n",
      "2         74        130  \n",
      "3         45         72  \n",
      "4         29         35  \n",
      "5         32         41  \n"
     ]
    }
   ],
   "source": [
    "# Caso3 - Partiendo de una columna existente o dos o varias columnas, sumar 10 a una serie al dataframe\n",
    "pedidos['Cantidad3'] = pedidos['Cantidad'] + 10\n",
    "pedidos['Cantidad4'] = pedidos['Cantidad'] + pedidos['Cantidad2']\n",
    "print(pedidos)"
   ]
  },
  {
   "cell_type": "markdown",
   "metadata": {},
   "source": [
    "### PRACTICA 24:\n",
    "* Aprovechando el dataframe pedidos, crear un campo nuevo que se llamará \"dif_cantidad\" y que me dará la diferencia que hay  entre la cantidad más grande de toda la serie y la cantidad de cada fila"
   ]
  },
  {
   "cell_type": "code",
   "execution_count": 9,
   "metadata": {},
   "outputs": [
    {
     "data": {
      "application/vnd.microsoft.datawrangler.viewer.v0+json": {
       "columns": [
        {
         "name": "index",
         "rawType": "int64",
         "type": "integer"
        },
        {
         "name": "Cliente",
         "rawType": "object",
         "type": "string"
        },
        {
         "name": "Precio Unidad",
         "rawType": "float64",
         "type": "float"
        },
        {
         "name": "Cantidad",
         "rawType": "int64",
         "type": "integer"
        },
        {
         "name": "Zona",
         "rawType": "object",
         "type": "string"
        },
        {
         "name": "Cantidad2",
         "rawType": "int64",
         "type": "integer"
        },
        {
         "name": "Cantidad3",
         "rawType": "int64",
         "type": "integer"
        },
        {
         "name": "Cantidad4",
         "rawType": "int64",
         "type": "integer"
        },
        {
         "name": "dif_cantidad",
         "rawType": "int64",
         "type": "integer"
        }
       ],
       "conversionMethod": "pd.DataFrame",
       "ref": "d38fb606-a6e6-44d5-a1e5-0251098d9461",
       "rows": [
        [
         "0",
         "Comercial Pérez S.A.",
         "1.74",
         "29",
         "Zona Centro",
         "31",
         "39",
         "60",
         "45"
        ],
        [
         "1",
         "Distribuciones López",
         "2.68",
         "37",
         "Zona Centro",
         "39",
         "47",
         "76",
         "45"
        ],
        [
         "2",
         "Almacenes Rodríguez",
         "1.65",
         "64",
         "Zona Centro",
         "66",
         "74",
         "130",
         "45"
        ],
        [
         "3",
         "Importadora García",
         "2.23",
         "35",
         "Zona Centro",
         "37",
         "45",
         "72",
         "45"
        ],
        [
         "4",
         "Mercantil Fernández",
         "1.64",
         "19",
         "Zona Centro",
         "16",
         "29",
         "35",
         "45"
        ],
        [
         "5",
         "Suministros Martínez",
         "3.67",
         "22",
         "Zona Centro",
         "19",
         "32",
         "41",
         "45"
        ]
       ],
       "shape": {
        "columns": 8,
        "rows": 6
       }
      },
      "text/html": [
       "<div>\n",
       "<style scoped>\n",
       "    .dataframe tbody tr th:only-of-type {\n",
       "        vertical-align: middle;\n",
       "    }\n",
       "\n",
       "    .dataframe tbody tr th {\n",
       "        vertical-align: top;\n",
       "    }\n",
       "\n",
       "    .dataframe thead th {\n",
       "        text-align: right;\n",
       "    }\n",
       "</style>\n",
       "<table border=\"1\" class=\"dataframe\">\n",
       "  <thead>\n",
       "    <tr style=\"text-align: right;\">\n",
       "      <th></th>\n",
       "      <th>Cliente</th>\n",
       "      <th>Precio Unidad</th>\n",
       "      <th>Cantidad</th>\n",
       "      <th>Zona</th>\n",
       "      <th>Cantidad2</th>\n",
       "      <th>Cantidad3</th>\n",
       "      <th>Cantidad4</th>\n",
       "      <th>dif_cantidad</th>\n",
       "    </tr>\n",
       "  </thead>\n",
       "  <tbody>\n",
       "    <tr>\n",
       "      <th>0</th>\n",
       "      <td>Comercial Pérez S.A.</td>\n",
       "      <td>1.74</td>\n",
       "      <td>29</td>\n",
       "      <td>Zona Centro</td>\n",
       "      <td>31</td>\n",
       "      <td>39</td>\n",
       "      <td>60</td>\n",
       "      <td>45</td>\n",
       "    </tr>\n",
       "    <tr>\n",
       "      <th>1</th>\n",
       "      <td>Distribuciones López</td>\n",
       "      <td>2.68</td>\n",
       "      <td>37</td>\n",
       "      <td>Zona Centro</td>\n",
       "      <td>39</td>\n",
       "      <td>47</td>\n",
       "      <td>76</td>\n",
       "      <td>45</td>\n",
       "    </tr>\n",
       "    <tr>\n",
       "      <th>2</th>\n",
       "      <td>Almacenes Rodríguez</td>\n",
       "      <td>1.65</td>\n",
       "      <td>64</td>\n",
       "      <td>Zona Centro</td>\n",
       "      <td>66</td>\n",
       "      <td>74</td>\n",
       "      <td>130</td>\n",
       "      <td>45</td>\n",
       "    </tr>\n",
       "    <tr>\n",
       "      <th>3</th>\n",
       "      <td>Importadora García</td>\n",
       "      <td>2.23</td>\n",
       "      <td>35</td>\n",
       "      <td>Zona Centro</td>\n",
       "      <td>37</td>\n",
       "      <td>45</td>\n",
       "      <td>72</td>\n",
       "      <td>45</td>\n",
       "    </tr>\n",
       "    <tr>\n",
       "      <th>4</th>\n",
       "      <td>Mercantil Fernández</td>\n",
       "      <td>1.64</td>\n",
       "      <td>19</td>\n",
       "      <td>Zona Centro</td>\n",
       "      <td>16</td>\n",
       "      <td>29</td>\n",
       "      <td>35</td>\n",
       "      <td>45</td>\n",
       "    </tr>\n",
       "    <tr>\n",
       "      <th>5</th>\n",
       "      <td>Suministros Martínez</td>\n",
       "      <td>3.67</td>\n",
       "      <td>22</td>\n",
       "      <td>Zona Centro</td>\n",
       "      <td>19</td>\n",
       "      <td>32</td>\n",
       "      <td>41</td>\n",
       "      <td>45</td>\n",
       "    </tr>\n",
       "  </tbody>\n",
       "</table>\n",
       "</div>"
      ],
      "text/plain": [
       "                Cliente  Precio Unidad  Cantidad         Zona  Cantidad2  \\\n",
       "0  Comercial Pérez S.A.           1.74        29  Zona Centro         31   \n",
       "1  Distribuciones López           2.68        37  Zona Centro         39   \n",
       "2   Almacenes Rodríguez           1.65        64  Zona Centro         66   \n",
       "3    Importadora García           2.23        35  Zona Centro         37   \n",
       "4   Mercantil Fernández           1.64        19  Zona Centro         16   \n",
       "5  Suministros Martínez           3.67        22  Zona Centro         19   \n",
       "\n",
       "   Cantidad3  Cantidad4  dif_cantidad  \n",
       "0         39         60            45  \n",
       "1         47         76            45  \n",
       "2         74        130            45  \n",
       "3         45         72            45  \n",
       "4         29         35            45  \n",
       "5         32         41            45  "
      ]
     },
     "execution_count": 9,
     "metadata": {},
     "output_type": "execute_result"
    }
   ],
   "source": [
    "# Lo he leído mal y he restado la cantidad mayor con la cantidad menor, pero lo dejamos pues es buena praxis\n",
    "pedidos['dif_cantidad'] = pedidos['Cantidad'].max() - pedidos['Cantidad'].min()\n",
    "pedidos\n"
   ]
  },
  {
   "cell_type": "code",
   "execution_count": 10,
   "metadata": {},
   "outputs": [
    {
     "data": {
      "application/vnd.microsoft.datawrangler.viewer.v0+json": {
       "columns": [
        {
         "name": "index",
         "rawType": "int64",
         "type": "integer"
        },
        {
         "name": "Cliente",
         "rawType": "object",
         "type": "string"
        },
        {
         "name": "Precio Unidad",
         "rawType": "float64",
         "type": "float"
        },
        {
         "name": "Cantidad",
         "rawType": "int64",
         "type": "integer"
        },
        {
         "name": "Zona",
         "rawType": "object",
         "type": "string"
        },
        {
         "name": "Cantidad2",
         "rawType": "int64",
         "type": "integer"
        },
        {
         "name": "Cantidad3",
         "rawType": "int64",
         "type": "integer"
        },
        {
         "name": "Cantidad4",
         "rawType": "int64",
         "type": "integer"
        },
        {
         "name": "dif_cantidad",
         "rawType": "int64",
         "type": "integer"
        },
        {
         "name": "dif_cantidad2",
         "rawType": "int64",
         "type": "integer"
        }
       ],
       "conversionMethod": "pd.DataFrame",
       "ref": "625faa04-2b53-494b-8649-d2b2aad5b846",
       "rows": [
        [
         "0",
         "Comercial Pérez S.A.",
         "1.74",
         "29",
         "Zona Centro",
         "31",
         "39",
         "60",
         "45",
         "35"
        ],
        [
         "1",
         "Distribuciones López",
         "2.68",
         "37",
         "Zona Centro",
         "39",
         "47",
         "76",
         "45",
         "27"
        ],
        [
         "2",
         "Almacenes Rodríguez",
         "1.65",
         "64",
         "Zona Centro",
         "66",
         "74",
         "130",
         "45",
         "0"
        ],
        [
         "3",
         "Importadora García",
         "2.23",
         "35",
         "Zona Centro",
         "37",
         "45",
         "72",
         "45",
         "29"
        ],
        [
         "4",
         "Mercantil Fernández",
         "1.64",
         "19",
         "Zona Centro",
         "16",
         "29",
         "35",
         "45",
         "45"
        ],
        [
         "5",
         "Suministros Martínez",
         "3.67",
         "22",
         "Zona Centro",
         "19",
         "32",
         "41",
         "45",
         "42"
        ]
       ],
       "shape": {
        "columns": 9,
        "rows": 6
       }
      },
      "text/html": [
       "<div>\n",
       "<style scoped>\n",
       "    .dataframe tbody tr th:only-of-type {\n",
       "        vertical-align: middle;\n",
       "    }\n",
       "\n",
       "    .dataframe tbody tr th {\n",
       "        vertical-align: top;\n",
       "    }\n",
       "\n",
       "    .dataframe thead th {\n",
       "        text-align: right;\n",
       "    }\n",
       "</style>\n",
       "<table border=\"1\" class=\"dataframe\">\n",
       "  <thead>\n",
       "    <tr style=\"text-align: right;\">\n",
       "      <th></th>\n",
       "      <th>Cliente</th>\n",
       "      <th>Precio Unidad</th>\n",
       "      <th>Cantidad</th>\n",
       "      <th>Zona</th>\n",
       "      <th>Cantidad2</th>\n",
       "      <th>Cantidad3</th>\n",
       "      <th>Cantidad4</th>\n",
       "      <th>dif_cantidad</th>\n",
       "      <th>dif_cantidad2</th>\n",
       "    </tr>\n",
       "  </thead>\n",
       "  <tbody>\n",
       "    <tr>\n",
       "      <th>0</th>\n",
       "      <td>Comercial Pérez S.A.</td>\n",
       "      <td>1.74</td>\n",
       "      <td>29</td>\n",
       "      <td>Zona Centro</td>\n",
       "      <td>31</td>\n",
       "      <td>39</td>\n",
       "      <td>60</td>\n",
       "      <td>45</td>\n",
       "      <td>35</td>\n",
       "    </tr>\n",
       "    <tr>\n",
       "      <th>1</th>\n",
       "      <td>Distribuciones López</td>\n",
       "      <td>2.68</td>\n",
       "      <td>37</td>\n",
       "      <td>Zona Centro</td>\n",
       "      <td>39</td>\n",
       "      <td>47</td>\n",
       "      <td>76</td>\n",
       "      <td>45</td>\n",
       "      <td>27</td>\n",
       "    </tr>\n",
       "    <tr>\n",
       "      <th>2</th>\n",
       "      <td>Almacenes Rodríguez</td>\n",
       "      <td>1.65</td>\n",
       "      <td>64</td>\n",
       "      <td>Zona Centro</td>\n",
       "      <td>66</td>\n",
       "      <td>74</td>\n",
       "      <td>130</td>\n",
       "      <td>45</td>\n",
       "      <td>0</td>\n",
       "    </tr>\n",
       "    <tr>\n",
       "      <th>3</th>\n",
       "      <td>Importadora García</td>\n",
       "      <td>2.23</td>\n",
       "      <td>35</td>\n",
       "      <td>Zona Centro</td>\n",
       "      <td>37</td>\n",
       "      <td>45</td>\n",
       "      <td>72</td>\n",
       "      <td>45</td>\n",
       "      <td>29</td>\n",
       "    </tr>\n",
       "    <tr>\n",
       "      <th>4</th>\n",
       "      <td>Mercantil Fernández</td>\n",
       "      <td>1.64</td>\n",
       "      <td>19</td>\n",
       "      <td>Zona Centro</td>\n",
       "      <td>16</td>\n",
       "      <td>29</td>\n",
       "      <td>35</td>\n",
       "      <td>45</td>\n",
       "      <td>45</td>\n",
       "    </tr>\n",
       "    <tr>\n",
       "      <th>5</th>\n",
       "      <td>Suministros Martínez</td>\n",
       "      <td>3.67</td>\n",
       "      <td>22</td>\n",
       "      <td>Zona Centro</td>\n",
       "      <td>19</td>\n",
       "      <td>32</td>\n",
       "      <td>41</td>\n",
       "      <td>45</td>\n",
       "      <td>42</td>\n",
       "    </tr>\n",
       "  </tbody>\n",
       "</table>\n",
       "</div>"
      ],
      "text/plain": [
       "                Cliente  Precio Unidad  Cantidad         Zona  Cantidad2  \\\n",
       "0  Comercial Pérez S.A.           1.74        29  Zona Centro         31   \n",
       "1  Distribuciones López           2.68        37  Zona Centro         39   \n",
       "2   Almacenes Rodríguez           1.65        64  Zona Centro         66   \n",
       "3    Importadora García           2.23        35  Zona Centro         37   \n",
       "4   Mercantil Fernández           1.64        19  Zona Centro         16   \n",
       "5  Suministros Martínez           3.67        22  Zona Centro         19   \n",
       "\n",
       "   Cantidad3  Cantidad4  dif_cantidad  dif_cantidad2  \n",
       "0         39         60            45             35  \n",
       "1         47         76            45             27  \n",
       "2         74        130            45              0  \n",
       "3         45         72            45             29  \n",
       "4         29         35            45             45  \n",
       "5         32         41            45             42  "
      ]
     },
     "execution_count": 10,
     "metadata": {},
     "output_type": "execute_result"
    }
   ],
   "source": [
    "# la solución del profe\n",
    "# Almacenar en una variable/objeto la cantidad mayor\n",
    "cantidad_mayor = pedidos['Cantidad'].max()\n",
    "# Creamos una columna nueva\n",
    "pedidos['dif_cantidad2'] = cantidad_mayor - pedidos['Cantidad']\n",
    "pedidos"
   ]
  },
  {
   "cell_type": "markdown",
   "metadata": {},
   "source": [
    "### PRACTICA 25:\n",
    "* Crear en el dataframe una columna nueva que se llame transportista, cuyo valor sea \"SEUR\""
   ]
  },
  {
   "cell_type": "code",
   "execution_count": 11,
   "metadata": {},
   "outputs": [
    {
     "data": {
      "application/vnd.microsoft.datawrangler.viewer.v0+json": {
       "columns": [
        {
         "name": "index",
         "rawType": "int64",
         "type": "integer"
        },
        {
         "name": "Cliente",
         "rawType": "object",
         "type": "string"
        },
        {
         "name": "Precio Unidad",
         "rawType": "float64",
         "type": "float"
        },
        {
         "name": "Cantidad",
         "rawType": "int64",
         "type": "integer"
        },
        {
         "name": "Zona",
         "rawType": "object",
         "type": "string"
        },
        {
         "name": "Cantidad2",
         "rawType": "int64",
         "type": "integer"
        },
        {
         "name": "Cantidad3",
         "rawType": "int64",
         "type": "integer"
        },
        {
         "name": "Cantidad4",
         "rawType": "int64",
         "type": "integer"
        },
        {
         "name": "dif_cantidad",
         "rawType": "int64",
         "type": "integer"
        },
        {
         "name": "dif_cantidad2",
         "rawType": "int64",
         "type": "integer"
        },
        {
         "name": "Transportista",
         "rawType": "object",
         "type": "string"
        }
       ],
       "conversionMethod": "pd.DataFrame",
       "ref": "44212a7a-e0d6-46f1-af45-e13326d1ebe3",
       "rows": [
        [
         "0",
         "Comercial Pérez S.A.",
         "1.74",
         "29",
         "Zona Centro",
         "31",
         "39",
         "60",
         "45",
         "35",
         "SEUR"
        ],
        [
         "1",
         "Distribuciones López",
         "2.68",
         "37",
         "Zona Centro",
         "39",
         "47",
         "76",
         "45",
         "27",
         "SEUR"
        ],
        [
         "2",
         "Almacenes Rodríguez",
         "1.65",
         "64",
         "Zona Centro",
         "66",
         "74",
         "130",
         "45",
         "0",
         "SEUR"
        ],
        [
         "3",
         "Importadora García",
         "2.23",
         "35",
         "Zona Centro",
         "37",
         "45",
         "72",
         "45",
         "29",
         "SEUR"
        ],
        [
         "4",
         "Mercantil Fernández",
         "1.64",
         "19",
         "Zona Centro",
         "16",
         "29",
         "35",
         "45",
         "45",
         "SEUR"
        ],
        [
         "5",
         "Suministros Martínez",
         "3.67",
         "22",
         "Zona Centro",
         "19",
         "32",
         "41",
         "45",
         "42",
         "SEUR"
        ]
       ],
       "shape": {
        "columns": 10,
        "rows": 6
       }
      },
      "text/html": [
       "<div>\n",
       "<style scoped>\n",
       "    .dataframe tbody tr th:only-of-type {\n",
       "        vertical-align: middle;\n",
       "    }\n",
       "\n",
       "    .dataframe tbody tr th {\n",
       "        vertical-align: top;\n",
       "    }\n",
       "\n",
       "    .dataframe thead th {\n",
       "        text-align: right;\n",
       "    }\n",
       "</style>\n",
       "<table border=\"1\" class=\"dataframe\">\n",
       "  <thead>\n",
       "    <tr style=\"text-align: right;\">\n",
       "      <th></th>\n",
       "      <th>Cliente</th>\n",
       "      <th>Precio Unidad</th>\n",
       "      <th>Cantidad</th>\n",
       "      <th>Zona</th>\n",
       "      <th>Cantidad2</th>\n",
       "      <th>Cantidad3</th>\n",
       "      <th>Cantidad4</th>\n",
       "      <th>dif_cantidad</th>\n",
       "      <th>dif_cantidad2</th>\n",
       "      <th>Transportista</th>\n",
       "    </tr>\n",
       "  </thead>\n",
       "  <tbody>\n",
       "    <tr>\n",
       "      <th>0</th>\n",
       "      <td>Comercial Pérez S.A.</td>\n",
       "      <td>1.74</td>\n",
       "      <td>29</td>\n",
       "      <td>Zona Centro</td>\n",
       "      <td>31</td>\n",
       "      <td>39</td>\n",
       "      <td>60</td>\n",
       "      <td>45</td>\n",
       "      <td>35</td>\n",
       "      <td>SEUR</td>\n",
       "    </tr>\n",
       "    <tr>\n",
       "      <th>1</th>\n",
       "      <td>Distribuciones López</td>\n",
       "      <td>2.68</td>\n",
       "      <td>37</td>\n",
       "      <td>Zona Centro</td>\n",
       "      <td>39</td>\n",
       "      <td>47</td>\n",
       "      <td>76</td>\n",
       "      <td>45</td>\n",
       "      <td>27</td>\n",
       "      <td>SEUR</td>\n",
       "    </tr>\n",
       "    <tr>\n",
       "      <th>2</th>\n",
       "      <td>Almacenes Rodríguez</td>\n",
       "      <td>1.65</td>\n",
       "      <td>64</td>\n",
       "      <td>Zona Centro</td>\n",
       "      <td>66</td>\n",
       "      <td>74</td>\n",
       "      <td>130</td>\n",
       "      <td>45</td>\n",
       "      <td>0</td>\n",
       "      <td>SEUR</td>\n",
       "    </tr>\n",
       "    <tr>\n",
       "      <th>3</th>\n",
       "      <td>Importadora García</td>\n",
       "      <td>2.23</td>\n",
       "      <td>35</td>\n",
       "      <td>Zona Centro</td>\n",
       "      <td>37</td>\n",
       "      <td>45</td>\n",
       "      <td>72</td>\n",
       "      <td>45</td>\n",
       "      <td>29</td>\n",
       "      <td>SEUR</td>\n",
       "    </tr>\n",
       "    <tr>\n",
       "      <th>4</th>\n",
       "      <td>Mercantil Fernández</td>\n",
       "      <td>1.64</td>\n",
       "      <td>19</td>\n",
       "      <td>Zona Centro</td>\n",
       "      <td>16</td>\n",
       "      <td>29</td>\n",
       "      <td>35</td>\n",
       "      <td>45</td>\n",
       "      <td>45</td>\n",
       "      <td>SEUR</td>\n",
       "    </tr>\n",
       "    <tr>\n",
       "      <th>5</th>\n",
       "      <td>Suministros Martínez</td>\n",
       "      <td>3.67</td>\n",
       "      <td>22</td>\n",
       "      <td>Zona Centro</td>\n",
       "      <td>19</td>\n",
       "      <td>32</td>\n",
       "      <td>41</td>\n",
       "      <td>45</td>\n",
       "      <td>42</td>\n",
       "      <td>SEUR</td>\n",
       "    </tr>\n",
       "  </tbody>\n",
       "</table>\n",
       "</div>"
      ],
      "text/plain": [
       "                Cliente  Precio Unidad  Cantidad         Zona  Cantidad2  \\\n",
       "0  Comercial Pérez S.A.           1.74        29  Zona Centro         31   \n",
       "1  Distribuciones López           2.68        37  Zona Centro         39   \n",
       "2   Almacenes Rodríguez           1.65        64  Zona Centro         66   \n",
       "3    Importadora García           2.23        35  Zona Centro         37   \n",
       "4   Mercantil Fernández           1.64        19  Zona Centro         16   \n",
       "5  Suministros Martínez           3.67        22  Zona Centro         19   \n",
       "\n",
       "   Cantidad3  Cantidad4  dif_cantidad  dif_cantidad2 Transportista  \n",
       "0         39         60            45             35          SEUR  \n",
       "1         47         76            45             27          SEUR  \n",
       "2         74        130            45              0          SEUR  \n",
       "3         45         72            45             29          SEUR  \n",
       "4         29         35            45             45          SEUR  \n",
       "5         32         41            45             42          SEUR  "
      ]
     },
     "execution_count": 11,
     "metadata": {},
     "output_type": "execute_result"
    }
   ],
   "source": [
    "# Creamos una nueva columna con un único valor en sus celdas\n",
    "pedidos['Transportista'] = 'SEUR'\n",
    "pedidos"
   ]
  },
  {
   "cell_type": "markdown",
   "metadata": {},
   "source": [
    "### PRACTICA 26:\n",
    "* Crear en el dataframe pedidos la columna nueva \"Precio Unidad 2\" que incremente sobre la serie \"Precio Unidad\" un 10% si el precio unidad es mayor de 1.70"
   ]
  },
  {
   "cell_type": "code",
   "execution_count": 12,
   "metadata": {},
   "outputs": [
    {
     "data": {
      "application/vnd.microsoft.datawrangler.viewer.v0+json": {
       "columns": [
        {
         "name": "index",
         "rawType": "int64",
         "type": "integer"
        },
        {
         "name": "Cliente",
         "rawType": "object",
         "type": "string"
        },
        {
         "name": "Precio Unidad",
         "rawType": "float64",
         "type": "float"
        },
        {
         "name": "Cantidad",
         "rawType": "int64",
         "type": "integer"
        },
        {
         "name": "Zona",
         "rawType": "object",
         "type": "string"
        },
        {
         "name": "Cantidad2",
         "rawType": "int64",
         "type": "integer"
        },
        {
         "name": "Cantidad3",
         "rawType": "int64",
         "type": "integer"
        },
        {
         "name": "Cantidad4",
         "rawType": "int64",
         "type": "integer"
        },
        {
         "name": "dif_cantidad",
         "rawType": "int64",
         "type": "integer"
        },
        {
         "name": "dif_cantidad2",
         "rawType": "int64",
         "type": "integer"
        },
        {
         "name": "Transportista",
         "rawType": "object",
         "type": "string"
        },
        {
         "name": "Precio Unidad 2",
         "rawType": "float64",
         "type": "float"
        }
       ],
       "conversionMethod": "pd.DataFrame",
       "ref": "67490b4a-0520-49e3-8ae5-1efd844539c7",
       "rows": [
        [
         "0",
         "Comercial Pérez S.A.",
         "1.74",
         "29",
         "Zona Centro",
         "31",
         "39",
         "60",
         "45",
         "35",
         "SEUR",
         "1.914"
        ],
        [
         "1",
         "Distribuciones López",
         "2.68",
         "37",
         "Zona Centro",
         "39",
         "47",
         "76",
         "45",
         "27",
         "SEUR",
         "2.948"
        ],
        [
         "2",
         "Almacenes Rodríguez",
         "1.65",
         "64",
         "Zona Centro",
         "66",
         "74",
         "130",
         "45",
         "0",
         "SEUR",
         "1.65"
        ],
        [
         "3",
         "Importadora García",
         "2.23",
         "35",
         "Zona Centro",
         "37",
         "45",
         "72",
         "45",
         "29",
         "SEUR",
         "2.453"
        ],
        [
         "4",
         "Mercantil Fernández",
         "1.64",
         "19",
         "Zona Centro",
         "16",
         "29",
         "35",
         "45",
         "45",
         "SEUR",
         "1.64"
        ],
        [
         "5",
         "Suministros Martínez",
         "3.67",
         "22",
         "Zona Centro",
         "19",
         "32",
         "41",
         "45",
         "42",
         "SEUR",
         "4.037"
        ]
       ],
       "shape": {
        "columns": 11,
        "rows": 6
       }
      },
      "text/html": [
       "<div>\n",
       "<style scoped>\n",
       "    .dataframe tbody tr th:only-of-type {\n",
       "        vertical-align: middle;\n",
       "    }\n",
       "\n",
       "    .dataframe tbody tr th {\n",
       "        vertical-align: top;\n",
       "    }\n",
       "\n",
       "    .dataframe thead th {\n",
       "        text-align: right;\n",
       "    }\n",
       "</style>\n",
       "<table border=\"1\" class=\"dataframe\">\n",
       "  <thead>\n",
       "    <tr style=\"text-align: right;\">\n",
       "      <th></th>\n",
       "      <th>Cliente</th>\n",
       "      <th>Precio Unidad</th>\n",
       "      <th>Cantidad</th>\n",
       "      <th>Zona</th>\n",
       "      <th>Cantidad2</th>\n",
       "      <th>Cantidad3</th>\n",
       "      <th>Cantidad4</th>\n",
       "      <th>dif_cantidad</th>\n",
       "      <th>dif_cantidad2</th>\n",
       "      <th>Transportista</th>\n",
       "      <th>Precio Unidad 2</th>\n",
       "    </tr>\n",
       "  </thead>\n",
       "  <tbody>\n",
       "    <tr>\n",
       "      <th>0</th>\n",
       "      <td>Comercial Pérez S.A.</td>\n",
       "      <td>1.74</td>\n",
       "      <td>29</td>\n",
       "      <td>Zona Centro</td>\n",
       "      <td>31</td>\n",
       "      <td>39</td>\n",
       "      <td>60</td>\n",
       "      <td>45</td>\n",
       "      <td>35</td>\n",
       "      <td>SEUR</td>\n",
       "      <td>1.914</td>\n",
       "    </tr>\n",
       "    <tr>\n",
       "      <th>1</th>\n",
       "      <td>Distribuciones López</td>\n",
       "      <td>2.68</td>\n",
       "      <td>37</td>\n",
       "      <td>Zona Centro</td>\n",
       "      <td>39</td>\n",
       "      <td>47</td>\n",
       "      <td>76</td>\n",
       "      <td>45</td>\n",
       "      <td>27</td>\n",
       "      <td>SEUR</td>\n",
       "      <td>2.948</td>\n",
       "    </tr>\n",
       "    <tr>\n",
       "      <th>2</th>\n",
       "      <td>Almacenes Rodríguez</td>\n",
       "      <td>1.65</td>\n",
       "      <td>64</td>\n",
       "      <td>Zona Centro</td>\n",
       "      <td>66</td>\n",
       "      <td>74</td>\n",
       "      <td>130</td>\n",
       "      <td>45</td>\n",
       "      <td>0</td>\n",
       "      <td>SEUR</td>\n",
       "      <td>1.650</td>\n",
       "    </tr>\n",
       "    <tr>\n",
       "      <th>3</th>\n",
       "      <td>Importadora García</td>\n",
       "      <td>2.23</td>\n",
       "      <td>35</td>\n",
       "      <td>Zona Centro</td>\n",
       "      <td>37</td>\n",
       "      <td>45</td>\n",
       "      <td>72</td>\n",
       "      <td>45</td>\n",
       "      <td>29</td>\n",
       "      <td>SEUR</td>\n",
       "      <td>2.453</td>\n",
       "    </tr>\n",
       "    <tr>\n",
       "      <th>4</th>\n",
       "      <td>Mercantil Fernández</td>\n",
       "      <td>1.64</td>\n",
       "      <td>19</td>\n",
       "      <td>Zona Centro</td>\n",
       "      <td>16</td>\n",
       "      <td>29</td>\n",
       "      <td>35</td>\n",
       "      <td>45</td>\n",
       "      <td>45</td>\n",
       "      <td>SEUR</td>\n",
       "      <td>1.640</td>\n",
       "    </tr>\n",
       "    <tr>\n",
       "      <th>5</th>\n",
       "      <td>Suministros Martínez</td>\n",
       "      <td>3.67</td>\n",
       "      <td>22</td>\n",
       "      <td>Zona Centro</td>\n",
       "      <td>19</td>\n",
       "      <td>32</td>\n",
       "      <td>41</td>\n",
       "      <td>45</td>\n",
       "      <td>42</td>\n",
       "      <td>SEUR</td>\n",
       "      <td>4.037</td>\n",
       "    </tr>\n",
       "  </tbody>\n",
       "</table>\n",
       "</div>"
      ],
      "text/plain": [
       "                Cliente  Precio Unidad  Cantidad         Zona  Cantidad2  \\\n",
       "0  Comercial Pérez S.A.           1.74        29  Zona Centro         31   \n",
       "1  Distribuciones López           2.68        37  Zona Centro         39   \n",
       "2   Almacenes Rodríguez           1.65        64  Zona Centro         66   \n",
       "3    Importadora García           2.23        35  Zona Centro         37   \n",
       "4   Mercantil Fernández           1.64        19  Zona Centro         16   \n",
       "5  Suministros Martínez           3.67        22  Zona Centro         19   \n",
       "\n",
       "   Cantidad3  Cantidad4  dif_cantidad  dif_cantidad2 Transportista  \\\n",
       "0         39         60            45             35          SEUR   \n",
       "1         47         76            45             27          SEUR   \n",
       "2         74        130            45              0          SEUR   \n",
       "3         45         72            45             29          SEUR   \n",
       "4         29         35            45             45          SEUR   \n",
       "5         32         41            45             42          SEUR   \n",
       "\n",
       "   Precio Unidad 2  \n",
       "0            1.914  \n",
       "1            2.948  \n",
       "2            1.650  \n",
       "3            2.453  \n",
       "4            1.640  \n",
       "5            4.037  "
      ]
     },
     "execution_count": 12,
     "metadata": {},
     "output_type": "execute_result"
    }
   ],
   "source": [
    "# Generamos la función que va a operar en la columna\n",
    "def incremento(x):\n",
    "    if x > 1.70:\n",
    "        return x + (x * 0.10)\n",
    "    else: \n",
    "        return x\n",
    "# Generamos la columna y aplicamos al función, redondeamos a 3 decimales con \"round()\"    \n",
    "pedidos['Precio Unidad 2'] = round(pedidos['Precio Unidad'].apply(incremento),3)\n",
    "pedidos\n",
    "\n",
    "\n"
   ]
  },
  {
   "cell_type": "code",
   "execution_count": 13,
   "metadata": {},
   "outputs": [
    {
     "data": {
      "application/vnd.microsoft.datawrangler.viewer.v0+json": {
       "columns": [
        {
         "name": "index",
         "rawType": "int64",
         "type": "integer"
        },
        {
         "name": "Cliente",
         "rawType": "object",
         "type": "string"
        },
        {
         "name": "Precio Unidad",
         "rawType": "float64",
         "type": "float"
        },
        {
         "name": "Cantidad",
         "rawType": "int64",
         "type": "integer"
        },
        {
         "name": "Zona",
         "rawType": "object",
         "type": "string"
        },
        {
         "name": "Cantidad2",
         "rawType": "int64",
         "type": "integer"
        },
        {
         "name": "Cantidad3",
         "rawType": "int64",
         "type": "integer"
        },
        {
         "name": "Cantidad4",
         "rawType": "int64",
         "type": "integer"
        },
        {
         "name": "dif_cantidad",
         "rawType": "int64",
         "type": "integer"
        },
        {
         "name": "dif_cantidad2",
         "rawType": "int64",
         "type": "integer"
        },
        {
         "name": "Transportista",
         "rawType": "object",
         "type": "string"
        }
       ],
       "conversionMethod": "pd.DataFrame",
       "ref": "1d3b2582-295b-4d69-8193-9f86d6f38374",
       "rows": [
        [
         "0",
         "Comercial Pérez S.A.",
         "1.74",
         "29",
         "Zona Centro",
         "31",
         "39",
         "60",
         "45",
         "35",
         "SEUR"
        ],
        [
         "1",
         "Distribuciones López",
         "2.68",
         "37",
         "Zona Centro",
         "39",
         "47",
         "76",
         "45",
         "27",
         "SEUR"
        ],
        [
         "2",
         "Almacenes Rodríguez",
         "1.65",
         "64",
         "Zona Centro",
         "66",
         "74",
         "130",
         "45",
         "0",
         "SEUR"
        ],
        [
         "3",
         "Importadora García",
         "2.23",
         "35",
         "Zona Centro",
         "37",
         "45",
         "72",
         "45",
         "29",
         "SEUR"
        ],
        [
         "4",
         "Mercantil Fernández",
         "1.64",
         "19",
         "Zona Centro",
         "16",
         "29",
         "35",
         "45",
         "45",
         "SEUR"
        ],
        [
         "5",
         "Suministros Martínez",
         "3.67",
         "22",
         "Zona Centro",
         "19",
         "32",
         "41",
         "45",
         "42",
         "SEUR"
        ]
       ],
       "shape": {
        "columns": 10,
        "rows": 6
       }
      },
      "text/html": [
       "<div>\n",
       "<style scoped>\n",
       "    .dataframe tbody tr th:only-of-type {\n",
       "        vertical-align: middle;\n",
       "    }\n",
       "\n",
       "    .dataframe tbody tr th {\n",
       "        vertical-align: top;\n",
       "    }\n",
       "\n",
       "    .dataframe thead th {\n",
       "        text-align: right;\n",
       "    }\n",
       "</style>\n",
       "<table border=\"1\" class=\"dataframe\">\n",
       "  <thead>\n",
       "    <tr style=\"text-align: right;\">\n",
       "      <th></th>\n",
       "      <th>Cliente</th>\n",
       "      <th>Precio Unidad</th>\n",
       "      <th>Cantidad</th>\n",
       "      <th>Zona</th>\n",
       "      <th>Cantidad2</th>\n",
       "      <th>Cantidad3</th>\n",
       "      <th>Cantidad4</th>\n",
       "      <th>dif_cantidad</th>\n",
       "      <th>dif_cantidad2</th>\n",
       "      <th>Transportista</th>\n",
       "    </tr>\n",
       "  </thead>\n",
       "  <tbody>\n",
       "    <tr>\n",
       "      <th>0</th>\n",
       "      <td>Comercial Pérez S.A.</td>\n",
       "      <td>1.74</td>\n",
       "      <td>29</td>\n",
       "      <td>Zona Centro</td>\n",
       "      <td>31</td>\n",
       "      <td>39</td>\n",
       "      <td>60</td>\n",
       "      <td>45</td>\n",
       "      <td>35</td>\n",
       "      <td>SEUR</td>\n",
       "    </tr>\n",
       "    <tr>\n",
       "      <th>1</th>\n",
       "      <td>Distribuciones López</td>\n",
       "      <td>2.68</td>\n",
       "      <td>37</td>\n",
       "      <td>Zona Centro</td>\n",
       "      <td>39</td>\n",
       "      <td>47</td>\n",
       "      <td>76</td>\n",
       "      <td>45</td>\n",
       "      <td>27</td>\n",
       "      <td>SEUR</td>\n",
       "    </tr>\n",
       "    <tr>\n",
       "      <th>2</th>\n",
       "      <td>Almacenes Rodríguez</td>\n",
       "      <td>1.65</td>\n",
       "      <td>64</td>\n",
       "      <td>Zona Centro</td>\n",
       "      <td>66</td>\n",
       "      <td>74</td>\n",
       "      <td>130</td>\n",
       "      <td>45</td>\n",
       "      <td>0</td>\n",
       "      <td>SEUR</td>\n",
       "    </tr>\n",
       "    <tr>\n",
       "      <th>3</th>\n",
       "      <td>Importadora García</td>\n",
       "      <td>2.23</td>\n",
       "      <td>35</td>\n",
       "      <td>Zona Centro</td>\n",
       "      <td>37</td>\n",
       "      <td>45</td>\n",
       "      <td>72</td>\n",
       "      <td>45</td>\n",
       "      <td>29</td>\n",
       "      <td>SEUR</td>\n",
       "    </tr>\n",
       "    <tr>\n",
       "      <th>4</th>\n",
       "      <td>Mercantil Fernández</td>\n",
       "      <td>1.64</td>\n",
       "      <td>19</td>\n",
       "      <td>Zona Centro</td>\n",
       "      <td>16</td>\n",
       "      <td>29</td>\n",
       "      <td>35</td>\n",
       "      <td>45</td>\n",
       "      <td>45</td>\n",
       "      <td>SEUR</td>\n",
       "    </tr>\n",
       "    <tr>\n",
       "      <th>5</th>\n",
       "      <td>Suministros Martínez</td>\n",
       "      <td>3.67</td>\n",
       "      <td>22</td>\n",
       "      <td>Zona Centro</td>\n",
       "      <td>19</td>\n",
       "      <td>32</td>\n",
       "      <td>41</td>\n",
       "      <td>45</td>\n",
       "      <td>42</td>\n",
       "      <td>SEUR</td>\n",
       "    </tr>\n",
       "  </tbody>\n",
       "</table>\n",
       "</div>"
      ],
      "text/plain": [
       "                Cliente  Precio Unidad  Cantidad         Zona  Cantidad2  \\\n",
       "0  Comercial Pérez S.A.           1.74        29  Zona Centro         31   \n",
       "1  Distribuciones López           2.68        37  Zona Centro         39   \n",
       "2   Almacenes Rodríguez           1.65        64  Zona Centro         66   \n",
       "3    Importadora García           2.23        35  Zona Centro         37   \n",
       "4   Mercantil Fernández           1.64        19  Zona Centro         16   \n",
       "5  Suministros Martínez           3.67        22  Zona Centro         19   \n",
       "\n",
       "   Cantidad3  Cantidad4  dif_cantidad  dif_cantidad2 Transportista  \n",
       "0         39         60            45             35          SEUR  \n",
       "1         47         76            45             27          SEUR  \n",
       "2         74        130            45              0          SEUR  \n",
       "3         45         72            45             29          SEUR  \n",
       "4         29         35            45             45          SEUR  \n",
       "5         32         41            45             42          SEUR  "
      ]
     },
     "execution_count": 13,
     "metadata": {},
     "output_type": "execute_result"
    }
   ],
   "source": [
    "# Cómo eliminar una columna de un DataFrame, con la instrucción drop + el parámetro axis\n",
    "\n",
    "pedidos = pedidos.drop(['Precio Unidad 2'], axis = 1) # el axis = 1 significa eliminame la columna\n",
    "pedidos\n",
    "\n",
    "# del(pedidos['Cantidad4']) # para borrar columnas"
   ]
  },
  {
   "cell_type": "code",
   "execution_count": 14,
   "metadata": {},
   "outputs": [
    {
     "data": {
      "application/vnd.microsoft.datawrangler.viewer.v0+json": {
       "columns": [
        {
         "name": "index",
         "rawType": "int64",
         "type": "integer"
        },
        {
         "name": "Cliente",
         "rawType": "object",
         "type": "string"
        },
        {
         "name": "Precio Unidad",
         "rawType": "float64",
         "type": "float"
        },
        {
         "name": "Cantidad",
         "rawType": "int64",
         "type": "integer"
        },
        {
         "name": "Cantidad2",
         "rawType": "int64",
         "type": "integer"
        },
        {
         "name": "Cantidad3",
         "rawType": "int64",
         "type": "integer"
        },
        {
         "name": "Cantidad4",
         "rawType": "int64",
         "type": "integer"
        },
        {
         "name": "dif_cantidad",
         "rawType": "int64",
         "type": "integer"
        },
        {
         "name": "dif_cantidad2",
         "rawType": "int64",
         "type": "integer"
        },
        {
         "name": "Transportista",
         "rawType": "object",
         "type": "string"
        }
       ],
       "conversionMethod": "pd.DataFrame",
       "ref": "f26b8cec-9ffd-46da-a6e5-0745f00a4310",
       "rows": [
        [
         "0",
         "Comercial Pérez S.A.",
         "1.74",
         "29",
         "31",
         "39",
         "60",
         "45",
         "35",
         "SEUR"
        ],
        [
         "1",
         "Distribuciones López",
         "2.68",
         "37",
         "39",
         "47",
         "76",
         "45",
         "27",
         "SEUR"
        ],
        [
         "2",
         "Almacenes Rodríguez",
         "1.65",
         "64",
         "66",
         "74",
         "130",
         "45",
         "0",
         "SEUR"
        ],
        [
         "3",
         "Importadora García",
         "2.23",
         "35",
         "37",
         "45",
         "72",
         "45",
         "29",
         "SEUR"
        ],
        [
         "4",
         "Mercantil Fernández",
         "1.64",
         "19",
         "16",
         "29",
         "35",
         "45",
         "45",
         "SEUR"
        ],
        [
         "5",
         "Suministros Martínez",
         "3.67",
         "22",
         "19",
         "32",
         "41",
         "45",
         "42",
         "SEUR"
        ]
       ],
       "shape": {
        "columns": 9,
        "rows": 6
       }
      },
      "text/html": [
       "<div>\n",
       "<style scoped>\n",
       "    .dataframe tbody tr th:only-of-type {\n",
       "        vertical-align: middle;\n",
       "    }\n",
       "\n",
       "    .dataframe tbody tr th {\n",
       "        vertical-align: top;\n",
       "    }\n",
       "\n",
       "    .dataframe thead th {\n",
       "        text-align: right;\n",
       "    }\n",
       "</style>\n",
       "<table border=\"1\" class=\"dataframe\">\n",
       "  <thead>\n",
       "    <tr style=\"text-align: right;\">\n",
       "      <th></th>\n",
       "      <th>Cliente</th>\n",
       "      <th>Precio Unidad</th>\n",
       "      <th>Cantidad</th>\n",
       "      <th>Cantidad2</th>\n",
       "      <th>Cantidad3</th>\n",
       "      <th>Cantidad4</th>\n",
       "      <th>dif_cantidad</th>\n",
       "      <th>dif_cantidad2</th>\n",
       "      <th>Transportista</th>\n",
       "    </tr>\n",
       "  </thead>\n",
       "  <tbody>\n",
       "    <tr>\n",
       "      <th>0</th>\n",
       "      <td>Comercial Pérez S.A.</td>\n",
       "      <td>1.74</td>\n",
       "      <td>29</td>\n",
       "      <td>31</td>\n",
       "      <td>39</td>\n",
       "      <td>60</td>\n",
       "      <td>45</td>\n",
       "      <td>35</td>\n",
       "      <td>SEUR</td>\n",
       "    </tr>\n",
       "    <tr>\n",
       "      <th>1</th>\n",
       "      <td>Distribuciones López</td>\n",
       "      <td>2.68</td>\n",
       "      <td>37</td>\n",
       "      <td>39</td>\n",
       "      <td>47</td>\n",
       "      <td>76</td>\n",
       "      <td>45</td>\n",
       "      <td>27</td>\n",
       "      <td>SEUR</td>\n",
       "    </tr>\n",
       "    <tr>\n",
       "      <th>2</th>\n",
       "      <td>Almacenes Rodríguez</td>\n",
       "      <td>1.65</td>\n",
       "      <td>64</td>\n",
       "      <td>66</td>\n",
       "      <td>74</td>\n",
       "      <td>130</td>\n",
       "      <td>45</td>\n",
       "      <td>0</td>\n",
       "      <td>SEUR</td>\n",
       "    </tr>\n",
       "    <tr>\n",
       "      <th>3</th>\n",
       "      <td>Importadora García</td>\n",
       "      <td>2.23</td>\n",
       "      <td>35</td>\n",
       "      <td>37</td>\n",
       "      <td>45</td>\n",
       "      <td>72</td>\n",
       "      <td>45</td>\n",
       "      <td>29</td>\n",
       "      <td>SEUR</td>\n",
       "    </tr>\n",
       "    <tr>\n",
       "      <th>4</th>\n",
       "      <td>Mercantil Fernández</td>\n",
       "      <td>1.64</td>\n",
       "      <td>19</td>\n",
       "      <td>16</td>\n",
       "      <td>29</td>\n",
       "      <td>35</td>\n",
       "      <td>45</td>\n",
       "      <td>45</td>\n",
       "      <td>SEUR</td>\n",
       "    </tr>\n",
       "    <tr>\n",
       "      <th>5</th>\n",
       "      <td>Suministros Martínez</td>\n",
       "      <td>3.67</td>\n",
       "      <td>22</td>\n",
       "      <td>19</td>\n",
       "      <td>32</td>\n",
       "      <td>41</td>\n",
       "      <td>45</td>\n",
       "      <td>42</td>\n",
       "      <td>SEUR</td>\n",
       "    </tr>\n",
       "  </tbody>\n",
       "</table>\n",
       "</div>"
      ],
      "text/plain": [
       "                Cliente  Precio Unidad  Cantidad  Cantidad2  Cantidad3  \\\n",
       "0  Comercial Pérez S.A.           1.74        29         31         39   \n",
       "1  Distribuciones López           2.68        37         39         47   \n",
       "2   Almacenes Rodríguez           1.65        64         66         74   \n",
       "3    Importadora García           2.23        35         37         45   \n",
       "4   Mercantil Fernández           1.64        19         16         29   \n",
       "5  Suministros Martínez           3.67        22         19         32   \n",
       "\n",
       "   Cantidad4  dif_cantidad  dif_cantidad2 Transportista  \n",
       "0         60            45             35          SEUR  \n",
       "1         76            45             27          SEUR  \n",
       "2        130            45              0          SEUR  \n",
       "3         72            45             29          SEUR  \n",
       "4         35            45             45          SEUR  \n",
       "5         41            45             42          SEUR  "
      ]
     },
     "execution_count": 14,
     "metadata": {},
     "output_type": "execute_result"
    }
   ],
   "source": [
    "# n una sola línea sin el = puedo machacar el original\n",
    "# eliminamos el campo \"Zona\"\n",
    "pedidos.drop(['Zona'], axis = 1, inplace = True) # esto es lo mismo que lo de arriba, es decir, no hace falta igualarlo \n",
    "# en una variable\n",
    "pedidos"
   ]
  },
  {
   "cell_type": "code",
   "execution_count": 15,
   "metadata": {},
   "outputs": [
    {
     "data": {
      "application/vnd.microsoft.datawrangler.viewer.v0+json": {
       "columns": [
        {
         "name": "index",
         "rawType": "int64",
         "type": "integer"
        },
        {
         "name": "Cliente",
         "rawType": "object",
         "type": "string"
        },
        {
         "name": "Precio Unidad",
         "rawType": "float64",
         "type": "float"
        },
        {
         "name": "Cantidad",
         "rawType": "int64",
         "type": "integer"
        },
        {
         "name": "Cantidad2",
         "rawType": "int64",
         "type": "integer"
        },
        {
         "name": "Cantidad3",
         "rawType": "int64",
         "type": "integer"
        },
        {
         "name": "Cantidad4",
         "rawType": "int64",
         "type": "integer"
        },
        {
         "name": "dif_cantidad",
         "rawType": "int64",
         "type": "integer"
        },
        {
         "name": "dif_cantidad2",
         "rawType": "int64",
         "type": "integer"
        },
        {
         "name": "Transportista",
         "rawType": "object",
         "type": "string"
        }
       ],
       "conversionMethod": "pd.DataFrame",
       "ref": "8d6b34ad-d314-450b-858b-705dea061bd1",
       "rows": [
        [
         "0",
         "Comercial Pérez S.A.",
         "1.74",
         "29",
         "31",
         "39",
         "60",
         "45",
         "35",
         "SEUR"
        ],
        [
         "1",
         "Distribuciones López",
         "2.68",
         "37",
         "39",
         "47",
         "76",
         "45",
         "27",
         "SEUR"
        ],
        [
         "2",
         "Almacenes Rodríguez",
         "1.65",
         "64",
         "66",
         "74",
         "130",
         "45",
         "0",
         "SEUR"
        ],
        [
         "4",
         "Mercantil Fernández",
         "1.64",
         "19",
         "16",
         "29",
         "35",
         "45",
         "45",
         "SEUR"
        ],
        [
         "5",
         "Suministros Martínez",
         "3.67",
         "22",
         "19",
         "32",
         "41",
         "45",
         "42",
         "SEUR"
        ]
       ],
       "shape": {
        "columns": 9,
        "rows": 5
       }
      },
      "text/html": [
       "<div>\n",
       "<style scoped>\n",
       "    .dataframe tbody tr th:only-of-type {\n",
       "        vertical-align: middle;\n",
       "    }\n",
       "\n",
       "    .dataframe tbody tr th {\n",
       "        vertical-align: top;\n",
       "    }\n",
       "\n",
       "    .dataframe thead th {\n",
       "        text-align: right;\n",
       "    }\n",
       "</style>\n",
       "<table border=\"1\" class=\"dataframe\">\n",
       "  <thead>\n",
       "    <tr style=\"text-align: right;\">\n",
       "      <th></th>\n",
       "      <th>Cliente</th>\n",
       "      <th>Precio Unidad</th>\n",
       "      <th>Cantidad</th>\n",
       "      <th>Cantidad2</th>\n",
       "      <th>Cantidad3</th>\n",
       "      <th>Cantidad4</th>\n",
       "      <th>dif_cantidad</th>\n",
       "      <th>dif_cantidad2</th>\n",
       "      <th>Transportista</th>\n",
       "    </tr>\n",
       "  </thead>\n",
       "  <tbody>\n",
       "    <tr>\n",
       "      <th>0</th>\n",
       "      <td>Comercial Pérez S.A.</td>\n",
       "      <td>1.74</td>\n",
       "      <td>29</td>\n",
       "      <td>31</td>\n",
       "      <td>39</td>\n",
       "      <td>60</td>\n",
       "      <td>45</td>\n",
       "      <td>35</td>\n",
       "      <td>SEUR</td>\n",
       "    </tr>\n",
       "    <tr>\n",
       "      <th>1</th>\n",
       "      <td>Distribuciones López</td>\n",
       "      <td>2.68</td>\n",
       "      <td>37</td>\n",
       "      <td>39</td>\n",
       "      <td>47</td>\n",
       "      <td>76</td>\n",
       "      <td>45</td>\n",
       "      <td>27</td>\n",
       "      <td>SEUR</td>\n",
       "    </tr>\n",
       "    <tr>\n",
       "      <th>2</th>\n",
       "      <td>Almacenes Rodríguez</td>\n",
       "      <td>1.65</td>\n",
       "      <td>64</td>\n",
       "      <td>66</td>\n",
       "      <td>74</td>\n",
       "      <td>130</td>\n",
       "      <td>45</td>\n",
       "      <td>0</td>\n",
       "      <td>SEUR</td>\n",
       "    </tr>\n",
       "    <tr>\n",
       "      <th>4</th>\n",
       "      <td>Mercantil Fernández</td>\n",
       "      <td>1.64</td>\n",
       "      <td>19</td>\n",
       "      <td>16</td>\n",
       "      <td>29</td>\n",
       "      <td>35</td>\n",
       "      <td>45</td>\n",
       "      <td>45</td>\n",
       "      <td>SEUR</td>\n",
       "    </tr>\n",
       "    <tr>\n",
       "      <th>5</th>\n",
       "      <td>Suministros Martínez</td>\n",
       "      <td>3.67</td>\n",
       "      <td>22</td>\n",
       "      <td>19</td>\n",
       "      <td>32</td>\n",
       "      <td>41</td>\n",
       "      <td>45</td>\n",
       "      <td>42</td>\n",
       "      <td>SEUR</td>\n",
       "    </tr>\n",
       "  </tbody>\n",
       "</table>\n",
       "</div>"
      ],
      "text/plain": [
       "                Cliente  Precio Unidad  Cantidad  Cantidad2  Cantidad3  \\\n",
       "0  Comercial Pérez S.A.           1.74        29         31         39   \n",
       "1  Distribuciones López           2.68        37         39         47   \n",
       "2   Almacenes Rodríguez           1.65        64         66         74   \n",
       "4   Mercantil Fernández           1.64        19         16         29   \n",
       "5  Suministros Martínez           3.67        22         19         32   \n",
       "\n",
       "   Cantidad4  dif_cantidad  dif_cantidad2 Transportista  \n",
       "0         60            45             35          SEUR  \n",
       "1         76            45             27          SEUR  \n",
       "2        130            45              0          SEUR  \n",
       "4         35            45             45          SEUR  \n",
       "5         41            45             42          SEUR  "
      ]
     },
     "execution_count": 15,
     "metadata": {},
     "output_type": "execute_result"
    }
   ],
   "source": [
    "# Voy a eliminar filas drop + axis = 0, con su número de índice\n",
    "pedidos.drop([3], axis = 0, inplace = True)\n",
    "pedidos"
   ]
  },
  {
   "cell_type": "code",
   "execution_count": 16,
   "metadata": {},
   "outputs": [
    {
     "data": {
      "application/vnd.microsoft.datawrangler.viewer.v0+json": {
       "columns": [
        {
         "name": "index",
         "rawType": "int64",
         "type": "integer"
        },
        {
         "name": "IdOrder",
         "rawType": "int64",
         "type": "integer"
        },
        {
         "name": "Date",
         "rawType": "object",
         "type": "string"
        },
        {
         "name": "Country",
         "rawType": "object",
         "type": "string"
        },
        {
         "name": "Units",
         "rawType": "int64",
         "type": "integer"
        },
        {
         "name": "Revenue",
         "rawType": "float64",
         "type": "float"
        },
        {
         "name": "Customer",
         "rawType": "object",
         "type": "string"
        }
       ],
       "conversionMethod": "pd.DataFrame",
       "ref": "7e6d41ce-f690-4be8-9a4f-4eee33743319",
       "rows": [
        [
         "0",
         "1",
         "2019-01-08",
         "USA",
         "343",
         "15461.36",
         "Octan Corporation"
        ],
        [
         "1",
         "2",
         "2019-01-04",
         "Panama",
         "93",
         "4681.26",
         "Rich Industries"
        ],
        [
         "2",
         "3",
         "2019-01-07",
         "Panama",
         "42",
         "2220.36",
         "Blue Sun Corporation"
        ],
        [
         "3",
         "4",
         "2019-01-16",
         "Brazil",
         "103",
         "1853.78",
         "Hexagon Global"
        ],
        [
         "4",
         "5",
         "2019-01-17",
         "USA",
         "28",
         "286.3",
         "Octan Corporation"
        ],
        [
         "5",
         "6",
         "2019-01-24",
         "Canada",
         "372",
         "24826.98",
         "Spacely Sprockets"
        ],
        [
         "6",
         "7",
         "2019-01-26",
         "Canada",
         "61",
         "1592.42",
         "BiffCo"
        ],
        [
         "7",
         "8",
         "2019-01-28",
         "Canada",
         "264",
         "3228.11",
         "Delos Incorporated"
        ],
        [
         "8",
         "9",
         "2019-01-13",
         "Canada",
         "27",
         "257.97",
         "Monarch Solutions"
        ],
        [
         "9",
         "10",
         "2019-01-28",
         "Brazil",
         "323",
         "3024.25",
         "Hooli"
        ],
        [
         "10",
         "11",
         "2019-01-27",
         "Canada",
         "187",
         "4046.31",
         "Yoyodyne Propulsion Systems"
        ],
        [
         "11",
         "12",
         "2019-01-25",
         "USA",
         "56",
         "1650.34",
         "BiffCo"
        ],
        [
         "12",
         "13",
         "2019-01-15",
         "Colombia",
         "201",
         "2995.88",
         "BiffCo"
        ],
        [
         "13",
         "14",
         "2019-01-19",
         "Colombia",
         "142",
         "2383.66",
         "OCP"
        ],
        [
         "14",
         "15",
         "2019-01-04",
         "Brazil",
         "271",
         "1726.7",
         "Acme Corp"
        ],
        [
         "15",
         "16",
         "2019-01-19",
         "Panama",
         "288",
         "4532.62",
         "Nakatomi Trading"
        ],
        [
         "16",
         "17",
         "2019-01-15",
         "Colombia",
         "392",
         "16229.64",
         "Cyberdyne Systems"
        ],
        [
         "17",
         "18",
         "2019-01-30",
         "Colombia",
         "60",
         "1250.79",
         "Abstergo Industries"
        ],
        [
         "18",
         "19",
         "2019-01-20",
         "USA",
         "296",
         "391.86",
         "Nakatomi Trading"
        ],
        [
         "19",
         "20",
         "2019-01-03",
         "Brazil",
         "377",
         "30840.25",
         "Virtucon"
        ],
        [
         "20",
         "21",
         "2019-01-11",
         "Colombia",
         "175",
         "7841.01",
         "BiffCo"
        ],
        [
         "21",
         "22",
         "2019-01-05",
         "USA",
         "279",
         "12881.19",
         "Wayne Enterprises"
        ],
        [
         "22",
         "23",
         "2019-01-23",
         "USA",
         "165",
         "8996.57",
         "Dunder Mifflin"
        ],
        [
         "23",
         "24",
         "2019-01-07",
         "Canada",
         "306",
         "4131.21",
         "Hyperion Systems"
        ],
        [
         "24",
         "25",
         "2019-01-27",
         "Canada",
         "141",
         "9419.58",
         "Initech"
        ],
        [
         "25",
         "26",
         "2019-01-24",
         "Panama",
         "214",
         "998.75",
         "Encom"
        ],
        [
         "26",
         "27",
         "2019-01-27",
         "USA",
         "264",
         "23353.44",
         "Octan Corporation"
        ],
        [
         "27",
         "28",
         "2019-01-13",
         "Brazil",
         "274",
         "1783.08",
         "Globex Corporation"
        ],
        [
         "28",
         "29",
         "2019-01-05",
         "Canada",
         "289",
         "5758.91",
         "Soylent Corp"
        ],
        [
         "29",
         "30",
         "2019-01-17",
         "USA",
         "298",
         "14543.85",
         "BiffCo"
        ],
        [
         "30",
         "31",
         "2019-01-11",
         "Colombia",
         "239",
         "3794.66",
         "LexCorp"
        ],
        [
         "31",
         "32",
         "2019-01-12",
         "Colombia",
         "175",
         "5058.76",
         "Soylent Corp"
        ],
        [
         "32",
         "33",
         "2019-01-06",
         "USA",
         "47",
         "1234.82",
         "Monarch Solutions"
        ],
        [
         "33",
         "34",
         "2019-01-08",
         "Canada",
         "220",
         "13798.08",
         "Tyrell Corporation"
        ],
        [
         "34",
         "35",
         "2019-01-15",
         "USA",
         "36",
         "1181.46",
         "BiffCo"
        ],
        [
         "35",
         "36",
         "2019-01-20",
         "Canada",
         "210",
         "10027.93",
         "Oscorp"
        ],
        [
         "36",
         "37",
         "2019-01-05",
         "Panama",
         "15",
         "159.28",
         "Nordic Ventures"
        ],
        [
         "37",
         "38",
         "2019-01-27",
         "Canada",
         "389",
         "10312.46",
         "Vandelay Industries"
        ],
        [
         "38",
         "39",
         "2019-01-23",
         "Brazil",
         "85",
         "917.27",
         "Nakatomi Trading"
        ],
        [
         "39",
         "40",
         "2019-01-25",
         "Canada",
         "371",
         "20234.08",
         "Abstergo Industries"
        ],
        [
         "40",
         "41",
         "2019-01-21",
         "USA",
         "291",
         "9371.43",
         "Vought International"
        ],
        [
         "41",
         "42",
         "2019-01-11",
         "Panama",
         "208",
         "6117.4",
         "Oscorp"
        ],
        [
         "42",
         "43",
         "2019-01-25",
         "Canada",
         "15",
         "311.34",
         "Tyrell Corporation"
        ],
        [
         "43",
         "44",
         "2019-01-08",
         "USA",
         "322",
         "15965.02",
         "Stark Industries"
        ],
        [
         "44",
         "45",
         "2019-01-08",
         "Canada",
         "73",
         "745.44",
         "Vandelay Industries"
        ],
        [
         "45",
         "46",
         "2019-01-13",
         "Colombia",
         "392",
         "6784.39",
         "ZikZak Corporation"
        ],
        [
         "46",
         "47",
         "2019-01-23",
         "Colombia",
         "300",
         "9966.59",
         "Tyrell Corporation"
        ],
        [
         "47",
         "48",
         "2019-01-23",
         "Colombia",
         "364",
         "20913.82",
         "Kobra International"
        ],
        [
         "48",
         "49",
         "2019-01-30",
         "Canada",
         "336",
         "4044.39",
         "Hexagon Global"
        ],
        [
         "49",
         "50",
         "2019-01-11",
         "Canada",
         "259",
         "8694.91",
         "Vandelay Industries"
        ]
       ],
       "shape": {
        "columns": 6,
        "rows": 189
       }
      },
      "text/html": [
       "<div>\n",
       "<style scoped>\n",
       "    .dataframe tbody tr th:only-of-type {\n",
       "        vertical-align: middle;\n",
       "    }\n",
       "\n",
       "    .dataframe tbody tr th {\n",
       "        vertical-align: top;\n",
       "    }\n",
       "\n",
       "    .dataframe thead th {\n",
       "        text-align: right;\n",
       "    }\n",
       "</style>\n",
       "<table border=\"1\" class=\"dataframe\">\n",
       "  <thead>\n",
       "    <tr style=\"text-align: right;\">\n",
       "      <th></th>\n",
       "      <th>IdOrder</th>\n",
       "      <th>Date</th>\n",
       "      <th>Country</th>\n",
       "      <th>Units</th>\n",
       "      <th>Revenue</th>\n",
       "      <th>Customer</th>\n",
       "    </tr>\n",
       "  </thead>\n",
       "  <tbody>\n",
       "    <tr>\n",
       "      <th>0</th>\n",
       "      <td>1</td>\n",
       "      <td>2019-01-08</td>\n",
       "      <td>USA</td>\n",
       "      <td>343</td>\n",
       "      <td>15461.36</td>\n",
       "      <td>Octan Corporation</td>\n",
       "    </tr>\n",
       "    <tr>\n",
       "      <th>1</th>\n",
       "      <td>2</td>\n",
       "      <td>2019-01-04</td>\n",
       "      <td>Panama</td>\n",
       "      <td>93</td>\n",
       "      <td>4681.26</td>\n",
       "      <td>Rich Industries</td>\n",
       "    </tr>\n",
       "    <tr>\n",
       "      <th>2</th>\n",
       "      <td>3</td>\n",
       "      <td>2019-01-07</td>\n",
       "      <td>Panama</td>\n",
       "      <td>42</td>\n",
       "      <td>2220.36</td>\n",
       "      <td>Blue Sun Corporation</td>\n",
       "    </tr>\n",
       "    <tr>\n",
       "      <th>3</th>\n",
       "      <td>4</td>\n",
       "      <td>2019-01-16</td>\n",
       "      <td>Brazil</td>\n",
       "      <td>103</td>\n",
       "      <td>1853.78</td>\n",
       "      <td>Hexagon Global</td>\n",
       "    </tr>\n",
       "    <tr>\n",
       "      <th>4</th>\n",
       "      <td>5</td>\n",
       "      <td>2019-01-17</td>\n",
       "      <td>USA</td>\n",
       "      <td>28</td>\n",
       "      <td>286.30</td>\n",
       "      <td>Octan Corporation</td>\n",
       "    </tr>\n",
       "    <tr>\n",
       "      <th>...</th>\n",
       "      <td>...</td>\n",
       "      <td>...</td>\n",
       "      <td>...</td>\n",
       "      <td>...</td>\n",
       "      <td>...</td>\n",
       "      <td>...</td>\n",
       "    </tr>\n",
       "    <tr>\n",
       "      <th>184</th>\n",
       "      <td>185</td>\n",
       "      <td>2019-01-25</td>\n",
       "      <td>USA</td>\n",
       "      <td>337</td>\n",
       "      <td>4352.75</td>\n",
       "      <td>Octan Corporation</td>\n",
       "    </tr>\n",
       "    <tr>\n",
       "      <th>185</th>\n",
       "      <td>186</td>\n",
       "      <td>2019-01-20</td>\n",
       "      <td>Colombia</td>\n",
       "      <td>197</td>\n",
       "      <td>3256.95</td>\n",
       "      <td>BiffCo</td>\n",
       "    </tr>\n",
       "    <tr>\n",
       "      <th>186</th>\n",
       "      <td>187</td>\n",
       "      <td>2019-01-14</td>\n",
       "      <td>Brazil</td>\n",
       "      <td>214</td>\n",
       "      <td>12188.36</td>\n",
       "      <td>Hexagon Global</td>\n",
       "    </tr>\n",
       "    <tr>\n",
       "      <th>187</th>\n",
       "      <td>188</td>\n",
       "      <td>2019-01-12</td>\n",
       "      <td>Colombia</td>\n",
       "      <td>102</td>\n",
       "      <td>6566.51</td>\n",
       "      <td>Octan Corporation</td>\n",
       "    </tr>\n",
       "    <tr>\n",
       "      <th>188</th>\n",
       "      <td>189</td>\n",
       "      <td>2019-01-26</td>\n",
       "      <td>Panama</td>\n",
       "      <td>77</td>\n",
       "      <td>5103.71</td>\n",
       "      <td>Hexagon Global</td>\n",
       "    </tr>\n",
       "  </tbody>\n",
       "</table>\n",
       "<p>189 rows × 6 columns</p>\n",
       "</div>"
      ],
      "text/plain": [
       "     IdOrder        Date   Country  Units   Revenue              Customer\n",
       "0          1  2019-01-08       USA    343  15461.36     Octan Corporation\n",
       "1          2  2019-01-04    Panama     93   4681.26       Rich Industries\n",
       "2          3  2019-01-07    Panama     42   2220.36  Blue Sun Corporation\n",
       "3          4  2019-01-16    Brazil    103   1853.78        Hexagon Global\n",
       "4          5  2019-01-17       USA     28    286.30     Octan Corporation\n",
       "..       ...         ...       ...    ...       ...                   ...\n",
       "184      185  2019-01-25       USA    337   4352.75     Octan Corporation\n",
       "185      186  2019-01-20  Colombia    197   3256.95                BiffCo\n",
       "186      187  2019-01-14    Brazil    214  12188.36        Hexagon Global\n",
       "187      188  2019-01-12  Colombia    102   6566.51     Octan Corporation\n",
       "188      189  2019-01-26    Panama     77   5103.71        Hexagon Global\n",
       "\n",
       "[189 rows x 6 columns]"
      ]
     },
     "execution_count": 16,
     "metadata": {},
     "output_type": "execute_result"
    }
   ],
   "source": [
    "# Como cargar un dataframe mediante un fichero, github, vamos a descargar el fichero\n",
    "# \"January 2019.csv\", \"February 2019.csv\", \"March 2019.csv\" del repositorio de la clase\n",
    "\n",
    "# Para cargar un fichero a un dataframe tipo .csv no necesito instalar/llamar a ninguna librería adicional\n",
    "# con read_csv, dentro del parentesis pondremos la ruta del fichero\n",
    "\n",
    "ventas = pd.read_csv('/Users/andresrojo/Desktop/Python-PCEP/resursos dia5/January 2019.csv')\n",
    "ventas # en mac o linux los slash van bien pero en sistemas windows NO\n",
    "# Porqué no funciona para Windows, los slash van al revés\n",
    "# Solución A: sería duplicar la barra \\\\\n",
    "# Solución B: Sería poner la barra del revés /\n",
    "# Solución C: Ponerle una \"r\" delante pd.read_csv(r'C:\\Users\\andresrojo\\Desktop\\Python-PCEP\\resursos dia5\\January 2019.csv'), en windows,repito"
   ]
  },
  {
   "cell_type": "code",
   "execution_count": 17,
   "metadata": {},
   "outputs": [
    {
     "data": {
      "application/vnd.microsoft.datawrangler.viewer.v0+json": {
       "columns": [
        {
         "name": "index",
         "rawType": "int64",
         "type": "integer"
        },
        {
         "name": "IdOrder",
         "rawType": "int64",
         "type": "integer"
        },
        {
         "name": "Date",
         "rawType": "object",
         "type": "string"
        },
        {
         "name": "Country",
         "rawType": "object",
         "type": "string"
        },
        {
         "name": "Units",
         "rawType": "int64",
         "type": "integer"
        },
        {
         "name": "Revenue",
         "rawType": "float64",
         "type": "float"
        },
        {
         "name": "Customer",
         "rawType": "object",
         "type": "string"
        }
       ],
       "conversionMethod": "pd.DataFrame",
       "ref": "ef67744a-83c2-420e-b171-2413eab718c4",
       "rows": [
        [
         "0",
         "1",
         "2019-01-08",
         "USA",
         "343",
         "15461.36",
         "Octan Corporation"
        ],
        [
         "1",
         "2",
         "2019-01-04",
         "Panama",
         "93",
         "4681.26",
         "Rich Industries"
        ],
        [
         "2",
         "3",
         "2019-01-07",
         "Panama",
         "42",
         "2220.36",
         "Blue Sun Corporation"
        ],
        [
         "3",
         "4",
         "2019-01-16",
         "Brazil",
         "103",
         "1853.78",
         "Hexagon Global"
        ],
        [
         "4",
         "5",
         "2019-01-17",
         "USA",
         "28",
         "286.3",
         "Octan Corporation"
        ],
        [
         "5",
         "6",
         "2019-01-24",
         "Canada",
         "372",
         "24826.98",
         "Spacely Sprockets"
        ],
        [
         "6",
         "7",
         "2019-01-26",
         "Canada",
         "61",
         "1592.42",
         "BiffCo"
        ],
        [
         "7",
         "8",
         "2019-01-28",
         "Canada",
         "264",
         "3228.11",
         "Delos Incorporated"
        ],
        [
         "8",
         "9",
         "2019-01-13",
         "Canada",
         "27",
         "257.97",
         "Monarch Solutions"
        ],
        [
         "9",
         "10",
         "2019-01-28",
         "Brazil",
         "323",
         "3024.25",
         "Hooli"
        ]
       ],
       "shape": {
        "columns": 6,
        "rows": 10
       }
      },
      "text/html": [
       "<div>\n",
       "<style scoped>\n",
       "    .dataframe tbody tr th:only-of-type {\n",
       "        vertical-align: middle;\n",
       "    }\n",
       "\n",
       "    .dataframe tbody tr th {\n",
       "        vertical-align: top;\n",
       "    }\n",
       "\n",
       "    .dataframe thead th {\n",
       "        text-align: right;\n",
       "    }\n",
       "</style>\n",
       "<table border=\"1\" class=\"dataframe\">\n",
       "  <thead>\n",
       "    <tr style=\"text-align: right;\">\n",
       "      <th></th>\n",
       "      <th>IdOrder</th>\n",
       "      <th>Date</th>\n",
       "      <th>Country</th>\n",
       "      <th>Units</th>\n",
       "      <th>Revenue</th>\n",
       "      <th>Customer</th>\n",
       "    </tr>\n",
       "  </thead>\n",
       "  <tbody>\n",
       "    <tr>\n",
       "      <th>0</th>\n",
       "      <td>1</td>\n",
       "      <td>2019-01-08</td>\n",
       "      <td>USA</td>\n",
       "      <td>343</td>\n",
       "      <td>15461.36</td>\n",
       "      <td>Octan Corporation</td>\n",
       "    </tr>\n",
       "    <tr>\n",
       "      <th>1</th>\n",
       "      <td>2</td>\n",
       "      <td>2019-01-04</td>\n",
       "      <td>Panama</td>\n",
       "      <td>93</td>\n",
       "      <td>4681.26</td>\n",
       "      <td>Rich Industries</td>\n",
       "    </tr>\n",
       "    <tr>\n",
       "      <th>2</th>\n",
       "      <td>3</td>\n",
       "      <td>2019-01-07</td>\n",
       "      <td>Panama</td>\n",
       "      <td>42</td>\n",
       "      <td>2220.36</td>\n",
       "      <td>Blue Sun Corporation</td>\n",
       "    </tr>\n",
       "    <tr>\n",
       "      <th>3</th>\n",
       "      <td>4</td>\n",
       "      <td>2019-01-16</td>\n",
       "      <td>Brazil</td>\n",
       "      <td>103</td>\n",
       "      <td>1853.78</td>\n",
       "      <td>Hexagon Global</td>\n",
       "    </tr>\n",
       "    <tr>\n",
       "      <th>4</th>\n",
       "      <td>5</td>\n",
       "      <td>2019-01-17</td>\n",
       "      <td>USA</td>\n",
       "      <td>28</td>\n",
       "      <td>286.30</td>\n",
       "      <td>Octan Corporation</td>\n",
       "    </tr>\n",
       "    <tr>\n",
       "      <th>5</th>\n",
       "      <td>6</td>\n",
       "      <td>2019-01-24</td>\n",
       "      <td>Canada</td>\n",
       "      <td>372</td>\n",
       "      <td>24826.98</td>\n",
       "      <td>Spacely Sprockets</td>\n",
       "    </tr>\n",
       "    <tr>\n",
       "      <th>6</th>\n",
       "      <td>7</td>\n",
       "      <td>2019-01-26</td>\n",
       "      <td>Canada</td>\n",
       "      <td>61</td>\n",
       "      <td>1592.42</td>\n",
       "      <td>BiffCo</td>\n",
       "    </tr>\n",
       "    <tr>\n",
       "      <th>7</th>\n",
       "      <td>8</td>\n",
       "      <td>2019-01-28</td>\n",
       "      <td>Canada</td>\n",
       "      <td>264</td>\n",
       "      <td>3228.11</td>\n",
       "      <td>Delos Incorporated</td>\n",
       "    </tr>\n",
       "    <tr>\n",
       "      <th>8</th>\n",
       "      <td>9</td>\n",
       "      <td>2019-01-13</td>\n",
       "      <td>Canada</td>\n",
       "      <td>27</td>\n",
       "      <td>257.97</td>\n",
       "      <td>Monarch Solutions</td>\n",
       "    </tr>\n",
       "    <tr>\n",
       "      <th>9</th>\n",
       "      <td>10</td>\n",
       "      <td>2019-01-28</td>\n",
       "      <td>Brazil</td>\n",
       "      <td>323</td>\n",
       "      <td>3024.25</td>\n",
       "      <td>Hooli</td>\n",
       "    </tr>\n",
       "  </tbody>\n",
       "</table>\n",
       "</div>"
      ],
      "text/plain": [
       "   IdOrder        Date Country  Units   Revenue              Customer\n",
       "0        1  2019-01-08     USA    343  15461.36     Octan Corporation\n",
       "1        2  2019-01-04  Panama     93   4681.26       Rich Industries\n",
       "2        3  2019-01-07  Panama     42   2220.36  Blue Sun Corporation\n",
       "3        4  2019-01-16  Brazil    103   1853.78        Hexagon Global\n",
       "4        5  2019-01-17     USA     28    286.30     Octan Corporation\n",
       "5        6  2019-01-24  Canada    372  24826.98     Spacely Sprockets\n",
       "6        7  2019-01-26  Canada     61   1592.42                BiffCo\n",
       "7        8  2019-01-28  Canada    264   3228.11    Delos Incorporated\n",
       "8        9  2019-01-13  Canada     27    257.97     Monarch Solutions\n",
       "9       10  2019-01-28  Brazil    323   3024.25                 Hooli"
      ]
     },
     "execution_count": 17,
     "metadata": {},
     "output_type": "execute_result"
    }
   ],
   "source": [
    "# Para ver lo primeron n registros, usaremos la función head()\n",
    "ventas.head(10) # output los 10 primeros registros \n"
   ]
  },
  {
   "cell_type": "code",
   "execution_count": 18,
   "metadata": {},
   "outputs": [
    {
     "data": {
      "application/vnd.microsoft.datawrangler.viewer.v0+json": {
       "columns": [
        {
         "name": "index",
         "rawType": "int64",
         "type": "integer"
        },
        {
         "name": "IdOrder",
         "rawType": "int64",
         "type": "integer"
        },
        {
         "name": "Date",
         "rawType": "object",
         "type": "string"
        },
        {
         "name": "Country",
         "rawType": "object",
         "type": "string"
        },
        {
         "name": "Units",
         "rawType": "int64",
         "type": "integer"
        },
        {
         "name": "Revenue",
         "rawType": "float64",
         "type": "float"
        },
        {
         "name": "Customer",
         "rawType": "object",
         "type": "string"
        }
       ],
       "conversionMethod": "pd.DataFrame",
       "ref": "260b2e00-3e25-4b2b-bfc6-f00ef6fd6a47",
       "rows": [
        [
         "179",
         "180",
         "2019-01-26",
         "Colombia",
         "82",
         "2997.26",
         "Initech"
        ],
        [
         "180",
         "181",
         "2019-01-22",
         "Brazil",
         "347",
         "2855.54",
         "Wonka Industries"
        ],
        [
         "181",
         "182",
         "2019-01-17",
         "Brazil",
         "300",
         "14911.08",
         "Stark Industries"
        ],
        [
         "182",
         "183",
         "2019-01-23",
         "Panama",
         "139",
         "49.69",
         "Initech"
        ],
        [
         "183",
         "184",
         "2019-01-03",
         "Canada",
         "263",
         "10726.25",
         "BiffCo"
        ],
        [
         "184",
         "185",
         "2019-01-25",
         "USA",
         "337",
         "4352.75",
         "Octan Corporation"
        ],
        [
         "185",
         "186",
         "2019-01-20",
         "Colombia",
         "197",
         "3256.95",
         "BiffCo"
        ],
        [
         "186",
         "187",
         "2019-01-14",
         "Brazil",
         "214",
         "12188.36",
         "Hexagon Global"
        ],
        [
         "187",
         "188",
         "2019-01-12",
         "Colombia",
         "102",
         "6566.51",
         "Octan Corporation"
        ],
        [
         "188",
         "189",
         "2019-01-26",
         "Panama",
         "77",
         "5103.71",
         "Hexagon Global"
        ]
       ],
       "shape": {
        "columns": 6,
        "rows": 10
       }
      },
      "text/html": [
       "<div>\n",
       "<style scoped>\n",
       "    .dataframe tbody tr th:only-of-type {\n",
       "        vertical-align: middle;\n",
       "    }\n",
       "\n",
       "    .dataframe tbody tr th {\n",
       "        vertical-align: top;\n",
       "    }\n",
       "\n",
       "    .dataframe thead th {\n",
       "        text-align: right;\n",
       "    }\n",
       "</style>\n",
       "<table border=\"1\" class=\"dataframe\">\n",
       "  <thead>\n",
       "    <tr style=\"text-align: right;\">\n",
       "      <th></th>\n",
       "      <th>IdOrder</th>\n",
       "      <th>Date</th>\n",
       "      <th>Country</th>\n",
       "      <th>Units</th>\n",
       "      <th>Revenue</th>\n",
       "      <th>Customer</th>\n",
       "    </tr>\n",
       "  </thead>\n",
       "  <tbody>\n",
       "    <tr>\n",
       "      <th>179</th>\n",
       "      <td>180</td>\n",
       "      <td>2019-01-26</td>\n",
       "      <td>Colombia</td>\n",
       "      <td>82</td>\n",
       "      <td>2997.26</td>\n",
       "      <td>Initech</td>\n",
       "    </tr>\n",
       "    <tr>\n",
       "      <th>180</th>\n",
       "      <td>181</td>\n",
       "      <td>2019-01-22</td>\n",
       "      <td>Brazil</td>\n",
       "      <td>347</td>\n",
       "      <td>2855.54</td>\n",
       "      <td>Wonka Industries</td>\n",
       "    </tr>\n",
       "    <tr>\n",
       "      <th>181</th>\n",
       "      <td>182</td>\n",
       "      <td>2019-01-17</td>\n",
       "      <td>Brazil</td>\n",
       "      <td>300</td>\n",
       "      <td>14911.08</td>\n",
       "      <td>Stark Industries</td>\n",
       "    </tr>\n",
       "    <tr>\n",
       "      <th>182</th>\n",
       "      <td>183</td>\n",
       "      <td>2019-01-23</td>\n",
       "      <td>Panama</td>\n",
       "      <td>139</td>\n",
       "      <td>49.69</td>\n",
       "      <td>Initech</td>\n",
       "    </tr>\n",
       "    <tr>\n",
       "      <th>183</th>\n",
       "      <td>184</td>\n",
       "      <td>2019-01-03</td>\n",
       "      <td>Canada</td>\n",
       "      <td>263</td>\n",
       "      <td>10726.25</td>\n",
       "      <td>BiffCo</td>\n",
       "    </tr>\n",
       "    <tr>\n",
       "      <th>184</th>\n",
       "      <td>185</td>\n",
       "      <td>2019-01-25</td>\n",
       "      <td>USA</td>\n",
       "      <td>337</td>\n",
       "      <td>4352.75</td>\n",
       "      <td>Octan Corporation</td>\n",
       "    </tr>\n",
       "    <tr>\n",
       "      <th>185</th>\n",
       "      <td>186</td>\n",
       "      <td>2019-01-20</td>\n",
       "      <td>Colombia</td>\n",
       "      <td>197</td>\n",
       "      <td>3256.95</td>\n",
       "      <td>BiffCo</td>\n",
       "    </tr>\n",
       "    <tr>\n",
       "      <th>186</th>\n",
       "      <td>187</td>\n",
       "      <td>2019-01-14</td>\n",
       "      <td>Brazil</td>\n",
       "      <td>214</td>\n",
       "      <td>12188.36</td>\n",
       "      <td>Hexagon Global</td>\n",
       "    </tr>\n",
       "    <tr>\n",
       "      <th>187</th>\n",
       "      <td>188</td>\n",
       "      <td>2019-01-12</td>\n",
       "      <td>Colombia</td>\n",
       "      <td>102</td>\n",
       "      <td>6566.51</td>\n",
       "      <td>Octan Corporation</td>\n",
       "    </tr>\n",
       "    <tr>\n",
       "      <th>188</th>\n",
       "      <td>189</td>\n",
       "      <td>2019-01-26</td>\n",
       "      <td>Panama</td>\n",
       "      <td>77</td>\n",
       "      <td>5103.71</td>\n",
       "      <td>Hexagon Global</td>\n",
       "    </tr>\n",
       "  </tbody>\n",
       "</table>\n",
       "</div>"
      ],
      "text/plain": [
       "     IdOrder        Date   Country  Units   Revenue           Customer\n",
       "179      180  2019-01-26  Colombia     82   2997.26            Initech\n",
       "180      181  2019-01-22    Brazil    347   2855.54   Wonka Industries\n",
       "181      182  2019-01-17    Brazil    300  14911.08   Stark Industries\n",
       "182      183  2019-01-23    Panama    139     49.69            Initech\n",
       "183      184  2019-01-03    Canada    263  10726.25             BiffCo\n",
       "184      185  2019-01-25       USA    337   4352.75  Octan Corporation\n",
       "185      186  2019-01-20  Colombia    197   3256.95             BiffCo\n",
       "186      187  2019-01-14    Brazil    214  12188.36     Hexagon Global\n",
       "187      188  2019-01-12  Colombia    102   6566.51  Octan Corporation\n",
       "188      189  2019-01-26    Panama     77   5103.71     Hexagon Global"
      ]
     },
     "execution_count": 18,
     "metadata": {},
     "output_type": "execute_result"
    }
   ],
   "source": [
    "# Para ver los últimos n refistross, usarmos la función tail()\n",
    "ventas.tail(10) # para ver los últimos 10 registros"
   ]
  },
  {
   "cell_type": "code",
   "execution_count": 19,
   "metadata": {},
   "outputs": [
    {
     "name": "stdout",
     "output_type": "stream",
     "text": [
      "<class 'pandas.core.frame.DataFrame'>\n",
      "RangeIndex: 189 entries, 0 to 188\n",
      "Data columns (total 6 columns):\n",
      " #   Column    Non-Null Count  Dtype  \n",
      "---  ------    --------------  -----  \n",
      " 0   IdOrder   189 non-null    int64  \n",
      " 1   Date      189 non-null    object \n",
      " 2   Country   189 non-null    object \n",
      " 3   Units     189 non-null    int64  \n",
      " 4   Revenue   189 non-null    float64\n",
      " 5   Customer  189 non-null    object \n",
      "dtypes: float64(1), int64(2), object(3)\n",
      "memory usage: 9.0+ KB\n"
     ]
    }
   ],
   "source": [
    "# Cómo ver información del dataframe, entries, colunms, nombre + el tipo\n",
    "ventas.info()\n"
   ]
  },
  {
   "cell_type": "code",
   "execution_count": 20,
   "metadata": {},
   "outputs": [
    {
     "data": {
      "text/plain": [
       "2    Blue Sun Corporation\n",
       "3          Hexagon Global\n",
       "0       Octan Corporation\n",
       "4       Octan Corporation\n",
       "1         Rich Industries\n",
       "Name: Customer, dtype: object"
      ]
     },
     "execution_count": 20,
     "metadata": {},
     "output_type": "execute_result"
    }
   ],
   "source": [
    "# Ver los 5 primeros nombres de customer, ordenados de la A-Z \n",
    "\n",
    "ventas['Customer'].head(5).sort_values(ascending=True) # al poner False el ascendig lo hace de la Z-A\n",
    "# el ascending depend del tipo de dato \n",
    "# string / object = A-Z or Z-A\n",
    "# int64 o float64 = Mayor a menor y/o menor a mayor\n",
    "# date = mas antigua a las mas reciente / mas reciente a la mas antigua"
   ]
  },
  {
   "cell_type": "code",
   "execution_count": 21,
   "metadata": {},
   "outputs": [
    {
     "data": {
      "application/vnd.microsoft.datawrangler.viewer.v0+json": {
       "columns": [
        {
         "name": "index",
         "rawType": "int64",
         "type": "integer"
        },
        {
         "name": "IdOrder",
         "rawType": "int64",
         "type": "integer"
        },
        {
         "name": "Date",
         "rawType": "object",
         "type": "string"
        },
        {
         "name": "Country",
         "rawType": "object",
         "type": "string"
        },
        {
         "name": "Units",
         "rawType": "int64",
         "type": "integer"
        },
        {
         "name": "Revenue",
         "rawType": "float64",
         "type": "float"
        },
        {
         "name": "Customer",
         "rawType": "object",
         "type": "string"
        }
       ],
       "conversionMethod": "pd.DataFrame",
       "ref": "51189c37-f605-4792-8138-3b6fb042f436",
       "rows": [
        [
         "187",
         "188",
         "2019-01-12",
         "Colombia",
         "102",
         "6566.51",
         "Octan Corporation"
        ],
        [
         "3",
         "4",
         "2019-01-16",
         "Brazil",
         "103",
         "1853.78",
         "Hexagon Global"
        ],
        [
         "122",
         "123",
         "2019-01-21",
         "USA",
         "110",
         "1340.29",
         "Umbrella Corp"
        ]
       ],
       "shape": {
        "columns": 6,
        "rows": 3
       }
      },
      "text/html": [
       "<div>\n",
       "<style scoped>\n",
       "    .dataframe tbody tr th:only-of-type {\n",
       "        vertical-align: middle;\n",
       "    }\n",
       "\n",
       "    .dataframe tbody tr th {\n",
       "        vertical-align: top;\n",
       "    }\n",
       "\n",
       "    .dataframe thead th {\n",
       "        text-align: right;\n",
       "    }\n",
       "</style>\n",
       "<table border=\"1\" class=\"dataframe\">\n",
       "  <thead>\n",
       "    <tr style=\"text-align: right;\">\n",
       "      <th></th>\n",
       "      <th>IdOrder</th>\n",
       "      <th>Date</th>\n",
       "      <th>Country</th>\n",
       "      <th>Units</th>\n",
       "      <th>Revenue</th>\n",
       "      <th>Customer</th>\n",
       "    </tr>\n",
       "  </thead>\n",
       "  <tbody>\n",
       "    <tr>\n",
       "      <th>187</th>\n",
       "      <td>188</td>\n",
       "      <td>2019-01-12</td>\n",
       "      <td>Colombia</td>\n",
       "      <td>102</td>\n",
       "      <td>6566.51</td>\n",
       "      <td>Octan Corporation</td>\n",
       "    </tr>\n",
       "    <tr>\n",
       "      <th>3</th>\n",
       "      <td>4</td>\n",
       "      <td>2019-01-16</td>\n",
       "      <td>Brazil</td>\n",
       "      <td>103</td>\n",
       "      <td>1853.78</td>\n",
       "      <td>Hexagon Global</td>\n",
       "    </tr>\n",
       "    <tr>\n",
       "      <th>122</th>\n",
       "      <td>123</td>\n",
       "      <td>2019-01-21</td>\n",
       "      <td>USA</td>\n",
       "      <td>110</td>\n",
       "      <td>1340.29</td>\n",
       "      <td>Umbrella Corp</td>\n",
       "    </tr>\n",
       "  </tbody>\n",
       "</table>\n",
       "</div>"
      ],
      "text/plain": [
       "     IdOrder        Date   Country  Units  Revenue           Customer\n",
       "187      188  2019-01-12  Colombia    102  6566.51  Octan Corporation\n",
       "3          4  2019-01-16    Brazil    103  1853.78     Hexagon Global\n",
       "122      123  2019-01-21       USA    110  1340.29      Umbrella Corp"
      ]
     },
     "execution_count": 21,
     "metadata": {},
     "output_type": "execute_result"
    }
   ],
   "source": [
    "# Ver los primeros 3 registros cuyas units sean mayor de 100\n",
    "ventas[ventas['Units']>100].head(3)\n",
    "\n",
    "# otra manera con \"by=\"\n",
    "ventas[ventas['Units']>100].sort_values(ascending = True, by = 'Units').head(3)"
   ]
  },
  {
   "cell_type": "code",
   "execution_count": 22,
   "metadata": {},
   "outputs": [
    {
     "data": {
      "application/vnd.microsoft.datawrangler.viewer.v0+json": {
       "columns": [
        {
         "name": "index",
         "rawType": "int64",
         "type": "integer"
        },
        {
         "name": "IdOrder",
         "rawType": "int64",
         "type": "integer"
        },
        {
         "name": "Date",
         "rawType": "object",
         "type": "string"
        },
        {
         "name": "Country",
         "rawType": "object",
         "type": "string"
        },
        {
         "name": "Units",
         "rawType": "int64",
         "type": "integer"
        },
        {
         "name": "Revenue",
         "rawType": "float64",
         "type": "float"
        },
        {
         "name": "Customer",
         "rawType": "object",
         "type": "string"
        }
       ],
       "conversionMethod": "pd.DataFrame",
       "ref": "deada2fb-a154-4ed4-894f-544670e40094",
       "rows": [
        [
         "117",
         "118",
         "2019-01-13",
         "Brazil",
         "73",
         "1565.69",
         "Vandelay Industries"
        ],
        [
         "125",
         "126",
         "2019-01-25",
         "Canada",
         "351",
         "34287.19",
         "Stark Industries"
        ],
        [
         "129",
         "130",
         "2019-01-09",
         "USA",
         "94",
         "2218.79",
         "Stark Industries"
        ],
        [
         "157",
         "158",
         "2019-01-13",
         "Colombia",
         "395",
         "9533.13",
         "Abstergo Industries"
        ],
        [
         "161",
         "162",
         "2019-01-28",
         "Canada",
         "371",
         "5661.27",
         "Stark Industries"
        ],
        [
         "162",
         "163",
         "2019-01-03",
         "Colombia",
         "45",
         "2346.82",
         "Abstergo Industries"
        ],
        [
         "166",
         "167",
         "2019-01-22",
         "Panama",
         "387",
         "10165.37",
         "Wonka Industries"
        ],
        [
         "172",
         "173",
         "2019-01-12",
         "Colombia",
         "17",
         "217.73",
         "Wonka Industries"
        ],
        [
         "180",
         "181",
         "2019-01-22",
         "Brazil",
         "347",
         "2855.54",
         "Wonka Industries"
        ],
        [
         "181",
         "182",
         "2019-01-17",
         "Brazil",
         "300",
         "14911.08",
         "Stark Industries"
        ]
       ],
       "shape": {
        "columns": 6,
        "rows": 10
       }
      },
      "text/html": [
       "<div>\n",
       "<style scoped>\n",
       "    .dataframe tbody tr th:only-of-type {\n",
       "        vertical-align: middle;\n",
       "    }\n",
       "\n",
       "    .dataframe tbody tr th {\n",
       "        vertical-align: top;\n",
       "    }\n",
       "\n",
       "    .dataframe thead th {\n",
       "        text-align: right;\n",
       "    }\n",
       "</style>\n",
       "<table border=\"1\" class=\"dataframe\">\n",
       "  <thead>\n",
       "    <tr style=\"text-align: right;\">\n",
       "      <th></th>\n",
       "      <th>IdOrder</th>\n",
       "      <th>Date</th>\n",
       "      <th>Country</th>\n",
       "      <th>Units</th>\n",
       "      <th>Revenue</th>\n",
       "      <th>Customer</th>\n",
       "    </tr>\n",
       "  </thead>\n",
       "  <tbody>\n",
       "    <tr>\n",
       "      <th>117</th>\n",
       "      <td>118</td>\n",
       "      <td>2019-01-13</td>\n",
       "      <td>Brazil</td>\n",
       "      <td>73</td>\n",
       "      <td>1565.69</td>\n",
       "      <td>Vandelay Industries</td>\n",
       "    </tr>\n",
       "    <tr>\n",
       "      <th>125</th>\n",
       "      <td>126</td>\n",
       "      <td>2019-01-25</td>\n",
       "      <td>Canada</td>\n",
       "      <td>351</td>\n",
       "      <td>34287.19</td>\n",
       "      <td>Stark Industries</td>\n",
       "    </tr>\n",
       "    <tr>\n",
       "      <th>129</th>\n",
       "      <td>130</td>\n",
       "      <td>2019-01-09</td>\n",
       "      <td>USA</td>\n",
       "      <td>94</td>\n",
       "      <td>2218.79</td>\n",
       "      <td>Stark Industries</td>\n",
       "    </tr>\n",
       "    <tr>\n",
       "      <th>157</th>\n",
       "      <td>158</td>\n",
       "      <td>2019-01-13</td>\n",
       "      <td>Colombia</td>\n",
       "      <td>395</td>\n",
       "      <td>9533.13</td>\n",
       "      <td>Abstergo Industries</td>\n",
       "    </tr>\n",
       "    <tr>\n",
       "      <th>161</th>\n",
       "      <td>162</td>\n",
       "      <td>2019-01-28</td>\n",
       "      <td>Canada</td>\n",
       "      <td>371</td>\n",
       "      <td>5661.27</td>\n",
       "      <td>Stark Industries</td>\n",
       "    </tr>\n",
       "    <tr>\n",
       "      <th>162</th>\n",
       "      <td>163</td>\n",
       "      <td>2019-01-03</td>\n",
       "      <td>Colombia</td>\n",
       "      <td>45</td>\n",
       "      <td>2346.82</td>\n",
       "      <td>Abstergo Industries</td>\n",
       "    </tr>\n",
       "    <tr>\n",
       "      <th>166</th>\n",
       "      <td>167</td>\n",
       "      <td>2019-01-22</td>\n",
       "      <td>Panama</td>\n",
       "      <td>387</td>\n",
       "      <td>10165.37</td>\n",
       "      <td>Wonka Industries</td>\n",
       "    </tr>\n",
       "    <tr>\n",
       "      <th>172</th>\n",
       "      <td>173</td>\n",
       "      <td>2019-01-12</td>\n",
       "      <td>Colombia</td>\n",
       "      <td>17</td>\n",
       "      <td>217.73</td>\n",
       "      <td>Wonka Industries</td>\n",
       "    </tr>\n",
       "    <tr>\n",
       "      <th>180</th>\n",
       "      <td>181</td>\n",
       "      <td>2019-01-22</td>\n",
       "      <td>Brazil</td>\n",
       "      <td>347</td>\n",
       "      <td>2855.54</td>\n",
       "      <td>Wonka Industries</td>\n",
       "    </tr>\n",
       "    <tr>\n",
       "      <th>181</th>\n",
       "      <td>182</td>\n",
       "      <td>2019-01-17</td>\n",
       "      <td>Brazil</td>\n",
       "      <td>300</td>\n",
       "      <td>14911.08</td>\n",
       "      <td>Stark Industries</td>\n",
       "    </tr>\n",
       "  </tbody>\n",
       "</table>\n",
       "</div>"
      ],
      "text/plain": [
       "     IdOrder        Date   Country  Units   Revenue             Customer\n",
       "117      118  2019-01-13    Brazil     73   1565.69  Vandelay Industries\n",
       "125      126  2019-01-25    Canada    351  34287.19     Stark Industries\n",
       "129      130  2019-01-09       USA     94   2218.79     Stark Industries\n",
       "157      158  2019-01-13  Colombia    395   9533.13  Abstergo Industries\n",
       "161      162  2019-01-28    Canada    371   5661.27     Stark Industries\n",
       "162      163  2019-01-03  Colombia     45   2346.82  Abstergo Industries\n",
       "166      167  2019-01-22    Panama    387  10165.37     Wonka Industries\n",
       "172      173  2019-01-12  Colombia     17    217.73     Wonka Industries\n",
       "180      181  2019-01-22    Brazil    347   2855.54     Wonka Industries\n",
       "181      182  2019-01-17    Brazil    300  14911.08     Stark Industries"
      ]
     },
     "execution_count": 22,
     "metadata": {},
     "output_type": "execute_result"
    }
   ],
   "source": [
    "# Mostrar todos los customers cuyo nombre contenga la palabra \"Industries\"\n",
    "ventas[ventas['Customer'].str.contains('Industries')].tail(10)\n",
    "\n",
    "# El comodín sería el valor seguido de punto y asterisco Industr.*\n",
    "ventas[ventas['Customer'].str.contains('Industr.*')].tail(10)"
   ]
  },
  {
   "cell_type": "code",
   "execution_count": 23,
   "metadata": {},
   "outputs": [
    {
     "data": {
      "application/vnd.microsoft.datawrangler.viewer.v0+json": {
       "columns": [
        {
         "name": "index",
         "rawType": "int64",
         "type": "integer"
        },
        {
         "name": "IdOrder",
         "rawType": "int64",
         "type": "integer"
        },
        {
         "name": "Date",
         "rawType": "object",
         "type": "string"
        },
        {
         "name": "Country",
         "rawType": "object",
         "type": "string"
        },
        {
         "name": "Units",
         "rawType": "int64",
         "type": "integer"
        },
        {
         "name": "Revenue",
         "rawType": "float64",
         "type": "float"
        },
        {
         "name": "Customer",
         "rawType": "object",
         "type": "string"
        }
       ],
       "conversionMethod": "pd.DataFrame",
       "ref": "480fc583-99e2-4d5f-b033-bfc219815ef7",
       "rows": [
        [
         "21",
         "22",
         "2019-01-05",
         "USA",
         "279",
         "12881.19",
         "Wayne Enterprises"
        ],
        [
         "61",
         "62",
         "2019-01-25",
         "Panama",
         "30",
         "751.31",
         "Wonka Industries"
        ],
        [
         "66",
         "67",
         "2019-01-01",
         "Canada",
         "307",
         "16448.55",
         "Weyland-Yutani"
        ],
        [
         "72",
         "73",
         "2019-01-11",
         "USA",
         "138",
         "7199.14",
         "Weyland-Yutani"
        ],
        [
         "77",
         "78",
         "2019-01-17",
         "Panama",
         "347",
         "12848.19",
         "Wayne Enterprises"
        ],
        [
         "94",
         "95",
         "2019-01-31",
         "Panama",
         "196",
         "1134.15",
         "Wonka Industries"
        ],
        [
         "138",
         "139",
         "2019-01-04",
         "Colombia",
         "350",
         "6070.06",
         "Wayne Enterprises"
        ],
        [
         "166",
         "167",
         "2019-01-22",
         "Panama",
         "387",
         "10165.37",
         "Wonka Industries"
        ],
        [
         "172",
         "173",
         "2019-01-12",
         "Colombia",
         "17",
         "217.73",
         "Wonka Industries"
        ],
        [
         "174",
         "175",
         "2019-01-06",
         "USA",
         "127",
         "1684.76",
         "Wayne Enterprises"
        ],
        [
         "180",
         "181",
         "2019-01-22",
         "Brazil",
         "347",
         "2855.54",
         "Wonka Industries"
        ]
       ],
       "shape": {
        "columns": 6,
        "rows": 11
       }
      },
      "text/html": [
       "<div>\n",
       "<style scoped>\n",
       "    .dataframe tbody tr th:only-of-type {\n",
       "        vertical-align: middle;\n",
       "    }\n",
       "\n",
       "    .dataframe tbody tr th {\n",
       "        vertical-align: top;\n",
       "    }\n",
       "\n",
       "    .dataframe thead th {\n",
       "        text-align: right;\n",
       "    }\n",
       "</style>\n",
       "<table border=\"1\" class=\"dataframe\">\n",
       "  <thead>\n",
       "    <tr style=\"text-align: right;\">\n",
       "      <th></th>\n",
       "      <th>IdOrder</th>\n",
       "      <th>Date</th>\n",
       "      <th>Country</th>\n",
       "      <th>Units</th>\n",
       "      <th>Revenue</th>\n",
       "      <th>Customer</th>\n",
       "    </tr>\n",
       "  </thead>\n",
       "  <tbody>\n",
       "    <tr>\n",
       "      <th>21</th>\n",
       "      <td>22</td>\n",
       "      <td>2019-01-05</td>\n",
       "      <td>USA</td>\n",
       "      <td>279</td>\n",
       "      <td>12881.19</td>\n",
       "      <td>Wayne Enterprises</td>\n",
       "    </tr>\n",
       "    <tr>\n",
       "      <th>61</th>\n",
       "      <td>62</td>\n",
       "      <td>2019-01-25</td>\n",
       "      <td>Panama</td>\n",
       "      <td>30</td>\n",
       "      <td>751.31</td>\n",
       "      <td>Wonka Industries</td>\n",
       "    </tr>\n",
       "    <tr>\n",
       "      <th>66</th>\n",
       "      <td>67</td>\n",
       "      <td>2019-01-01</td>\n",
       "      <td>Canada</td>\n",
       "      <td>307</td>\n",
       "      <td>16448.55</td>\n",
       "      <td>Weyland-Yutani</td>\n",
       "    </tr>\n",
       "    <tr>\n",
       "      <th>72</th>\n",
       "      <td>73</td>\n",
       "      <td>2019-01-11</td>\n",
       "      <td>USA</td>\n",
       "      <td>138</td>\n",
       "      <td>7199.14</td>\n",
       "      <td>Weyland-Yutani</td>\n",
       "    </tr>\n",
       "    <tr>\n",
       "      <th>77</th>\n",
       "      <td>78</td>\n",
       "      <td>2019-01-17</td>\n",
       "      <td>Panama</td>\n",
       "      <td>347</td>\n",
       "      <td>12848.19</td>\n",
       "      <td>Wayne Enterprises</td>\n",
       "    </tr>\n",
       "    <tr>\n",
       "      <th>94</th>\n",
       "      <td>95</td>\n",
       "      <td>2019-01-31</td>\n",
       "      <td>Panama</td>\n",
       "      <td>196</td>\n",
       "      <td>1134.15</td>\n",
       "      <td>Wonka Industries</td>\n",
       "    </tr>\n",
       "    <tr>\n",
       "      <th>138</th>\n",
       "      <td>139</td>\n",
       "      <td>2019-01-04</td>\n",
       "      <td>Colombia</td>\n",
       "      <td>350</td>\n",
       "      <td>6070.06</td>\n",
       "      <td>Wayne Enterprises</td>\n",
       "    </tr>\n",
       "    <tr>\n",
       "      <th>166</th>\n",
       "      <td>167</td>\n",
       "      <td>2019-01-22</td>\n",
       "      <td>Panama</td>\n",
       "      <td>387</td>\n",
       "      <td>10165.37</td>\n",
       "      <td>Wonka Industries</td>\n",
       "    </tr>\n",
       "    <tr>\n",
       "      <th>172</th>\n",
       "      <td>173</td>\n",
       "      <td>2019-01-12</td>\n",
       "      <td>Colombia</td>\n",
       "      <td>17</td>\n",
       "      <td>217.73</td>\n",
       "      <td>Wonka Industries</td>\n",
       "    </tr>\n",
       "    <tr>\n",
       "      <th>174</th>\n",
       "      <td>175</td>\n",
       "      <td>2019-01-06</td>\n",
       "      <td>USA</td>\n",
       "      <td>127</td>\n",
       "      <td>1684.76</td>\n",
       "      <td>Wayne Enterprises</td>\n",
       "    </tr>\n",
       "    <tr>\n",
       "      <th>180</th>\n",
       "      <td>181</td>\n",
       "      <td>2019-01-22</td>\n",
       "      <td>Brazil</td>\n",
       "      <td>347</td>\n",
       "      <td>2855.54</td>\n",
       "      <td>Wonka Industries</td>\n",
       "    </tr>\n",
       "  </tbody>\n",
       "</table>\n",
       "</div>"
      ],
      "text/plain": [
       "     IdOrder        Date   Country  Units   Revenue           Customer\n",
       "21        22  2019-01-05       USA    279  12881.19  Wayne Enterprises\n",
       "61        62  2019-01-25    Panama     30    751.31   Wonka Industries\n",
       "66        67  2019-01-01    Canada    307  16448.55     Weyland-Yutani\n",
       "72        73  2019-01-11       USA    138   7199.14     Weyland-Yutani\n",
       "77        78  2019-01-17    Panama    347  12848.19  Wayne Enterprises\n",
       "94        95  2019-01-31    Panama    196   1134.15   Wonka Industries\n",
       "138      139  2019-01-04  Colombia    350   6070.06  Wayne Enterprises\n",
       "166      167  2019-01-22    Panama    387  10165.37   Wonka Industries\n",
       "172      173  2019-01-12  Colombia     17    217.73   Wonka Industries\n",
       "174      175  2019-01-06       USA    127   1684.76  Wayne Enterprises\n",
       "180      181  2019-01-22    Brazil    347   2855.54   Wonka Industries"
      ]
     },
     "execution_count": 23,
     "metadata": {},
     "output_type": "execute_result"
    }
   ],
   "source": [
    "# Ver todos los customers cuyos nombres enpiecen por W con la funció \"startswith()\"\n",
    "ventas[ventas['Customer'].str.startswith('W')]"
   ]
  },
  {
   "cell_type": "code",
   "execution_count": 24,
   "metadata": {},
   "outputs": [
    {
     "data": {
      "application/vnd.microsoft.datawrangler.viewer.v0+json": {
       "columns": [
        {
         "name": "index",
         "rawType": "int64",
         "type": "integer"
        },
        {
         "name": "IdOrder",
         "rawType": "int64",
         "type": "integer"
        },
        {
         "name": "Date",
         "rawType": "object",
         "type": "string"
        },
        {
         "name": "Country",
         "rawType": "object",
         "type": "string"
        },
        {
         "name": "Units",
         "rawType": "int64",
         "type": "integer"
        },
        {
         "name": "Revenue",
         "rawType": "float64",
         "type": "float"
        },
        {
         "name": "Customer",
         "rawType": "object",
         "type": "string"
        }
       ],
       "conversionMethod": "pd.DataFrame",
       "ref": "9256b269-8a43-4a6b-9b57-95f77c9095b1",
       "rows": [
        [
         "1",
         "2",
         "2019-01-04",
         "Panama",
         "93",
         "4681.26",
         "Rich Industries"
        ],
        [
         "5",
         "6",
         "2019-01-24",
         "Canada",
         "372",
         "24826.98",
         "Spacely Sprockets"
        ],
        [
         "8",
         "9",
         "2019-01-13",
         "Canada",
         "27",
         "257.97",
         "Monarch Solutions"
        ],
        [
         "10",
         "11",
         "2019-01-27",
         "Canada",
         "187",
         "4046.31",
         "Yoyodyne Propulsion Systems"
        ],
        [
         "16",
         "17",
         "2019-01-15",
         "Colombia",
         "392",
         "16229.64",
         "Cyberdyne Systems"
        ],
        [
         "17",
         "18",
         "2019-01-30",
         "Colombia",
         "60",
         "1250.79",
         "Abstergo Industries"
        ],
        [
         "21",
         "22",
         "2019-01-05",
         "USA",
         "279",
         "12881.19",
         "Wayne Enterprises"
        ],
        [
         "23",
         "24",
         "2019-01-07",
         "Canada",
         "306",
         "4131.21",
         "Hyperion Systems"
        ],
        [
         "32",
         "33",
         "2019-01-06",
         "USA",
         "47",
         "1234.82",
         "Monarch Solutions"
        ],
        [
         "36",
         "37",
         "2019-01-05",
         "Panama",
         "15",
         "159.28",
         "Nordic Ventures"
        ],
        [
         "37",
         "38",
         "2019-01-27",
         "Canada",
         "389",
         "10312.46",
         "Vandelay Industries"
        ],
        [
         "39",
         "40",
         "2019-01-25",
         "Canada",
         "371",
         "20234.08",
         "Abstergo Industries"
        ],
        [
         "43",
         "44",
         "2019-01-08",
         "USA",
         "322",
         "15965.02",
         "Stark Industries"
        ],
        [
         "44",
         "45",
         "2019-01-08",
         "Canada",
         "73",
         "745.44",
         "Vandelay Industries"
        ],
        [
         "49",
         "50",
         "2019-01-11",
         "Canada",
         "259",
         "8694.91",
         "Vandelay Industries"
        ],
        [
         "51",
         "52",
         "2019-01-01",
         "Brazil",
         "86",
         "1264.87",
         "Hyperion Systems"
        ],
        [
         "54",
         "55",
         "2019-01-01",
         "Panama",
         "293",
         "73.34",
         "Monarch Solutions"
        ],
        [
         "59",
         "60",
         "2019-01-04",
         "USA",
         "309",
         "6694.46",
         "Zorin Industries"
        ],
        [
         "61",
         "62",
         "2019-01-25",
         "Panama",
         "30",
         "751.31",
         "Wonka Industries"
        ],
        [
         "70",
         "71",
         "2019-01-11",
         "Colombia",
         "313",
         "11018.25",
         "Rich Industries"
        ],
        [
         "74",
         "75",
         "2019-01-28",
         "USA",
         "398",
         "16280.66",
         "Stark Industries"
        ],
        [
         "75",
         "76",
         "2019-01-24",
         "Brazil",
         "364",
         "13878.72",
         "Rich Industries"
        ],
        [
         "77",
         "78",
         "2019-01-17",
         "Panama",
         "347",
         "12848.19",
         "Wayne Enterprises"
        ],
        [
         "78",
         "79",
         "2019-01-13",
         "Panama",
         "283",
         "24813.1",
         "Cyberdyne Systems"
        ],
        [
         "80",
         "81",
         "2019-01-04",
         "Canada",
         "356",
         "28390.3",
         "Vandelay Industries"
        ],
        [
         "81",
         "82",
         "2019-01-22",
         "Brazil",
         "43",
         "2723.93",
         "Vandelay Industries"
        ],
        [
         "86",
         "87",
         "2019-01-01",
         "Panama",
         "70",
         "555.16",
         "Rich Industries"
        ],
        [
         "88",
         "89",
         "2019-01-02",
         "Panama",
         "325",
         "20844.67",
         "Abstergo Industries"
        ],
        [
         "89",
         "90",
         "2019-01-17",
         "Colombia",
         "91",
         "436.9",
         "Spacely Sprockets"
        ],
        [
         "93",
         "94",
         "2019-01-28",
         "Brazil",
         "22",
         "1267.74",
         "Stark Industries"
        ],
        [
         "94",
         "95",
         "2019-01-31",
         "Panama",
         "196",
         "1134.15",
         "Wonka Industries"
        ],
        [
         "96",
         "97",
         "2019-01-25",
         "Brazil",
         "51",
         "1512.18",
         "Monarch Solutions"
        ],
        [
         "97",
         "98",
         "2019-01-06",
         "Panama",
         "226",
         "2376.11",
         "Abstergo Industries"
        ],
        [
         "98",
         "99",
         "2019-01-19",
         "Panama",
         "113",
         "554.27",
         "Vandelay Industries"
        ],
        [
         "100",
         "101",
         "2019-01-09",
         "Canada",
         "207",
         "14860.0",
         "Spacely Sprockets"
        ],
        [
         "105",
         "106",
         "2019-01-06",
         "Brazil",
         "55",
         "619.87",
         "Abstergo Industries"
        ],
        [
         "108",
         "109",
         "2019-01-31",
         "USA",
         "192",
         "2221.15",
         "Rich Industries"
        ],
        [
         "109",
         "110",
         "2019-01-04",
         "Colombia",
         "251",
         "16268.15",
         "Hyperion Systems"
        ],
        [
         "112",
         "113",
         "2019-01-10",
         "Panama",
         "56",
         "830.9",
         "Monarch Solutions"
        ],
        [
         "114",
         "115",
         "2019-01-24",
         "Canada",
         "158",
         "6457.92",
         "Monarch Solutions"
        ],
        [
         "115",
         "116",
         "2019-01-18",
         "Brazil",
         "399",
         "18504.17",
         "Stark Industries"
        ],
        [
         "117",
         "118",
         "2019-01-13",
         "Brazil",
         "73",
         "1565.69",
         "Vandelay Industries"
        ],
        [
         "121",
         "122",
         "2019-01-08",
         "USA",
         "396",
         "5744.25",
         "Monarch Solutions"
        ],
        [
         "123",
         "124",
         "2019-01-03",
         "Colombia",
         "10",
         "729.39",
         "Cyberdyne Systems"
        ],
        [
         "125",
         "126",
         "2019-01-25",
         "Canada",
         "351",
         "34287.19",
         "Stark Industries"
        ],
        [
         "127",
         "128",
         "2019-01-04",
         "USA",
         "330",
         "10523.01",
         "Yoyodyne Propulsion Systems"
        ],
        [
         "129",
         "130",
         "2019-01-09",
         "USA",
         "94",
         "2218.79",
         "Stark Industries"
        ],
        [
         "132",
         "133",
         "2019-01-24",
         "Panama",
         "146",
         "10130.0",
         "Cyberdyne Systems"
        ],
        [
         "136",
         "137",
         "2019-01-06",
         "Colombia",
         "56",
         "535.82",
         "Cyberdyne Systems"
        ],
        [
         "137",
         "138",
         "2019-01-22",
         "Colombia",
         "399",
         "13430.62",
         "Hyperion Systems"
        ]
       ],
       "shape": {
        "columns": 6,
        "rows": 62
       }
      },
      "text/html": [
       "<div>\n",
       "<style scoped>\n",
       "    .dataframe tbody tr th:only-of-type {\n",
       "        vertical-align: middle;\n",
       "    }\n",
       "\n",
       "    .dataframe tbody tr th {\n",
       "        vertical-align: top;\n",
       "    }\n",
       "\n",
       "    .dataframe thead th {\n",
       "        text-align: right;\n",
       "    }\n",
       "</style>\n",
       "<table border=\"1\" class=\"dataframe\">\n",
       "  <thead>\n",
       "    <tr style=\"text-align: right;\">\n",
       "      <th></th>\n",
       "      <th>IdOrder</th>\n",
       "      <th>Date</th>\n",
       "      <th>Country</th>\n",
       "      <th>Units</th>\n",
       "      <th>Revenue</th>\n",
       "      <th>Customer</th>\n",
       "    </tr>\n",
       "  </thead>\n",
       "  <tbody>\n",
       "    <tr>\n",
       "      <th>1</th>\n",
       "      <td>2</td>\n",
       "      <td>2019-01-04</td>\n",
       "      <td>Panama</td>\n",
       "      <td>93</td>\n",
       "      <td>4681.26</td>\n",
       "      <td>Rich Industries</td>\n",
       "    </tr>\n",
       "    <tr>\n",
       "      <th>5</th>\n",
       "      <td>6</td>\n",
       "      <td>2019-01-24</td>\n",
       "      <td>Canada</td>\n",
       "      <td>372</td>\n",
       "      <td>24826.98</td>\n",
       "      <td>Spacely Sprockets</td>\n",
       "    </tr>\n",
       "    <tr>\n",
       "      <th>8</th>\n",
       "      <td>9</td>\n",
       "      <td>2019-01-13</td>\n",
       "      <td>Canada</td>\n",
       "      <td>27</td>\n",
       "      <td>257.97</td>\n",
       "      <td>Monarch Solutions</td>\n",
       "    </tr>\n",
       "    <tr>\n",
       "      <th>10</th>\n",
       "      <td>11</td>\n",
       "      <td>2019-01-27</td>\n",
       "      <td>Canada</td>\n",
       "      <td>187</td>\n",
       "      <td>4046.31</td>\n",
       "      <td>Yoyodyne Propulsion Systems</td>\n",
       "    </tr>\n",
       "    <tr>\n",
       "      <th>16</th>\n",
       "      <td>17</td>\n",
       "      <td>2019-01-15</td>\n",
       "      <td>Colombia</td>\n",
       "      <td>392</td>\n",
       "      <td>16229.64</td>\n",
       "      <td>Cyberdyne Systems</td>\n",
       "    </tr>\n",
       "    <tr>\n",
       "      <th>...</th>\n",
       "      <td>...</td>\n",
       "      <td>...</td>\n",
       "      <td>...</td>\n",
       "      <td>...</td>\n",
       "      <td>...</td>\n",
       "      <td>...</td>\n",
       "    </tr>\n",
       "    <tr>\n",
       "      <th>166</th>\n",
       "      <td>167</td>\n",
       "      <td>2019-01-22</td>\n",
       "      <td>Panama</td>\n",
       "      <td>387</td>\n",
       "      <td>10165.37</td>\n",
       "      <td>Wonka Industries</td>\n",
       "    </tr>\n",
       "    <tr>\n",
       "      <th>172</th>\n",
       "      <td>173</td>\n",
       "      <td>2019-01-12</td>\n",
       "      <td>Colombia</td>\n",
       "      <td>17</td>\n",
       "      <td>217.73</td>\n",
       "      <td>Wonka Industries</td>\n",
       "    </tr>\n",
       "    <tr>\n",
       "      <th>174</th>\n",
       "      <td>175</td>\n",
       "      <td>2019-01-06</td>\n",
       "      <td>USA</td>\n",
       "      <td>127</td>\n",
       "      <td>1684.76</td>\n",
       "      <td>Wayne Enterprises</td>\n",
       "    </tr>\n",
       "    <tr>\n",
       "      <th>180</th>\n",
       "      <td>181</td>\n",
       "      <td>2019-01-22</td>\n",
       "      <td>Brazil</td>\n",
       "      <td>347</td>\n",
       "      <td>2855.54</td>\n",
       "      <td>Wonka Industries</td>\n",
       "    </tr>\n",
       "    <tr>\n",
       "      <th>181</th>\n",
       "      <td>182</td>\n",
       "      <td>2019-01-17</td>\n",
       "      <td>Brazil</td>\n",
       "      <td>300</td>\n",
       "      <td>14911.08</td>\n",
       "      <td>Stark Industries</td>\n",
       "    </tr>\n",
       "  </tbody>\n",
       "</table>\n",
       "<p>62 rows × 6 columns</p>\n",
       "</div>"
      ],
      "text/plain": [
       "     IdOrder        Date   Country  Units   Revenue  \\\n",
       "1          2  2019-01-04    Panama     93   4681.26   \n",
       "5          6  2019-01-24    Canada    372  24826.98   \n",
       "8          9  2019-01-13    Canada     27    257.97   \n",
       "10        11  2019-01-27    Canada    187   4046.31   \n",
       "16        17  2019-01-15  Colombia    392  16229.64   \n",
       "..       ...         ...       ...    ...       ...   \n",
       "166      167  2019-01-22    Panama    387  10165.37   \n",
       "172      173  2019-01-12  Colombia     17    217.73   \n",
       "174      175  2019-01-06       USA    127   1684.76   \n",
       "180      181  2019-01-22    Brazil    347   2855.54   \n",
       "181      182  2019-01-17    Brazil    300  14911.08   \n",
       "\n",
       "                        Customer  \n",
       "1                Rich Industries  \n",
       "5              Spacely Sprockets  \n",
       "8              Monarch Solutions  \n",
       "10   Yoyodyne Propulsion Systems  \n",
       "16             Cyberdyne Systems  \n",
       "..                           ...  \n",
       "166             Wonka Industries  \n",
       "172             Wonka Industries  \n",
       "174            Wayne Enterprises  \n",
       "180             Wonka Industries  \n",
       "181             Stark Industries  \n",
       "\n",
       "[62 rows x 6 columns]"
      ]
     },
     "execution_count": 24,
     "metadata": {},
     "output_type": "execute_result"
    }
   ],
   "source": [
    "# Ver todos los Customers cuyo nombre terminen por \"S\"\n",
    "\n",
    "ventas[ventas['Customer'].str.endswith('s')]"
   ]
  },
  {
   "cell_type": "code",
   "execution_count": 25,
   "metadata": {},
   "outputs": [
    {
     "data": {
      "application/vnd.microsoft.datawrangler.viewer.v0+json": {
       "columns": [
        {
         "name": "index",
         "rawType": "int64",
         "type": "integer"
        },
        {
         "name": "IdOrder",
         "rawType": "int64",
         "type": "integer"
        },
        {
         "name": "Date",
         "rawType": "object",
         "type": "string"
        },
        {
         "name": "Country",
         "rawType": "object",
         "type": "string"
        },
        {
         "name": "Units",
         "rawType": "int64",
         "type": "integer"
        },
        {
         "name": "Revenue",
         "rawType": "float64",
         "type": "float"
        },
        {
         "name": "Customer",
         "rawType": "object",
         "type": "string"
        }
       ],
       "conversionMethod": "pd.DataFrame",
       "ref": "fe8e0942-1f60-4a21-a592-8323622eed87",
       "rows": [
        [
         "117",
         "118",
         "2019-01-13",
         "Brazil",
         "73",
         "1565.69",
         "Vandelay Industries"
        ],
        [
         "125",
         "126",
         "2019-01-25",
         "Canada",
         "351",
         "34287.19",
         "Stark Industries"
        ],
        [
         "129",
         "130",
         "2019-01-09",
         "USA",
         "94",
         "2218.79",
         "Stark Industries"
        ],
        [
         "157",
         "158",
         "2019-01-13",
         "Colombia",
         "395",
         "9533.13",
         "Abstergo Industries"
        ],
        [
         "161",
         "162",
         "2019-01-28",
         "Canada",
         "371",
         "5661.27",
         "Stark Industries"
        ],
        [
         "162",
         "163",
         "2019-01-03",
         "Colombia",
         "45",
         "2346.82",
         "Abstergo Industries"
        ],
        [
         "166",
         "167",
         "2019-01-22",
         "Panama",
         "387",
         "10165.37",
         "Wonka Industries"
        ],
        [
         "172",
         "173",
         "2019-01-12",
         "Colombia",
         "17",
         "217.73",
         "Wonka Industries"
        ],
        [
         "180",
         "181",
         "2019-01-22",
         "Brazil",
         "347",
         "2855.54",
         "Wonka Industries"
        ],
        [
         "181",
         "182",
         "2019-01-17",
         "Brazil",
         "300",
         "14911.08",
         "Stark Industries"
        ]
       ],
       "shape": {
        "columns": 6,
        "rows": 10
       }
      },
      "text/html": [
       "<div>\n",
       "<style scoped>\n",
       "    .dataframe tbody tr th:only-of-type {\n",
       "        vertical-align: middle;\n",
       "    }\n",
       "\n",
       "    .dataframe tbody tr th {\n",
       "        vertical-align: top;\n",
       "    }\n",
       "\n",
       "    .dataframe thead th {\n",
       "        text-align: right;\n",
       "    }\n",
       "</style>\n",
       "<table border=\"1\" class=\"dataframe\">\n",
       "  <thead>\n",
       "    <tr style=\"text-align: right;\">\n",
       "      <th></th>\n",
       "      <th>IdOrder</th>\n",
       "      <th>Date</th>\n",
       "      <th>Country</th>\n",
       "      <th>Units</th>\n",
       "      <th>Revenue</th>\n",
       "      <th>Customer</th>\n",
       "    </tr>\n",
       "  </thead>\n",
       "  <tbody>\n",
       "    <tr>\n",
       "      <th>117</th>\n",
       "      <td>118</td>\n",
       "      <td>2019-01-13</td>\n",
       "      <td>Brazil</td>\n",
       "      <td>73</td>\n",
       "      <td>1565.69</td>\n",
       "      <td>Vandelay Industries</td>\n",
       "    </tr>\n",
       "    <tr>\n",
       "      <th>125</th>\n",
       "      <td>126</td>\n",
       "      <td>2019-01-25</td>\n",
       "      <td>Canada</td>\n",
       "      <td>351</td>\n",
       "      <td>34287.19</td>\n",
       "      <td>Stark Industries</td>\n",
       "    </tr>\n",
       "    <tr>\n",
       "      <th>129</th>\n",
       "      <td>130</td>\n",
       "      <td>2019-01-09</td>\n",
       "      <td>USA</td>\n",
       "      <td>94</td>\n",
       "      <td>2218.79</td>\n",
       "      <td>Stark Industries</td>\n",
       "    </tr>\n",
       "    <tr>\n",
       "      <th>157</th>\n",
       "      <td>158</td>\n",
       "      <td>2019-01-13</td>\n",
       "      <td>Colombia</td>\n",
       "      <td>395</td>\n",
       "      <td>9533.13</td>\n",
       "      <td>Abstergo Industries</td>\n",
       "    </tr>\n",
       "    <tr>\n",
       "      <th>161</th>\n",
       "      <td>162</td>\n",
       "      <td>2019-01-28</td>\n",
       "      <td>Canada</td>\n",
       "      <td>371</td>\n",
       "      <td>5661.27</td>\n",
       "      <td>Stark Industries</td>\n",
       "    </tr>\n",
       "    <tr>\n",
       "      <th>162</th>\n",
       "      <td>163</td>\n",
       "      <td>2019-01-03</td>\n",
       "      <td>Colombia</td>\n",
       "      <td>45</td>\n",
       "      <td>2346.82</td>\n",
       "      <td>Abstergo Industries</td>\n",
       "    </tr>\n",
       "    <tr>\n",
       "      <th>166</th>\n",
       "      <td>167</td>\n",
       "      <td>2019-01-22</td>\n",
       "      <td>Panama</td>\n",
       "      <td>387</td>\n",
       "      <td>10165.37</td>\n",
       "      <td>Wonka Industries</td>\n",
       "    </tr>\n",
       "    <tr>\n",
       "      <th>172</th>\n",
       "      <td>173</td>\n",
       "      <td>2019-01-12</td>\n",
       "      <td>Colombia</td>\n",
       "      <td>17</td>\n",
       "      <td>217.73</td>\n",
       "      <td>Wonka Industries</td>\n",
       "    </tr>\n",
       "    <tr>\n",
       "      <th>180</th>\n",
       "      <td>181</td>\n",
       "      <td>2019-01-22</td>\n",
       "      <td>Brazil</td>\n",
       "      <td>347</td>\n",
       "      <td>2855.54</td>\n",
       "      <td>Wonka Industries</td>\n",
       "    </tr>\n",
       "    <tr>\n",
       "      <th>181</th>\n",
       "      <td>182</td>\n",
       "      <td>2019-01-17</td>\n",
       "      <td>Brazil</td>\n",
       "      <td>300</td>\n",
       "      <td>14911.08</td>\n",
       "      <td>Stark Industries</td>\n",
       "    </tr>\n",
       "  </tbody>\n",
       "</table>\n",
       "</div>"
      ],
      "text/plain": [
       "     IdOrder        Date   Country  Units   Revenue             Customer\n",
       "117      118  2019-01-13    Brazil     73   1565.69  Vandelay Industries\n",
       "125      126  2019-01-25    Canada    351  34287.19     Stark Industries\n",
       "129      130  2019-01-09       USA     94   2218.79     Stark Industries\n",
       "157      158  2019-01-13  Colombia    395   9533.13  Abstergo Industries\n",
       "161      162  2019-01-28    Canada    371   5661.27     Stark Industries\n",
       "162      163  2019-01-03  Colombia     45   2346.82  Abstergo Industries\n",
       "166      167  2019-01-22    Panama    387  10165.37     Wonka Industries\n",
       "172      173  2019-01-12  Colombia     17    217.73     Wonka Industries\n",
       "180      181  2019-01-22    Brazil    347   2855.54     Wonka Industries\n",
       "181      182  2019-01-17    Brazil    300  14911.08     Stark Industries"
      ]
     },
     "execution_count": 25,
     "metadata": {},
     "output_type": "execute_result"
    }
   ],
   "source": [
    "# Para mayus y minus, solo para contains [] \n",
    "ventas[ventas['Customer'].str.contains('[Ii]ndustries')].tail(10)"
   ]
  },
  {
   "cell_type": "code",
   "execution_count": 26,
   "metadata": {},
   "outputs": [
    {
     "name": "stdout",
     "output_type": "stream",
     "text": [
      "Numero de customers que contienen 'Industries' 33\n"
     ]
    }
   ],
   "source": [
    "# Cómo averiguar cuantos registros cumplen la condición filtrada\n",
    "\n",
    "print(\"Numero de customers que contienen 'Industries'\", \n",
    "      ventas[ventas['Customer'].str.contains('Industries')].IdOrder.count())\n",
    "\n",
    "# Con count() solo cuenta registros qeu no son nulos (NA), si no son NA, no los cuenta\n",
    "# hay que buscar un campo que siempre esté informado"
   ]
  },
  {
   "cell_type": "markdown",
   "metadata": {},
   "source": [
    "### PRACTICA 27:\n",
    "* Queremos tener un objeto clonado de ventas que contenga sólamente los customers cuyo nombre contenga la plabra \"Systems\" y el customers debe estar ordenado de la A-Z."
   ]
  },
  {
   "cell_type": "code",
   "execution_count": 27,
   "metadata": {},
   "outputs": [
    {
     "data": {
      "text/plain": [
       "16               Cyberdyne Systems\n",
       "78               Cyberdyne Systems\n",
       "123              Cyberdyne Systems\n",
       "132              Cyberdyne Systems\n",
       "136              Cyberdyne Systems\n",
       "152              Cyberdyne Systems\n",
       "159              Cyberdyne Systems\n",
       "23                Hyperion Systems\n",
       "51                Hyperion Systems\n",
       "109               Hyperion Systems\n",
       "137               Hyperion Systems\n",
       "10     Yoyodyne Propulsion Systems\n",
       "127    Yoyodyne Propulsion Systems\n",
       "Name: Customer, dtype: object"
      ]
     },
     "execution_count": 27,
     "metadata": {},
     "output_type": "execute_result"
    }
   ],
   "source": [
    "#ventas.info() visualizamos las columnas\n",
    "# clonamos el dataframe con los customers\n",
    "df_customer = ventas[ventas['Customer'].str.contains(\"Systems\")]\n",
    "# estructura : nombre_dataframe[nombre_dataframe['nombre_columna'].lo que se quiera operar]\n",
    "df_customer['Customer'].sort_values(ascending = True)"
   ]
  },
  {
   "cell_type": "markdown",
   "metadata": {},
   "source": [
    "### PRACTICA 28:\n",
    "* Queremos ver en un texto el número de Customer cuyo nombre termina por \"n\"."
   ]
  },
  {
   "cell_type": "code",
   "execution_count": 28,
   "metadata": {},
   "outputs": [
    {
     "name": "stdout",
     "output_type": "stream",
     "text": [
      "El número de cliente que termina en 'n' es: 40\n"
     ]
    }
   ],
   "source": [
    "# Con la función endswith buscamos la letra y despues con count contamos los resultados\n",
    "termina_n = ventas[ventas['Customer'].str.endswith('n')].IdOrder.count()\n",
    "print(\"El número de cliente que termina en 'n' es:\",termina_n)"
   ]
  },
  {
   "cell_type": "markdown",
   "metadata": {},
   "source": [
    "### PRACTICA 29:\n",
    "* Queremos ver una lista con los diez primeros Customer cuyo \"country\" es \"Canada\"."
   ]
  },
  {
   "cell_type": "code",
   "execution_count": 29,
   "metadata": {},
   "outputs": [
    {
     "data": {
      "application/vnd.microsoft.datawrangler.viewer.v0+json": {
       "columns": [
        {
         "name": "index",
         "rawType": "int64",
         "type": "integer"
        },
        {
         "name": "IdOrder",
         "rawType": "int64",
         "type": "integer"
        },
        {
         "name": "Date",
         "rawType": "object",
         "type": "string"
        },
        {
         "name": "Country",
         "rawType": "object",
         "type": "string"
        },
        {
         "name": "Units",
         "rawType": "int64",
         "type": "integer"
        },
        {
         "name": "Revenue",
         "rawType": "float64",
         "type": "float"
        },
        {
         "name": "Customer",
         "rawType": "object",
         "type": "string"
        }
       ],
       "conversionMethod": "pd.DataFrame",
       "ref": "5540a0bf-ce39-4944-9933-0e3de42d9030",
       "rows": [
        [
         "1",
         "2",
         "2019-01-04",
         "Panama",
         "93",
         "4681.26",
         "Rich Industries"
        ],
        [
         "2",
         "3",
         "2019-01-07",
         "Panama",
         "42",
         "2220.36",
         "Blue Sun Corporation"
        ],
        [
         "5",
         "6",
         "2019-01-24",
         "Canada",
         "372",
         "24826.98",
         "Spacely Sprockets"
        ],
        [
         "6",
         "7",
         "2019-01-26",
         "Canada",
         "61",
         "1592.42",
         "BiffCo"
        ],
        [
         "7",
         "8",
         "2019-01-28",
         "Canada",
         "264",
         "3228.11",
         "Delos Incorporated"
        ],
        [
         "8",
         "9",
         "2019-01-13",
         "Canada",
         "27",
         "257.97",
         "Monarch Solutions"
        ],
        [
         "10",
         "11",
         "2019-01-27",
         "Canada",
         "187",
         "4046.31",
         "Yoyodyne Propulsion Systems"
        ],
        [
         "15",
         "16",
         "2019-01-19",
         "Panama",
         "288",
         "4532.62",
         "Nakatomi Trading"
        ],
        [
         "23",
         "24",
         "2019-01-07",
         "Canada",
         "306",
         "4131.21",
         "Hyperion Systems"
        ],
        [
         "24",
         "25",
         "2019-01-27",
         "Canada",
         "141",
         "9419.58",
         "Initech"
        ]
       ],
       "shape": {
        "columns": 6,
        "rows": 10
       }
      },
      "text/html": [
       "<div>\n",
       "<style scoped>\n",
       "    .dataframe tbody tr th:only-of-type {\n",
       "        vertical-align: middle;\n",
       "    }\n",
       "\n",
       "    .dataframe tbody tr th {\n",
       "        vertical-align: top;\n",
       "    }\n",
       "\n",
       "    .dataframe thead th {\n",
       "        text-align: right;\n",
       "    }\n",
       "</style>\n",
       "<table border=\"1\" class=\"dataframe\">\n",
       "  <thead>\n",
       "    <tr style=\"text-align: right;\">\n",
       "      <th></th>\n",
       "      <th>IdOrder</th>\n",
       "      <th>Date</th>\n",
       "      <th>Country</th>\n",
       "      <th>Units</th>\n",
       "      <th>Revenue</th>\n",
       "      <th>Customer</th>\n",
       "    </tr>\n",
       "  </thead>\n",
       "  <tbody>\n",
       "    <tr>\n",
       "      <th>1</th>\n",
       "      <td>2</td>\n",
       "      <td>2019-01-04</td>\n",
       "      <td>Panama</td>\n",
       "      <td>93</td>\n",
       "      <td>4681.26</td>\n",
       "      <td>Rich Industries</td>\n",
       "    </tr>\n",
       "    <tr>\n",
       "      <th>2</th>\n",
       "      <td>3</td>\n",
       "      <td>2019-01-07</td>\n",
       "      <td>Panama</td>\n",
       "      <td>42</td>\n",
       "      <td>2220.36</td>\n",
       "      <td>Blue Sun Corporation</td>\n",
       "    </tr>\n",
       "    <tr>\n",
       "      <th>5</th>\n",
       "      <td>6</td>\n",
       "      <td>2019-01-24</td>\n",
       "      <td>Canada</td>\n",
       "      <td>372</td>\n",
       "      <td>24826.98</td>\n",
       "      <td>Spacely Sprockets</td>\n",
       "    </tr>\n",
       "    <tr>\n",
       "      <th>6</th>\n",
       "      <td>7</td>\n",
       "      <td>2019-01-26</td>\n",
       "      <td>Canada</td>\n",
       "      <td>61</td>\n",
       "      <td>1592.42</td>\n",
       "      <td>BiffCo</td>\n",
       "    </tr>\n",
       "    <tr>\n",
       "      <th>7</th>\n",
       "      <td>8</td>\n",
       "      <td>2019-01-28</td>\n",
       "      <td>Canada</td>\n",
       "      <td>264</td>\n",
       "      <td>3228.11</td>\n",
       "      <td>Delos Incorporated</td>\n",
       "    </tr>\n",
       "    <tr>\n",
       "      <th>8</th>\n",
       "      <td>9</td>\n",
       "      <td>2019-01-13</td>\n",
       "      <td>Canada</td>\n",
       "      <td>27</td>\n",
       "      <td>257.97</td>\n",
       "      <td>Monarch Solutions</td>\n",
       "    </tr>\n",
       "    <tr>\n",
       "      <th>10</th>\n",
       "      <td>11</td>\n",
       "      <td>2019-01-27</td>\n",
       "      <td>Canada</td>\n",
       "      <td>187</td>\n",
       "      <td>4046.31</td>\n",
       "      <td>Yoyodyne Propulsion Systems</td>\n",
       "    </tr>\n",
       "    <tr>\n",
       "      <th>15</th>\n",
       "      <td>16</td>\n",
       "      <td>2019-01-19</td>\n",
       "      <td>Panama</td>\n",
       "      <td>288</td>\n",
       "      <td>4532.62</td>\n",
       "      <td>Nakatomi Trading</td>\n",
       "    </tr>\n",
       "    <tr>\n",
       "      <th>23</th>\n",
       "      <td>24</td>\n",
       "      <td>2019-01-07</td>\n",
       "      <td>Canada</td>\n",
       "      <td>306</td>\n",
       "      <td>4131.21</td>\n",
       "      <td>Hyperion Systems</td>\n",
       "    </tr>\n",
       "    <tr>\n",
       "      <th>24</th>\n",
       "      <td>25</td>\n",
       "      <td>2019-01-27</td>\n",
       "      <td>Canada</td>\n",
       "      <td>141</td>\n",
       "      <td>9419.58</td>\n",
       "      <td>Initech</td>\n",
       "    </tr>\n",
       "  </tbody>\n",
       "</table>\n",
       "</div>"
      ],
      "text/plain": [
       "    IdOrder        Date Country  Units   Revenue                     Customer\n",
       "1         2  2019-01-04  Panama     93   4681.26              Rich Industries\n",
       "2         3  2019-01-07  Panama     42   2220.36         Blue Sun Corporation\n",
       "5         6  2019-01-24  Canada    372  24826.98            Spacely Sprockets\n",
       "6         7  2019-01-26  Canada     61   1592.42                       BiffCo\n",
       "7         8  2019-01-28  Canada    264   3228.11           Delos Incorporated\n",
       "8         9  2019-01-13  Canada     27    257.97            Monarch Solutions\n",
       "10       11  2019-01-27  Canada    187   4046.31  Yoyodyne Propulsion Systems\n",
       "15       16  2019-01-19  Panama    288   4532.62             Nakatomi Trading\n",
       "23       24  2019-01-07  Canada    306   4131.21             Hyperion Systems\n",
       "24       25  2019-01-27  Canada    141   9419.58                      Initech"
      ]
     },
     "execution_count": 29,
     "metadata": {},
     "output_type": "execute_result"
    }
   ],
   "source": [
    "# Customers que contenga \"Canada\" en la columna 'Country'\n",
    "ventas[ventas['Country'].str.contains('na')].head(10) # el contains solo busca los que contenga por ello aparece 'Panama'"
   ]
  },
  {
   "cell_type": "code",
   "execution_count": 30,
   "metadata": {},
   "outputs": [
    {
     "data": {
      "application/vnd.microsoft.datawrangler.viewer.v0+json": {
       "columns": [
        {
         "name": "index",
         "rawType": "int64",
         "type": "integer"
        },
        {
         "name": "IdOrder",
         "rawType": "int64",
         "type": "integer"
        },
        {
         "name": "Date",
         "rawType": "object",
         "type": "string"
        },
        {
         "name": "Country",
         "rawType": "object",
         "type": "string"
        },
        {
         "name": "Units",
         "rawType": "int64",
         "type": "integer"
        },
        {
         "name": "Revenue",
         "rawType": "float64",
         "type": "float"
        },
        {
         "name": "Customer",
         "rawType": "object",
         "type": "string"
        }
       ],
       "conversionMethod": "pd.DataFrame",
       "ref": "9af22fdd-fd7e-49af-aadf-e4c71fda3cdf",
       "rows": [
        [
         "5",
         "6",
         "2019-01-24",
         "Canada",
         "372",
         "24826.98",
         "Spacely Sprockets"
        ],
        [
         "6",
         "7",
         "2019-01-26",
         "Canada",
         "61",
         "1592.42",
         "BiffCo"
        ],
        [
         "7",
         "8",
         "2019-01-28",
         "Canada",
         "264",
         "3228.11",
         "Delos Incorporated"
        ],
        [
         "8",
         "9",
         "2019-01-13",
         "Canada",
         "27",
         "257.97",
         "Monarch Solutions"
        ],
        [
         "10",
         "11",
         "2019-01-27",
         "Canada",
         "187",
         "4046.31",
         "Yoyodyne Propulsion Systems"
        ],
        [
         "23",
         "24",
         "2019-01-07",
         "Canada",
         "306",
         "4131.21",
         "Hyperion Systems"
        ],
        [
         "24",
         "25",
         "2019-01-27",
         "Canada",
         "141",
         "9419.58",
         "Initech"
        ],
        [
         "28",
         "29",
         "2019-01-05",
         "Canada",
         "289",
         "5758.91",
         "Soylent Corp"
        ],
        [
         "33",
         "34",
         "2019-01-08",
         "Canada",
         "220",
         "13798.08",
         "Tyrell Corporation"
        ],
        [
         "35",
         "36",
         "2019-01-20",
         "Canada",
         "210",
         "10027.93",
         "Oscorp"
        ]
       ],
       "shape": {
        "columns": 6,
        "rows": 10
       }
      },
      "text/html": [
       "<div>\n",
       "<style scoped>\n",
       "    .dataframe tbody tr th:only-of-type {\n",
       "        vertical-align: middle;\n",
       "    }\n",
       "\n",
       "    .dataframe tbody tr th {\n",
       "        vertical-align: top;\n",
       "    }\n",
       "\n",
       "    .dataframe thead th {\n",
       "        text-align: right;\n",
       "    }\n",
       "</style>\n",
       "<table border=\"1\" class=\"dataframe\">\n",
       "  <thead>\n",
       "    <tr style=\"text-align: right;\">\n",
       "      <th></th>\n",
       "      <th>IdOrder</th>\n",
       "      <th>Date</th>\n",
       "      <th>Country</th>\n",
       "      <th>Units</th>\n",
       "      <th>Revenue</th>\n",
       "      <th>Customer</th>\n",
       "    </tr>\n",
       "  </thead>\n",
       "  <tbody>\n",
       "    <tr>\n",
       "      <th>5</th>\n",
       "      <td>6</td>\n",
       "      <td>2019-01-24</td>\n",
       "      <td>Canada</td>\n",
       "      <td>372</td>\n",
       "      <td>24826.98</td>\n",
       "      <td>Spacely Sprockets</td>\n",
       "    </tr>\n",
       "    <tr>\n",
       "      <th>6</th>\n",
       "      <td>7</td>\n",
       "      <td>2019-01-26</td>\n",
       "      <td>Canada</td>\n",
       "      <td>61</td>\n",
       "      <td>1592.42</td>\n",
       "      <td>BiffCo</td>\n",
       "    </tr>\n",
       "    <tr>\n",
       "      <th>7</th>\n",
       "      <td>8</td>\n",
       "      <td>2019-01-28</td>\n",
       "      <td>Canada</td>\n",
       "      <td>264</td>\n",
       "      <td>3228.11</td>\n",
       "      <td>Delos Incorporated</td>\n",
       "    </tr>\n",
       "    <tr>\n",
       "      <th>8</th>\n",
       "      <td>9</td>\n",
       "      <td>2019-01-13</td>\n",
       "      <td>Canada</td>\n",
       "      <td>27</td>\n",
       "      <td>257.97</td>\n",
       "      <td>Monarch Solutions</td>\n",
       "    </tr>\n",
       "    <tr>\n",
       "      <th>10</th>\n",
       "      <td>11</td>\n",
       "      <td>2019-01-27</td>\n",
       "      <td>Canada</td>\n",
       "      <td>187</td>\n",
       "      <td>4046.31</td>\n",
       "      <td>Yoyodyne Propulsion Systems</td>\n",
       "    </tr>\n",
       "    <tr>\n",
       "      <th>23</th>\n",
       "      <td>24</td>\n",
       "      <td>2019-01-07</td>\n",
       "      <td>Canada</td>\n",
       "      <td>306</td>\n",
       "      <td>4131.21</td>\n",
       "      <td>Hyperion Systems</td>\n",
       "    </tr>\n",
       "    <tr>\n",
       "      <th>24</th>\n",
       "      <td>25</td>\n",
       "      <td>2019-01-27</td>\n",
       "      <td>Canada</td>\n",
       "      <td>141</td>\n",
       "      <td>9419.58</td>\n",
       "      <td>Initech</td>\n",
       "    </tr>\n",
       "    <tr>\n",
       "      <th>28</th>\n",
       "      <td>29</td>\n",
       "      <td>2019-01-05</td>\n",
       "      <td>Canada</td>\n",
       "      <td>289</td>\n",
       "      <td>5758.91</td>\n",
       "      <td>Soylent Corp</td>\n",
       "    </tr>\n",
       "    <tr>\n",
       "      <th>33</th>\n",
       "      <td>34</td>\n",
       "      <td>2019-01-08</td>\n",
       "      <td>Canada</td>\n",
       "      <td>220</td>\n",
       "      <td>13798.08</td>\n",
       "      <td>Tyrell Corporation</td>\n",
       "    </tr>\n",
       "    <tr>\n",
       "      <th>35</th>\n",
       "      <td>36</td>\n",
       "      <td>2019-01-20</td>\n",
       "      <td>Canada</td>\n",
       "      <td>210</td>\n",
       "      <td>10027.93</td>\n",
       "      <td>Oscorp</td>\n",
       "    </tr>\n",
       "  </tbody>\n",
       "</table>\n",
       "</div>"
      ],
      "text/plain": [
       "    IdOrder        Date Country  Units   Revenue                     Customer\n",
       "5         6  2019-01-24  Canada    372  24826.98            Spacely Sprockets\n",
       "6         7  2019-01-26  Canada     61   1592.42                       BiffCo\n",
       "7         8  2019-01-28  Canada    264   3228.11           Delos Incorporated\n",
       "8         9  2019-01-13  Canada     27    257.97            Monarch Solutions\n",
       "10       11  2019-01-27  Canada    187   4046.31  Yoyodyne Propulsion Systems\n",
       "23       24  2019-01-07  Canada    306   4131.21             Hyperion Systems\n",
       "24       25  2019-01-27  Canada    141   9419.58                      Initech\n",
       "28       29  2019-01-05  Canada    289   5758.91                 Soylent Corp\n",
       "33       34  2019-01-08  Canada    220  13798.08           Tyrell Corporation\n",
       "35       36  2019-01-20  Canada    210  10027.93                       Oscorp"
      ]
     },
     "execution_count": 30,
     "metadata": {},
     "output_type": "execute_result"
    }
   ],
   "source": [
    "# la solución del profe\n",
    "# Buscamos la palabra entera sin \"str.contains\"\n",
    "ventas[ventas['Country'] == 'Canada'].head(10)"
   ]
  },
  {
   "cell_type": "markdown",
   "metadata": {},
   "source": [
    "### PRACTICA 30:\n",
    "* Queremos ver en un texto el número de registros cuyo \"IdOrder\" sea mayor de 180."
   ]
  },
  {
   "cell_type": "code",
   "execution_count": 31,
   "metadata": {},
   "outputs": [
    {
     "name": "stdout",
     "output_type": "stream",
     "text": [
      " El número de registros mayor de 180 en IdOrders es: 9\n"
     ]
    }
   ],
   "source": [
    "# primero vamos a genrerar el filtro\n",
    "mayor_180 = ventas[ventas['IdOrder']>180].IdOrder.count()\n",
    "\n",
    "# generamos el texto donde no va a contar el número de IdOrders mayor a 180\n",
    "print(\" El número de registros mayor de 180 en IdOrders es:\",mayor_180)\n"
   ]
  },
  {
   "cell_type": "code",
   "execution_count": 32,
   "metadata": {},
   "outputs": [
    {
     "data": {
      "application/vnd.microsoft.datawrangler.viewer.v0+json": {
       "columns": [
        {
         "name": "index",
         "rawType": "int64",
         "type": "integer"
        },
        {
         "name": "IdOrder",
         "rawType": "int64",
         "type": "integer"
        },
        {
         "name": "Date",
         "rawType": "object",
         "type": "string"
        },
        {
         "name": "Country",
         "rawType": "object",
         "type": "string"
        },
        {
         "name": "Units",
         "rawType": "int64",
         "type": "integer"
        },
        {
         "name": "Revenue",
         "rawType": "float64",
         "type": "float"
        },
        {
         "name": "Customer",
         "rawType": "object",
         "type": "string"
        }
       ],
       "conversionMethod": "pd.DataFrame",
       "ref": "a569c536-3340-4d47-a7bd-3544036f3fb5",
       "rows": [
        [
         "0",
         "1",
         "2019-01-08",
         "USA",
         "343",
         "15461.36",
         "Octan Corporation"
        ],
        [
         "1",
         "2",
         "2019-01-04",
         "Panama",
         "93",
         "4681.26",
         "Rich Industries"
        ],
        [
         "3",
         "4",
         "2019-01-16",
         "Brazil",
         "103",
         "1853.78",
         "Hexagon Global"
        ],
        [
         "5",
         "6",
         "2019-01-24",
         "Canada",
         "372",
         "24826.98",
         "Spacely Sprockets"
        ],
        [
         "9",
         "10",
         "2019-01-28",
         "Brazil",
         "323",
         "3024.25",
         "Hooli"
        ],
        [
         "10",
         "11",
         "2019-01-27",
         "Canada",
         "187",
         "4046.31",
         "Yoyodyne Propulsion Systems"
        ],
        [
         "14",
         "15",
         "2019-01-04",
         "Brazil",
         "271",
         "1726.7",
         "Acme Corp"
        ],
        [
         "15",
         "16",
         "2019-01-19",
         "Panama",
         "288",
         "4532.62",
         "Nakatomi Trading"
        ],
        [
         "16",
         "17",
         "2019-01-15",
         "Colombia",
         "392",
         "16229.64",
         "Cyberdyne Systems"
        ],
        [
         "19",
         "20",
         "2019-01-03",
         "Brazil",
         "377",
         "30840.25",
         "Virtucon"
        ],
        [
         "20",
         "21",
         "2019-01-11",
         "Colombia",
         "175",
         "7841.01",
         "BiffCo"
        ],
        [
         "21",
         "22",
         "2019-01-05",
         "USA",
         "279",
         "12881.19",
         "Wayne Enterprises"
        ],
        [
         "22",
         "23",
         "2019-01-23",
         "USA",
         "165",
         "8996.57",
         "Dunder Mifflin"
        ],
        [
         "23",
         "24",
         "2019-01-07",
         "Canada",
         "306",
         "4131.21",
         "Hyperion Systems"
        ],
        [
         "24",
         "25",
         "2019-01-27",
         "Canada",
         "141",
         "9419.58",
         "Initech"
        ],
        [
         "26",
         "27",
         "2019-01-27",
         "USA",
         "264",
         "23353.44",
         "Octan Corporation"
        ],
        [
         "27",
         "28",
         "2019-01-13",
         "Brazil",
         "274",
         "1783.08",
         "Globex Corporation"
        ],
        [
         "28",
         "29",
         "2019-01-05",
         "Canada",
         "289",
         "5758.91",
         "Soylent Corp"
        ],
        [
         "29",
         "30",
         "2019-01-17",
         "USA",
         "298",
         "14543.85",
         "BiffCo"
        ],
        [
         "31",
         "32",
         "2019-01-12",
         "Colombia",
         "175",
         "5058.76",
         "Soylent Corp"
        ],
        [
         "33",
         "34",
         "2019-01-08",
         "Canada",
         "220",
         "13798.08",
         "Tyrell Corporation"
        ],
        [
         "35",
         "36",
         "2019-01-20",
         "Canada",
         "210",
         "10027.93",
         "Oscorp"
        ],
        [
         "37",
         "38",
         "2019-01-27",
         "Canada",
         "389",
         "10312.46",
         "Vandelay Industries"
        ],
        [
         "38",
         "39",
         "2019-01-23",
         "Brazil",
         "85",
         "917.27",
         "Nakatomi Trading"
        ],
        [
         "39",
         "40",
         "2019-01-25",
         "Canada",
         "371",
         "20234.08",
         "Abstergo Industries"
        ],
        [
         "40",
         "41",
         "2019-01-21",
         "USA",
         "291",
         "9371.43",
         "Vought International"
        ],
        [
         "41",
         "42",
         "2019-01-11",
         "Panama",
         "208",
         "6117.4",
         "Oscorp"
        ],
        [
         "43",
         "44",
         "2019-01-08",
         "USA",
         "322",
         "15965.02",
         "Stark Industries"
        ],
        [
         "45",
         "46",
         "2019-01-13",
         "Colombia",
         "392",
         "6784.39",
         "ZikZak Corporation"
        ],
        [
         "46",
         "47",
         "2019-01-23",
         "Colombia",
         "300",
         "9966.59",
         "Tyrell Corporation"
        ],
        [
         "47",
         "48",
         "2019-01-23",
         "Colombia",
         "364",
         "20913.82",
         "Kobra International"
        ],
        [
         "48",
         "49",
         "2019-01-30",
         "Canada",
         "336",
         "4044.39",
         "Hexagon Global"
        ],
        [
         "49",
         "50",
         "2019-01-11",
         "Canada",
         "259",
         "8694.91",
         "Vandelay Industries"
        ],
        [
         "50",
         "51",
         "2019-01-18",
         "Canada",
         "359",
         "21394.85",
         "ZikZak Corporation"
        ],
        [
         "51",
         "52",
         "2019-01-01",
         "Brazil",
         "86",
         "1264.87",
         "Hyperion Systems"
        ],
        [
         "53",
         "54",
         "2019-01-20",
         "Panama",
         "137",
         "5174.79",
         "Dunder Mifflin"
        ],
        [
         "57",
         "58",
         "2019-01-29",
         "Panama",
         "147",
         "9196.82",
         "Tyrell Corporation"
        ],
        [
         "58",
         "59",
         "2019-01-23",
         "Colombia",
         "339",
         "4722.76",
         "BiffCo"
        ],
        [
         "59",
         "60",
         "2019-01-04",
         "USA",
         "309",
         "6694.46",
         "Zorin Industries"
        ],
        [
         "65",
         "66",
         "2019-01-30",
         "USA",
         "309",
         "21044.26",
         "OCP"
        ],
        [
         "66",
         "67",
         "2019-01-01",
         "Canada",
         "307",
         "16448.55",
         "Weyland-Yutani"
        ],
        [
         "67",
         "68",
         "2019-01-01",
         "USA",
         "295",
         "10000.97",
         "Umbrella Corp"
        ],
        [
         "68",
         "69",
         "2019-01-07",
         "Panama",
         "148",
         "10357.14",
         "Massive Dynamic"
        ],
        [
         "69",
         "70",
         "2019-01-25",
         "Panama",
         "334",
         "7348.69",
         "LexCorp"
        ],
        [
         "70",
         "71",
         "2019-01-11",
         "Colombia",
         "313",
         "11018.25",
         "Rich Industries"
        ],
        [
         "71",
         "72",
         "2019-01-26",
         "USA",
         "275",
         "4108.86",
         "Soylent Corp"
        ],
        [
         "72",
         "73",
         "2019-01-11",
         "USA",
         "138",
         "7199.14",
         "Weyland-Yutani"
        ],
        [
         "73",
         "74",
         "2019-01-19",
         "Brazil",
         "252",
         "3449.39",
         "Soylent Corp"
        ],
        [
         "74",
         "75",
         "2019-01-28",
         "USA",
         "398",
         "16280.66",
         "Stark Industries"
        ],
        [
         "75",
         "76",
         "2019-01-24",
         "Brazil",
         "364",
         "13878.72",
         "Rich Industries"
        ]
       ],
       "shape": {
        "columns": 6,
        "rows": 130
       }
      },
      "text/html": [
       "<div>\n",
       "<style scoped>\n",
       "    .dataframe tbody tr th:only-of-type {\n",
       "        vertical-align: middle;\n",
       "    }\n",
       "\n",
       "    .dataframe tbody tr th {\n",
       "        vertical-align: top;\n",
       "    }\n",
       "\n",
       "    .dataframe thead th {\n",
       "        text-align: right;\n",
       "    }\n",
       "</style>\n",
       "<table border=\"1\" class=\"dataframe\">\n",
       "  <thead>\n",
       "    <tr style=\"text-align: right;\">\n",
       "      <th></th>\n",
       "      <th>IdOrder</th>\n",
       "      <th>Date</th>\n",
       "      <th>Country</th>\n",
       "      <th>Units</th>\n",
       "      <th>Revenue</th>\n",
       "      <th>Customer</th>\n",
       "    </tr>\n",
       "  </thead>\n",
       "  <tbody>\n",
       "    <tr>\n",
       "      <th>0</th>\n",
       "      <td>1</td>\n",
       "      <td>2019-01-08</td>\n",
       "      <td>USA</td>\n",
       "      <td>343</td>\n",
       "      <td>15461.36</td>\n",
       "      <td>Octan Corporation</td>\n",
       "    </tr>\n",
       "    <tr>\n",
       "      <th>1</th>\n",
       "      <td>2</td>\n",
       "      <td>2019-01-04</td>\n",
       "      <td>Panama</td>\n",
       "      <td>93</td>\n",
       "      <td>4681.26</td>\n",
       "      <td>Rich Industries</td>\n",
       "    </tr>\n",
       "    <tr>\n",
       "      <th>3</th>\n",
       "      <td>4</td>\n",
       "      <td>2019-01-16</td>\n",
       "      <td>Brazil</td>\n",
       "      <td>103</td>\n",
       "      <td>1853.78</td>\n",
       "      <td>Hexagon Global</td>\n",
       "    </tr>\n",
       "    <tr>\n",
       "      <th>5</th>\n",
       "      <td>6</td>\n",
       "      <td>2019-01-24</td>\n",
       "      <td>Canada</td>\n",
       "      <td>372</td>\n",
       "      <td>24826.98</td>\n",
       "      <td>Spacely Sprockets</td>\n",
       "    </tr>\n",
       "    <tr>\n",
       "      <th>9</th>\n",
       "      <td>10</td>\n",
       "      <td>2019-01-28</td>\n",
       "      <td>Brazil</td>\n",
       "      <td>323</td>\n",
       "      <td>3024.25</td>\n",
       "      <td>Hooli</td>\n",
       "    </tr>\n",
       "    <tr>\n",
       "      <th>...</th>\n",
       "      <td>...</td>\n",
       "      <td>...</td>\n",
       "      <td>...</td>\n",
       "      <td>...</td>\n",
       "      <td>...</td>\n",
       "      <td>...</td>\n",
       "    </tr>\n",
       "    <tr>\n",
       "      <th>183</th>\n",
       "      <td>184</td>\n",
       "      <td>2019-01-03</td>\n",
       "      <td>Canada</td>\n",
       "      <td>263</td>\n",
       "      <td>10726.25</td>\n",
       "      <td>BiffCo</td>\n",
       "    </tr>\n",
       "    <tr>\n",
       "      <th>184</th>\n",
       "      <td>185</td>\n",
       "      <td>2019-01-25</td>\n",
       "      <td>USA</td>\n",
       "      <td>337</td>\n",
       "      <td>4352.75</td>\n",
       "      <td>Octan Corporation</td>\n",
       "    </tr>\n",
       "    <tr>\n",
       "      <th>186</th>\n",
       "      <td>187</td>\n",
       "      <td>2019-01-14</td>\n",
       "      <td>Brazil</td>\n",
       "      <td>214</td>\n",
       "      <td>12188.36</td>\n",
       "      <td>Hexagon Global</td>\n",
       "    </tr>\n",
       "    <tr>\n",
       "      <th>187</th>\n",
       "      <td>188</td>\n",
       "      <td>2019-01-12</td>\n",
       "      <td>Colombia</td>\n",
       "      <td>102</td>\n",
       "      <td>6566.51</td>\n",
       "      <td>Octan Corporation</td>\n",
       "    </tr>\n",
       "    <tr>\n",
       "      <th>188</th>\n",
       "      <td>189</td>\n",
       "      <td>2019-01-26</td>\n",
       "      <td>Panama</td>\n",
       "      <td>77</td>\n",
       "      <td>5103.71</td>\n",
       "      <td>Hexagon Global</td>\n",
       "    </tr>\n",
       "  </tbody>\n",
       "</table>\n",
       "<p>130 rows × 6 columns</p>\n",
       "</div>"
      ],
      "text/plain": [
       "     IdOrder        Date   Country  Units   Revenue           Customer\n",
       "0          1  2019-01-08       USA    343  15461.36  Octan Corporation\n",
       "1          2  2019-01-04    Panama     93   4681.26    Rich Industries\n",
       "3          4  2019-01-16    Brazil    103   1853.78     Hexagon Global\n",
       "5          6  2019-01-24    Canada    372  24826.98  Spacely Sprockets\n",
       "9         10  2019-01-28    Brazil    323   3024.25              Hooli\n",
       "..       ...         ...       ...    ...       ...                ...\n",
       "183      184  2019-01-03    Canada    263  10726.25             BiffCo\n",
       "184      185  2019-01-25       USA    337   4352.75  Octan Corporation\n",
       "186      187  2019-01-14    Brazil    214  12188.36     Hexagon Global\n",
       "187      188  2019-01-12  Colombia    102   6566.51  Octan Corporation\n",
       "188      189  2019-01-26    Panama     77   5103.71     Hexagon Global\n",
       "\n",
       "[130 rows x 6 columns]"
      ]
     },
     "execution_count": 32,
     "metadata": {},
     "output_type": "execute_result"
    }
   ],
   "source": [
    "# Cómo aplicar más de una condición en el filtro, usaremos los operadores de lógica\n",
    "# El OR = | (opt + 1)devuelve verdadero si se cumple una sola de las condiciones que se analizan\n",
    "# si no se cumple ninguna devuelve False\n",
    "# El AND = & (mayus + 6)devuelve verdadero si se cumplen todas las condiciones que se analizan\n",
    "# si hay una sola que no se cumple, devuelve False\n",
    "# Ver los registros que son de 'Basil' o de 'Panamá'\n",
    "ventas[(ventas['Country'] == 'Brazil') | (ventas['Country'] == 'Panama')] # va entre parentesis la operación lógica\n",
    "\n",
    "#Ver los registros que son de Brazil o que el Revenue sea mayor de 4000\n",
    "ventas[(ventas['Country'] == 'Brazil') | (ventas['Revenue']> 4000)] # muestra los registros mientras se cumpla una de las dos condiciones"
   ]
  },
  {
   "cell_type": "code",
   "execution_count": 33,
   "metadata": {},
   "outputs": [
    {
     "data": {
      "application/vnd.microsoft.datawrangler.viewer.v0+json": {
       "columns": [
        {
         "name": "index",
         "rawType": "int64",
         "type": "integer"
        },
        {
         "name": "IdOrder",
         "rawType": "int64",
         "type": "integer"
        },
        {
         "name": "Date",
         "rawType": "object",
         "type": "string"
        },
        {
         "name": "Country",
         "rawType": "object",
         "type": "string"
        },
        {
         "name": "Units",
         "rawType": "int64",
         "type": "integer"
        },
        {
         "name": "Revenue",
         "rawType": "float64",
         "type": "float"
        },
        {
         "name": "Customer",
         "rawType": "object",
         "type": "string"
        }
       ],
       "conversionMethod": "pd.DataFrame",
       "ref": "17f043ed-417c-465e-b0d3-ab9c7c315150",
       "rows": [
        [
         "9",
         "10",
         "2019-01-28",
         "Brazil",
         "323",
         "3024.25",
         "Hooli"
        ],
        [
         "19",
         "20",
         "2019-01-03",
         "Brazil",
         "377",
         "30840.25",
         "Virtucon"
        ],
        [
         "73",
         "74",
         "2019-01-19",
         "Brazil",
         "252",
         "3449.39",
         "Soylent Corp"
        ],
        [
         "75",
         "76",
         "2019-01-24",
         "Brazil",
         "364",
         "13878.72",
         "Rich Industries"
        ],
        [
         "81",
         "82",
         "2019-01-22",
         "Brazil",
         "43",
         "2723.93",
         "Vandelay Industries"
        ],
        [
         "95",
         "96",
         "2019-01-06",
         "Brazil",
         "240",
         "6998.14",
         "Nakatomi Trading"
        ],
        [
         "99",
         "100",
         "2019-01-05",
         "Brazil",
         "217",
         "10063.03",
         "MomCorp"
        ],
        [
         "102",
         "103",
         "2019-01-27",
         "Brazil",
         "199",
         "7349.02",
         "OCP"
        ],
        [
         "106",
         "107",
         "2019-01-05",
         "Brazil",
         "383",
         "11854.56",
         "Octan Corporation"
        ],
        [
         "107",
         "108",
         "2019-01-12",
         "Brazil",
         "258",
         "12418.27",
         "Oscorp"
        ],
        [
         "115",
         "116",
         "2019-01-18",
         "Brazil",
         "399",
         "18504.17",
         "Stark Industries"
        ],
        [
         "133",
         "134",
         "2019-01-10",
         "Brazil",
         "218",
         "8645.21",
         "Globex Corporation"
        ],
        [
         "140",
         "141",
         "2019-01-22",
         "Brazil",
         "243",
         "8414.59",
         "Nakatomi Trading"
        ],
        [
         "141",
         "142",
         "2019-01-30",
         "Brazil",
         "124",
         "3730.43",
         "Kobra International"
        ],
        [
         "142",
         "143",
         "2019-01-05",
         "Brazil",
         "343",
         "18184.36",
         "Blue Sun Corporation"
        ],
        [
         "153",
         "154",
         "2019-01-14",
         "Brazil",
         "89",
         "2876.46",
         "Hexagon Global"
        ],
        [
         "160",
         "161",
         "2019-01-17",
         "Brazil",
         "300",
         "15400.77",
         "MomCorp"
        ],
        [
         "168",
         "169",
         "2019-01-15",
         "Brazil",
         "334",
         "5471.35",
         "Oscorp"
        ],
        [
         "169",
         "170",
         "2019-01-18",
         "Brazil",
         "345",
         "5889.58",
         "Globex Corporation"
        ],
        [
         "178",
         "179",
         "2019-01-19",
         "Brazil",
         "318",
         "11343.74",
         "Hooli"
        ],
        [
         "180",
         "181",
         "2019-01-22",
         "Brazil",
         "347",
         "2855.54",
         "Wonka Industries"
        ],
        [
         "181",
         "182",
         "2019-01-17",
         "Brazil",
         "300",
         "14911.08",
         "Stark Industries"
        ],
        [
         "186",
         "187",
         "2019-01-14",
         "Brazil",
         "214",
         "12188.36",
         "Hexagon Global"
        ]
       ],
       "shape": {
        "columns": 6,
        "rows": 23
       }
      },
      "text/html": [
       "<div>\n",
       "<style scoped>\n",
       "    .dataframe tbody tr th:only-of-type {\n",
       "        vertical-align: middle;\n",
       "    }\n",
       "\n",
       "    .dataframe tbody tr th {\n",
       "        vertical-align: top;\n",
       "    }\n",
       "\n",
       "    .dataframe thead th {\n",
       "        text-align: right;\n",
       "    }\n",
       "</style>\n",
       "<table border=\"1\" class=\"dataframe\">\n",
       "  <thead>\n",
       "    <tr style=\"text-align: right;\">\n",
       "      <th></th>\n",
       "      <th>IdOrder</th>\n",
       "      <th>Date</th>\n",
       "      <th>Country</th>\n",
       "      <th>Units</th>\n",
       "      <th>Revenue</th>\n",
       "      <th>Customer</th>\n",
       "    </tr>\n",
       "  </thead>\n",
       "  <tbody>\n",
       "    <tr>\n",
       "      <th>9</th>\n",
       "      <td>10</td>\n",
       "      <td>2019-01-28</td>\n",
       "      <td>Brazil</td>\n",
       "      <td>323</td>\n",
       "      <td>3024.25</td>\n",
       "      <td>Hooli</td>\n",
       "    </tr>\n",
       "    <tr>\n",
       "      <th>19</th>\n",
       "      <td>20</td>\n",
       "      <td>2019-01-03</td>\n",
       "      <td>Brazil</td>\n",
       "      <td>377</td>\n",
       "      <td>30840.25</td>\n",
       "      <td>Virtucon</td>\n",
       "    </tr>\n",
       "    <tr>\n",
       "      <th>73</th>\n",
       "      <td>74</td>\n",
       "      <td>2019-01-19</td>\n",
       "      <td>Brazil</td>\n",
       "      <td>252</td>\n",
       "      <td>3449.39</td>\n",
       "      <td>Soylent Corp</td>\n",
       "    </tr>\n",
       "    <tr>\n",
       "      <th>75</th>\n",
       "      <td>76</td>\n",
       "      <td>2019-01-24</td>\n",
       "      <td>Brazil</td>\n",
       "      <td>364</td>\n",
       "      <td>13878.72</td>\n",
       "      <td>Rich Industries</td>\n",
       "    </tr>\n",
       "    <tr>\n",
       "      <th>81</th>\n",
       "      <td>82</td>\n",
       "      <td>2019-01-22</td>\n",
       "      <td>Brazil</td>\n",
       "      <td>43</td>\n",
       "      <td>2723.93</td>\n",
       "      <td>Vandelay Industries</td>\n",
       "    </tr>\n",
       "    <tr>\n",
       "      <th>95</th>\n",
       "      <td>96</td>\n",
       "      <td>2019-01-06</td>\n",
       "      <td>Brazil</td>\n",
       "      <td>240</td>\n",
       "      <td>6998.14</td>\n",
       "      <td>Nakatomi Trading</td>\n",
       "    </tr>\n",
       "    <tr>\n",
       "      <th>99</th>\n",
       "      <td>100</td>\n",
       "      <td>2019-01-05</td>\n",
       "      <td>Brazil</td>\n",
       "      <td>217</td>\n",
       "      <td>10063.03</td>\n",
       "      <td>MomCorp</td>\n",
       "    </tr>\n",
       "    <tr>\n",
       "      <th>102</th>\n",
       "      <td>103</td>\n",
       "      <td>2019-01-27</td>\n",
       "      <td>Brazil</td>\n",
       "      <td>199</td>\n",
       "      <td>7349.02</td>\n",
       "      <td>OCP</td>\n",
       "    </tr>\n",
       "    <tr>\n",
       "      <th>106</th>\n",
       "      <td>107</td>\n",
       "      <td>2019-01-05</td>\n",
       "      <td>Brazil</td>\n",
       "      <td>383</td>\n",
       "      <td>11854.56</td>\n",
       "      <td>Octan Corporation</td>\n",
       "    </tr>\n",
       "    <tr>\n",
       "      <th>107</th>\n",
       "      <td>108</td>\n",
       "      <td>2019-01-12</td>\n",
       "      <td>Brazil</td>\n",
       "      <td>258</td>\n",
       "      <td>12418.27</td>\n",
       "      <td>Oscorp</td>\n",
       "    </tr>\n",
       "    <tr>\n",
       "      <th>115</th>\n",
       "      <td>116</td>\n",
       "      <td>2019-01-18</td>\n",
       "      <td>Brazil</td>\n",
       "      <td>399</td>\n",
       "      <td>18504.17</td>\n",
       "      <td>Stark Industries</td>\n",
       "    </tr>\n",
       "    <tr>\n",
       "      <th>133</th>\n",
       "      <td>134</td>\n",
       "      <td>2019-01-10</td>\n",
       "      <td>Brazil</td>\n",
       "      <td>218</td>\n",
       "      <td>8645.21</td>\n",
       "      <td>Globex Corporation</td>\n",
       "    </tr>\n",
       "    <tr>\n",
       "      <th>140</th>\n",
       "      <td>141</td>\n",
       "      <td>2019-01-22</td>\n",
       "      <td>Brazil</td>\n",
       "      <td>243</td>\n",
       "      <td>8414.59</td>\n",
       "      <td>Nakatomi Trading</td>\n",
       "    </tr>\n",
       "    <tr>\n",
       "      <th>141</th>\n",
       "      <td>142</td>\n",
       "      <td>2019-01-30</td>\n",
       "      <td>Brazil</td>\n",
       "      <td>124</td>\n",
       "      <td>3730.43</td>\n",
       "      <td>Kobra International</td>\n",
       "    </tr>\n",
       "    <tr>\n",
       "      <th>142</th>\n",
       "      <td>143</td>\n",
       "      <td>2019-01-05</td>\n",
       "      <td>Brazil</td>\n",
       "      <td>343</td>\n",
       "      <td>18184.36</td>\n",
       "      <td>Blue Sun Corporation</td>\n",
       "    </tr>\n",
       "    <tr>\n",
       "      <th>153</th>\n",
       "      <td>154</td>\n",
       "      <td>2019-01-14</td>\n",
       "      <td>Brazil</td>\n",
       "      <td>89</td>\n",
       "      <td>2876.46</td>\n",
       "      <td>Hexagon Global</td>\n",
       "    </tr>\n",
       "    <tr>\n",
       "      <th>160</th>\n",
       "      <td>161</td>\n",
       "      <td>2019-01-17</td>\n",
       "      <td>Brazil</td>\n",
       "      <td>300</td>\n",
       "      <td>15400.77</td>\n",
       "      <td>MomCorp</td>\n",
       "    </tr>\n",
       "    <tr>\n",
       "      <th>168</th>\n",
       "      <td>169</td>\n",
       "      <td>2019-01-15</td>\n",
       "      <td>Brazil</td>\n",
       "      <td>334</td>\n",
       "      <td>5471.35</td>\n",
       "      <td>Oscorp</td>\n",
       "    </tr>\n",
       "    <tr>\n",
       "      <th>169</th>\n",
       "      <td>170</td>\n",
       "      <td>2019-01-18</td>\n",
       "      <td>Brazil</td>\n",
       "      <td>345</td>\n",
       "      <td>5889.58</td>\n",
       "      <td>Globex Corporation</td>\n",
       "    </tr>\n",
       "    <tr>\n",
       "      <th>178</th>\n",
       "      <td>179</td>\n",
       "      <td>2019-01-19</td>\n",
       "      <td>Brazil</td>\n",
       "      <td>318</td>\n",
       "      <td>11343.74</td>\n",
       "      <td>Hooli</td>\n",
       "    </tr>\n",
       "    <tr>\n",
       "      <th>180</th>\n",
       "      <td>181</td>\n",
       "      <td>2019-01-22</td>\n",
       "      <td>Brazil</td>\n",
       "      <td>347</td>\n",
       "      <td>2855.54</td>\n",
       "      <td>Wonka Industries</td>\n",
       "    </tr>\n",
       "    <tr>\n",
       "      <th>181</th>\n",
       "      <td>182</td>\n",
       "      <td>2019-01-17</td>\n",
       "      <td>Brazil</td>\n",
       "      <td>300</td>\n",
       "      <td>14911.08</td>\n",
       "      <td>Stark Industries</td>\n",
       "    </tr>\n",
       "    <tr>\n",
       "      <th>186</th>\n",
       "      <td>187</td>\n",
       "      <td>2019-01-14</td>\n",
       "      <td>Brazil</td>\n",
       "      <td>214</td>\n",
       "      <td>12188.36</td>\n",
       "      <td>Hexagon Global</td>\n",
       "    </tr>\n",
       "  </tbody>\n",
       "</table>\n",
       "</div>"
      ],
      "text/plain": [
       "     IdOrder        Date Country  Units   Revenue              Customer\n",
       "9         10  2019-01-28  Brazil    323   3024.25                 Hooli\n",
       "19        20  2019-01-03  Brazil    377  30840.25              Virtucon\n",
       "73        74  2019-01-19  Brazil    252   3449.39          Soylent Corp\n",
       "75        76  2019-01-24  Brazil    364  13878.72       Rich Industries\n",
       "81        82  2019-01-22  Brazil     43   2723.93   Vandelay Industries\n",
       "95        96  2019-01-06  Brazil    240   6998.14      Nakatomi Trading\n",
       "99       100  2019-01-05  Brazil    217  10063.03               MomCorp\n",
       "102      103  2019-01-27  Brazil    199   7349.02                   OCP\n",
       "106      107  2019-01-05  Brazil    383  11854.56     Octan Corporation\n",
       "107      108  2019-01-12  Brazil    258  12418.27                Oscorp\n",
       "115      116  2019-01-18  Brazil    399  18504.17      Stark Industries\n",
       "133      134  2019-01-10  Brazil    218   8645.21    Globex Corporation\n",
       "140      141  2019-01-22  Brazil    243   8414.59      Nakatomi Trading\n",
       "141      142  2019-01-30  Brazil    124   3730.43   Kobra International\n",
       "142      143  2019-01-05  Brazil    343  18184.36  Blue Sun Corporation\n",
       "153      154  2019-01-14  Brazil     89   2876.46        Hexagon Global\n",
       "160      161  2019-01-17  Brazil    300  15400.77               MomCorp\n",
       "168      169  2019-01-15  Brazil    334   5471.35                Oscorp\n",
       "169      170  2019-01-18  Brazil    345   5889.58    Globex Corporation\n",
       "178      179  2019-01-19  Brazil    318  11343.74                 Hooli\n",
       "180      181  2019-01-22  Brazil    347   2855.54      Wonka Industries\n",
       "181      182  2019-01-17  Brazil    300  14911.08      Stark Industries\n",
       "186      187  2019-01-14  Brazil    214  12188.36        Hexagon Global"
      ]
     },
     "execution_count": 33,
     "metadata": {},
     "output_type": "execute_result"
    }
   ],
   "source": [
    "# Ver los registros qu cumplen dos registros de Brazil y qeu ademas el 'revenue' sea mayor de 2000 \n",
    "ventas[(ventas['Country'] == 'Brazil') & (ventas['Revenue']> 2000)] # muestra las dos condiciones\n"
   ]
  },
  {
   "cell_type": "code",
   "execution_count": 35,
   "metadata": {},
   "outputs": [
    {
     "data": {
      "application/vnd.microsoft.datawrangler.viewer.v0+json": {
       "columns": [
        {
         "name": "index",
         "rawType": "int64",
         "type": "integer"
        },
        {
         "name": "IdOrder",
         "rawType": "int64",
         "type": "integer"
        },
        {
         "name": "Date",
         "rawType": "object",
         "type": "string"
        },
        {
         "name": "Country",
         "rawType": "object",
         "type": "string"
        },
        {
         "name": "Units",
         "rawType": "int64",
         "type": "integer"
        },
        {
         "name": "Revenue",
         "rawType": "float64",
         "type": "float"
        },
        {
         "name": "Customer",
         "rawType": "object",
         "type": "string"
        }
       ],
       "conversionMethod": "pd.DataFrame",
       "ref": "e879a799-64c2-4035-a016-3c6fdd2f3597",
       "rows": [
        [
         "31",
         "32",
         "2019-01-12",
         "Colombia",
         "175",
         "5058.76",
         "Soylent Corp"
        ],
        [
         "188",
         "189",
         "2019-01-26",
         "Panama",
         "77",
         "5103.71",
         "Hexagon Global"
        ],
        [
         "53",
         "54",
         "2019-01-20",
         "Panama",
         "137",
         "5174.79",
         "Dunder Mifflin"
        ],
        [
         "168",
         "169",
         "2019-01-15",
         "Brazil",
         "334",
         "5471.35",
         "Oscorp"
        ],
        [
         "161",
         "162",
         "2019-01-28",
         "Canada",
         "371",
         "5661.27",
         "Stark Industries"
        ],
        [
         "128",
         "129",
         "2019-01-01",
         "Panama",
         "310",
         "5679.56",
         "Encom"
        ],
        [
         "134",
         "135",
         "2019-01-28",
         "Canada",
         "338",
         "5728.72",
         "Hooli"
        ],
        [
         "121",
         "122",
         "2019-01-08",
         "USA",
         "396",
         "5744.25",
         "Monarch Solutions"
        ],
        [
         "28",
         "29",
         "2019-01-05",
         "Canada",
         "289",
         "5758.91",
         "Soylent Corp"
        ],
        [
         "169",
         "170",
         "2019-01-18",
         "Brazil",
         "345",
         "5889.58",
         "Globex Corporation"
        ],
        [
         "138",
         "139",
         "2019-01-04",
         "Colombia",
         "350",
         "6070.06",
         "Wayne Enterprises"
        ],
        [
         "41",
         "42",
         "2019-01-11",
         "Panama",
         "208",
         "6117.4",
         "Oscorp"
        ],
        [
         "145",
         "146",
         "2019-01-16",
         "Canada",
         "322",
         "6263.05",
         "Oscorp"
        ],
        [
         "114",
         "115",
         "2019-01-24",
         "Canada",
         "158",
         "6457.92",
         "Monarch Solutions"
        ],
        [
         "187",
         "188",
         "2019-01-12",
         "Colombia",
         "102",
         "6566.51",
         "Octan Corporation"
        ],
        [
         "59",
         "60",
         "2019-01-04",
         "USA",
         "309",
         "6694.46",
         "Zorin Industries"
        ],
        [
         "45",
         "46",
         "2019-01-13",
         "Colombia",
         "392",
         "6784.39",
         "ZikZak Corporation"
        ],
        [
         "95",
         "96",
         "2019-01-06",
         "Brazil",
         "240",
         "6998.14",
         "Nakatomi Trading"
        ],
        [
         "72",
         "73",
         "2019-01-11",
         "USA",
         "138",
         "7199.14",
         "Weyland-Yutani"
        ],
        [
         "69",
         "70",
         "2019-01-25",
         "Panama",
         "334",
         "7348.69",
         "LexCorp"
        ],
        [
         "102",
         "103",
         "2019-01-27",
         "Brazil",
         "199",
         "7349.02",
         "OCP"
        ],
        [
         "103",
         "104",
         "2019-01-11",
         "Panama",
         "190",
         "7837.78",
         "Delos Incorporated"
        ],
        [
         "20",
         "21",
         "2019-01-11",
         "Colombia",
         "175",
         "7841.01",
         "BiffCo"
        ],
        [
         "140",
         "141",
         "2019-01-22",
         "Brazil",
         "243",
         "8414.59",
         "Nakatomi Trading"
        ],
        [
         "119",
         "120",
         "2019-01-31",
         "Colombia",
         "150",
         "8611.82",
         "Hooli"
        ],
        [
         "110",
         "111",
         "2019-01-06",
         "Colombia",
         "236",
         "8619.95",
         "Hexagon Global"
        ],
        [
         "133",
         "134",
         "2019-01-10",
         "Brazil",
         "218",
         "8645.21",
         "Globex Corporation"
        ],
        [
         "49",
         "50",
         "2019-01-11",
         "Canada",
         "259",
         "8694.91",
         "Vandelay Industries"
        ],
        [
         "152",
         "153",
         "2019-01-23",
         "Panama",
         "212",
         "8763.35",
         "Cyberdyne Systems"
        ],
        [
         "92",
         "93",
         "2019-01-19",
         "USA",
         "311",
         "8899.8",
         "Globex Corporation"
        ],
        [
         "22",
         "23",
         "2019-01-23",
         "USA",
         "165",
         "8996.57",
         "Dunder Mifflin"
        ],
        [
         "57",
         "58",
         "2019-01-29",
         "Panama",
         "147",
         "9196.82",
         "Tyrell Corporation"
        ],
        [
         "40",
         "41",
         "2019-01-21",
         "USA",
         "291",
         "9371.43",
         "Vought International"
        ],
        [
         "24",
         "25",
         "2019-01-27",
         "Canada",
         "141",
         "9419.58",
         "Initech"
        ],
        [
         "157",
         "158",
         "2019-01-13",
         "Colombia",
         "395",
         "9533.13",
         "Abstergo Industries"
        ],
        [
         "156",
         "157",
         "2019-01-03",
         "USA",
         "297",
         "9544.35",
         "Blue Sun Corporation"
        ],
        [
         "171",
         "172",
         "2019-01-13",
         "Canada",
         "241",
         "9846.49",
         "Massive Dynamic"
        ],
        [
         "46",
         "47",
         "2019-01-23",
         "Colombia",
         "300",
         "9966.59",
         "Tyrell Corporation"
        ],
        [
         "67",
         "68",
         "2019-01-01",
         "USA",
         "295",
         "10000.97",
         "Umbrella Corp"
        ],
        [
         "35",
         "36",
         "2019-01-20",
         "Canada",
         "210",
         "10027.93",
         "Oscorp"
        ],
        [
         "99",
         "100",
         "2019-01-05",
         "Brazil",
         "217",
         "10063.03",
         "MomCorp"
        ],
        [
         "132",
         "133",
         "2019-01-24",
         "Panama",
         "146",
         "10130.0",
         "Cyberdyne Systems"
        ],
        [
         "166",
         "167",
         "2019-01-22",
         "Panama",
         "387",
         "10165.37",
         "Wonka Industries"
        ],
        [
         "37",
         "38",
         "2019-01-27",
         "Canada",
         "389",
         "10312.46",
         "Vandelay Industries"
        ],
        [
         "68",
         "69",
         "2019-01-07",
         "Panama",
         "148",
         "10357.14",
         "Massive Dynamic"
        ],
        [
         "127",
         "128",
         "2019-01-04",
         "USA",
         "330",
         "10523.01",
         "Yoyodyne Propulsion Systems"
        ],
        [
         "173",
         "174",
         "2019-01-14",
         "Colombia",
         "328",
         "10576.82",
         "Tyrell Corporation"
        ],
        [
         "183",
         "184",
         "2019-01-03",
         "Canada",
         "263",
         "10726.25",
         "BiffCo"
        ],
        [
         "70",
         "71",
         "2019-01-11",
         "Colombia",
         "313",
         "11018.25",
         "Rich Industries"
        ],
        [
         "149",
         "150",
         "2019-01-09",
         "Panama",
         "237",
         "11190.45",
         "Kobra International"
        ]
       ],
       "shape": {
        "columns": 6,
        "rows": 66
       }
      },
      "text/html": [
       "<div>\n",
       "<style scoped>\n",
       "    .dataframe tbody tr th:only-of-type {\n",
       "        vertical-align: middle;\n",
       "    }\n",
       "\n",
       "    .dataframe tbody tr th {\n",
       "        vertical-align: top;\n",
       "    }\n",
       "\n",
       "    .dataframe thead th {\n",
       "        text-align: right;\n",
       "    }\n",
       "</style>\n",
       "<table border=\"1\" class=\"dataframe\">\n",
       "  <thead>\n",
       "    <tr style=\"text-align: right;\">\n",
       "      <th></th>\n",
       "      <th>IdOrder</th>\n",
       "      <th>Date</th>\n",
       "      <th>Country</th>\n",
       "      <th>Units</th>\n",
       "      <th>Revenue</th>\n",
       "      <th>Customer</th>\n",
       "    </tr>\n",
       "  </thead>\n",
       "  <tbody>\n",
       "    <tr>\n",
       "      <th>31</th>\n",
       "      <td>32</td>\n",
       "      <td>2019-01-12</td>\n",
       "      <td>Colombia</td>\n",
       "      <td>175</td>\n",
       "      <td>5058.76</td>\n",
       "      <td>Soylent Corp</td>\n",
       "    </tr>\n",
       "    <tr>\n",
       "      <th>188</th>\n",
       "      <td>189</td>\n",
       "      <td>2019-01-26</td>\n",
       "      <td>Panama</td>\n",
       "      <td>77</td>\n",
       "      <td>5103.71</td>\n",
       "      <td>Hexagon Global</td>\n",
       "    </tr>\n",
       "    <tr>\n",
       "      <th>53</th>\n",
       "      <td>54</td>\n",
       "      <td>2019-01-20</td>\n",
       "      <td>Panama</td>\n",
       "      <td>137</td>\n",
       "      <td>5174.79</td>\n",
       "      <td>Dunder Mifflin</td>\n",
       "    </tr>\n",
       "    <tr>\n",
       "      <th>168</th>\n",
       "      <td>169</td>\n",
       "      <td>2019-01-15</td>\n",
       "      <td>Brazil</td>\n",
       "      <td>334</td>\n",
       "      <td>5471.35</td>\n",
       "      <td>Oscorp</td>\n",
       "    </tr>\n",
       "    <tr>\n",
       "      <th>161</th>\n",
       "      <td>162</td>\n",
       "      <td>2019-01-28</td>\n",
       "      <td>Canada</td>\n",
       "      <td>371</td>\n",
       "      <td>5661.27</td>\n",
       "      <td>Stark Industries</td>\n",
       "    </tr>\n",
       "    <tr>\n",
       "      <th>...</th>\n",
       "      <td>...</td>\n",
       "      <td>...</td>\n",
       "      <td>...</td>\n",
       "      <td>...</td>\n",
       "      <td>...</td>\n",
       "      <td>...</td>\n",
       "    </tr>\n",
       "    <tr>\n",
       "      <th>33</th>\n",
       "      <td>34</td>\n",
       "      <td>2019-01-08</td>\n",
       "      <td>Canada</td>\n",
       "      <td>220</td>\n",
       "      <td>13798.08</td>\n",
       "      <td>Tyrell Corporation</td>\n",
       "    </tr>\n",
       "    <tr>\n",
       "      <th>75</th>\n",
       "      <td>76</td>\n",
       "      <td>2019-01-24</td>\n",
       "      <td>Brazil</td>\n",
       "      <td>364</td>\n",
       "      <td>13878.72</td>\n",
       "      <td>Rich Industries</td>\n",
       "    </tr>\n",
       "    <tr>\n",
       "      <th>29</th>\n",
       "      <td>30</td>\n",
       "      <td>2019-01-17</td>\n",
       "      <td>USA</td>\n",
       "      <td>298</td>\n",
       "      <td>14543.85</td>\n",
       "      <td>BiffCo</td>\n",
       "    </tr>\n",
       "    <tr>\n",
       "      <th>100</th>\n",
       "      <td>101</td>\n",
       "      <td>2019-01-09</td>\n",
       "      <td>Canada</td>\n",
       "      <td>207</td>\n",
       "      <td>14860.00</td>\n",
       "      <td>Spacely Sprockets</td>\n",
       "    </tr>\n",
       "    <tr>\n",
       "      <th>181</th>\n",
       "      <td>182</td>\n",
       "      <td>2019-01-17</td>\n",
       "      <td>Brazil</td>\n",
       "      <td>300</td>\n",
       "      <td>14911.08</td>\n",
       "      <td>Stark Industries</td>\n",
       "    </tr>\n",
       "  </tbody>\n",
       "</table>\n",
       "<p>66 rows × 6 columns</p>\n",
       "</div>"
      ],
      "text/plain": [
       "     IdOrder        Date   Country  Units   Revenue            Customer\n",
       "31        32  2019-01-12  Colombia    175   5058.76        Soylent Corp\n",
       "188      189  2019-01-26    Panama     77   5103.71      Hexagon Global\n",
       "53        54  2019-01-20    Panama    137   5174.79      Dunder Mifflin\n",
       "168      169  2019-01-15    Brazil    334   5471.35              Oscorp\n",
       "161      162  2019-01-28    Canada    371   5661.27    Stark Industries\n",
       "..       ...         ...       ...    ...       ...                 ...\n",
       "33        34  2019-01-08    Canada    220  13798.08  Tyrell Corporation\n",
       "75        76  2019-01-24    Brazil    364  13878.72     Rich Industries\n",
       "29        30  2019-01-17       USA    298  14543.85              BiffCo\n",
       "100      101  2019-01-09    Canada    207  14860.00   Spacely Sprockets\n",
       "181      182  2019-01-17    Brazil    300  14911.08    Stark Industries\n",
       "\n",
       "[66 rows x 6 columns]"
      ]
     },
     "execution_count": 35,
     "metadata": {},
     "output_type": "execute_result"
    }
   ],
   "source": [
    "# Ver los registros cuyo 'Revenue' esté entre 5000 - 15000 ordenados por 'Revenue'\n",
    "ventas[(ventas['Revenue'] >= 5000) & (ventas['Revenue'] <= 15000)].sort_values(ascending = True, by = 'Revenue')\n",
    "# clasifico todos los registros dentro de este tramo"
   ]
  },
  {
   "cell_type": "code",
   "execution_count": 36,
   "metadata": {},
   "outputs": [
    {
     "data": {
      "application/vnd.microsoft.datawrangler.viewer.v0+json": {
       "columns": [
        {
         "name": "index",
         "rawType": "int64",
         "type": "integer"
        },
        {
         "name": "IdOrder",
         "rawType": "int64",
         "type": "integer"
        },
        {
         "name": "Date",
         "rawType": "object",
         "type": "string"
        },
        {
         "name": "Country",
         "rawType": "object",
         "type": "string"
        },
        {
         "name": "Units",
         "rawType": "int64",
         "type": "integer"
        },
        {
         "name": "Revenue",
         "rawType": "float64",
         "type": "float"
        },
        {
         "name": "Customer",
         "rawType": "object",
         "type": "string"
        }
       ],
       "conversionMethod": "pd.DataFrame",
       "ref": "b7fee74e-f817-4bc5-b10a-63cea46f2e02",
       "rows": [
        [
         "0",
         "1",
         "2019-01-08",
         "USA",
         "343",
         "15461.36",
         "Octan Corporation"
        ],
        [
         "1",
         "2",
         "2019-01-04",
         "Panama",
         "93",
         "4681.26",
         "Rich Industries"
        ],
        [
         "2",
         "3",
         "2019-01-07",
         "Panama",
         "42",
         "2220.36",
         "Blue Sun Corporation"
        ],
        [
         "3",
         "4",
         "2019-01-16",
         "Brazil",
         "103",
         "1853.78",
         "Hexagon Global"
        ],
        [
         "4",
         "5",
         "2019-01-17",
         "USA",
         "28",
         "286.3",
         "Octan Corporation"
        ],
        [
         "9",
         "10",
         "2019-01-28",
         "Brazil",
         "323",
         "3024.25",
         "Hooli"
        ],
        [
         "11",
         "12",
         "2019-01-25",
         "USA",
         "56",
         "1650.34",
         "BiffCo"
        ],
        [
         "14",
         "15",
         "2019-01-04",
         "Brazil",
         "271",
         "1726.7",
         "Acme Corp"
        ],
        [
         "15",
         "16",
         "2019-01-19",
         "Panama",
         "288",
         "4532.62",
         "Nakatomi Trading"
        ],
        [
         "18",
         "19",
         "2019-01-20",
         "USA",
         "296",
         "391.86",
         "Nakatomi Trading"
        ],
        [
         "19",
         "20",
         "2019-01-03",
         "Brazil",
         "377",
         "30840.25",
         "Virtucon"
        ],
        [
         "21",
         "22",
         "2019-01-05",
         "USA",
         "279",
         "12881.19",
         "Wayne Enterprises"
        ],
        [
         "22",
         "23",
         "2019-01-23",
         "USA",
         "165",
         "8996.57",
         "Dunder Mifflin"
        ],
        [
         "25",
         "26",
         "2019-01-24",
         "Panama",
         "214",
         "998.75",
         "Encom"
        ],
        [
         "26",
         "27",
         "2019-01-27",
         "USA",
         "264",
         "23353.44",
         "Octan Corporation"
        ],
        [
         "27",
         "28",
         "2019-01-13",
         "Brazil",
         "274",
         "1783.08",
         "Globex Corporation"
        ],
        [
         "29",
         "30",
         "2019-01-17",
         "USA",
         "298",
         "14543.85",
         "BiffCo"
        ],
        [
         "32",
         "33",
         "2019-01-06",
         "USA",
         "47",
         "1234.82",
         "Monarch Solutions"
        ],
        [
         "34",
         "35",
         "2019-01-15",
         "USA",
         "36",
         "1181.46",
         "BiffCo"
        ],
        [
         "36",
         "37",
         "2019-01-05",
         "Panama",
         "15",
         "159.28",
         "Nordic Ventures"
        ],
        [
         "38",
         "39",
         "2019-01-23",
         "Brazil",
         "85",
         "917.27",
         "Nakatomi Trading"
        ],
        [
         "40",
         "41",
         "2019-01-21",
         "USA",
         "291",
         "9371.43",
         "Vought International"
        ],
        [
         "41",
         "42",
         "2019-01-11",
         "Panama",
         "208",
         "6117.4",
         "Oscorp"
        ],
        [
         "43",
         "44",
         "2019-01-08",
         "USA",
         "322",
         "15965.02",
         "Stark Industries"
        ],
        [
         "51",
         "52",
         "2019-01-01",
         "Brazil",
         "86",
         "1264.87",
         "Hyperion Systems"
        ],
        [
         "53",
         "54",
         "2019-01-20",
         "Panama",
         "137",
         "5174.79",
         "Dunder Mifflin"
        ],
        [
         "54",
         "55",
         "2019-01-01",
         "Panama",
         "293",
         "73.34",
         "Monarch Solutions"
        ],
        [
         "55",
         "56",
         "2019-01-15",
         "USA",
         "54",
         "526.36",
         "Oscorp"
        ],
        [
         "56",
         "57",
         "2019-01-13",
         "USA",
         "54",
         "1041.76",
         "Globex Corporation"
        ],
        [
         "57",
         "58",
         "2019-01-29",
         "Panama",
         "147",
         "9196.82",
         "Tyrell Corporation"
        ],
        [
         "59",
         "60",
         "2019-01-04",
         "USA",
         "309",
         "6694.46",
         "Zorin Industries"
        ],
        [
         "60",
         "61",
         "2019-01-03",
         "Panama",
         "123",
         "2443.94",
         "Gekko & Co."
        ],
        [
         "61",
         "62",
         "2019-01-25",
         "Panama",
         "30",
         "751.31",
         "Wonka Industries"
        ],
        [
         "64",
         "65",
         "2019-01-06",
         "USA",
         "132",
         "701.62",
         "Oscorp"
        ],
        [
         "65",
         "66",
         "2019-01-30",
         "USA",
         "309",
         "21044.26",
         "OCP"
        ],
        [
         "67",
         "68",
         "2019-01-01",
         "USA",
         "295",
         "10000.97",
         "Umbrella Corp"
        ],
        [
         "68",
         "69",
         "2019-01-07",
         "Panama",
         "148",
         "10357.14",
         "Massive Dynamic"
        ],
        [
         "69",
         "70",
         "2019-01-25",
         "Panama",
         "334",
         "7348.69",
         "LexCorp"
        ],
        [
         "71",
         "72",
         "2019-01-26",
         "USA",
         "275",
         "4108.86",
         "Soylent Corp"
        ],
        [
         "72",
         "73",
         "2019-01-11",
         "USA",
         "138",
         "7199.14",
         "Weyland-Yutani"
        ],
        [
         "73",
         "74",
         "2019-01-19",
         "Brazil",
         "252",
         "3449.39",
         "Soylent Corp"
        ],
        [
         "74",
         "75",
         "2019-01-28",
         "USA",
         "398",
         "16280.66",
         "Stark Industries"
        ],
        [
         "75",
         "76",
         "2019-01-24",
         "Brazil",
         "364",
         "13878.72",
         "Rich Industries"
        ],
        [
         "76",
         "77",
         "2019-01-27",
         "Panama",
         "253",
         "21535.82",
         "Gringotts Bank"
        ],
        [
         "77",
         "78",
         "2019-01-17",
         "Panama",
         "347",
         "12848.19",
         "Wayne Enterprises"
        ],
        [
         "78",
         "79",
         "2019-01-13",
         "Panama",
         "283",
         "24813.1",
         "Cyberdyne Systems"
        ],
        [
         "79",
         "80",
         "2019-01-25",
         "Panama",
         "344",
         "709.36",
         "Virtucon"
        ],
        [
         "81",
         "82",
         "2019-01-22",
         "Brazil",
         "43",
         "2723.93",
         "Vandelay Industries"
        ],
        [
         "82",
         "83",
         "2019-01-26",
         "USA",
         "112",
         "1542.4",
         "Nakatomi Trading"
        ],
        [
         "84",
         "85",
         "2019-01-23",
         "Brazil",
         "96",
         "1550.77",
         "Dunder Mifflin"
        ]
       ],
       "shape": {
        "columns": 6,
        "rows": 113
       }
      },
      "text/html": [
       "<div>\n",
       "<style scoped>\n",
       "    .dataframe tbody tr th:only-of-type {\n",
       "        vertical-align: middle;\n",
       "    }\n",
       "\n",
       "    .dataframe tbody tr th {\n",
       "        vertical-align: top;\n",
       "    }\n",
       "\n",
       "    .dataframe thead th {\n",
       "        text-align: right;\n",
       "    }\n",
       "</style>\n",
       "<table border=\"1\" class=\"dataframe\">\n",
       "  <thead>\n",
       "    <tr style=\"text-align: right;\">\n",
       "      <th></th>\n",
       "      <th>IdOrder</th>\n",
       "      <th>Date</th>\n",
       "      <th>Country</th>\n",
       "      <th>Units</th>\n",
       "      <th>Revenue</th>\n",
       "      <th>Customer</th>\n",
       "    </tr>\n",
       "  </thead>\n",
       "  <tbody>\n",
       "    <tr>\n",
       "      <th>0</th>\n",
       "      <td>1</td>\n",
       "      <td>2019-01-08</td>\n",
       "      <td>USA</td>\n",
       "      <td>343</td>\n",
       "      <td>15461.36</td>\n",
       "      <td>Octan Corporation</td>\n",
       "    </tr>\n",
       "    <tr>\n",
       "      <th>1</th>\n",
       "      <td>2</td>\n",
       "      <td>2019-01-04</td>\n",
       "      <td>Panama</td>\n",
       "      <td>93</td>\n",
       "      <td>4681.26</td>\n",
       "      <td>Rich Industries</td>\n",
       "    </tr>\n",
       "    <tr>\n",
       "      <th>2</th>\n",
       "      <td>3</td>\n",
       "      <td>2019-01-07</td>\n",
       "      <td>Panama</td>\n",
       "      <td>42</td>\n",
       "      <td>2220.36</td>\n",
       "      <td>Blue Sun Corporation</td>\n",
       "    </tr>\n",
       "    <tr>\n",
       "      <th>3</th>\n",
       "      <td>4</td>\n",
       "      <td>2019-01-16</td>\n",
       "      <td>Brazil</td>\n",
       "      <td>103</td>\n",
       "      <td>1853.78</td>\n",
       "      <td>Hexagon Global</td>\n",
       "    </tr>\n",
       "    <tr>\n",
       "      <th>4</th>\n",
       "      <td>5</td>\n",
       "      <td>2019-01-17</td>\n",
       "      <td>USA</td>\n",
       "      <td>28</td>\n",
       "      <td>286.30</td>\n",
       "      <td>Octan Corporation</td>\n",
       "    </tr>\n",
       "    <tr>\n",
       "      <th>...</th>\n",
       "      <td>...</td>\n",
       "      <td>...</td>\n",
       "      <td>...</td>\n",
       "      <td>...</td>\n",
       "      <td>...</td>\n",
       "      <td>...</td>\n",
       "    </tr>\n",
       "    <tr>\n",
       "      <th>181</th>\n",
       "      <td>182</td>\n",
       "      <td>2019-01-17</td>\n",
       "      <td>Brazil</td>\n",
       "      <td>300</td>\n",
       "      <td>14911.08</td>\n",
       "      <td>Stark Industries</td>\n",
       "    </tr>\n",
       "    <tr>\n",
       "      <th>182</th>\n",
       "      <td>183</td>\n",
       "      <td>2019-01-23</td>\n",
       "      <td>Panama</td>\n",
       "      <td>139</td>\n",
       "      <td>49.69</td>\n",
       "      <td>Initech</td>\n",
       "    </tr>\n",
       "    <tr>\n",
       "      <th>184</th>\n",
       "      <td>185</td>\n",
       "      <td>2019-01-25</td>\n",
       "      <td>USA</td>\n",
       "      <td>337</td>\n",
       "      <td>4352.75</td>\n",
       "      <td>Octan Corporation</td>\n",
       "    </tr>\n",
       "    <tr>\n",
       "      <th>186</th>\n",
       "      <td>187</td>\n",
       "      <td>2019-01-14</td>\n",
       "      <td>Brazil</td>\n",
       "      <td>214</td>\n",
       "      <td>12188.36</td>\n",
       "      <td>Hexagon Global</td>\n",
       "    </tr>\n",
       "    <tr>\n",
       "      <th>188</th>\n",
       "      <td>189</td>\n",
       "      <td>2019-01-26</td>\n",
       "      <td>Panama</td>\n",
       "      <td>77</td>\n",
       "      <td>5103.71</td>\n",
       "      <td>Hexagon Global</td>\n",
       "    </tr>\n",
       "  </tbody>\n",
       "</table>\n",
       "<p>113 rows × 6 columns</p>\n",
       "</div>"
      ],
      "text/plain": [
       "     IdOrder        Date Country  Units   Revenue              Customer\n",
       "0          1  2019-01-08     USA    343  15461.36     Octan Corporation\n",
       "1          2  2019-01-04  Panama     93   4681.26       Rich Industries\n",
       "2          3  2019-01-07  Panama     42   2220.36  Blue Sun Corporation\n",
       "3          4  2019-01-16  Brazil    103   1853.78        Hexagon Global\n",
       "4          5  2019-01-17     USA     28    286.30     Octan Corporation\n",
       "..       ...         ...     ...    ...       ...                   ...\n",
       "181      182  2019-01-17  Brazil    300  14911.08      Stark Industries\n",
       "182      183  2019-01-23  Panama    139     49.69               Initech\n",
       "184      185  2019-01-25     USA    337   4352.75     Octan Corporation\n",
       "186      187  2019-01-14  Brazil    214  12188.36        Hexagon Global\n",
       "188      189  2019-01-26  Panama     77   5103.71        Hexagon Global\n",
       "\n",
       "[113 rows x 6 columns]"
      ]
     },
     "execution_count": 36,
     "metadata": {},
     "output_type": "execute_result"
    }
   ],
   "source": [
    "#Ver los registros que son de Brazil o de Panama o de USA\n",
    "ventas[(ventas['Country'] == \"Brazil\") | (ventas['Country'] == \"Panama\") | (ventas['Country'] == \"USA\")]"
   ]
  },
  {
   "cell_type": "markdown",
   "metadata": {},
   "source": [
    "### PRACTICA 31:\n",
    "* Queremos averiguar la suma total de 'Revenue' después de haber juntado los datos de los tres ficheros .csv(), es decir, el January, el February y el March. Queremos ver este total de 'Revenue' de los paises 'Usa' o 'Canada' y cuyo importe está comperndido entre 300-12000"
   ]
  },
  {
   "cell_type": "markdown",
   "metadata": {},
   "source": [
    "Practica 31: (Hacer en casa) Queremos averiguar la suma total de Revenue, despues de haber\n",
    "juntado los datos de los 3 ficheros .csv (January 2019, February 2019, March 2019), solamente de los paises que son USA o Canada y cuyo Revenue esta comprendido entre 3000-12000."
   ]
  },
  {
   "cell_type": "code",
   "execution_count": 37,
   "metadata": {},
   "outputs": [
    {
     "name": "stdout",
     "output_type": "stream",
     "text": [
      "<class 'pandas.core.frame.DataFrame'>\n",
      "RangeIndex: 623 entries, 0 to 622\n",
      "Data columns (total 6 columns):\n",
      " #   Column    Non-Null Count  Dtype  \n",
      "---  ------    --------------  -----  \n",
      " 0   IdOrder   623 non-null    int64  \n",
      " 1   Date      623 non-null    object \n",
      " 2   Country   623 non-null    object \n",
      " 3   Units     623 non-null    int64  \n",
      " 4   Revenue   623 non-null    float64\n",
      " 5   Customer  623 non-null    object \n",
      "dtypes: float64(1), int64(2), object(3)\n",
      "memory usage: 29.3+ KB\n"
     ]
    }
   ],
   "source": [
    "import pandas as pd\n",
    "# leemos los dataframes\n",
    "df1 = pd.read_csv('/Users/andresrojo/Desktop/Python-PCEP/resursos dia5/January 2019.csv')\n",
    "df2 = pd.read_csv('/Users/andresrojo/Desktop/Python-PCEP/resursos dia5/February 2019.csv')\n",
    "df3 = pd.read_csv('/Users/andresrojo/Desktop/Python-PCEP/resursos dia5/March 2019.csv')\n",
    "\n",
    "# los unimos con concat de la libreria pandas y les reseteamos el indicee\n",
    "df_final = pd.concat([df1,df2,df2], ignore_index = True)\n",
    "\n",
    "#comprobamos las filas\n",
    "df_final.info()"
   ]
  },
  {
   "cell_type": "code",
   "execution_count": 38,
   "metadata": {},
   "outputs": [
    {
     "name": "stdout",
     "output_type": "stream",
     "text": [
      "El total de Revenue de los tres dataframes con los filtro es: $ 1253286.41 $\n"
     ]
    }
   ],
   "source": [
    "# Una vez unidas los tres dataframes, vamos a realizar el filtrado\n",
    "resultado=df_final[(df_final['Country'] == 'USA') | (df_final['Country'] == 'Canada') & (df_final['Revenue'] >= 300) & (df_final['Revenue'] <= 12000)].Revenue.sum()\n",
    "\n",
    "print(\"El total de Revenue de los tres dataframes con los filtro es: $\",resultado,\"$\")\n"
   ]
  },
  {
   "cell_type": "code",
   "execution_count": 39,
   "metadata": {},
   "outputs": [
    {
     "name": "stdout",
     "output_type": "stream",
     "text": [
      "   IdOrder        Date Country  Units   Revenue              Customer\n",
      "0        1  2019-01-08     USA    343  15461.36     Octan Corporation\n",
      "1        2  2019-01-04  Panama     93   4681.26       Rich Industries\n",
      "2        3  2019-01-07  Panama     42   2220.36  Blue Sun Corporation\n",
      "3        4  2019-01-16  Brazil    103   1853.78        Hexagon Global\n",
      "4        5  2019-01-17     USA     28    286.30     Octan Corporation\n",
      "\n",
      "   IdOrder        Date   Country  Units   Revenue              Customer\n",
      "0      190  2019-02-24       USA    366  28641.21  Blue Sun Corporation\n",
      "1      191  2019-02-14    Panama    128   4223.28        Dunder Mifflin\n",
      "2      192  2019-02-26    Canada    110   1101.63                BiffCo\n",
      "3      193  2019-02-13    Panama    166  10996.77     Cyberdyne Systems\n",
      "4      194  2019-02-20  Colombia     91    104.93        Dunder Mifflin\n",
      "\n",
      "   IdOrder        Date   Country  Units  Revenue             Customer\n",
      "0      407  2019-03-10       USA    288  4283.13    Spacely Sprockets\n",
      "1      408  2019-03-10    Panama    195  1120.84    Wayne Enterprises\n",
      "2      409  2019-03-20  Colombia     24  1562.82          Gekko & Co.\n",
      "3      410  2019-03-07  Colombia    255  2889.14  Kobra International\n",
      "4      411  2019-03-01    Brazil    271  9143.03     Nakatomi Trading\n",
      "\n",
      "   IdOrder        Date Country  Units   Revenue              Customer\n",
      "0        1  2019-01-08     USA    343  15461.36     Octan Corporation\n",
      "1        2  2019-01-04  Panama     93   4681.26       Rich Industries\n",
      "2        3  2019-01-07  Panama     42   2220.36  Blue Sun Corporation\n",
      "\n",
      "\n",
      "     IdOrder        Date Country  Units   Revenue          Customer\n",
      "728      729  2019-03-22  Panama    299   3707.41  Nakatomi Trading\n",
      "729      730  2019-03-22  Brazil    120    660.37  Nakatomi Trading\n",
      "730      731  2019-03-09  Panama    197  10554.67           LexCorp\n"
     ]
    }
   ],
   "source": [
    "# la solución del profesor\n",
    "# vamos a ver los dataframes y su lectura correcta\n",
    "print(df1.head(5)) # Enero\n",
    "print()\n",
    "print(df2.head(5)) # Febrero\n",
    "print()\n",
    "print(df3.head(5)) # Marzo\n",
    "\n",
    "# Vamos a concatenar p anexionar los 3 dataframes, con la función \"concat\"\n",
    "print() \n",
    "trimestre = pd.concat([df1,df2,df3], ignore_index = True)\n",
    "print(trimestre.head(3)) # muestra los 3 primeros (Enero)\n",
    "print(\"\\n\")\n",
    "print(trimestre.tail(3)) # muestra los 3 últimos (marzo)\n"
   ]
  },
  {
   "cell_type": "code",
   "execution_count": 40,
   "metadata": {},
   "outputs": [
    {
     "name": "stdout",
     "output_type": "stream",
     "text": [
      "El valor de revenue total es: 845123.84\n"
     ]
    }
   ],
   "source": [
    "# Solcución del profesor, hacemos el filtrado\n",
    "# habría que poner doble parntesis para que lo trate como doble condición, si no, no coge bien los datos del 'Revenue'\n",
    "resultado = trimestre[((trimestre['Country'] == 'USA') | (trimestre['Country'] == 'Canada')) & # se tiene que cumplir las dos condiciones\n",
    "          ((trimestre['Revenue']>= 3000) & (trimestre['Revenue']<= 12000))]\n",
    "# se cumplen las dos condiciones, repito, por tener doble parentesis, que divide el filtro en dos partes\n",
    "# vemos el ñutimo apartado ver la cantidad total del Revenue\n",
    "\n",
    "print(\"El valor de revenue total es:\", resultado.Revenue.sum())      "
   ]
  },
  {
   "cell_type": "code",
   "execution_count": 41,
   "metadata": {},
   "outputs": [],
   "source": [
    "#!pip3 install -U ipykernel\n",
    "# probando instalación para ejecutar solo una línea de código"
   ]
  },
  {
   "cell_type": "code",
   "execution_count": 42,
   "metadata": {},
   "outputs": [
    {
     "name": "stdout",
     "output_type": "stream",
     "text": [
      "Help on function concat in module pandas.core.reshape.concat:\n",
      "\n",
      "concat(objs: 'Iterable[Series | DataFrame] | Mapping[HashableT, Series | DataFrame]', *, axis: 'Axis' = 0, join: 'str' = 'outer', ignore_index: 'bool' = False, keys: 'Iterable[Hashable] | None' = None, levels=None, names: 'list[HashableT] | None' = None, verify_integrity: 'bool' = False, sort: 'bool' = False, copy: 'bool | None' = None) -> 'DataFrame | Series'\n",
      "    Concatenate pandas objects along a particular axis.\n",
      "    \n",
      "    Allows optional set logic along the other axes.\n",
      "    \n",
      "    Can also add a layer of hierarchical indexing on the concatenation axis,\n",
      "    which may be useful if the labels are the same (or overlapping) on\n",
      "    the passed axis number.\n",
      "    \n",
      "    Parameters\n",
      "    ----------\n",
      "    objs : a sequence or mapping of Series or DataFrame objects\n",
      "        If a mapping is passed, the sorted keys will be used as the `keys`\n",
      "        argument, unless it is passed, in which case the values will be\n",
      "        selected (see below). Any None objects will be dropped silently unless\n",
      "        they are all None in which case a ValueError will be raised.\n",
      "    axis : {0/'index', 1/'columns'}, default 0\n",
      "        The axis to concatenate along.\n",
      "    join : {'inner', 'outer'}, default 'outer'\n",
      "        How to handle indexes on other axis (or axes).\n",
      "    ignore_index : bool, default False\n",
      "        If True, do not use the index values along the concatenation axis. The\n",
      "        resulting axis will be labeled 0, ..., n - 1. This is useful if you are\n",
      "        concatenating objects where the concatenation axis does not have\n",
      "        meaningful indexing information. Note the index values on the other\n",
      "        axes are still respected in the join.\n",
      "    keys : sequence, default None\n",
      "        If multiple levels passed, should contain tuples. Construct\n",
      "        hierarchical index using the passed keys as the outermost level.\n",
      "    levels : list of sequences, default None\n",
      "        Specific levels (unique values) to use for constructing a\n",
      "        MultiIndex. Otherwise they will be inferred from the keys.\n",
      "    names : list, default None\n",
      "        Names for the levels in the resulting hierarchical index.\n",
      "    verify_integrity : bool, default False\n",
      "        Check whether the new concatenated axis contains duplicates. This can\n",
      "        be very expensive relative to the actual data concatenation.\n",
      "    sort : bool, default False\n",
      "        Sort non-concatenation axis if it is not already aligned. One exception to\n",
      "        this is when the non-concatentation axis is a DatetimeIndex and join='outer'\n",
      "        and the axis is not already aligned. In that case, the non-concatenation\n",
      "        axis is always sorted lexicographically.\n",
      "    copy : bool, default True\n",
      "        If False, do not copy data unnecessarily.\n",
      "    \n",
      "    Returns\n",
      "    -------\n",
      "    object, type of objs\n",
      "        When concatenating all ``Series`` along the index (axis=0), a\n",
      "        ``Series`` is returned. When ``objs`` contains at least one\n",
      "        ``DataFrame``, a ``DataFrame`` is returned. When concatenating along\n",
      "        the columns (axis=1), a ``DataFrame`` is returned.\n",
      "    \n",
      "    See Also\n",
      "    --------\n",
      "    DataFrame.join : Join DataFrames using indexes.\n",
      "    DataFrame.merge : Merge DataFrames by indexes or columns.\n",
      "    \n",
      "    Notes\n",
      "    -----\n",
      "    The keys, levels, and names arguments are all optional.\n",
      "    \n",
      "    A walkthrough of how this method fits in with other tools for combining\n",
      "    pandas objects can be found `here\n",
      "    <https://pandas.pydata.org/pandas-docs/stable/user_guide/merging.html>`__.\n",
      "    \n",
      "    It is not recommended to build DataFrames by adding single rows in a\n",
      "    for loop. Build a list of rows and make a DataFrame in a single concat.\n",
      "    \n",
      "    Examples\n",
      "    --------\n",
      "    Combine two ``Series``.\n",
      "    \n",
      "    >>> s1 = pd.Series(['a', 'b'])\n",
      "    >>> s2 = pd.Series(['c', 'd'])\n",
      "    >>> pd.concat([s1, s2])\n",
      "    0    a\n",
      "    1    b\n",
      "    0    c\n",
      "    1    d\n",
      "    dtype: object\n",
      "    \n",
      "    Clear the existing index and reset it in the result\n",
      "    by setting the ``ignore_index`` option to ``True``.\n",
      "    \n",
      "    >>> pd.concat([s1, s2], ignore_index=True)\n",
      "    0    a\n",
      "    1    b\n",
      "    2    c\n",
      "    3    d\n",
      "    dtype: object\n",
      "    \n",
      "    Add a hierarchical index at the outermost level of\n",
      "    the data with the ``keys`` option.\n",
      "    \n",
      "    >>> pd.concat([s1, s2], keys=['s1', 's2'])\n",
      "    s1  0    a\n",
      "        1    b\n",
      "    s2  0    c\n",
      "        1    d\n",
      "    dtype: object\n",
      "    \n",
      "    Label the index keys you create with the ``names`` option.\n",
      "    \n",
      "    >>> pd.concat([s1, s2], keys=['s1', 's2'],\n",
      "    ...           names=['Series name', 'Row ID'])\n",
      "    Series name  Row ID\n",
      "    s1           0         a\n",
      "                 1         b\n",
      "    s2           0         c\n",
      "                 1         d\n",
      "    dtype: object\n",
      "    \n",
      "    Combine two ``DataFrame`` objects with identical columns.\n",
      "    \n",
      "    >>> df1 = pd.DataFrame([['a', 1], ['b', 2]],\n",
      "    ...                    columns=['letter', 'number'])\n",
      "    >>> df1\n",
      "      letter  number\n",
      "    0      a       1\n",
      "    1      b       2\n",
      "    >>> df2 = pd.DataFrame([['c', 3], ['d', 4]],\n",
      "    ...                    columns=['letter', 'number'])\n",
      "    >>> df2\n",
      "      letter  number\n",
      "    0      c       3\n",
      "    1      d       4\n",
      "    >>> pd.concat([df1, df2])\n",
      "      letter  number\n",
      "    0      a       1\n",
      "    1      b       2\n",
      "    0      c       3\n",
      "    1      d       4\n",
      "    \n",
      "    Combine ``DataFrame`` objects with overlapping columns\n",
      "    and return everything. Columns outside the intersection will\n",
      "    be filled with ``NaN`` values.\n",
      "    \n",
      "    >>> df3 = pd.DataFrame([['c', 3, 'cat'], ['d', 4, 'dog']],\n",
      "    ...                    columns=['letter', 'number', 'animal'])\n",
      "    >>> df3\n",
      "      letter  number animal\n",
      "    0      c       3    cat\n",
      "    1      d       4    dog\n",
      "    >>> pd.concat([df1, df3], sort=False)\n",
      "      letter  number animal\n",
      "    0      a       1    NaN\n",
      "    1      b       2    NaN\n",
      "    0      c       3    cat\n",
      "    1      d       4    dog\n",
      "    \n",
      "    Combine ``DataFrame`` objects with overlapping columns\n",
      "    and return only those that are shared by passing ``inner`` to\n",
      "    the ``join`` keyword argument.\n",
      "    \n",
      "    >>> pd.concat([df1, df3], join=\"inner\")\n",
      "      letter  number\n",
      "    0      a       1\n",
      "    1      b       2\n",
      "    0      c       3\n",
      "    1      d       4\n",
      "    \n",
      "    Combine ``DataFrame`` objects horizontally along the x axis by\n",
      "    passing in ``axis=1``.\n",
      "    \n",
      "    >>> df4 = pd.DataFrame([['bird', 'polly'], ['monkey', 'george']],\n",
      "    ...                    columns=['animal', 'name'])\n",
      "    >>> pd.concat([df1, df4], axis=1)\n",
      "      letter  number  animal    name\n",
      "    0      a       1    bird   polly\n",
      "    1      b       2  monkey  george\n",
      "    \n",
      "    Prevent the result from including duplicate index values with the\n",
      "    ``verify_integrity`` option.\n",
      "    \n",
      "    >>> df5 = pd.DataFrame([1], index=['a'])\n",
      "    >>> df5\n",
      "       0\n",
      "    a  1\n",
      "    >>> df6 = pd.DataFrame([2], index=['a'])\n",
      "    >>> df6\n",
      "       0\n",
      "    a  2\n",
      "    >>> pd.concat([df5, df6], verify_integrity=True)\n",
      "    Traceback (most recent call last):\n",
      "        ...\n",
      "    ValueError: Indexes have overlapping values: ['a']\n",
      "    \n",
      "    Append a single row to the end of a ``DataFrame`` object.\n",
      "    \n",
      "    >>> df7 = pd.DataFrame({'a': 1, 'b': 2}, index=[0])\n",
      "    >>> df7\n",
      "        a   b\n",
      "    0   1   2\n",
      "    >>> new_row = pd.Series({'a': 3, 'b': 4})\n",
      "    >>> new_row\n",
      "    a    3\n",
      "    b    4\n",
      "    dtype: int64\n",
      "    >>> pd.concat([df7, new_row.to_frame().T], ignore_index=True)\n",
      "        a   b\n",
      "    0   1   2\n",
      "    1   3   4\n",
      "\n"
     ]
    }
   ],
   "source": [
    "help(pd.concat)"
   ]
  }
 ],
 "metadata": {
  "kernelspec": {
   "display_name": "Python 3",
   "language": "python",
   "name": "python3"
  },
  "language_info": {
   "codemirror_mode": {
    "name": "ipython",
    "version": 3
   },
   "file_extension": ".py",
   "mimetype": "text/x-python",
   "name": "python",
   "nbconvert_exporter": "python",
   "pygments_lexer": "ipython3",
   "version": "3.11.9"
  }
 },
 "nbformat": 4,
 "nbformat_minor": 2
}
