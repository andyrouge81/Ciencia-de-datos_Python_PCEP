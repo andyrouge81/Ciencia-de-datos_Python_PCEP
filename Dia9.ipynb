{
 "cells": [
  {
   "cell_type": "markdown",
   "metadata": {},
   "source": [
    "## Ciencia de datos con Python - Preparación para la certificación PCEP de Python Institute-Día 9"
   ]
  },
  {
   "cell_type": "code",
   "execution_count": 3,
   "metadata": {},
   "outputs": [],
   "source": [
    "# Para trabajar con numpy deberíamos intalar la libreria y la llamamos al modulo\n",
    "#!pip3 install numpy\n",
    "import numpy as np"
   ]
  },
  {
   "cell_type": "code",
   "execution_count": 4,
   "metadata": {},
   "outputs": [
    {
     "name": "stdout",
     "output_type": "stream",
     "text": [
      "(4,)\n",
      "1\n"
     ]
    }
   ],
   "source": [
    "# Con 'array' en la libreria 'numpy' generamos un array, que no es lo mismo que una lista\n",
    "a = np.array([3.25, 7.19, 8.66, 7.36])\n",
    "a\n",
    "#Para ver el número de filas y columnas de la matriz \n",
    "print(a.shape) # sin parentesis al final de shape\n",
    "\n",
    "# para ver el número de dimensiones de la matriz con ndim\n",
    "print(a.ndim)"
   ]
  },
  {
   "cell_type": "code",
   "execution_count": 5,
   "metadata": {},
   "outputs": [
    {
     "name": "stdout",
     "output_type": "stream",
     "text": [
      "La forma de la que está compuesta la Matriz son: (3, 4)\n",
      "El número de diemnsiones de la matriz es: 2\n",
      "Número de elementos de la matriz es: 12\n"
     ]
    }
   ],
   "source": [
    "# Generamos una matriz de 3 arrays\n",
    "b = np.array([[3.25, 7.19, 8.66, 7.36],[9.17,6.24,7.27,5.12],[4.67,3.15,14.62,17.53]])# todo entre dobles corchetes por ser dos dimensiones\n",
    "print(\"La forma de la que está compuesta la Matriz son:\", b.shape)\n",
    "print(\"El número de diemnsiones de la matriz es:\", b.ndim)\n",
    "\n",
    "# Numero de elementos de la matriz con 'bsize'\n",
    "print(\"Número de elementos de la matriz es:\", b.size)"
   ]
  },
  {
   "cell_type": "code",
   "execution_count": 6,
   "metadata": {},
   "outputs": [
    {
     "name": "stdout",
     "output_type": "stream",
     "text": [
      "La cantidad de filas de la Matriz es: 3 filas\n"
     ]
    }
   ],
   "source": [
    "# Si queremos ver la cantidad de filas lo podemos ver con 'len'\n",
    "print(\"La cantidad de filas de la Matriz es:\", len(b),\"filas\")"
   ]
  },
  {
   "cell_type": "code",
   "execution_count": 7,
   "metadata": {},
   "outputs": [
    {
     "name": "stdout",
     "output_type": "stream",
     "text": [
      "7.27\n",
      "17.53\n",
      "[ 4.67  3.15 14.62 17.53]\n"
     ]
    },
    {
     "data": {
      "text/plain": [
       "array([[ 3.25,  9.17,  4.67],\n",
       "       [ 7.19,  6.24,  3.15],\n",
       "       [ 8.66,  7.27, 14.62],\n",
       "       [ 7.36,  5.12, 17.53]])"
      ]
     },
     "execution_count": 7,
     "metadata": {},
     "output_type": "execute_result"
    }
   ],
   "source": [
    "# Como accceder a un elemento concreto de una matriz, primero con el indice de la fila(empieza por 0),\n",
    "# segundo por el indice de la columna(empieza por 0), separados por una coma ','\n",
    "\n",
    "print(b[1,2]) # filas x columnas\n",
    "# nos muestra el elemento en esa coordenada del indice\n",
    "print(b[2,3])\n",
    "\n",
    "# Quiero ver una fila entera, en este caso la fila dos y todas sus columnas\n",
    "print(b[2,:])\n",
    "\n",
    "# Quiero ver la coluna entera  y solamente la fila indice 1\n",
    "b[:,1]\n",
    "# Hacer un transponer con 'transpose'. 2 maneras cambiar filas por columnas\n",
    "b.transpose\n",
    "b.T"
   ]
  },
  {
   "cell_type": "code",
   "execution_count": 8,
   "metadata": {},
   "outputs": [
    {
     "name": "stdout",
     "output_type": "stream",
     "text": [
      "El valor más pequeño de la matriz es: 3.15\n",
      "El valor más grande de la matriz es: 17.53\n",
      "La suma de los valores de la matriz es: 94.23\n",
      "El valor promedio de los valores de la matriz sería: 7.85\n"
     ]
    }
   ],
   "source": [
    "# Operaciones con Matrices numéricas \n",
    "# el valor más pequeño de la matriz y el mas grande\n",
    "print(\"El valor más pequeño de la matriz es:\", b.min())\n",
    "print(\"El valor más grande de la matriz es:\", b.max())\n",
    "\n",
    "# suma valores de toda la matriz\n",
    "print(\"La suma de los valores de la matriz es:\", b.sum())\n",
    "\n",
    "# Hacemos el promedio de la matriz\n",
    "print(\"El valor promedio de los valores de la matriz sería:\", round(b.mean(),2)) # con dos decimales recoramos con round()\n"
   ]
  },
  {
   "cell_type": "code",
   "execution_count": 9,
   "metadata": {},
   "outputs": [
    {
     "name": "stdout",
     "output_type": "stream",
     "text": [
      "[3.25 3.15 7.27 5.12]\n",
      "[3.25 5.12 3.15]\n"
     ]
    }
   ],
   "source": [
    "# Visualizar el valor más pequeño de cada columna con el 0\n",
    "print(b.min(0))\n",
    "# El valor más pequeño de cada fila con el 1\n",
    "print(b.min(1))"
   ]
  },
  {
   "cell_type": "code",
   "execution_count": 10,
   "metadata": {},
   "outputs": [
    {
     "data": {
      "text/plain": [
       "array([3.25, 7.19, 8.66, 7.36, 9.17, 6.24, 7.27, 5.12, 4.67, 3.15])"
      ]
     },
     "execution_count": 10,
     "metadata": {},
     "output_type": "execute_result"
    }
   ],
   "source": [
    "# muestra los valores según la condición con 'where' entre corchetes\n",
    "\n",
    "b[np.where(b>10)] # muestra los mayores de 10\n",
    "# si queremos la inversa, es decir, que nos muestre los menores de 10 con el comando '~'\n",
    "b[~((b>10))]"
   ]
  },
  {
   "cell_type": "markdown",
   "metadata": {},
   "source": [
    "### Machine Learning - Creación de un modelo predictivo\n",
    "* El modelo predictivo está basado en una regresión lineal      \n",
    "    * $y = ax + b$\n",
    "    \n"
   ]
  },
  {
   "cell_type": "code",
   "execution_count": 11,
   "metadata": {},
   "outputs": [],
   "source": [
    "# Relación Lineal: Relacion entre 2 variables cuantitativas consecutivas\n",
    "#Como veo representado esta relación, con un gráfico de dispresión\n",
    "# Cómo calculo una predicción , 4 elementos(y= variable depenediente, x = varaible independiente, a = la pendiente de la recta, b = la intersección)\n",
    "# El coeficiente R2 marca el % de posible acierto en la predicción, a partir del 95% de la puedes jugar(en excel)"
   ]
  },
  {
   "cell_type": "code",
   "execution_count": 12,
   "metadata": {},
   "outputs": [
    {
     "data": {
      "text/plain": [
       "0       75\n",
       "1      124\n",
       "2       94\n",
       "3      147\n",
       "4      287\n",
       "5      101\n",
       "6      358\n",
       "7      167\n",
       "8      815\n",
       "9      580\n",
       "10     677\n",
       "11     873\n",
       "12    1075\n",
       "13     160\n",
       "14     800\n",
       "15     294\n",
       "16     205\n",
       "17     412\n",
       "18     184\n",
       "19     166\n",
       "20     457\n",
       "Name: Num. Accidentes, dtype: int64"
      ]
     },
     "execution_count": 12,
     "metadata": {},
     "output_type": "execute_result"
    }
   ],
   "source": [
    "# Importamos pandas para trabajar con el archivo .csv\n",
    "import pandas as pd\n",
    "# el archivo se encuentra en una ruta de windows, por lo que tenemos que usar 'r' delante de la ruta\n",
    "accidentes = pd.read_csv(r\"C:\\Users\\saris\\OneDrive\\Escritorio\\bootcampandy\\CibernariumDB\\Datos Accidentes localidad.csv\") # la 'r' se le pone solo en windows\n",
    "accidentes\n",
    "# Queremos ver solamente los habitantes \n",
    "accidentes['Habitantes']\n",
    "# Observamos la columna/número de accidentes\n",
    "accidentes['Num. Accidentes']"
   ]
  },
  {
   "cell_type": "code",
   "execution_count": 13,
   "metadata": {},
   "outputs": [
    {
     "data": {
      "text/plain": [
       "Text(0.5, 1.0, 'Número de accidentes por población')"
      ]
     },
     "execution_count": 13,
     "metadata": {},
     "output_type": "execute_result"
    },
    {
     "data": {
      "image/png": "[encoded data removed]",
      "text/plain": [
       "<Figure size 640x480 with 1 Axes>"
      ]
     },
     "metadata": {},
     "output_type": "display_data"
    }
   ],
   "source": [
    "# Dibujaremos el gráfico de dispersión\n",
    "import matplotlib.pyplot as plt\n",
    "\n",
    "#Asignaremos a la variable dependiente 'y' el número de habitantes y= f(x)\n",
    "y = accidentes['Num. Accidentes'] # asignamos el numero de accidentes\n",
    "x = accidentes['Habitantes'] # asignamos el numero de habitantes\n",
    "# Creamos el gráfico de dispersión con 'scatter'\n",
    "#fig, grafico = plt.scatter(x,y)\n",
    "plt.scatter(x,y, color ='blue')\n",
    "plt.title(\"Número de accidentes por población\")\n",
    "#plt.show();"
   ]
  },
  {
   "cell_type": "code",
   "execution_count": 14,
   "metadata": {},
   "outputs": [
    {
     "data": {
      "image/png": "[encoded data removed]",
      "text/plain": [
       "<Figure size 640x480 with 1 Axes>"
      ]
     },
     "metadata": {},
     "output_type": "display_data"
    }
   ],
   "source": [
    "# Como sería dibujar la línea de tendencia, para ello trabajaremos con 'numpy' y lo llamamos 'np'\n",
    "import numpy as np\n",
    "# trabajaremos con unmetodo llamado 'polyfit', esste método ajusta los datos dentro de una función polinomial, \n",
    "# es decir, cuadra por mínimos.\n",
    "# Trabajaremos con una clase que se llama 'poly1d', clase polidimensional unidimensional.\n",
    "# Encapsular operaciones naturales en polinomios.\n",
    "\n",
    "z = np.polyfit(x,y,1) # el 1 es la dimensión \n",
    "h = np.poly1d(z)(x)\n",
    "\n",
    "plt.plot(x,h,\"r--\", lw=1)# le pondremos los valores de línea donde 'r' es el color y 'lw' es el ancho de linea\n",
    "plt.show(); # mostramos y el punto y coma evita la visualización de una linea engorrosa que no aporta nada\n"
   ]
  },
  {
   "cell_type": "code",
   "execution_count": 15,
   "metadata": {},
   "outputs": [
    {
     "data": {
      "image/png": "[encoded data removed]",
      "text/plain": [
       "<Figure size 640x480 with 1 Axes>"
      ]
     },
     "metadata": {},
     "output_type": "display_data"
    }
   ],
   "source": [
    "# ahora todo junto en una misma celda\n",
    "import numpy as np\n",
    "# trabajaremos con unmetodo llamado 'polyfit', esste método ajusta los datos dentro de una función polinomial, es decir, cuadra por mínimos\n",
    "# Trabajaremos con una clase que se llama 'poly1d', clase polidimensional unidimensional\n",
    "# Encapsular operaciones naturales en polinomios\n",
    "plt.scatter(x,y, color ='blue')\n",
    "plt.title(\"Número de accidentes por población\")\n",
    "\n",
    "z = np.polyfit(x,y,1) # el 1 es la dimensión \n",
    "h = np.poly1d(z)(x)\n",
    "\n",
    "plt.plot(x,h,\"r--\", lw=1)\n",
    "plt.show();"
   ]
  },
  {
   "cell_type": "code",
   "execution_count": 16,
   "metadata": {},
   "outputs": [],
   "source": [
    "#Para hacer la prediccción tengo que instalar una librería, la librería scikit-learn(libreria para ML)\n",
    "#!pip3 install scikit-learn\n",
    "# Una vez instalada la libreria;\n",
    "# Vamos a averiguar el coeficiente de la pendiente a = 0.0117\n",
    "# Vamos a averiguar el coeficiente de la intersección b = 7.6534\n",
    "# Vamos a averiguar el coeficiente R2 = 0.9455\n",
    "\n",
    "from sklearn.linear_model import LinearRegression"
   ]
  },
  {
   "cell_type": "code",
   "execution_count": 17,
   "metadata": {},
   "outputs": [
    {
     "name": "stdout",
     "output_type": "stream",
     "text": [
      "El coficiente de la pendiente es: [0.01174636]\n",
      "El coeficiente de la intersección es: 7.6533662987778825\n",
      "El coeficiente R2 es: 0.9455\n"
     ]
    }
   ],
   "source": [
    "lineal = LinearRegression() # aquí estoy creando mi modelo predictivo\n",
    "\n",
    "# Antes de hacer una prediccción se les tiene que entrenar con fit\n",
    "lineal.fit(x.values.reshape(-1,1), y) # Con esto iniciamos el modelo y se convierte en una matriz 2d  \n",
    "# el -1 permite a Python calcular el número de filas según el tamaño de datos\n",
    "# averiguar el coeficiente de la pendiente a\n",
    "a = lineal.coef_ # con 'coef_'seleccionamos el coeficiente de la pendiente \n",
    "print(\"El coficiente de la pendiente es:\", a)\n",
    "# averiguar el coeficiente de la intersección\n",
    "b = lineal.intercept_ # con 'intercept_' seleccionamos el intercepto dela intersección\n",
    "\n",
    "print(\"El coeficiente de la intersección es:\", b)\n",
    "\n",
    "# vamos a calcular el coeficiente R2\n",
    "r2 = lineal.score(x.values.reshape(-1,1), y) # hay que calcular el R2 a parte\n",
    "print(\"El coeficiente R2 es:\", round(r2,4))"
   ]
  },
  {
   "cell_type": "code",
   "execution_count": 18,
   "metadata": {},
   "outputs": [
    {
     "name": "stdout",
     "output_type": "stream",
     "text": [
      "El número previstod de accidentes para una población de [114000] será de [1346.73885132] accidentes\n"
     ]
    }
   ],
   "source": [
    "# Vamos a realizar el cáculod e la predicción para 114000 habitantes me dice el excel = 1341\n",
    "poblacion_fic = np.array([114000]) # varaible con la cantidad de habitantes que queremos predecir siempre en un array\n",
    "prediccion = lineal.predict(poblacion_fic.reshape(-1,1))# sin la y pues esta prediciendo\n",
    "#prediccion = int(prediccion) # es para que no te muestre decimales al convertirlo en integer, pero da error\n",
    "print(\"El número previstod de accidentes para una población de {} será de {} accidentes\".format(poblacion_fic, prediccion)) # es bastante aproximado pues son otros calculos los de scikit-learn\n"
   ]
  },
  {
   "cell_type": "markdown",
   "metadata": {},
   "source": [
    "### PRACTICA 36:\n",
    "* Mediante el fichero del Github 'Motocicletas gasolina.csv' crear un modelo predictivo que me muestre el gráfico de dispersión más la límea de tendencia , + los coeficientes $a$, $b$ y $R^2$ Y me haga la predicción para saber cuantas motocicletas tendré en el año 2030.\n",
    "* Los $coef$ que me los muestre en el título del gráfico."
   ]
  },
  {
   "cell_type": "code",
   "execution_count": 19,
   "metadata": {},
   "outputs": [
    {
     "data": {
      "text/html": [
       "<div>\n",
       "<style scoped>\n",
       "    .dataframe tbody tr th:only-of-type {\n",
       "        vertical-align: middle;\n",
       "    }\n",
       "\n",
       "    .dataframe tbody tr th {\n",
       "        vertical-align: top;\n",
       "    }\n",
       "\n",
       "    .dataframe thead th {\n",
       "        text-align: right;\n",
       "    }\n",
       "</style>\n",
       "<table border=\"1\" class=\"dataframe\">\n",
       "  <thead>\n",
       "    <tr style=\"text-align: right;\">\n",
       "      <th></th>\n",
       "      <th>Año</th>\n",
       "      <th>Tipo de vehículo</th>\n",
       "      <th>Combustible</th>\n",
       "      <th>Unidades</th>\n",
       "    </tr>\n",
       "  </thead>\n",
       "  <tbody>\n",
       "    <tr>\n",
       "      <th>0</th>\n",
       "      <td>2005</td>\n",
       "      <td>Motocicletas</td>\n",
       "      <td>Gasolina</td>\n",
       "      <td>3215</td>\n",
       "    </tr>\n",
       "    <tr>\n",
       "      <th>1</th>\n",
       "      <td>2006</td>\n",
       "      <td>Motocicletas</td>\n",
       "      <td>Gasolina</td>\n",
       "      <td>3626</td>\n",
       "    </tr>\n",
       "    <tr>\n",
       "      <th>2</th>\n",
       "      <td>2007</td>\n",
       "      <td>Motocicletas</td>\n",
       "      <td>Gasolina</td>\n",
       "      <td>4163</td>\n",
       "    </tr>\n",
       "    <tr>\n",
       "      <th>3</th>\n",
       "      <td>2008</td>\n",
       "      <td>Motocicletas</td>\n",
       "      <td>Gasolina</td>\n",
       "      <td>4492</td>\n",
       "    </tr>\n",
       "    <tr>\n",
       "      <th>4</th>\n",
       "      <td>2009</td>\n",
       "      <td>Motocicletas</td>\n",
       "      <td>Gasolina</td>\n",
       "      <td>4762</td>\n",
       "    </tr>\n",
       "    <tr>\n",
       "      <th>5</th>\n",
       "      <td>2010</td>\n",
       "      <td>Motocicletas</td>\n",
       "      <td>Gasolina</td>\n",
       "      <td>4929</td>\n",
       "    </tr>\n",
       "    <tr>\n",
       "      <th>6</th>\n",
       "      <td>2011</td>\n",
       "      <td>Motocicletas</td>\n",
       "      <td>Gasolina</td>\n",
       "      <td>5140</td>\n",
       "    </tr>\n",
       "    <tr>\n",
       "      <th>7</th>\n",
       "      <td>2012</td>\n",
       "      <td>Motocicletas</td>\n",
       "      <td>Gasolina</td>\n",
       "      <td>5282</td>\n",
       "    </tr>\n",
       "    <tr>\n",
       "      <th>8</th>\n",
       "      <td>2013</td>\n",
       "      <td>Motocicletas</td>\n",
       "      <td>Gasolina</td>\n",
       "      <td>5432</td>\n",
       "    </tr>\n",
       "    <tr>\n",
       "      <th>9</th>\n",
       "      <td>2014</td>\n",
       "      <td>Motocicletas</td>\n",
       "      <td>Gasolina</td>\n",
       "      <td>5605</td>\n",
       "    </tr>\n",
       "    <tr>\n",
       "      <th>10</th>\n",
       "      <td>2015</td>\n",
       "      <td>Motocicletas</td>\n",
       "      <td>Gasolina</td>\n",
       "      <td>5757</td>\n",
       "    </tr>\n",
       "    <tr>\n",
       "      <th>11</th>\n",
       "      <td>2016</td>\n",
       "      <td>Motocicletas</td>\n",
       "      <td>Gasolina</td>\n",
       "      <td>5989</td>\n",
       "    </tr>\n",
       "    <tr>\n",
       "      <th>12</th>\n",
       "      <td>2017</td>\n",
       "      <td>Motocicletas</td>\n",
       "      <td>Gasolina</td>\n",
       "      <td>6187</td>\n",
       "    </tr>\n",
       "    <tr>\n",
       "      <th>13</th>\n",
       "      <td>2018</td>\n",
       "      <td>Motocicletas</td>\n",
       "      <td>Gasolina</td>\n",
       "      <td>6400</td>\n",
       "    </tr>\n",
       "    <tr>\n",
       "      <th>14</th>\n",
       "      <td>2019</td>\n",
       "      <td>Motocicletas</td>\n",
       "      <td>Gasolina</td>\n",
       "      <td>6668</td>\n",
       "    </tr>\n",
       "  </tbody>\n",
       "</table>\n",
       "</div>"
      ],
      "text/plain": [
       "     Año Tipo de vehículo Combustible  Unidades\n",
       "0   2005     Motocicletas    Gasolina      3215\n",
       "1   2006     Motocicletas    Gasolina      3626\n",
       "2   2007     Motocicletas    Gasolina      4163\n",
       "3   2008     Motocicletas    Gasolina      4492\n",
       "4   2009     Motocicletas    Gasolina      4762\n",
       "5   2010     Motocicletas    Gasolina      4929\n",
       "6   2011     Motocicletas    Gasolina      5140\n",
       "7   2012     Motocicletas    Gasolina      5282\n",
       "8   2013     Motocicletas    Gasolina      5432\n",
       "9   2014     Motocicletas    Gasolina      5605\n",
       "10  2015     Motocicletas    Gasolina      5757\n",
       "11  2016     Motocicletas    Gasolina      5989\n",
       "12  2017     Motocicletas    Gasolina      6187\n",
       "13  2018     Motocicletas    Gasolina      6400\n",
       "14  2019     Motocicletas    Gasolina      6668"
      ]
     },
     "execution_count": 19,
     "metadata": {},
     "output_type": "execute_result"
    }
   ],
   "source": [
    "# leemos el fichero csv con pandas\n",
    "# el archivo esta en un sistema windows por eso ponemos la 'r' delante de la ruta\n",
    "\n",
    "motos = pd.read_csv(r\"C:\\Users\\saris\\OneDrive\\Escritorio\\bootcampandy\\CibernariumDB\\Motocicletas gasolina.csv\")\n",
    "motos # lo visualizamos para comprobar que lo ha leído correctamente\n"
   ]
  },
  {
   "cell_type": "code",
   "execution_count": 20,
   "metadata": {},
   "outputs": [],
   "source": [
    "# vamos a darle valor a los 2 valores necesarios para realizar la regresión lineal\n",
    "x = motos['Año'] # variable independiente\n",
    "y = motos['Unidades'] # variable dependiente a la buscamos averiguar cuantas motos por año"
   ]
  },
  {
   "cell_type": "code",
   "execution_count": 21,
   "metadata": {},
   "outputs": [
    {
     "name": "stdout",
     "output_type": "stream",
     "text": [
      "El coeficiente de la pendiente es [219.82857143]\n",
      "El coeficiente de la intersección es; -437118.61904761905\n",
      "El R2 es: 0.9678\n"
     ]
    }
   ],
   "source": [
    "# llamamos la Regresión lineal de la libreria scikit-learn\n",
    "from sklearn.linear_model import LinearRegression\n",
    "\n",
    "# Creamos el modelo \n",
    "linear = LinearRegression() \n",
    "# entrenamos modelo\n",
    "linear.fit(x.values.reshape(-1,1),y) # inicializamos a (-1,1) \n",
    "\n",
    "# vamos a obtener el coeficiente de pendiente\n",
    "print(\"El coeficiente de la pendiente es\",linear.coef_)\n",
    "\n",
    "# vamos a obtener el oeficiente de la intersección\n",
    "print(\"El coeficiente de la intersección es;\", linear.intercept_)\n",
    "\n",
    "# por último vamos a mostrar el R2 \n",
    "r2b = round(linear.score(x.values.reshape(-1,1),y),4)\n",
    "print(\"El R2 es:\",r2b)\n"
   ]
  },
  {
   "cell_type": "code",
   "execution_count": 22,
   "metadata": {},
   "outputs": [
    {
     "name": "stdout",
     "output_type": "stream",
     "text": [
      "El número previsto de motos para el año [2030] será de 9133 motos\n"
     ]
    },
    {
     "name": "stderr",
     "output_type": "stream",
     "text": [
      "C:\\Users\\saris\\AppData\\Local\\Temp\\ipykernel_13288\\129239662.py:5: DeprecationWarning: Conversion of an array with ndim > 0 to a scalar is deprecated, and will error in future. Ensure you extract a single element from your array before performing this operation. (Deprecated NumPy 1.25.)\n",
      "  prediccion2 = int(prediccion2)\n"
     ]
    }
   ],
   "source": [
    "# elegimos la fecha\n",
    "fecha_value = np.array([2030])\n",
    "#hacemos la predicción en función del año\n",
    "prediccion2 = linear.predict(fecha_value.reshape(-1,1))\n",
    "prediccion2 = int(prediccion2)\n",
    "print(\"El número previsto de motos para el año {} será de {} motos\".format(fecha_value, prediccion2))"
   ]
  },
  {
   "cell_type": "code",
   "execution_count": 25,
   "metadata": {},
   "outputs": [
    {
     "data": {
      "image/png": "[encoded data removed]",
      "text/plain": [
       "<Figure size 640x480 with 1 Axes>"
      ]
     },
     "metadata": {},
     "output_type": "display_data"
    }
   ],
   "source": [
    "# ahora vamos a graficar un scatterplot con una regresion lineal de manera más visual\n",
    "import matplotlib.pyplot as plt\n",
    "import numpy as np\n",
    "lista = [prediccion2,b,r2b]\n",
    "# generamos los puntos en el gráfico\n",
    "plt.scatter(x,y, color ='green')\n",
    "\n",
    "# generamos la linea de tendencia\n",
    "z = np.polyfit(x,y,1) # el 1 es la dimensión \n",
    "h = np.poly1d(z)(x)\n",
    "#plt.legend(lista) # en la leyenda solo ha cogido el primer valor de la lista\n",
    "plt.title(f\"El valor de la predicción es {prediccion2} motos\") # hemos colocado los tres valores a modo de título del gráfico\n",
    "plt.plot(x,h,\"r--\", lw=1) # con \"r--\" le marcamos el color de la linea y con 'lw' (line width) le indicamos el ancho de la linea\n",
    "plt.show();\n",
    "\n"
   ]
  }
 ],
 "metadata": {
  "kernelspec": {
   "display_name": "Python 3",
   "language": "python",
   "name": "python3"
  },
  "language_info": {
   "codemirror_mode": {
    "name": "ipython",
    "version": 3
   },
   "file_extension": ".py",
   "mimetype": "text/x-python",
   "name": "python",
   "nbconvert_exporter": "python",
   "pygments_lexer": "ipython3",
   "version": "3.11.9"
  }
 },
 "nbformat": 4,
 "nbformat_minor": 2
}
