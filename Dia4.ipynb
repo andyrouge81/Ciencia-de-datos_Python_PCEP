{
 "cells": [
  {
   "cell_type": "markdown",
   "metadata": {},
   "source": [
    "## Ciencia de datos con Python - Preparación para la certificación PCEP de Python Institute-Dia 4"
   ]
  },
  {
   "cell_type": "markdown",
   "metadata": {},
   "source": [
    "Aprenderemso el tratamiento de errores; se implementa mediante Try...Except..etc.."
   ]
  },
  {
   "cell_type": "code",
   "execution_count": 7,
   "metadata": {},
   "outputs": [
    {
     "name": "stdout",
     "output_type": "stream",
     "text": [
      "Hoy es 03/03/25 e incremntando 4 días es 07/03/25\n"
     ]
    }
   ],
   "source": [
    "# Como sumar o restar  a una fecha, la clase timedelta, en la libreria o modulo datetime\n",
    "from datetime import datetime, timedelta\n",
    "ahora = datetime.now()\n",
    "ahora\n",
    "resultado = ahora + timedelta(days=4)\n",
    "print(\"Hoy es\", ahora.strftime('%d/%m/%y'), \"e incremntando 4 días es\" ,resultado.strftime('%d/%m/%y'))# sine l srtftime devuelve tiempo , segundos, microsegundos...\n",
    "# para restar\n",
    "resultado2 = ahora - timedelta(days=4)\n",
    "print(\"Hoy es\", ahora.strftime('%d/%m/%y'), \"y quitan 4 días es\" ,resultado.strftime('%d/%m/%y'))\n"
   ]
  },
  {
   "cell_type": "code",
   "execution_count": null,
   "metadata": {},
   "outputs": [
    {
     "name": "stdout",
     "output_type": "stream",
     "text": [
      "2025-03-03 10:07:26.692654\n",
      "2025-03-07 10:03:34.429591\n"
     ]
    }
   ],
   "source": [
    "from datetime import datetime, timedelta\n",
    "ahora = datetime.now()\n",
    "resultado3 = ahora + timedelta(days=2, hours=6, minutes=20, seconds=30) # se puede cambiar el orden de dias, minutos etc..\n",
    "print(ahora)\n",
    "print(resultado)"
   ]
  },
  {
   "cell_type": "code",
   "execution_count": null,
   "metadata": {},
   "outputs": [
    {
     "data": {
      "text/plain": [
       "'05/11/2023'"
      ]
     },
     "execution_count": 15,
     "metadata": {},
     "output_type": "execute_result"
    }
   ],
   "source": [
    "# Metodo string parse time, Se usa en Python para convertir  una cadena de texto en una intancia \n",
    "# de la clase datetime\n",
    "\n",
    "fecha = \"05#11#2023\" # quiero que sea la fecha 05/11/2023\n",
    "fecha2 = datetime.strptime(fecha,\"%d#%m#%Y\") # con esto le digo que la almohadilla es el formato con el que viene\n",
    "fecha2.strftime('%d/%m/%Y') \n"
   ]
  },
  {
   "cell_type": "markdown",
   "metadata": {},
   "source": [
    "### PRACTICA 22:\n",
    "* Partiendo de 4 listas, en la primera contendrá las fechas en formato mes@dia@año, la segunda lista días en número, la tercera horas en número, y la cuarta mintos en número. \n",
    "* Generar una lista resultante que contenga el incremento de días , horas y minutos de cada elemento de la lista,teniendo en cuenta el mismo número de orden o de indice.\n",
    "Lista fechas      Lista dias    Lista minutos      Lista segundos    ->           Lista final\n",
    "05@11@2024              8                   20                 18                19/05/2024 20:18\n",
    "\n",
    "* Listas:\n",
    "Fechas = [\"03@15@2012\", \"07@22@2025\", \"11@09@2030\", \"05@30@2018\", \"09@14@2007\", \"01@03@2021\"]\n",
    "Días = [23, 47, 35, 12, 50, 29]\n",
    "Horas = [7, 19, 3, 22, 11, 16]\n",
    "Minutos = [42, 7, 33, 58, 21, 14]\n",
    " \n"
   ]
  },
  {
   "cell_type": "code",
   "execution_count": null,
   "metadata": {},
   "outputs": [
    {
     "ename": "TypeError",
     "evalue": "'datetime.datetime' object is not subscriptable",
     "output_type": "error",
     "traceback": [
      "\u001b[0;31m---------------------------------------------------------------------------\u001b[0m",
      "\u001b[0;31mTypeError\u001b[0m                                 Traceback (most recent call last)",
      "Cell \u001b[0;32mIn[7], line 12\u001b[0m\n\u001b[1;32m     10\u001b[0m fechas2 \u001b[38;5;241m=\u001b[39m datetime\u001b[38;5;241m.\u001b[39mstrptime(i,\u001b[38;5;124m\"\u001b[39m\u001b[38;5;124m%\u001b[39m\u001b[38;5;124mm@\u001b[39m\u001b[38;5;132;01m%d\u001b[39;00m\u001b[38;5;124m@\u001b[39m\u001b[38;5;124m%\u001b[39m\u001b[38;5;124mY\u001b[39m\u001b[38;5;124m\"\u001b[39m)\n\u001b[1;32m     11\u001b[0m fechas2\u001b[38;5;241m.\u001b[39mstrftime(\u001b[38;5;124m\"\u001b[39m\u001b[38;5;132;01m%d\u001b[39;00m\u001b[38;5;124m/\u001b[39m\u001b[38;5;124m%\u001b[39m\u001b[38;5;124mm/\u001b[39m\u001b[38;5;124m%\u001b[39m\u001b[38;5;124mY\u001b[39m\u001b[38;5;124m\"\u001b[39m)\n\u001b[0;32m---> 12\u001b[0m lista_final\u001b[38;5;241m.\u001b[39mappend(\u001b[43mfechas2\u001b[49m\u001b[43m[\u001b[49m\u001b[38;5;241;43m0\u001b[39;49m\u001b[43m]\u001b[49m \u001b[38;5;241m+\u001b[39m \u001b[38;5;28mint\u001b[39m(dias[\u001b[38;5;241m0\u001b[39m]) \u001b[38;5;241m+\u001b[39m \u001b[38;5;28mint\u001b[39m(horas[\u001b[38;5;241m0\u001b[39m]) \u001b[38;5;241m+\u001b[39m \u001b[38;5;28mint\u001b[39m(minutos[\u001b[38;5;241m0\u001b[39m]))\n\u001b[1;32m     13\u001b[0m \u001b[38;5;28mprint\u001b[39m(lista_final)\n",
      "\u001b[0;31mTypeError\u001b[0m: 'datetime.datetime' object is not subscriptable"
     ]
    }
   ],
   "source": [
    "fechas = [\"03@15@2012\", \"07@22@2025\", \"11@09@2030\", \"05@30@2018\", \"09@14@2007\", \"01@03@2021\"]\n",
    "dias = [23, 47, 35, 12, 50, 29]\n",
    "horas = [7, 19, 3, 22, 11, 16]\n",
    "minutos = [42, 7, 33, 58, 21, 14]\n",
    "\n",
    "from datetime import datetime, timedelta\n",
    "lista_final = []\n",
    "\n",
    "for i in fechas:\n",
    "    fechas2 = datetime.strptime(i,\"%m@%d@%Y\")\n",
    "    fechas2.strftime(\"%d/%m/%Y\")\n",
    "    lista_final.append(fechas2 + timedelta\n",
    "    print(lista_final)\n"
   ]
  },
  {
   "cell_type": "code",
   "execution_count": null,
   "metadata": {},
   "outputs": [
    {
     "name": "stdout",
     "output_type": "stream",
     "text": [
      "2012-04-07 07:42:00\n",
      "2025-09-07 19:07:00\n",
      "2030-12-14 03:33:00\n",
      "2018-06-11 22:58:00\n",
      "2007-11-03 11:21:00\n",
      "2021-02-01 16:14:00\n",
      "['07/04/2012 07:42', '07/09/2025 19:07', '14/12/2030 03:33', '11/06/2018 22:58', '03/11/2007 11:21', '01/02/2021 16:14']\n"
     ]
    }
   ],
   "source": [
    "# la solución del profesor\n",
    "from datetime import datetime, timedelta\n",
    "fecha_final = [] # lista en blanco\n",
    "for i in range(6):\n",
    "    fecha_ok = datetime.strptime(fechas[i],\"%m@%d@%Y\")\n",
    "    nueva_fecha = fecha_ok + timedelta(days=dias[i],hours=horas[i],minutes= minutos[i])\n",
    "    #print(fecha_ok.strftime(\"%d/%m/%Y\"))\n",
    "    print(nueva_fecha) # se puede comentar\n",
    "    # lo colocamos en una lista\n",
    "    fecha_final.append(nueva_fecha.strftime(\"%d/%m/%Y %H:%M\"))\n",
    "\n",
    "print(fecha_final)\n"
   ]
  },
  {
   "cell_type": "markdown",
   "metadata": {},
   "source": [
    "Librerias externas de Python, la libreria pandas...\n",
    "\n",
    "* Primero se tiene que instalar con pip3 o con conda(pip es solo para python más específico y conda sirve para +lenguajes a parte de Python)\n",
    "* Primero cómo trabajar con pip3, en el simbolo de sistema (cmd o terminal) con permisos de administrados, power shell, visual studio code(fichero), terminal de VSC, el pip3 se instala con Python\n",
    "\n",
    "    * pip3 --version ->para ver las versiones de pip3\n",
    "    * where pip3 ->ver la ubicación,path, de tu ordenador\n",
    "    * pip3 list -> ver las librerias que tienes instaladas\n",
    "    * pip3 install + nombre de la libreria -> instalar una libreria\n"
   ]
  },
  {
   "cell_type": "markdown",
   "metadata": {},
   "source": [
    "La librería Pandas(una de las + famosas), sirve para trabajar con datos, importar los datos de diferentes origenes, tranformarlos\n",
    "y:\n",
    "* a-interpretarlos  \n",
    "* b-exportarlos\n",
    "\n",
    "\n",
    "Power Bi Desktop, ya reconoc la libreria pandas, mediante un script de python directo, se puede conectar a un origen de datos y trabajar con el. Pandas es la libreria para empezar a introducirnos en los datos con Python pero no sería la mejor.\n",
    "\n",
    "\n",
    "A día de hoy, librerias como Polars o Vaex serían librerias mejoradas para tratar datadsets con varios miles de filas.\n",
    "\n",
    "Pandas cuenta con tres tipos de estructuras, \n",
    "* series = Son estructuras de 1 dimensión(asociado un indice) son homogéneas, tienen que tener el mismo tipo de datos.\n",
    "* dataframes = Son estructuras de 2 dimensiones(Tabla de BBDD, consta de campos o columnas y filas o registros)\n",
    "    * Un dataframe es una colección de series\n",
    "* paneles = Son estructuras de tres dimensiones al estilo de cubos OLAP o similar\n",
    "\n",
    "Cómo instalar Pandas, desde el cmdo terminal > pip3 install pandas o cualquier libreria\n",
    "Cómo desinstalar una libreria en cmd o terminal>pip3 uninstall pandas\n",
    "\n",
    "Una libreria puede tener dependencias, que necesita de otras librerias y se instalan a la vez"
   ]
  },
  {
   "cell_type": "code",
   "execution_count": null,
   "metadata": {},
   "outputs": [
    {
     "name": "stdout",
     "output_type": "stream",
     "text": [
      "Requirement already satisfied: pandas in /Library/Frameworks/Python.framework/Versions/3.11/lib/python3.11/site-packages (2.2.3)\n",
      "Requirement already satisfied: numpy>=1.23.2 in /Library/Frameworks/Python.framework/Versions/3.11/lib/python3.11/site-packages (from pandas) (1.26.4)\n",
      "Requirement already satisfied: python-dateutil>=2.8.2 in /Users/andresrojo/Library/Python/3.11/lib/python/site-packages (from pandas) (2.9.0.post0)\n",
      "Requirement already satisfied: pytz>=2020.1 in /Library/Frameworks/Python.framework/Versions/3.11/lib/python3.11/site-packages (from pandas) (2024.1)\n",
      "Requirement already satisfied: tzdata>=2022.7 in /Library/Frameworks/Python.framework/Versions/3.11/lib/python3.11/site-packages (from pandas) (2024.1)\n",
      "Requirement already satisfied: six>=1.5 in /Users/andresrojo/Library/Python/3.11/lib/python/site-packages (from python-dateutil>=2.8.2->pandas) (1.16.0)\n"
     ]
    }
   ],
   "source": [
    "# otra manera de instalar otra libreria, con el signo de admiración delante\n",
    "!pip3 install pandas\n",
    "# si me pide una actualización del pip, en el prompt c:temp> o macbook_de_quiensea ~ %\n",
    "# en el prompt pondré\n",
    "!pip3 install --upgrade pip\n",
    "# una vez actualizado el pip, pondremos otra vez !pip3 install pandas"
   ]
  },
  {
   "cell_type": "code",
   "execution_count": null,
   "metadata": {},
   "outputs": [
    {
     "data": {
      "text/plain": [
       "0     Sabado\n",
       "1    Domingo\n",
       "dtype: object"
      ]
     },
     "execution_count": 22,
     "metadata": {},
     "output_type": "execute_result"
    }
   ],
   "source": [
    "import pandas as pd\n",
    "# Crear una serie alfanumerica\n",
    "semana = pd.Series(['Lunes', 'Martes', 'Miercoles', 'Jueves','Viernes'])\n",
    "semana # la diferencia con lista, la serie tiene asociado un índice\n",
    "\n",
    "fin_semana = ['Sabado', 'Domingo'] # se pueden crear la serie desde una lista predefinida \n",
    "finde = pd.Series(fin_semana)\n",
    "finde \n",
    "# las series alfanumericas son de dtype = object"
   ]
  },
  {
   "cell_type": "code",
   "execution_count": null,
   "metadata": {},
   "outputs": [
    {
     "data": {
      "text/plain": [
       "0    12\n",
       "1    58\n",
       "2    73\n",
       "3    68\n",
       "4    44\n",
       "5    35\n",
       "dtype: int64"
      ]
     },
     "execution_count": 23,
     "metadata": {},
     "output_type": "execute_result"
    }
   ],
   "source": [
    "# Cargar una serie a partir de una lista existente\n",
    "\n",
    "numeros = [12,58,73,68,44,35]\n",
    "\n",
    "serie_num = pd.Series(numeros)\n",
    "serie_num # notese la clase de la serie , int64\n",
    "\n",
    " "
   ]
  },
  {
   "cell_type": "code",
   "execution_count": null,
   "metadata": {},
   "outputs": [
    {
     "data": {
      "text/plain": [
       "0    3.50\n",
       "1    6.57\n",
       "2    8.32\n",
       "dtype: float64"
      ]
     },
     "execution_count": 24,
     "metadata": {},
     "output_type": "execute_result"
    }
   ],
   "source": [
    "numeros2 = [3.5,6.57,8.32]\n",
    "serie_num2 = pd.Series(numeros2)\n",
    "serie_num2 # notese la calase de la serie, float64"
   ]
  },
  {
   "cell_type": "code",
   "execution_count": null,
   "metadata": {},
   "outputs": [
    {
     "data": {
      "text/plain": [
       "0     True\n",
       "1     True\n",
       "2    False\n",
       "3     True\n",
       "4    False\n",
       "dtype: bool"
      ]
     },
     "execution_count": 25,
     "metadata": {},
     "output_type": "execute_result"
    }
   ],
   "source": [
    "valores = [True, True, False, True, False]\n",
    "boleana = pd.Series(valores)\n",
    "boleana # notese la calase de la serie, bool"
   ]
  },
  {
   "cell_type": "code",
   "execution_count": null,
   "metadata": {},
   "outputs": [
    {
     "name": "stdout",
     "output_type": "stream",
     "text": [
      "La suma de la serie es: 290\n",
      "El promedio de la serie es: 48.333333333333336\n",
      "El promedio de la serie es: 48.33 con redondeo\n",
      "El valor mas grande es 73 y el mas pequeño es 12 \n",
      "Los elementos de la serie son 6\n",
      "Los valores acumulados de la serie son: 0     12\n",
      "1     70\n",
      "2    143\n",
      "3    211\n",
      "4    255\n",
      "5    290\n",
      "dtype: int64\n"
     ]
    }
   ],
   "source": [
    "# Funciones de resumen de una serie numérica\n",
    "\n",
    "# para la suma función \"sum()\"\n",
    "print(\"La suma de la serie es:\",serie_num.sum())\n",
    "\n",
    "# para el promedio función \"mean()\"\n",
    "print(\"El promedio de la serie es:\",serie_num.mean())\n",
    "\n",
    "# El redondeo de los decimales con \"round\"\n",
    "print(\"El promedio de la serie es:\", round(serie_num.mean(),2), \"con redondeo\")\n",
    "\n",
    "# El valor mas grande y el más pequeño con max() y min()\n",
    "print(\"El valor mas grande es {} y el mas pequeño es {} \".format(serie_num.max(), serie_num.min()))\n",
    "\n",
    "# El \"count\" es el número de elementos o número de filas de la Serie \n",
    "print(\"Los elementos de la serie son\",serie_num.count())\n",
    "\n",
    "# El acumulado de la suma, con la función cumsum()\n",
    "print(\"Los valores acumulados de la serie son:\", serie_num.cumsum())\n"
   ]
  },
  {
   "cell_type": "code",
   "execution_count": null,
   "metadata": {},
   "outputs": [
    {
     "name": "stdout",
     "output_type": "stream",
     "text": [
      "La varianza es: 521.0666666666667\n",
      "La desviación típica es: 22.826884734160874\n",
      "Ver el resumen estadístico con describe\n",
      " count     6.000000\n",
      "mean     48.333333\n",
      "std      22.826885\n",
      "min      12.000000\n",
      "25%      37.250000\n",
      "50%      51.000000\n",
      "75%      65.500000\n",
      "max      73.000000\n",
      "dtype: float64\n"
     ]
    }
   ],
   "source": [
    "# Funciones de estadística sobre una serie, la varianza: La variabilidad de una serie numerica respecto a su media, \n",
    "# con la función \"var\"\n",
    "print(\"La varianza es:\", serie_num.var())\n",
    "\n",
    "# La desviación típica, es la desviación media de una variable con respecto a su media\n",
    "print(\"La desviación típica es:\", serie_num.std())\n",
    "\n",
    "# Ver un resumen estadístico con la función \"descibe()\", vemos count, mean, std , los cuartiles, max y min\n",
    "print(\"Ver el resumen estadístico con describe\\n\", serie_num.describe())\n"
   ]
  },
  {
   "cell_type": "code",
   "execution_count": null,
   "metadata": {},
   "outputs": [
    {
     "name": "stdout",
     "output_type": "stream",
     "text": [
      "La Serie + 10 es: \n",
      " 0    22\n",
      "1    68\n",
      "2    83\n",
      "3    78\n",
      "4    54\n",
      "5    45\n",
      "dtype: int64\n"
     ]
    },
    {
     "data": {
      "text/plain": [
       "pandas.core.series.Series"
      ]
     },
     "execution_count": 50,
     "metadata": {},
     "output_type": "execute_result"
    }
   ],
   "source": [
    "# Transformación de una serie, quiero sumar 10 a todos los elementos de una serie y \n",
    "# para ellos crearemos una funcion y llamaremos con apply(), que aplica a cada elemento de la serie la función llamada\n",
    "\n",
    "def suma10(num): # definimos la función \n",
    "    return num + 10\n",
    "\n",
    "# ver en el output la lista después de incrementar 10, nombre de la serie, despues llamar a apply, en el print es solo lectura\n",
    "# con el \"apply()\" le indicamos solo el nombr de la función e internamente le c¡pasa cada vez el número de cada elemento de la serie\n",
    "print(\"La Serie + 10 es: \\n\", serie_num.apply(suma10))\n",
    "\n",
    "# La salida no modifica la serie, si quisieramos poner los resultado en una serie nueva, lo igualamos a una variable\n",
    "serie_num2 = serie_num.apply(suma10)\n",
    "serie_num2 # el mismo resultado en una variable nueva y poder trabajar con ella en futuras operaciones\n",
    "type(serie_num2) # nos dice que es la clase de la variable es una Serie"
   ]
  },
  {
   "cell_type": "code",
   "execution_count": 54,
   "metadata": {},
   "outputs": [
    {
     "name": "stdout",
     "output_type": "stream",
     "text": [
      "0    12\n",
      "5    35\n",
      "4    44\n",
      "1    58\n",
      "3    68\n",
      "2    73\n",
      "dtype: int64\n",
      "0    12\n",
      "1    35\n",
      "2    44\n",
      "3    58\n",
      "4    68\n",
      "5    73\n",
      "dtype: int64\n"
     ]
    }
   ],
   "source": [
    "# Cómo ordenar una serie en pandas, con sort_values(), ascending = True (orden ascendente)\n",
    "# en orden descendete seria ascending = False, me lo ordena pero conserva el número de indice \n",
    "\n",
    "print(serie_num.sort_values(ascending = True)) # ascendente\n",
    "\n",
    "# Si queremos reindexar, según la ordenación usaremos ignore_index = True, sigue siendo de lectura, \n",
    "# no está modificando ni el orden ni el índice del original\n",
    "print(serie_num.sort_values(ascending = True, ignore_index = True))\n"
   ]
  },
  {
   "cell_type": "code",
   "execution_count": null,
   "metadata": {},
   "outputs": [
    {
     "data": {
      "text/plain": [
       "1    58\n",
       "2    73\n",
       "3    68\n",
       "dtype: int64"
      ]
     },
     "execution_count": 55,
     "metadata": {},
     "output_type": "execute_result"
    }
   ],
   "source": [
    "# El filtrado de una serie, muestrame sólo los valores que sean mayor de 50\n",
    "serie_num[serie_num>50] # el criterio de filtrado se ponen entre corchetes\n"
   ]
  },
  {
   "cell_type": "code",
   "execution_count": null,
   "metadata": {},
   "outputs": [
    {
     "data": {
      "text/plain": [
       "0     True\n",
       "1    False\n",
       "2    False\n",
       "3    False\n",
       "4     True\n",
       "5     True\n",
       "dtype: bool"
      ]
     },
     "execution_count": 58,
     "metadata": {},
     "output_type": "execute_result"
    }
   ],
   "source": [
    "# Alternativa guardar el filtro en un objeto\n",
    "\n",
    "f_minus50 = serie_num < 50\n",
    "f_minus50 # esto es un objeto booleano(devuelve True or False)\n",
    "serie_num[f_minus50]"
   ]
  },
  {
   "cell_type": "code",
   "execution_count": null,
   "metadata": {},
   "outputs": [
    {
     "data": {
      "text/plain": [
       "0    12\n",
       "1    35\n",
       "2    44\n",
       "dtype: int64"
      ]
     },
     "execution_count": 60,
     "metadata": {},
     "output_type": "execute_result"
    }
   ],
   "source": [
    "# Todo junto filtrar +  ordenar\n",
    "\n",
    "serie_num[f_minus50].sort_values(ascending= True, ignore_index=True)"
   ]
  },
  {
   "cell_type": "markdown",
   "metadata": {},
   "source": [
    "### PRACTICA 23:\n",
    "* Crear una serie de pandas con los siguientes números [34,124,81,9,81,67,124,34,15,47,81,124,967,22] a esta serie la llamaremos \"numeros_vip\" clonaremos esta serie para tener solamente los números de la serie que sean mayor de 50, en orden \n",
    "y reindexado. A esta nueva serie le llamaremos \"numeros_vip_50\" a esta nueva serie le aplicaremos una función por la cual, si el número está entre 60 y 85, le sumaremos 10 y si no esta entre 60 y 85 le restaremos 5. Redondeado a 3 decimales.\n",
    "\n",
    "    * Ver en un texto el promedio de la serie_ numeros_vip_50\n",
    "    * Ver en un texto la desviación típica de la serie numeros_vip_50\n",
    "    * Ver en un texto la varianza de la serie numeros_vip_50\n",
    "    * Ver la suma acumulada de la serie numeros_vip_50"
   ]
  },
  {
   "cell_type": "code",
   "execution_count": 97,
   "metadata": {},
   "outputs": [
    {
     "name": "stdout",
     "output_type": "stream",
     "text": [
      "Los numeros vip son: 0      34\n",
      "1     124\n",
      "2      81\n",
      "3       9\n",
      "4      81\n",
      "5      67\n",
      "6     124\n",
      "7      34\n",
      "8      15\n",
      "9      47\n",
      "10     81\n",
      "11    124\n",
      "12    967\n",
      "13     22\n",
      "dtype: int64\n",
      "\n",
      "La serie de numeros vip es: 0     67\n",
      "1     81\n",
      "2     81\n",
      "3     81\n",
      "4    124\n",
      "5    124\n",
      "6    124\n",
      "7    967\n",
      "dtype: int64\n",
      "0     77\n",
      "1     91\n",
      "2     91\n",
      "3     91\n",
      "4    119\n",
      "5    119\n",
      "6    119\n",
      "7    962\n",
      "dtype: int64\n",
      "\n",
      "La media es: 206.125\n",
      "La desviación típica es: 308.334\n",
      "La varainza de la serie vip es: 95069.839\n",
      "\n",
      "La suma acumulada de la serie vip es:\n",
      " 0      67\n",
      "1     148\n",
      "2     229\n",
      "3     310\n",
      "4     434\n",
      "5     558\n",
      "6     682\n",
      "7    1649\n",
      "dtype: int64\n"
     ]
    }
   ],
   "source": [
    "# importamos las librerias necesarias\n",
    "import pandas as pd\n",
    "\n",
    "# creamos la lista con los valores\n",
    "num = [34,124,81,9,81,67,124,34,15,47,81,124,967,22]\n",
    "\n",
    "numeros_vip = pd.Series(num)\n",
    "print(\"Los numeros vip son:\", numeros_vip)\n",
    "print() # linea en blanco\n",
    "max50 = numeros_vip > 50 # filtrado mayor de 50\n",
    "numeros_vip_50 = numeros_vip[max50].sort_values(ascending = True, ignore_index = True) # lo filtramos entre corchetes\n",
    "print(\"La serie de numeros vip es:\",numeros_vip_50)\n",
    "\n",
    "# generamos las función que modifica la serie\n",
    "\n",
    "def modifica(x):\n",
    "    if x >= 60 and x <= 85:\n",
    "        return x + 10\n",
    "    else:\n",
    "        return x -5\n",
    "\n",
    "# generamos la secuencia que nos ayuda a ejecutar las funciones de suma y resta con apply\n",
    "\n",
    "print(numeros_vip_50.apply(modifica))\n",
    "\n",
    "# promedio de la serie vip\n",
    "media = numeros_vip_50.mean()\n",
    "print(\"\\nLa media es:\",round(media,3))\n",
    "\n",
    "#desviacion típica \n",
    "desvia = numeros_vip_50.std()\n",
    "print(\"La desviación típica es:\", round(desvia,3))\n",
    "\n",
    "# varianza de la serie vip\n",
    "varianza = numeros_vip_50.var()\n",
    "print(\"La varainza de la serie vip es:\",round(varianza,3))\n",
    "\n",
    "# la suma acumulada de la serir vip\n",
    "sumacum = numeros_vip_50.cumsum()\n",
    "print(\"\\nLa suma acumulada de la serie vip es:\\n\",sumacum)\n"
   ]
  },
  {
   "cell_type": "code",
   "execution_count": null,
   "metadata": {},
   "outputs": [
    {
     "data": {
      "text/plain": [
       "0     77\n",
       "1     91\n",
       "2     91\n",
       "3     91\n",
       "4    119\n",
       "5    119\n",
       "6    119\n",
       "7    962\n",
       "dtype: int64"
      ]
     },
     "execution_count": 76,
     "metadata": {},
     "output_type": "execute_result"
    }
   ],
   "source": [
    "# la solución del profe\n",
    "\n",
    "def modifica(x):\n",
    "    if x >= 60 and x <= 85: # dntro dl tramo 60-85\n",
    "        return x + 10\n",
    "    else:\n",
    "        return x -5\n",
    "    \n",
    "# rasignarl a la serie\n",
    "numeros_vip_50.apply(modifica)\n"
   ]
  }
 ],
 "metadata": {
  "kernelspec": {
   "display_name": "Python 3",
   "language": "python",
   "name": "python3"
  },
  "language_info": {
   "codemirror_mode": {
    "name": "ipython",
    "version": 3
   },
   "file_extension": ".py",
   "mimetype": "text/x-python",
   "name": "python",
   "nbconvert_exporter": "python",
   "pygments_lexer": "ipython3",
   "version": "3.11.9"
  }
 },
 "nbformat": 4,
 "nbformat_minor": 2
}
