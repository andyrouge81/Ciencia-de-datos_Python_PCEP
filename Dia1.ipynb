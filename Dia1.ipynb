{
 "cells": [
  {
   "cell_type": "markdown",
   "metadata": {},
   "source": [
    "## Ciencia de datos con Python - Preparación para la certificación PCEP de Python Institute-Dia 1"
   ]
  },
  {
   "cell_type": "code",
   "execution_count": 1,
   "metadata": {},
   "outputs": [],
   "source": [
    "x = 10 # declaramos la variable con un valor que se guarda en el kernel\n"
   ]
  },
  {
   "cell_type": "code",
   "execution_count": 2,
   "metadata": {},
   "outputs": [
    {
     "data": {
      "text/plain": [
       "13"
      ]
     },
     "execution_count": 2,
     "metadata": {},
     "output_type": "execute_result"
    }
   ],
   "source": [
    "x + 3 # si reiniciamos el kernel debemos ejecutar los pasos anteriores para que se ejecuten las celdas\n"
   ]
  },
  {
   "cell_type": "code",
   "execution_count": 3,
   "metadata": {},
   "outputs": [
    {
     "data": {
      "text/plain": [
       "16"
      ]
     },
     "execution_count": 3,
     "metadata": {},
     "output_type": "execute_result"
    }
   ],
   "source": [
    "X = 5 # diferenciación de mayús con minús\n",
    "x + X\n",
    "x + 6 # solo muestra en el output la última operación"
   ]
  },
  {
   "cell_type": "code",
   "execution_count": 4,
   "metadata": {},
   "outputs": [
    {
     "name": "stdout",
     "output_type": "stream",
     "text": [
      "El resultado es: 19\n",
      "El resultado es: 9\n"
     ]
    }
   ],
   "source": [
    "print(\"El resultado es:\", x + 9)\n",
    "print(\"El resultado es:\", X + 4)"
   ]
  },
  {
   "cell_type": "code",
   "execution_count": 5,
   "metadata": {},
   "outputs": [
    {
     "name": "stdout",
     "output_type": "stream",
     "text": [
      "Hoy es Lunes\n",
      "\n",
      "Mañana será Martes\n"
     ]
    }
   ],
   "source": [
    "# una variable texto se asigna entre comillas\n",
    "dia = \"Lunes\"\n",
    "dia2 = \"Martes\"\n",
    "print(\"Hoy es\", dia)\n",
    "print() # linea en blanco, no es un salto de página\n",
    "print(\"Mañana será\", dia2)"
   ]
  },
  {
   "cell_type": "code",
   "execution_count": null,
   "metadata": {},
   "outputs": [
    {
     "name": "stdout",
     "output_type": "stream",
     "text": [
      "El mes seleccionado es Agosto\n"
     ]
    }
   ],
   "source": [
    "# funcion input, es una función que detiene la ejecución del código a la espera de una respuesta\n",
    "# esta respuesta se tendrá que guardar en una variable\n",
    "\n",
    "mes = input(\"Introduzca el nombre del mes:\")\n",
    "print(\"El mes seleccionado es\", mes)"
   ]
  },
  {
   "cell_type": "code",
   "execution_count": 7,
   "metadata": {},
   "outputs": [
    {
     "name": "stdout",
     "output_type": "stream",
     "text": [
      "[12, 4, 'Lunes', 'Martes', 67]\n"
     ]
    }
   ],
   "source": [
    "# las listas en python, es un objeto  que almacna temporalmente varios valores\n",
    "# va entre corchetes [], las listas son heterogéneas(pueden contener distintos tipos de datos)\n",
    "\n",
    "lista = [12, 4, \"Lunes\", \"Martes\", 67]\n",
    "print(lista)"
   ]
  },
  {
   "cell_type": "code",
   "execution_count": 8,
   "metadata": {},
   "outputs": [
    {
     "data": {
      "text/plain": [
       "67"
      ]
     },
     "execution_count": 8,
     "metadata": {},
     "output_type": "execute_result"
    }
   ],
   "source": [
    "# como ver los elementos dentro de la lista\n",
    "lista[3] # output \"Martes\"\n",
    "lista[0] # output 12\n",
    "lista[4] # output 67"
   ]
  },
  {
   "cell_type": "code",
   "execution_count": 9,
   "metadata": {},
   "outputs": [
    {
     "name": "stdout",
     "output_type": "stream",
     "text": [
      "5 elementos en la lista\n",
      "6 caracateres tiene Martes\n"
     ]
    }
   ],
   "source": [
    "# como ver la cantidad de elementos de una lista con la funcion len()\n",
    "# también nos devuelve el número de caracteres de una variable\n",
    "print(len(lista), \"elementos en la lista\")\n",
    "print(len(dia2), \"caracateres tiene Martes\")"
   ]
  },
  {
   "cell_type": "code",
   "execution_count": 10,
   "metadata": {},
   "outputs": [
    {
     "name": "stdout",
     "output_type": "stream",
     "text": [
      "[12, 4, 'Lunes', 'Martes', 67, 'Miércoles']\n"
     ]
    }
   ],
   "source": [
    "# para añadir elementos a una lista \"append\" añade al final de la lista\n",
    "lista.append(\"Miércoles\")\n",
    "print(lista)\n"
   ]
  },
  {
   "cell_type": "code",
   "execution_count": 11,
   "metadata": {},
   "outputs": [
    {
     "name": "stdout",
     "output_type": "stream",
     "text": [
      "['Domingo', 12, 4, 'Lunes', 'Martes', 67, 'Miércoles']\n"
     ]
    }
   ],
   "source": [
    "# para insertar un elemento dentro de la lista, utilizamos la funcion insert()\n",
    "lista.insert(0,\"Domingo\") # le pasamos la posisción y luego el elemento a añadir\n",
    "print(lista)"
   ]
  },
  {
   "cell_type": "code",
   "execution_count": 12,
   "metadata": {},
   "outputs": [
    {
     "name": "stdout",
     "output_type": "stream",
     "text": [
      "['Domingo', 12, 4, 'Lunes', 'Martes', 67]\n",
      "['Domingo', 12, 'Lunes', 'Martes', 67]\n"
     ]
    }
   ],
   "source": [
    "# para eliminar un elemento de la lista utilizamos la función remove\n",
    "lista.remove(\"Miércoles\")\n",
    "print(lista)\n",
    "# para eliminar en funcion de un indice\n",
    "del lista[2] # vamos a eliminar la posicion 2\n",
    "print(lista)"
   ]
  },
  {
   "cell_type": "markdown",
   "metadata": {},
   "source": [
    "## PRACTICA 1: \n",
    "* Crear una lista llamada meses, que contenga los meses de enero a junio menos abril.\n",
    "* Añádir al final los meses de julio y agosto. Insertaremos en su sitio el mes de abril y añadiremos al final los meses de marzo y junio y eliminaremos los meses que nos están correctos."
   ]
  },
  {
   "cell_type": "code",
   "execution_count": 13,
   "metadata": {},
   "outputs": [
    {
     "name": "stdout",
     "output_type": "stream",
     "text": [
      "['Enero', 'Febrero', 'Marzo', 'Abril', 'Mayo', 'Junio', 'Julio', 'Agosto']\n",
      "['Enero', 'Febrero', 'Marzo', 'Abril', 'Mayo', 'Junio', 'Julio', 'Agosto', 'Marzo', 'Junio']\n",
      "['Enero', 'Febrero', 'Marzo', 'Abril', 'Mayo', 'Junio', 'Julio', 'Agosto']\n"
     ]
    }
   ],
   "source": [
    "# mi respuesta\n",
    "meses = [\"Enero\", \"Febrero\", \"Marzo\", \"Mayo\", \"Junio\"]\n",
    "meses.append(\"Julio\")\n",
    "meses.append(\"Agosto\")\n",
    "meses.insert(3,\"Abril\")\n",
    "print(meses)\n",
    "meses.append(\"Marzo\")\n",
    "meses.append(\"Junio\")\n",
    "print(meses)\n",
    "del meses[8:]\n",
    "print(meses)"
   ]
  },
  {
   "cell_type": "code",
   "execution_count": 14,
   "metadata": {},
   "outputs": [
    {
     "name": "stdout",
     "output_type": "stream",
     "text": [
      "['Enero', 'Febrero', 'Marzo', 'Mayo', 'Junio']\n",
      "['Enero', 'Febrero', 'Marzo', 'Abril', 'Mayo', 'Junio', 'Julio', 'Agosto']\n",
      "['Enero', 'Febrero', 'Marzo', 'Abril', 'Mayo', 'Junio', 'Julio', 'Agosto', 'Marzo', 'Junio']\n",
      "['Enero', 'Febrero', 'Marzo', 'Abril', 'Mayo', 'Junio', 'Julio', 'Agosto']\n"
     ]
    }
   ],
   "source": [
    "# la respuesta del profesor\n",
    "meses1 = [\"Enero\", \"Febrero\", \"Marzo\", \"Mayo\", \"Junio\"]\n",
    "print(meses1)\n",
    "meses1.append(\"Julio\")# append se añade de uno en uno, por separado\n",
    "meses1.append(\"Agosto\")\n",
    "meses1.insert(3,\"Abril\")\n",
    "print(meses1)\n",
    "meses1.append(\"Marzo\")\n",
    "meses1.append(\"Junio\")\n",
    "print(meses1)\n",
    "# con remove borraria la primera coincidencia de la lista y no nos serviría\n",
    "# meses1.remove(\"Marzo\")\n",
    "del meses1[8:] # elimina del indice 8 hasta el final\n",
    "print(meses1)\n",
    "# pop()elimina el último elemento de la lista si no pone nada y devuelve la lista"
   ]
  },
  {
   "cell_type": "code",
   "execution_count": 15,
   "metadata": {},
   "outputs": [],
   "source": [
    "# Las estructuras de decisión, if ...else.\n",
    "# Tenememos differentes estructuras, estas estructuras quedan definidas por :\n",
    "#  siempre que tengo : significa que la seiguiente línea de código va con identación(4 espacios a la derecha)\n",
    "# if analiza una condición o prueba lógina y sis se cumple ejecuta una parte verdadera\n",
    "# significa comparar valores, mediante los operadores de comparación.\n",
    "# Mayor 8 > 4 True, lo que ejecutaría el proceso \"Verdadero\"\n",
    "# Menos 8 < 12 True, ejecuta la parte verdadera.\n",
    "# >= Mayor o igual\n",
    "# <= Menos o igual\n",
    "# == igual que\n",
    "# != distintio que "
   ]
  },
  {
   "cell_type": "code",
   "execution_count": 16,
   "metadata": {},
   "outputs": [
    {
     "name": "stdout",
     "output_type": "stream",
     "text": [
      "10 es mayor que 5\n",
      "Éxitos\n"
     ]
    }
   ],
   "source": [
    "# mostrar la parte True del if\n",
    "i = 10\n",
    "if i > 5:\n",
    "    print(i,\"es mayor que 5\")\n",
    "\n",
    "# mi estructura termina cuando y ano hay identación\n",
    "print(\"Éxitos\")"
   ]
  },
  {
   "cell_type": "code",
   "execution_count": 17,
   "metadata": {},
   "outputs": [
    {
     "name": "stdout",
     "output_type": "stream",
     "text": [
      "30 es mayor de 10\n",
      "Terminado\n"
     ]
    }
   ],
   "source": [
    "# como mostrar la parte False de un if\n",
    "i = 30\n",
    "if i > 10:\n",
    "    print(i, \"es mayor de 10\")\n",
    "else:\n",
    "    print(i, \" es menor\")\n",
    "print(\"Terminado\")\n"
   ]
  },
  {
   "cell_type": "markdown",
   "metadata": {},
   "source": [
    "Cuando tengo una función \"input\" o un \"print\", el valor que devuelve es siempre un texto\n",
    "Si quiero trabajar con ese valor de input, tendré que convertir la variable"
   ]
  },
  {
   "cell_type": "code",
   "execution_count": 18,
   "metadata": {},
   "outputs": [
    {
     "name": "stdout",
     "output_type": "stream",
     "text": [
      "7\n"
     ]
    }
   ],
   "source": [
    "i = input(\"Pont un número: \") # convertimos la variable con 2 funciones, si queremos un entero, la funcion int()\n",
    "# si queremos un decimal con float()\n",
    "i = int(i)\n",
    "print(i+3)\n"
   ]
  },
  {
   "cell_type": "markdown",
   "metadata": {},
   "source": [
    "## PRACTICA 2:\n",
    "Mediante una estructura if...else, mostrar un mensaje que ponga \"el número entero x es mayor que 20\" o \"el número x no es mayor de 20\", si el valor de una variable ajustada mediante \"input\" cumple la condición(mayor o no de 20)\n",
    "\n",
    "## PRACTICA 2 BIS:\n",
    "Lo mismo para un número decimal."
   ]
  },
  {
   "cell_type": "code",
   "execution_count": 19,
   "metadata": {},
   "outputs": [
    {
     "name": "stdout",
     "output_type": "stream",
     "text": [
      "El número 5 es menor que 20\n"
     ]
    }
   ],
   "source": [
    "num = int(input(\"Introduzca un número entero:\")) # para números enteros\n",
    "\n",
    "if num > 20:\n",
    "    print(\"El número {} es mayor que 20\".format(num))\n",
    "else:\n",
    "    print(\"El número {} es menor que 20\".format(num))\n"
   ]
  },
  {
   "cell_type": "code",
   "execution_count": 20,
   "metadata": {},
   "outputs": [
    {
     "name": "stdout",
     "output_type": "stream",
     "text": [
      "El número 6.0 es menor que 20\n"
     ]
    }
   ],
   "source": [
    "num = float(input(\"Introduzca un número decimal:\")) # para números decimales\n",
    "\n",
    "if num > 20:\n",
    "    print(\"El número {} es mayor que 20\".format(num))\n",
    "else:\n",
    "     print(\"El número {} es menor que 20\".format(num))\n"
   ]
  },
  {
   "cell_type": "code",
   "execution_count": 21,
   "metadata": {},
   "outputs": [
    {
     "name": "stdout",
     "output_type": "stream",
     "text": [
      "esta entr 0-10\n"
     ]
    }
   ],
   "source": [
    "# si ncsitamos más opciones de dvolución  utilizaremos elif, \n",
    "# con el elif clasificaremos un número por tramos\n",
    "\n",
    "x = int(input(\"Ponga un numero entero:\"))# asumimos que x es positivo\n",
    "\n",
    "if x <= 10: \n",
    "    print(\"esta entr 0-10\")\n",
    "elif x <=20:\n",
    "    print(\"esta entre 10-20\")\n",
    "elif x <=30:\n",
    "    print(\"Esta entre 20-30\")\n",
    "else:\n",
    "    print(\"Es mayor de 30\")\n"
   ]
  },
  {
   "cell_type": "markdown",
   "metadata": {},
   "source": [
    "Estructura bucle, es un código que se repite hasta que se cumple una condición dada\n",
    "Hay 2 tipos de bucles, los finitos y los infinitos:\n",
    "* Los bucles finitos son aquellos que van a terminar si o si\n",
    "    * Los finitos va  a terminar seguro porque sabemos de antemano cuantas veces se repetirá el código.(cada vez que se repite el codigo, es una iteración)\n",
    "    * Para el bucle finito for(tiene una varaible asociada)\n",
    "* Los bucles infinitos pueden terminar o puede que no.\n",
    "    * El bucle infinito while(no tiene una variable asociada)"
   ]
  },
  {
   "cell_type": "code",
   "execution_count": 22,
   "metadata": {},
   "outputs": [
    {
     "name": "stdout",
     "output_type": "stream",
     "text": [
      "El valor de i es: 1\n",
      "El valor de i es: 2\n",
      "El valor de i es: 3\n",
      "El valor de i es: 4\n",
      "El valor de i es: 5\n"
     ]
    }
   ],
   "source": [
    "for i in [1,2,3,4,5]: # itera por los elementos de la lista\n",
    "    print(\"El valor de i es:\", i)"
   ]
  },
  {
   "cell_type": "code",
   "execution_count": 23,
   "metadata": {},
   "outputs": [
    {
     "name": "stdout",
     "output_type": "stream",
     "text": [
      "El valor de i es: Domingo\n",
      "El valor de i es: 12\n",
      "El valor de i es: Lunes\n",
      "El valor de i es: Martes\n",
      "El valor de i es: 67\n"
     ]
    }
   ],
   "source": [
    "for i in lista:\n",
    "    print(\"El valor de i es:\", i)"
   ]
  },
  {
   "cell_type": "markdown",
   "metadata": {},
   "source": [
    "La función \"range\" genera números consecutivos en función de un step o salto."
   ]
  },
  {
   "cell_type": "code",
   "execution_count": 24,
   "metadata": {},
   "outputs": [
    {
     "data": {
      "text/plain": [
       "[0, 1, 2, 3, 4, 5, 6, 7, 8, 9]"
      ]
     },
     "execution_count": 24,
     "metadata": {},
     "output_type": "execute_result"
    }
   ],
   "source": [
    "lista_num = range(10) # con range generamos 10 números consecutivos\n",
    "# para ver la lista utilizaremos la función \"list()\"\n",
    "list(lista_num)"
   ]
  },
  {
   "cell_type": "code",
   "execution_count": 25,
   "metadata": {},
   "outputs": [
    {
     "data": {
      "text/plain": [
       "[10, 11, 12, 13, 14, 15, 16, 17, 18, 19, 20, 21, 22, 23, 24]"
      ]
     },
     "execution_count": 25,
     "metadata": {},
     "output_type": "execute_result"
    }
   ],
   "source": [
    "lista_num2 = range(10,25) # genera lista de números desde el que pongamos hasta el final \n",
    "list(lista_num2)"
   ]
  },
  {
   "cell_type": "code",
   "execution_count": null,
   "metadata": {},
   "outputs": [
    {
     "data": {
      "text/plain": [
       "[10, 12, 14, 16, 18, 20, 22, 24]"
      ]
     },
     "execution_count": 26,
     "metadata": {},
     "output_type": "execute_result"
    }
   ],
   "source": [
    "lista_num2 = range(10,25,2) # genera lista de números desde el que pongamos hasta el final,\n",
    "                            # pero con el step de dos en dos\n",
    "list(lista_num2)"
   ]
  },
  {
   "cell_type": "code",
   "execution_count": 27,
   "metadata": {},
   "outputs": [
    {
     "data": {
      "text/plain": [
       "[50, 48, 46, 44, 42, 40, 38, 36, 34, 32, 30, 28, 26, 24, 22]"
      ]
     },
     "execution_count": 27,
     "metadata": {},
     "output_type": "execute_result"
    }
   ],
   "source": [
    "# range regresivo, al revés el primer valor será el más grande y el segundo el mas pequeño\n",
    "lista_num3 = range(50,20,-2) # el step tiene que ser en negativo\n",
    "list(lista_num3)"
   ]
  },
  {
   "cell_type": "code",
   "execution_count": 28,
   "metadata": {},
   "outputs": [
    {
     "name": "stdout",
     "output_type": "stream",
     "text": [
      "El valor de i es: 0\n",
      "El valor de i es: 1\n",
      "El valor de i es: 2\n",
      "El valor de i es: 3\n",
      "El valor de i es: 4\n",
      "El valor de i es: 5\n",
      "El valor de i es: 6\n",
      "El valor de i es: 7\n",
      "El valor de i es: 8\n",
      "El valor de i es: 9\n"
     ]
    }
   ],
   "source": [
    "# aplicar range en un bucle\n",
    "\n",
    "for i in range(10):\n",
    "    print(\"El valor de i es:\",i)"
   ]
  },
  {
   "cell_type": "code",
   "execution_count": 29,
   "metadata": {},
   "outputs": [
    {
     "name": "stdout",
     "output_type": "stream",
     "text": [
      "el valor de i es: 10\n",
      "El valor de iteración es: 1\n",
      "el valor de i es: 12\n",
      "El valor de iteración es: 2\n",
      "el valor de i es: 14\n",
      "El valor de iteración es: 3\n",
      "el valor de i es: 16\n",
      "El valor de iteración es: 4\n",
      "el valor de i es: 18\n",
      "El valor de iteración es: 5\n",
      "el valor de i es: 20\n",
      "El valor de iteración es: 6\n",
      "el valor de i es: 22\n",
      "El valor de iteración es: 7\n",
      "el valor de i es: 24\n",
      "El valor de iteración es: 8\n"
     ]
    }
   ],
   "source": [
    "# si tengo una lista como los meses, tengo como respuesta el valor del mes\n",
    "# pero no tengo controlado el número de iteración\n",
    "# necesitaremos una variable iterable\n",
    "\n",
    "iter = 0\n",
    "\n",
    "for i in range(10,25,2):\n",
    "    print(\"el valor de i es:\",i)\n",
    "    iter += 1\n",
    "    print(\"El valor de iteración es:\", iter)"
   ]
  },
  {
   "cell_type": "markdown",
   "metadata": {},
   "source": [
    "### PRACTICA 3:\n",
    "* Mediante un bucle que recorra los días de la semana que están en la lista \"semana\" \n",
    "Mostrar un texto en cada iteración que ponga \"El día de la semana es x\"\n"
   ]
  },
  {
   "cell_type": "code",
   "execution_count": 2,
   "metadata": {},
   "outputs": [
    {
     "name": "stdout",
     "output_type": "stream",
     "text": [
      "El día de la semana es: Lunes\n",
      "El día de la semana es: Martes\n",
      "El día de la semana es: Miércoles\n",
      "El día de la semana es: Jueves\n",
      "El día de la semana es: Viernes\n",
      "El día de la semana es: Sábado\n",
      "El día de la semana es: Domingo\n"
     ]
    }
   ],
   "source": [
    "semana = [\"Lunes\", \"Martes\", \"Miércoles\",\"Jueves\", \"Viernes\",\"Sábado\",\"Domingo\"]\n",
    "\n",
    "for i in semana:\n",
    "    print(\"El día de la semana es:\",i)\n"
   ]
  },
  {
   "cell_type": "markdown",
   "metadata": {},
   "source": [
    "### PRACTICA 4:\n",
    "* Mediante un bucle que recorra y muestre la siguinte lista de números [15,37,42,18,26,64,75], y muestre \" el numero es x\""
   ]
  },
  {
   "cell_type": "code",
   "execution_count": null,
   "metadata": {},
   "outputs": [
    {
     "name": "stdout",
     "output_type": "stream",
     "text": [
      "El número es  15\n",
      "El número es  37\n",
      "El número es  42\n",
      "El número es  18\n",
      "El número es  26\n",
      "El número es  64\n",
      "El número es  75\n"
     ]
    }
   ],
   "source": [
    "lista = [15,37,42,18,26,64,75]\n",
    "\n",
    "for i in lista:\n",
    "    print(\"El número es\",i)"
   ]
  },
  {
   "cell_type": "markdown",
   "metadata": {},
   "source": [
    "### PRACTICA 5:\n",
    "* Mediante un bucle que recorra y muestre con un texto una lista generada con range, para ver desde el número 6 hasta el 23, con el texto \"el número es x\""
   ]
  },
  {
   "cell_type": "code",
   "execution_count": 6,
   "metadata": {},
   "outputs": [
    {
     "name": "stdout",
     "output_type": "stream",
     "text": [
      "El número es: 6\n",
      "El número es: 7\n",
      "El número es: 8\n",
      "El número es: 9\n",
      "El número es: 10\n",
      "El número es: 11\n",
      "El número es: 12\n",
      "El número es: 13\n",
      "El número es: 14\n",
      "El número es: 15\n",
      "El número es: 16\n",
      "El número es: 17\n",
      "El número es: 18\n",
      "El número es: 19\n",
      "El número es: 20\n",
      "El número es: 21\n",
      "El número es: 22\n",
      "El número es: 23\n"
     ]
    }
   ],
   "source": [
    "for i in range(6,24):\n",
    "    print(\"El número es:\",i)"
   ]
  },
  {
   "cell_type": "markdown",
   "metadata": {},
   "source": [
    "### PRACTICA 6:\n",
    "* Mediante un bucle que recorra y muestre conun texto una lista genrada con range, para ver desde el número 54 hasta el 12, de dos en dos con el texto \"el numero es x\"."
   ]
  },
  {
   "cell_type": "code",
   "execution_count": 8,
   "metadata": {},
   "outputs": [
    {
     "name": "stdout",
     "output_type": "stream",
     "text": [
      "El número es: 54\n",
      "El número es: 52\n",
      "El número es: 50\n",
      "El número es: 48\n",
      "El número es: 46\n",
      "El número es: 44\n",
      "El número es: 42\n",
      "El número es: 40\n",
      "El número es: 38\n",
      "El número es: 36\n",
      "El número es: 34\n",
      "El número es: 32\n",
      "El número es: 30\n",
      "El número es: 28\n",
      "El número es: 26\n",
      "El número es: 24\n",
      "El número es: 22\n",
      "El número es: 20\n",
      "El número es: 18\n",
      "El número es: 16\n",
      "El número es: 14\n",
      "El número es: 12\n"
     ]
    }
   ],
   "source": [
    "for i in range(54,11,-2):\n",
    "    print(\"El número es:\",i)"
   ]
  },
  {
   "cell_type": "markdown",
   "metadata": {},
   "source": [
    "### PRACTICA 7:\n",
    "* Mediante un bucle que recorra y muestre la lista de los meses del año y mostrar un texto que ponga, \"El 1 mes del año es enero\", \"el mes 2 es febrero.\""
   ]
  },
  {
   "cell_type": "code",
   "execution_count": null,
   "metadata": {},
   "outputs": [
    {
     "name": "stdout",
     "output_type": "stream",
     "text": [
      "El mes 1 del año es Enero\n",
      "El mes 2 del año es Febrero\n",
      "El mes 3 del año es Marzo\n",
      "El mes 4 del año es Abril\n",
      "El mes 5 del año es Mayo\n",
      "El mes 6 del año es Junio\n",
      "El mes 7 del año es Julio\n",
      "El mes 8 del año es Agosto\n",
      "El mes 9 del año es Septiembre\n",
      "El mes 10 del año es Octubre\n",
      "El mes 11 del año es Noviembre\n",
      "El mes 12 del año es Diciembre\n"
     ]
    }
   ],
   "source": [
    "meses2 = ['Enero', 'Febrero', 'Marzo', 'Abril', 'Mayo', 'Junio', 'Julio', \n",
    "           'Agosto','Septiembre','Octubre','Noviembre','Diciembre'] # se puede hacer salto de línea después de una coma\n",
    "j = 1\n",
    "for i in meses2:\n",
    "    print(\"El mes {} del año es {}\".format(j,i))\n",
    "    j += 1"
   ]
  },
  {
   "cell_type": "markdown",
   "metadata": {},
   "source": [
    "### PRACTICA 8:\n",
    "* Mediante un bucle que recorra y muestre la lista de los meses del año y mostrar un texto que ponga, \"El primer mes del año es enero\", \"el segundo mes del año es febrero\""
   ]
  },
  {
   "cell_type": "code",
   "execution_count": 1,
   "metadata": {},
   "outputs": [
    {
     "name": "stdout",
     "output_type": "stream",
     "text": [
      "El primer mes del año es Enero\n",
      "El segundo mes del año es Febrero\n",
      "El tercero mes del año es Marzo\n",
      "El cuarto mes del año es Abril\n",
      "El quinto mes del año es Mayo\n",
      "El sexto mes del año es Junio\n",
      "El séptimo mes del año es Julio\n",
      "El octavo mes del año es Agosto\n",
      "El noveno mes del año es Septiembre\n",
      "El décimo mes del año es Octubre\n",
      "El undécimo mes del año es Noviembre\n",
      "El doodécimo mes del año es Diciembre\n"
     ]
    }
   ],
   "source": [
    "meses2 = ['Enero', 'Febrero', 'Marzo', 'Abril', 'Mayo', 'Junio', 'Julio', 'Agosto','Septiembre','Octubre','Noviembre','Diciembre']\n",
    "posicion =['primer','segundo','tercero','cuarto','quinto','sexto','séptimo','octavo','noveno','décimo','undécimo','doodécimo']\n",
    "\n",
    "for i,j in zip(meses2, posicion): #La función zip nos permite combinar las dos listas como una lista de pares de tuplas.\n",
    "    print(\"El {} mes del año es {}\".format(j,i))"
   ]
  },
  {
   "cell_type": "code",
   "execution_count": 51,
   "metadata": {},
   "outputs": [
    {
     "name": "stdout",
     "output_type": "stream",
     "text": [
      "El mes es (0, 'Enero')\n",
      "El mes es (1, 'Febrero')\n",
      "El mes es (2, 'Marzo')\n",
      "El mes es (3, 'Abril')\n",
      "El mes es (4, 'Mayo')\n",
      "El mes es (5, 'Junio')\n",
      "El mes es (6, 'Julio')\n",
      "El mes es (7, 'Agosto')\n",
      "El mes es (8, 'Septiembre')\n",
      "El mes es (9, 'Octubre')\n",
      "El mes es (10, 'Noviembre')\n",
      "El mes es (11, 'Diciembre')\n"
     ]
    }
   ],
   "source": [
    "for i in enumerate(meses2): # funcion para enumerar\n",
    "    print(\"El mes es\",i)"
   ]
  },
  {
   "cell_type": "code",
   "execution_count": null,
   "metadata": {},
   "outputs": [
    {
     "name": "stdout",
     "output_type": "stream",
     "text": [
      "El primer mes del año es Enero\n",
      "El segundo mes del año es Febrero\n",
      "El tercero mes del año es Marzo\n",
      "El cuarto mes del año es Abril\n",
      "El quinto mes del año es Mayo\n",
      "El sexto mes del año es Junio\n",
      "El séptimo mes del año es Julio\n",
      "El octavo mes del año es Agosto\n",
      "El noveno mes del año es Septiembre\n",
      "El décimo mes del año es Octubre\n",
      "El undécimo mes del año es Noviembre\n",
      "El doodécimo mes del año es Diciembre\n"
     ]
    }
   ],
   "source": [
    "## la sulución del profe\n",
    "meses2 = ['Enero', 'Febrero', 'Marzo', 'Abril', 'Mayo', 'Junio', 'Julio', 'Agosto','Septiembre','Octubre','Noviembre','Diciembre']\n",
    "posicion =['primer','segundo','tercero','cuarto','quinto','sexto','séptimo','octavo','noveno','décimo','undécimo','doodécimo']\n",
    "\n",
    "iter = 0 # iter hace de posiciones en la lista, hace de integer y así puede recorrerlo y mostrarlos\n",
    "\n",
    "for i in meses2:\n",
    "    print(\"El\", posicion[iter],\"mes del año es\",i)\n",
    "    iter+=1"
   ]
  }
 ],
 "metadata": {
  "kernelspec": {
   "display_name": "Python 3",
   "language": "python",
   "name": "python3"
  },
  "language_info": {
   "codemirror_mode": {
    "name": "ipython",
    "version": 3
   },
   "file_extension": ".py",
   "mimetype": "text/x-python",
   "name": "python",
   "nbconvert_exporter": "python",
   "pygments_lexer": "ipython3",
   "version": "3.11.9"
  }
 },
 "nbformat": 4,
 "nbformat_minor": 2
}
