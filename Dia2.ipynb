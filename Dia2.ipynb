{
 "cells": [
  {
   "cell_type": "markdown",
   "metadata": {},
   "source": [
    "## Ciencia de datos con Python - Preparación para la certificación PCEP de Python Institute-Dia 2"
   ]
  },
  {
   "cell_type": "markdown",
   "metadata": {},
   "source": [
    "* Los operadores de lógica AND y OR\n",
    "    * El OR que analiza varias condiciones o pruebas lógicas y devuelve verdaderos, si se cumple una sola de la condiciones que se analizan\n",
    "    * El operador AND analiza varias condiciones lógicas y devuelve verdaderos si se cumplen las condiciones que se analizan"
   ]
  },
  {
   "cell_type": "code",
   "execution_count": 4,
   "metadata": {},
   "outputs": [
    {
     "name": "stdout",
     "output_type": "stream",
     "text": [
      "Hago descuento%\n"
     ]
    }
   ],
   "source": [
    "ciudad = \"barcelona\"\n",
    "importe = 1170\n",
    "\n",
    "if ciudad == \"barcelona\" or importe > 1000: # se cumple una o las dos condiciones\n",
    "    print(\"Hago descuento%\")\n",
    "else:\n",
    "    print(\"No hago descuento%\")"
   ]
  },
  {
   "cell_type": "code",
   "execution_count": 5,
   "metadata": {},
   "outputs": [
    {
     "name": "stdout",
     "output_type": "stream",
     "text": [
      "No hago descuento%\n"
     ]
    }
   ],
   "source": [
    "ciudad = \"barcelona\"\n",
    "importe = 70\n",
    "\n",
    "if ciudad == \"barcelona\" and importe > 1000: # no se cumple una de las dos condiciones \n",
    "    print(\"Hago descuento%\")\n",
    "else:\n",
    "    print(\"No hago descuento%\")"
   ]
  },
  {
   "cell_type": "code",
   "execution_count": 6,
   "metadata": {},
   "outputs": [
    {
     "name": "stdout",
     "output_type": "stream",
     "text": [
      "Fuera del tramos de 10 a 30\n"
     ]
    }
   ],
   "source": [
    "# Con el AND, puedo clasificar números dentro de un tramo\n",
    "numero = 50\n",
    "#¿Está comprendido entre 10 y 30?\n",
    "\n",
    "if numero >= 10 and numero <= 30:\n",
    "    print(\"Dentro del tramo de 10 a 30 \")\n",
    "else:\n",
    "    print(\"Fuera del tramos de 10 a 30\")\n"
   ]
  },
  {
   "cell_type": "code",
   "execution_count": 7,
   "metadata": {},
   "outputs": [
    {
     "name": "stdout",
     "output_type": "stream",
     "text": [
      "Fuera del tramo\n"
     ]
    }
   ],
   "source": [
    "num = 55\n",
    "\n",
    "if(num >= 10 and num <= 30) or (num >= 100 and num <= 150):\n",
    "    print(\"Dentro del tramo de 10-30 o del tramo 100-150\")\n",
    "else:\n",
    "    print(\"Fuera del tramo\")"
   ]
  },
  {
   "cell_type": "markdown",
   "metadata": {},
   "source": [
    "## PRACTICA 9:\n",
    "* Con un bucle for recorrer una lista [5, -8, 142, 75, 62, 37, -20, 41] y clasificar los números por tramos de 30 en 30, empezando por el 0 hasta el 150, un texto donde me ponga \" el número 5 está comprendido entre 0-30\", si no está dentro de ningún tramo \"fuera del intervalo 0-150\""
   ]
  },
  {
   "cell_type": "code",
   "execution_count": 8,
   "metadata": {},
   "outputs": [
    {
     "name": "stdout",
     "output_type": "stream",
     "text": [
      " Fuera del intervalo 0-150\n",
      " Fuera del intervalo 0-150\n",
      " Fuera del intervalo 0-150\n",
      "El número 75 está dentro el rango 0-30\n",
      "El número 62 está dentro el rango 0-30\n",
      "El número 37 está dentro el rango 0-30\n",
      " Fuera del intervalo 0-150\n",
      "El número 41 está dentro el rango 0-30\n",
      "El número 99 está dentro el rango 0-30\n"
     ]
    }
   ],
   "source": [
    "lista = [5, -8, 142, 75, 62, 37, -20, 41,99]\n",
    "\n",
    "for i in lista:\n",
    "    if (i == 0 and i <= 30) or (i>= 30 and i <= 60) or (i>= 60 and i<= 90) or (i>= 90 and i<= 120) or (i>=120 and i== 150):\n",
    "        print(\"El número {} está dentro el rango 0-30\".format(i))\n",
    "    else:\n",
    "        print(\" Fuera del intervalo 0-150\")"
   ]
  },
  {
   "cell_type": "code",
   "execution_count": 9,
   "metadata": {},
   "outputs": [
    {
     "name": "stdout",
     "output_type": "stream",
     "text": [
      "El número 5 está comprendido dentro del tramo 0-30\n",
      "El número está fuera de rango\n",
      "El numero 142 está comprendido dentro del tramo 120-150\n",
      "El número 75 está comprendido dentro del tramo 60-90\n",
      "El número 62 está comprendido dentro del tramo 60-90\n",
      "El número 37 está comprendido dentro del tramo 30-60\n",
      "El número está fuera de rango\n",
      "El número 41 está comprendido dentro del tramo 30-60\n",
      "El número 99 está comprendido dentro del tramo 90-120\n"
     ]
    }
   ],
   "source": [
    "# la solución del profesor\n",
    "\n",
    "for i in lista:\n",
    "    if i < 0 or numero > 150:\n",
    "        print(\"El número está fuera de rango\")\n",
    "    elif i >=0 and i <=30:\n",
    "        print(\"El número {} está comprendido dentro del tramo 0-30\".format(i))\n",
    "    elif i >=30 and i <=60:\n",
    "        print(\"El número {} está comprendido dentro del tramo 30-60\".format(i))\n",
    "    elif i >=60 and i <=90:\n",
    "        print(\"El número {} está comprendido dentro del tramo 60-90\".format(i))\n",
    "    elif i >=90 and i <=120:\n",
    "        print(\"El número {} está comprendido dentro del tramo 90-120\".format(i))\n",
    "    else:\n",
    "        print(\"El numero {} está comprendido dentro del tramo 120-150\".format(i))"
   ]
  },
  {
   "cell_type": "code",
   "execution_count": 10,
   "metadata": {},
   "outputs": [
    {
     "name": "stdout",
     "output_type": "stream",
     "text": [
      "Mi letra es C\n",
      "Mi letra es a\n",
      "Mi letra es n\n"
     ]
    }
   ],
   "source": [
    "# como salir de un bucle for, while con la intrucción \"break\"\n",
    "\n",
    "palabra = \"Candado\"\n",
    "\n",
    "for l in palabra:\n",
    "    if l == \"d\":\n",
    "        break # sirve para terminar la iteración del bucle for\n",
    "    else:\n",
    "        print(\"Mi letra es\", l)"
   ]
  },
  {
   "cell_type": "code",
   "execution_count": 11,
   "metadata": {},
   "outputs": [
    {
     "name": "stdout",
     "output_type": "stream",
     "text": [
      "Mi letra es C\n",
      "Mi letra es a\n",
      "Mi letra es n\n",
      "Mi letra es a\n",
      "Mi letra es o\n"
     ]
    }
   ],
   "source": [
    "# como saltar una iteración en un bucle con la intrucción \"continue\"\n",
    "palabra = \"Candado\"\n",
    "\n",
    "for l in palabra:\n",
    "    if l == \"d\":\n",
    "        continue # continua y se salta la letra \"d\" pero sigue con el bucle\n",
    "    else:\n",
    "        print(\"Mi letra es\", l)"
   ]
  },
  {
   "cell_type": "markdown",
   "metadata": {},
   "source": [
    "### Funciones de texto interesantes: \n",
    "* upper = mayúsculas\n",
    "* lower = minúsculas\n",
    "* replace = reemplazar valores\n",
    "* split = sirve para dividir una cadena\n",
    "* join = perite concatenar\n",
    "* len = permite obtener la longitud de una cadena\n",
    "* contains = para comprobar si una cadena contiene uno o varios caracteres"
   ]
  },
  {
   "cell_type": "code",
   "execution_count": 12,
   "metadata": {},
   "outputs": [
    {
     "name": "stdout",
     "output_type": "stream",
     "text": [
      "CANTARO\n",
      "cantaro\n",
      "C#nt#ro\n"
     ]
    }
   ],
   "source": [
    "palabra = \"Cantaro\"\n",
    "\n",
    "print(palabra.upper()) #convierte a mayúsculas\n",
    "print(palabra.lower()) # covierte a minus\n",
    "print(palabra.replace(\"a\",\"#\")) # reemplaza el primer caracter por el segundo"
   ]
  },
  {
   "cell_type": "code",
   "execution_count": 13,
   "metadata": {},
   "outputs": [
    {
     "name": "stdout",
     "output_type": "stream",
     "text": [
      "['pronto', 'llegara', 'la', 'primavera']\n",
      "primavera\n"
     ]
    }
   ],
   "source": [
    "frase = \"pronto llegara la primavera\"\n",
    "\n",
    "lista = frase.split()# por defecto los separa un texto en una lista por los espacios de la frase\n",
    "print(lista) \n",
    "print(lista[3])"
   ]
  },
  {
   "cell_type": "code",
   "execution_count": 14,
   "metadata": {},
   "outputs": [
    {
     "name": "stdout",
     "output_type": "stream",
     "text": [
      "Hoy-es-Miercoles\n"
     ]
    }
   ],
   "source": [
    "# el \"join\" sirve para concatenar por un caracter\n",
    "\n",
    "lista = ['Hoy','es','Miercoles']\n",
    "resultado = '-'.join(lista)\n",
    "print(resultado)\n"
   ]
  },
  {
   "cell_type": "code",
   "execution_count": 15,
   "metadata": {},
   "outputs": [
    {
     "name": "stdout",
     "output_type": "stream",
     "text": [
      "['pronto', 'llegara', ' el : verano']\n"
     ]
    }
   ],
   "source": [
    "frase2 = \"pronto:llegara: el : verano\"\n",
    "lista2 = frase2.split(\":\",2) # separa por dos puntos, dos veces\n",
    "print(lista2)\n"
   ]
  },
  {
   "cell_type": "markdown",
   "metadata": {},
   "source": [
    "### PRACTICA 10:\n",
    "* Imprimir por separado y con un bucle, las letras de la palabra \"Supercalifragislisticoespialidoso\", \n",
    "en mayúsculas menos la letra \"a\""
   ]
  },
  {
   "cell_type": "code",
   "execution_count": 16,
   "metadata": {},
   "outputs": [
    {
     "name": "stdout",
     "output_type": "stream",
     "text": [
      "S\n",
      "U\n",
      "P\n",
      "E\n",
      "R\n",
      "C\n",
      "L\n",
      "I\n",
      "F\n",
      "R\n",
      "G\n",
      "I\n",
      "S\n",
      "L\n",
      "I\n",
      "S\n",
      "T\n",
      "I\n",
      "C\n",
      "O\n",
      "E\n",
      "S\n",
      "P\n",
      "I\n",
      "L\n",
      "I\n",
      "D\n",
      "O\n",
      "S\n",
      "O\n",
      "S\n",
      "U\n",
      "P\n",
      "E\n",
      "R\n",
      "C\n",
      "L\n",
      "I\n",
      "F\n",
      "R\n",
      "G\n",
      "I\n",
      "S\n",
      "L\n",
      "I\n",
      "S\n",
      "T\n",
      "I\n",
      "C\n",
      "O\n",
      "E\n",
      "S\n",
      "P\n",
      "I\n",
      "L\n",
      "I\n",
      "D\n",
      "O\n",
      "S\n",
      "O\n"
     ]
    }
   ],
   "source": [
    "palabra = \"Supercalifragislisticoespialidoso\"\n",
    "\n",
    "for i in palabra:\n",
    "    if i == \"a\":\n",
    "        continue\n",
    "    else:\n",
    "        print(i.upper())\n",
    "# la solucion del profe\n",
    "for letra in palabra:\n",
    "    if letra !='a':\n",
    "        print(letra.upper())# no utilizamos el continue\n"
   ]
  },
  {
   "cell_type": "markdown",
   "metadata": {},
   "source": [
    "### PRACTICA 11:\n",
    "* Mediante una lista de números [28, 15, 32, 7 ,44, 35, 62, 73,19] imprimir los números por individual, mientras la suma de los valores sea menor de 180"
   ]
  },
  {
   "cell_type": "code",
   "execution_count": 17,
   "metadata": {},
   "outputs": [
    {
     "name": "stdout",
     "output_type": "stream",
     "text": [
      "El número 28 acumulado es: 28\n",
      "El número 15 acumulado es: 43\n",
      "El número 32 acumulado es: 75\n",
      "El número 7 acumulado es: 82\n",
      "El número 44 acumulado es: 126\n",
      "El número 35 acumulado es: 161\n",
      "La acumulado es 223 que ya es mayor de 180\n"
     ]
    }
   ],
   "source": [
    "lista3 = [28, 15, 32, 7 ,44, 35, 62, 73, 19]\n",
    "\n",
    "contador = 0 # generamos una variable vacia\n",
    "\n",
    "for i in lista3:\n",
    "    contador += i # vamos sumando uno a uno en cada vuelta del loop\n",
    "    if contador >= 180:    \n",
    "        break\n",
    "    else:\n",
    "        print(\"El número\",i, \"acumulado es:\",contador) \n",
    "print(\"La acumulado es\", contador,\"que ya es mayor de 180\")\n",
    "        \n",
    "        "
   ]
  },
  {
   "cell_type": "markdown",
   "metadata": {},
   "source": [
    "### PRACTICA 12:\n",
    "* Mostrar únicamente la cuarta palabra de la variable frase: \" Esta es una frase de prueba para las ractica 12\""
   ]
  },
  {
   "cell_type": "code",
   "execution_count": 18,
   "metadata": {},
   "outputs": [
    {
     "name": "stdout",
     "output_type": "stream",
     "text": [
      "['Esta', 'es', 'una', 'frase', 'de', 'prueba', 'para', 'las', 'ractica', '12']\n",
      "frase\n"
     ]
    }
   ],
   "source": [
    "frase2 = \"Esta es una frase de prueba para las ractica 12\"\n",
    "\n",
    "resultado = frase2.split(\" \")# ponemos entre comillas lo que queremos cortar\n",
    "print(resultado) # vemos la lista generada\n",
    "print(resultado[3]) # selecionamos el indice cuarto"
   ]
  },
  {
   "cell_type": "markdown",
   "metadata": {},
   "source": [
    "### Las funciones personalizadas en Python\n",
    "* ¿Qué es una función?\n",
    "  \n",
    "  Es un código que devuelve un resultado, y en python tiene la siguiente sintaxis:\n",
    "    - Primero la palabra reservada \"def\" \n",
    "    - El nombre no se puede tener espacios en blanco\n",
    "    - Un parentesis de apertura, donde van los parametros de la función () son los valores que yo le paso a una función\n",
    "    - Si tiene + 1 parametro tiene que ir separados por comas\n",
    "    - Cerramos con otro parentesis\n",
    "\n",
    "* Una función también es una estructura de Python, los \":\" al final de la primera línea y todas las líneas irán identadas(4 espacios)\n",
    "* Una cosa es crear/modificar una función en el kernel y otra cosa es llamar a la función"
   ]
  },
  {
   "cell_type": "code",
   "execution_count": 19,
   "metadata": {},
   "outputs": [
    {
     "name": "stdout",
     "output_type": "stream",
     "text": [
      "8\n",
      "El resultado es, 7\n"
     ]
    }
   ],
   "source": [
    "# una función que sume 3 a un valor\n",
    "def suma3(x):\n",
    "    suma = x + 3\n",
    "    return suma # llamar a la función y para una operación aritmética\n",
    "\n",
    "print(suma3(5))\n",
    "\n",
    "def suma3b(x):\n",
    "    print(\"El resultado es,\",x+3) # usaré \"print\" en la devolución si quiero que aparezca un texto\n",
    "\n",
    "suma3b(4)"
   ]
  },
  {
   "cell_type": "markdown",
   "metadata": {},
   "source": [
    "### ANOTACION:\n",
    "* Los parémetros son objetos mutables(listas, diccionarios,conjuntos) como si fuera por refrencia\n",
    "* Los objetos inmutables (entero, cadenas, tuplas) se comporta por valor"
   ]
  },
  {
   "cell_type": "code",
   "execution_count": 20,
   "metadata": {},
   "outputs": [
    {
     "name": "stdout",
     "output_type": "stream",
     "text": [
      "Variable      Type        Data/Info\n",
      "-----------------------------------\n",
      "ciudad        str         barcelona\n",
      "contador      int         223\n",
      "devuelvemes   function    <function devuelvemes at 0x10538bba0>\n",
      "frase         str         pronto llegara la primavera\n",
      "frase2        str         Esta es una frase de prueba para las ractica 12\n",
      "i             int         62\n",
      "importe       int         70\n",
      "l             str         o\n",
      "letra         str         o\n",
      "lista         list        n=3\n",
      "lista2        list        n=3\n",
      "lista3        list        n=9\n",
      "num           int         55\n",
      "numero        int         50\n",
      "palabra       str         Supercalifragislisticoespialidoso\n",
      "resultado     list        n=10\n",
      "suma3         function    <function suma3 at 0x107892b60>\n",
      "suma3b        function    <function suma3b at 0x107892a20>\n"
     ]
    }
   ],
   "source": [
    "# con esta intrucción vemos los objetos del kernel(funciones, variables, dataframes...etc)\n",
    "%whos \n",
    "\n",
    "# con la instrucción \"del\" podemos borrar un objeto del kernel\n",
    "\n",
    "del frase"
   ]
  },
  {
   "cell_type": "code",
   "execution_count": 21,
   "metadata": {},
   "outputs": [
    {
     "data": {
      "text/plain": [
       "4"
      ]
     },
     "execution_count": 21,
     "metadata": {},
     "output_type": "execute_result"
    }
   ],
   "source": [
    "# Funcion que sumara 2 números que indiquemos\n",
    "\n",
    "def suma(x,y):\n",
    "    return x + y\n",
    "    # return int(x) + int(y) otra opción\n",
    "# uasar esta función pasandole el de una caja input\n",
    "x = int(input(\"Introduce un valor a sumar\"))\n",
    "y = int(input(\"Introduce el segundo valor a sumar\"))\n",
    "suma(x,y)\n"
   ]
  },
  {
   "cell_type": "markdown",
   "metadata": {},
   "source": [
    "### PRACTICA 13:\n",
    "* Crear una función personalizada que reste 4 a un número y lo divida entre 2, pero que me devuelva un texto como resultado:\n",
    "\"El resultado es x\""
   ]
  },
  {
   "cell_type": "code",
   "execution_count": 22,
   "metadata": {},
   "outputs": [
    {
     "name": "stdout",
     "output_type": "stream",
     "text": [
      "El resultado es: 20.7\n"
     ]
    }
   ],
   "source": [
    "# con la funcion int convertimos un objeto/variable a numero entero\n",
    "# con un float lo convertimos en decimal al llamar a la función el decimal va con punto\n",
    "# para redondear los decimales , usaremos la función \"round\"\n",
    "def operacion(x):\n",
    "    \n",
    "    print(\"El resultado es:\",float((x-4)/2))\n",
    "\n",
    "operacion(45.4)\n"
   ]
  },
  {
   "cell_type": "markdown",
   "metadata": {},
   "source": [
    "### PRACTICA 14\n",
    "* Vamos a crear una función que me devuelva el área de un triángulo y queremos que los devuelva como un valor"
   ]
  },
  {
   "cell_type": "code",
   "execution_count": 23,
   "metadata": {},
   "outputs": [
    {
     "data": {
      "text/plain": [
       "561.05"
      ]
     },
     "execution_count": 23,
     "metadata": {},
     "output_type": "execute_result"
    }
   ],
   "source": [
    "# area de un triangulo (base x altura) /2\n",
    "\n",
    "def triangulo(x,y):\n",
    "    return round(float((x*y)/2),2)\n",
    "\n",
    "triangulo(45.8,24.5)"
   ]
  },
  {
   "cell_type": "markdown",
   "metadata": {},
   "source": [
    "### PRACTICA 15:\n",
    "* Crear una función que pasándole como parámetro un número mediante la función \"input\" y que me devuelva el mes en letras correspondientes, cuidado si el número no está entr 0 y 12"
   ]
  },
  {
   "cell_type": "code",
   "execution_count": 24,
   "metadata": {},
   "outputs": [
    {
     "name": "stdout",
     "output_type": "stream",
     "text": [
      "El mes 2 corresponde a Febrero\n"
     ]
    }
   ],
   "source": [
    "\n",
    "meses2 = ['Enero', 'Febrero', 'Marzo', 'Abril', 'Mayo', 'Junio', 'Julio', 'Agosto','Septiembre','Octubre','Noviembre','Diciembre']\n",
    "\n",
    "def mes():\n",
    "    num1 = int(input(\"Introduzca un numero\")) # con el input dentro de la funcion no necesitamos declarar num1 como variable global\n",
    "    posicion = 0\n",
    "    for i in meses2:\n",
    "        posicion+=1\n",
    "        if  num1 <=0 or num1 > 12:\n",
    "            print(\"No corresponde con ningún mes\")\n",
    "            break\n",
    "        elif num1 == posicion:\n",
    "            print(\"El mes {} corresponde a {}\".format(posicion, i))\n",
    "                \n",
    "\n",
    "mes()"
   ]
  },
  {
   "cell_type": "code",
   "execution_count": 25,
   "metadata": {},
   "outputs": [
    {
     "name": "stdout",
     "output_type": "stream",
     "text": [
      "El numero 2 corresponde al mes Febrero\n"
     ]
    }
   ],
   "source": [
    "# manera de hacerlo con enumerate no hace falta crear un iterador\n",
    "def mesb(num2):\n",
    "\n",
    "    for i, j in enumerate(meses2, start = 1): # dos iteradores, uno para la posición y otro para el elemento dentro de la lista\n",
    "        if num2 <= 0 or num2 > 12:\n",
    "            print(\"El mes no existe\")\n",
    "            break\n",
    "        elif num2 == i:\n",
    "            print(\"El numero {} corresponde al mes {}\".format(i,j))\n",
    "\n",
    "\n",
    "mes2 = int(input(\"Introduzca un número: \"))\n",
    "mesb(mes2)\n",
    "\n",
    "\n"
   ]
  },
  {
   "cell_type": "code",
   "execution_count": null,
   "metadata": {},
   "outputs": [
    {
     "name": "stdout",
     "output_type": "stream",
     "text": [
      "Febrero\n",
      "Febrero\n",
      "Febrero\n"
     ]
    }
   ],
   "source": [
    "# la solución del profesor\n",
    "\n",
    "def devuelvemes(mes):\n",
    "    mes = int(mes)\n",
    "    # una manera con un if\n",
    "    if mes ==1:\n",
    "        print(\"Enero\")\n",
    "    elif mes == 2:\n",
    "        print(\"Febrero\")\n",
    "    \n",
    "    else:\n",
    "        print(\"Número de mes no valido\")\n",
    "\n",
    "    # otra manera con la estructura match...case\n",
    "    match mes:\n",
    "        case 1:\n",
    "            print(\"Enero\")\n",
    "        case 2:\n",
    "            print(\"Febrero\")\n",
    "        case default:\n",
    "            print(\"Numero de mes no valido\")\n",
    "    # otra manera\n",
    "    if mes >= 1 and mes <= 12:\n",
    "        print(meses2[mes-1])\n",
    "    else:\n",
    "        print(\"Numero de mes no valido\")\n",
    "    \n",
    "# la llamada con un input\n",
    "devuelvemes(input(\"Pon el mes\"))\n",
    "   \n"
   ]
  },
  {
   "cell_type": "markdown",
   "metadata": {},
   "source": [
    "### PRACTICA 16:\n",
    "Crear una función que compare dos números y me devuelva los 3 posibles resultados de texto, \" el número a es mayor que b\", \"el numero b es mayor que a\" y el numero a es iguala  b\""
   ]
  },
  {
   "cell_type": "code",
   "execution_count": null,
   "metadata": {},
   "outputs": [
    {
     "name": "stdout",
     "output_type": "stream",
     "text": [
      "4 es mayor que 3\n"
     ]
    }
   ],
   "source": [
    "def compara(a,b):\n",
    "    \n",
    "    if a > b:\n",
    "        print(a,\"es mayor que\", b)\n",
    "    elif b > a:\n",
    "        print(b, \"es mayor que\",a)\n",
    "    elif a == b:\n",
    "        print(\"Los números son iguales\")\n",
    "\n",
    "\n",
    "a = int(input(\"Introduzca un número para comparar:\")) # se puede poner float para decimales\n",
    "b = int(input(\"Introduzca el segundo número a comparar:\"))\n",
    "\n",
    "compara(a,b)\n",
    "    "
   ]
  }
 ],
 "metadata": {
  "kernelspec": {
   "display_name": "Python 3",
   "language": "python",
   "name": "python3"
  },
  "language_info": {
   "codemirror_mode": {
    "name": "ipython",
    "version": 3
   },
   "file_extension": ".py",
   "mimetype": "text/x-python",
   "name": "python",
   "nbconvert_exporter": "python",
   "pygments_lexer": "ipython3",
   "version": "3.11.9"
  }
 },
 "nbformat": 4,
 "nbformat_minor": 2
}
