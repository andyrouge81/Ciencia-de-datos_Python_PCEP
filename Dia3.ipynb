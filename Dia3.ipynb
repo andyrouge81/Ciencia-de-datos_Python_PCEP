{
 "cells": [
  {
   "cell_type": "markdown",
   "metadata": {},
   "source": [
    "## Ciencia de datos con Python - Preparación para la certificación PCEP de Python Institute-Dia 3\n"
   ]
  },
  {
   "cell_type": "code",
   "execution_count": 12,
   "metadata": {},
   "outputs": [
    {
     "name": "stdout",
     "output_type": "stream",
     "text": [
      "1\n",
      "2\n",
      "3\n",
      "4\n",
      "5\n",
      "Terminado\n"
     ]
    }
   ],
   "source": [
    "# bucle infinito while (mientras la condicion sea Verdadero, True)\n",
    "\n",
    "i = 1\n",
    "\n",
    "while i <= 5:\n",
    "    print(i)\n",
    "    i+=1\n",
    "print(\"Terminado\")\n"
   ]
  },
  {
   "cell_type": "markdown",
   "metadata": {},
   "source": [
    "### PRACTICA 17:\n",
    "* Mediante un bucle while imprimir el valor de una variable i, con un valor inicial de 10, siempre y cuando\n",
    "el valore i sea menor de 50, la i se incrementará de dos en dos."
   ]
  },
  {
   "cell_type": "code",
   "execution_count": 1,
   "metadata": {},
   "outputs": [
    {
     "name": "stdout",
     "output_type": "stream",
     "text": [
      "10\n",
      "12\n",
      "14\n",
      "16\n",
      "18\n",
      "20\n",
      "22\n",
      "24\n",
      "26\n",
      "28\n",
      "30\n",
      "32\n",
      "34\n",
      "36\n",
      "38\n",
      "40\n",
      "42\n",
      "44\n",
      "46\n",
      "48\n",
      "Termindado\n"
     ]
    }
   ],
   "source": [
    "i = 10\n",
    "while i < 50:\n",
    "    print(i)\n",
    "    i+=2\n",
    "print(\"Termindado\")"
   ]
  },
  {
   "cell_type": "code",
   "execution_count": 2,
   "metadata": {},
   "outputs": [
    {
     "name": "stdout",
     "output_type": "stream",
     "text": [
      "10\n",
      "12\n",
      "14\n",
      "16\n",
      "18\n",
      "20\n",
      "22\n",
      "24\n",
      "26\n",
      "28\n",
      "30\n",
      "32\n",
      "34\n",
      "36\n",
      "38\n",
      "40\n",
      "42\n",
      "44\n",
      "46\n",
      "48\n",
      "50\n"
     ]
    }
   ],
   "source": [
    "i = 10\n",
    "\n",
    "while True:\n",
    "    if i <= 50: \n",
    "        print(i) \n",
    "        i+=2\n",
    "    else: \n",
    "        break"
   ]
  },
  {
   "cell_type": "markdown",
   "metadata": {},
   "source": [
    "### FECHAS\n",
    "* Las fechas en python, necesitamos llamar o utilizar uns libreria nativa en python, por lo que ya esta instalada por defecto en python. Tendremos dos tipos de librerias, las nativas y las de terceros (se tienen que instalar con pip3 y después llamarlas).\n",
    "* Las librerias en python se llaman de dos maneras, con \"from\" o \"import\".\n",
    "    * Con import se importa todo el modulo ( import nombre.libreria)\n",
    "    * Con from se importa una parte específica de la libreria (from parte.especifica)\n",
    "    * Otra manera from nombre import * -> importa el contenido del modulo ¡, pero usarlo puede dar conflicto\n",
    "    * El alias (as) sería para importar la libreria, y trabajaremos con el nombre de la libreria mas corto(alias)\n"
   ]
  },
  {
   "cell_type": "code",
   "execution_count": 3,
   "metadata": {},
   "outputs": [
    {
     "name": "stdout",
     "output_type": "stream",
     "text": [
      "['__doc__', '__file__', '__loader__', '__name__', '__package__', '__spec__', 'acos', 'acosh', 'asin', 'asinh', 'atan', 'atan2', 'atanh', 'cbrt', 'ceil', 'comb', 'copysign', 'cos', 'cosh', 'degrees', 'dist', 'e', 'erf', 'erfc', 'exp', 'exp2', 'expm1', 'fabs', 'factorial', 'floor', 'fmod', 'frexp', 'fsum', 'gamma', 'gcd', 'hypot', 'inf', 'isclose', 'isfinite', 'isinf', 'isnan', 'isqrt', 'lcm', 'ldexp', 'lgamma', 'log', 'log10', 'log1p', 'log2', 'modf', 'nan', 'nextafter', 'perm', 'pi', 'pow', 'prod', 'radians', 'remainder', 'sin', 'sinh', 'sqrt', 'tan', 'tanh', 'tau', 'trunc', 'ulp']\n",
      "hoy estamos a 2025-03-03\n",
      "<class 'type'>\n",
      "<class 'builtin_function_or_method'>\n"
     ]
    }
   ],
   "source": [
    "# vamos a llamar a la libreria o modulo \"datetime\" y tengo la posibilidad de llamar a date o datetime\n",
    "\n",
    "from datetime import date\n",
    "import math\n",
    "print(dir(math)) #visualizar las librerias del modulo \"math\"ArithmeticError\n",
    "\n",
    "# estoy creando una instancia de la clase \"date\" \n",
    "hoy = date.today()\n",
    "print(\"hoy estamos a\",hoy)\n",
    "# para sabr que clase de  objeto es lo que importamos, podremos usar el objeto \"type\"\n",
    "\n",
    "print(type(date)) # tipo , tipo\n",
    "\n",
    "from math import sqrt\n",
    "\n",
    "print(type(sqrt)) # tipo , funcion o metodo\n",
    "\n",
    "\n"
   ]
  },
  {
   "cell_type": "code",
   "execution_count": 4,
   "metadata": {},
   "outputs": [
    {
     "name": "stdout",
     "output_type": "stream",
     "text": [
      "2025-03-03\n",
      "El día de hoy es 3\n",
      "El mes vigente es 3\n",
      "El año de hoy es 2025\n",
      "2025-03-03\n"
     ]
    }
   ],
   "source": [
    "# seguimos con las fechas\n",
    "from datetime import date as fecha\n",
    "hoy1 = fecha.today() # es un objeto llamado hoy1 que hereda todas las funciones\n",
    "print(hoy1)\n",
    "\n",
    "# vamos a vr funciones de la clase\n",
    "print(\"El día de hoy es\", hoy1.day) # para ver el día que sería lo mismo que date.today().today\n",
    "print(\"El mes vigente es\", hoy1.month)# para ver el mes\n",
    "print(\"El año de hoy es\", hoy1.year)# para ver el año\n",
    "\n",
    "print(date.today().today())# el lo mismo que hoy1"
   ]
  },
  {
   "cell_type": "code",
   "execution_count": 5,
   "metadata": {},
   "outputs": [
    {
     "name": "stdout",
     "output_type": "stream",
     "text": [
      "2025-03-03 09:40:14.069284\n",
      "9\n",
      "40\n",
      "Los segundos actuales son: 14\n",
      "Los microsegundos actuales son: 69284\n"
     ]
    }
   ],
   "source": [
    "# si quiero trabajar con fechas y horas, la libreria es la misma datetime y la clase sería datetime\n",
    "from datetime import datetime  as periodo\n",
    "\n",
    "ahora = periodo.now()\n",
    "print(ahora)\n",
    "print(ahora.hour)# muestra la hora actual\n",
    "print(ahora.minute) # muestran los minutos actuales\n",
    "print(\"Los segundos actuales son:\",ahora.second) # muestra los sgundos actuales\n",
    "print(\"Los microsegundos actuales son:\",ahora.microsecond) # muestra los microsegundos"
   ]
  },
  {
   "cell_type": "code",
   "execution_count": 6,
   "metadata": {},
   "outputs": [
    {
     "name": "stdout",
     "output_type": "stream",
     "text": [
      "2024-03-15\n",
      "15\n",
      "La fecha 2025-03-03 es más recinte que 2024-03-15\n"
     ]
    }
   ],
   "source": [
    "# como asignarle a un objeto una fecha concreta\n",
    "\n",
    "fecha1 = fecha(2024, 3, 15) # formato año/mes/dia\n",
    "print(fecha1)\n",
    "print(fecha1.day) # igual con meses y años\n",
    "\n",
    "# puedo comparar dos objetos que sean date (de la libreria datetime) entre ellos\n",
    "# solo puedo comparar date con date y datetime con datetime\n",
    "\n",
    "if hoy > fecha1:\n",
    "    print(\"La fecha {} es más recinte que {}\".format(hoy,fecha1))"
   ]
  },
  {
   "cell_type": "code",
   "execution_count": 7,
   "metadata": {},
   "outputs": [
    {
     "name": "stdout",
     "output_type": "stream",
     "text": [
      "Los días que restan son: 353 days, 0:00:00\n",
      "Los días que restan son: 353\n"
     ]
    },
    {
     "data": {
      "text/plain": [
       "int"
      ]
     },
     "execution_count": 7,
     "metadata": {},
     "output_type": "execute_result"
    }
   ],
   "source": [
    "# podemos restar dos fechas y el resultado serán los días transcurridos entre esas dos fechas\n",
    "\n",
    "resultado = hoy1 - fecha1  # primero la más nueva y se resta a la más antigua\n",
    "\n",
    "print(\"Los días que restan son:\",resultado)\n",
    "print(\"Los días que restan son:\",resultado.days) \n",
    "type(resultado) # da un tipo datetime, una cadena\n",
    "type(resultado.days) # aqui devuelve un tipo integer para hacer  operaciones\n"
   ]
  },
  {
   "cell_type": "markdown",
   "metadata": {},
   "source": [
    "### PRACTICA 18:\n",
    "Crear una funcion que pasandole por separado con un input, el día, el mes y el año nos devulva un texto que ponga \"la diferencia de dias entre hoy y la fecha informada yyyy/mm/dd es de x dias\" siempre y cuando la fecha informada sea más antigua que hoy(28-02-2025)"
   ]
  },
  {
   "cell_type": "code",
   "execution_count": 8,
   "metadata": {},
   "outputs": [
    {
     "name": "stdout",
     "output_type": "stream",
     "text": [
      "La diferencia 2025-03-03 y 2024-04-03 en dias es: 334 días\n"
     ]
    }
   ],
   "source": [
    "from datetime import datetime\n",
    "\n",
    "def fecha(d,m,y):\n",
    "    \n",
    "        fecha3 = datetime(y,m,d) # convierte los parametros en formato fecha y lo colocamos en ina instancia\n",
    "        if fecha3 > datetime.today():  # la fecha introducida no puede ser mayor a la fecha actual\n",
    "            print(\"La fecha introducida es superior a la actual, no se puede restar\")\n",
    "            \n",
    "        else:\n",
    "            resultado = datetime.today().date() - fecha3.date() # la oeración la haremos solo con la fecha, no hora, ni segundos\n",
    "            print(\"La diferencia {} y {} en dias es: {} días\".format(datetime.today().date(),fecha3.date(),resultado.days))\n",
    "            \n",
    "d = int(input(\"Introduce un numero de día\"))\n",
    "m = int(input(\"Introduce un numero de mes\"))\n",
    "y = int(input(\"Introduce un año\"))\n",
    "\n",
    "fecha(d,m,y)\n",
    "\n"
   ]
  },
  {
   "cell_type": "code",
   "execution_count": 9,
   "metadata": {},
   "outputs": [
    {
     "name": "stdout",
     "output_type": "stream",
     "text": [
      "La diferencia de días entre hoy 2025-03-03 y la fecha informada 2024-04-03 es de 334 dias\n"
     ]
    }
   ],
   "source": [
    "# la solucion del profe\n",
    "def diferenciadias(dia,mes, año):\n",
    "    dia = int(dia)\n",
    "    mes = int(mes)\n",
    "    año = int(año)\n",
    "    # llama a la libreira y la clase\n",
    "    from datetime import date as fecha\n",
    "    hoy = fecha.today()\n",
    "    fechainformada = fecha(año,mes,dia)\n",
    "    # sila fecha informada es mas antigua que hoy, mostrar un mensaje\n",
    "\n",
    "    if hoy< fechainformada:\n",
    "        print(\"La fecha debe ser anterior a\", hoy)\n",
    "    else:\n",
    "        resultado = hoy - fechainformada\n",
    "        print(\"La diferencia de días entre hoy\", hoy,\"y la fecha informada\",fechainformada,\"es de\", resultado.days,\"dias\")\n",
    "\n",
    "    \n",
    "diferenciadias(input(\"Ponga el día\"),input(\"Ponga el mes\"), input(\"Ponga el año\"))\n",
    "\n"
   ]
  },
  {
   "cell_type": "code",
   "execution_count": 10,
   "metadata": {},
   "outputs": [
    {
     "name": "stdout",
     "output_type": "stream",
     "text": [
      "2025-03-03\n",
      "El dia de hoy es 03\n",
      "El día de la fecha 5\n",
      "l día de hoy es:  05\n",
      "Dia de la semana es 4\n",
      "El dia de la semana en letras es Thursday\n",
      "El numero del mes es 06\n",
      "El mes en letras abreviado es Jun\n",
      "El mes en letras abreviado es June\n",
      "Los 2 últimos digitos del año son: 25\n",
      "El año entero es 2025\n",
      "La semana del año es 22\n",
      "Fecha, 05/06/2025\n",
      "fecha 4/06/25\n",
      "Fecha 06/05/25\n"
     ]
    }
   ],
   "source": [
    "# como darle formato a una fecha, usaremos dentro de la clase date un método que se llama \"strftime\"(string format time)\n",
    "#  me devolvera un string\n",
    "\n",
    "print(hoy)\n",
    "\n",
    "# para obtener solo el día en texto\n",
    "\n",
    "print(\"El dia de hoy es\", hoy.strftime('%d')) # utilizamos dentro del metodo el porcentaje para day , month o year\n",
    "# definiendo una fecha\n",
    "fecha4 = date(2025,6,5)\n",
    "print(\"El día de la fecha\", fecha4.day)\n",
    "print(\"l día de hoy es: \", fecha4.strftime('%d'))\n",
    "# El dia d la semana dl 1 al 7 con w minus\n",
    "print(\"Dia de la semana es\", fecha4.strftime('%w'))\n",
    "#el dia d la semana n letras lunes,martes\n",
    "print(\"El dia de la semana en letras es\", fecha4.strftime('%A'))\n",
    "#El mes de la fecha como numero pero en texto, 01, 02\n",
    "print(\"El numero del mes es\", fecha4.strftime('%m'))\n",
    "# el mes de la fecha en letras abreviado, b  en minus\n",
    "print(\"El mes en letras abreviado es\", fecha4.strftime('%b'))\n",
    "# el mes de la fecha en letras entero, B  en mayus\n",
    "print(\"El mes en letras abreviado es\", fecha4.strftime('%B'))\n",
    "# El años e la fecha 2 últimos digitos del año y minus\n",
    "print(\"Los 2 últimos digitos del año son:\", fecha4.strftime('%y'))\n",
    "#  El año entero y mayus\n",
    "print(\"El año entero es\", fecha4.strftime('%Y'))\n",
    "# la semana del año del 1 al 53\n",
    "print(\"La semana del año es\", fecha4.strftime('%W'))\n",
    "# Formato personalizado a la fecha\n",
    "print(\"Fecha,\", fecha4.strftime('%d/%m/%Y'))\n",
    "print(\"fecha\", fecha4.strftime('%w/%m/%y'))\n",
    "# nos da una fecha con / digitos en el año\n",
    "print(\"Fecha\", fecha4.strftime('%D'))"
   ]
  },
  {
   "cell_type": "code",
   "execution_count": 11,
   "metadata": {},
   "outputs": [
    {
     "name": "stdout",
     "output_type": "stream",
     "text": [
      "La hora actual es, 2025-03-03 09:40:14.069284\n",
      "La hora es 09\n",
      "Los minutos son 40\n",
      "Los segundos son 14\n"
     ]
    }
   ],
   "source": [
    "# strftime con horas\n",
    "print(\"La hora actual es,\",ahora)\n",
    "# El formato de la hora con %H mayus(siempre devuelve texto)\n",
    "print(\"La hora es\", ahora.strftime('%H'))\n",
    "# el formato de la hora en minutos %M en mayus\n",
    "print(\"Los minutos son\", ahora.strftime('%M'))\n",
    "# el formato de la hora en segundos con %S en mayus\n",
    "print(\"Los segundos son\", ahora.strftime('%S'))"
   ]
  },
  {
   "cell_type": "markdown",
   "metadata": {},
   "source": [
    "### PRACTICA 19:\n",
    "* Crear una función con tres parámetros a los que les daremos valor mediante inputs y que corresponderá a día, mes y año. La función nos tiene que devolver un texto con la fecha en formato mm/dd/yy"
   ]
  },
  {
   "cell_type": "code",
   "execution_count": 13,
   "metadata": {},
   "outputs": [
    {
     "name": "stdout",
     "output_type": "stream",
     "text": [
      "La fecha introducida es 02/03/24\n"
     ]
    }
   ],
   "source": [
    "from datetime import date\n",
    "def fecha_a(d,m,y):\n",
    "    fecha = date(y,m,d)\n",
    "    print(\"La fecha introducida es\", fecha.strftime('%m/%d/%y'))# siempre acaba devolviendo un string\n",
    "\n",
    "d = int(input(\"Introduzca el número de dia\"))\n",
    "m = int(input(\"Intriduza el número de mes\"))\n",
    "y = int(input(\"Introduca el año\"))\n",
    "\n",
    "fecha_a(d,m,y)\n",
    "# otra manera de llamar a la función con los 3 parámetros\n",
    "\n",
    "# fecha_a(input(\"Pon el dia\"), input(\"Pon el mes\"), input(\"pon el año\"))"
   ]
  },
  {
   "cell_type": "markdown",
   "metadata": {},
   "source": [
    "### PRACTICA 20:\n",
    "* Crear una función para almacenar en una variable, que se llamará semana, y que después de informarle la fecha mediante inputs dd-mm-yyyy, por lo tanto un solo parámetro en la función. Que almacene el valor de la semana de la fecha que le pasaremos con input dd-mm-yyyy"
   ]
  },
  {
   "cell_type": "code",
   "execution_count": 14,
   "metadata": {},
   "outputs": [
    {
     "name": "stdout",
     "output_type": "stream",
     "text": [
      "20\n",
      "12\n",
      "2024\n",
      "La semana de la fecha es 51\n"
     ]
    }
   ],
   "source": [
    "from datetime import date\n",
    "def fecha_b(semana):\n",
    "    lista = semana.split('-')# separamos la cadena con split sparado por '-' medio\n",
    "    # otra forma de cortar y cargar las variables separadas\n",
    "    # dia, mes, año = fecha.split(\"-\")\n",
    "    print(lista[0])# vemos el valor de los indices\n",
    "    print(lista[1])\n",
    "    print(lista[2])\n",
    "    fecha5 = date(int(lista[2]),int(lista[1]),int(lista[0])) # debe ir en formato year,month, day\n",
    "   \n",
    "    #fecha5.strftime('%d-%m-%Y') no hace falta ordenarlo si vas a mostrar la semana\n",
    "    print(\"La semana de la fecha es\",fecha5.strftime('%W'))\n",
    "\n",
    "semana = input(\"Dame una fecha en formato dd-mm-yyyy\")\n",
    "fecha_b(semana)"
   ]
  },
  {
   "cell_type": "markdown",
   "metadata": {},
   "source": [
    "### PRACTICA 21:\n",
    "* Calcular los segundos transcurridos entre dos ejecuciones de celdas de Jupiter diferentes, es decir, ejecutar una celda esperar unos segundos y al ejecutar la segunda celda que nos diga en un texto cuantos segundos han transcurrido."
   ]
  },
  {
   "cell_type": "code",
   "execution_count": 24,
   "metadata": {},
   "outputs": [
    {
     "data": {
      "text/plain": [
       "datetime.datetime(2025, 3, 3, 9, 56, 10, 468338)"
      ]
     },
     "execution_count": 24,
     "metadata": {},
     "output_type": "execute_result"
    }
   ],
   "source": [
    "# la soución del profesor\n",
    "from datetime import datetime as actual # porque vamos a trbaajar con horas minutos y segundos\n",
    "#en un objeto almacenaremos la fecha-hora actual\n",
    "tiempo1 = actual.now()\n",
    "tiempo1 \n"
   ]
  },
  {
   "cell_type": "code",
   "execution_count": 25,
   "metadata": {},
   "outputs": [
    {
     "data": {
      "text/plain": [
       "datetime.datetime(2025, 3, 3, 9, 56, 15, 289247)"
      ]
     },
     "execution_count": 25,
     "metadata": {},
     "output_type": "execute_result"
    }
   ],
   "source": [
    "# almacenar el tiempo2 en otra celda del Jupiter\n",
    "tiempo2 = actual.now()\n",
    "tiempo2"
   ]
  },
  {
   "cell_type": "code",
   "execution_count": 27,
   "metadata": {},
   "outputs": [
    {
     "name": "stdout",
     "output_type": "stream",
     "text": [
      "El total de segundos es 5\n"
     ]
    }
   ],
   "source": [
    "# calcular los segundos transcurridos, 2 maneras la primera más manual y \n",
    "# por lo tanto mas compleha, vamos a asumir que estamos en la misma hora\n",
    "minuto1 = tiempo1.minute\n",
    "minuto1\n",
    "minuto2 = tiempo2.minute\n",
    "minuto2\n",
    "segundo1 = tiempo1.second\n",
    "segundo2 = tiempo2.second\n",
    "\n",
    "if minuto1 == minuto2:\n",
    "    resultado = segundo2 - segundo1\n",
    "else:\n",
    "    resultado = (minuto2 - minuto1)*60 + (segundo2 - segundo1) # porque no han pasado mucho tiempo\n",
    "print(\"El total de segundos es\", resultado)"
   ]
  },
  {
   "cell_type": "code",
   "execution_count": 26,
   "metadata": {},
   "outputs": [
    {
     "name": "stdout",
     "output_type": "stream",
     "text": [
      "El total de segundos es 4.820909\n"
     ]
    }
   ],
   "source": [
    "# la segunda manera, algo más óptima\n",
    "resultado = tiempo2 - tiempo1\n",
    "print(\"El total de segundos es\", resultado.total_seconds())"
   ]
  }
 ],
 "metadata": {
  "kernelspec": {
   "display_name": "Python 3",
   "language": "python",
   "name": "python3"
  },
  "language_info": {
   "codemirror_mode": {
    "name": "ipython",
    "version": 3
   },
   "file_extension": ".py",
   "mimetype": "text/x-python",
   "name": "python",
   "nbconvert_exporter": "python",
   "pygments_lexer": "ipython3",
   "version": "3.11.9"
  }
 },
 "nbformat": 4,
 "nbformat_minor": 2
}
