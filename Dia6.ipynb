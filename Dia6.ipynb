{
 "cells": [
  {
   "cell_type": "markdown",
   "metadata": {},
   "source": [
    "## Ciencia de datos con Python - Preparación para la certificación PCEP de Python Institute-Día 6"
   ]
  },
  {
   "cell_type": "markdown",
   "metadata": {},
   "source": [
    "### Abrir Ficheros Excel (*.xlsx*)"
   ]
  },
  {
   "cell_type": "code",
   "execution_count": null,
   "metadata": {},
   "outputs": [],
   "source": [
    "# Para conectarnos a un fichero de excel, tenemos que instalar + llamar a una libreria que se llama openpyxl\n",
    "#!pip3 install openpyxl"
   ]
  },
  {
   "cell_type": "code",
   "execution_count": null,
   "metadata": {},
   "outputs": [
    {
     "name": "stdout",
     "output_type": "stream",
     "text": [
      "<class 'pandas.core.frame.DataFrame'>\n",
      "RangeIndex: 128 entries, 0 to 127\n",
      "Data columns (total 9 columns):\n",
      " #   Column        Non-Null Count  Dtype         \n",
      "---  ------        --------------  -----         \n",
      " 0   Order ID      128 non-null    int64         \n",
      " 1   Product       128 non-null    object        \n",
      " 2   Category      128 non-null    object        \n",
      " 3   Unit Price    128 non-null    float64       \n",
      " 4   Quantity      128 non-null    int64         \n",
      " 5   Customer      128 non-null    object        \n",
      " 6   Ship City     128 non-null    object        \n",
      " 7   Ship Country  128 non-null    object        \n",
      " 8   Order Date    128 non-null    datetime64[ns]\n",
      "dtypes: datetime64[ns](1), float64(1), int64(2), object(5)\n",
      "memory usage: 9.1+ KB\n"
     ]
    },
    {
     "data": {
      "text/html": [
       "<div>\n",
       "<style scoped>\n",
       "    .dataframe tbody tr th:only-of-type {\n",
       "        vertical-align: middle;\n",
       "    }\n",
       "\n",
       "    .dataframe tbody tr th {\n",
       "        vertical-align: top;\n",
       "    }\n",
       "\n",
       "    .dataframe thead th {\n",
       "        text-align: right;\n",
       "    }\n",
       "</style>\n",
       "<table border=\"1\" class=\"dataframe\">\n",
       "  <thead>\n",
       "    <tr style=\"text-align: right;\">\n",
       "      <th></th>\n",
       "      <th>Order ID</th>\n",
       "      <th>Product</th>\n",
       "      <th>Category</th>\n",
       "      <th>Unit Price</th>\n",
       "      <th>Quantity</th>\n",
       "      <th>Customer</th>\n",
       "      <th>Ship City</th>\n",
       "      <th>Ship Country</th>\n",
       "      <th>Order Date</th>\n",
       "      <th>Amount</th>\n",
       "    </tr>\n",
       "  </thead>\n",
       "  <tbody>\n",
       "    <tr>\n",
       "      <th>0</th>\n",
       "      <td>10248</td>\n",
       "      <td>Singaporean Hokkien Fried Mee</td>\n",
       "      <td>Grains/Cereals</td>\n",
       "      <td>9.8</td>\n",
       "      <td>1</td>\n",
       "      <td>Vins et alcools Chevalier</td>\n",
       "      <td>Reims</td>\n",
       "      <td>France</td>\n",
       "      <td>2014-08-04</td>\n",
       "      <td>9.8</td>\n",
       "    </tr>\n",
       "    <tr>\n",
       "      <th>1</th>\n",
       "      <td>10248</td>\n",
       "      <td>Mozzarella di Giovanni</td>\n",
       "      <td>Dairy Products</td>\n",
       "      <td>34.8</td>\n",
       "      <td>5</td>\n",
       "      <td>Vins et alcools Chevalier</td>\n",
       "      <td>Reims</td>\n",
       "      <td>France</td>\n",
       "      <td>2014-08-04</td>\n",
       "      <td>174.0</td>\n",
       "    </tr>\n",
       "    <tr>\n",
       "      <th>2</th>\n",
       "      <td>10248</td>\n",
       "      <td>Queso Cabrales</td>\n",
       "      <td>Dairy Products</td>\n",
       "      <td>14.0</td>\n",
       "      <td>12</td>\n",
       "      <td>Vins et alcools Chevalier</td>\n",
       "      <td>Reims</td>\n",
       "      <td>France</td>\n",
       "      <td>2014-08-04</td>\n",
       "      <td>168.0</td>\n",
       "    </tr>\n",
       "    <tr>\n",
       "      <th>3</th>\n",
       "      <td>10249</td>\n",
       "      <td>Tofu</td>\n",
       "      <td>Produce</td>\n",
       "      <td>18.6</td>\n",
       "      <td>9</td>\n",
       "      <td>Toms Spezialitäten</td>\n",
       "      <td>Münster</td>\n",
       "      <td>Germany</td>\n",
       "      <td>2014-08-05</td>\n",
       "      <td>167.4</td>\n",
       "    </tr>\n",
       "    <tr>\n",
       "      <th>4</th>\n",
       "      <td>10249</td>\n",
       "      <td>Manjimup Dried Apples</td>\n",
       "      <td>Produce</td>\n",
       "      <td>42.4</td>\n",
       "      <td>40</td>\n",
       "      <td>Toms Spezialitäten</td>\n",
       "      <td>Münster</td>\n",
       "      <td>Germany</td>\n",
       "      <td>2014-08-05</td>\n",
       "      <td>1696.0</td>\n",
       "    </tr>\n",
       "    <tr>\n",
       "      <th>...</th>\n",
       "      <td>...</td>\n",
       "      <td>...</td>\n",
       "      <td>...</td>\n",
       "      <td>...</td>\n",
       "      <td>...</td>\n",
       "      <td>...</td>\n",
       "      <td>...</td>\n",
       "      <td>...</td>\n",
       "      <td>...</td>\n",
       "      <td>...</td>\n",
       "    </tr>\n",
       "    <tr>\n",
       "      <th>123</th>\n",
       "      <td>10294</td>\n",
       "      <td>Camembert Pierrot</td>\n",
       "      <td>Dairy Products</td>\n",
       "      <td>27.2</td>\n",
       "      <td>21</td>\n",
       "      <td>Rattlesnake Canyon Grocery</td>\n",
       "      <td>Albuquerque</td>\n",
       "      <td>USA</td>\n",
       "      <td>2014-09-30</td>\n",
       "      <td>571.2</td>\n",
       "    </tr>\n",
       "    <tr>\n",
       "      <th>124</th>\n",
       "      <td>10294</td>\n",
       "      <td>Rhönbräu Klosterbier</td>\n",
       "      <td>Beverages</td>\n",
       "      <td>6.2</td>\n",
       "      <td>6</td>\n",
       "      <td>Rattlesnake Canyon Grocery</td>\n",
       "      <td>Albuquerque</td>\n",
       "      <td>USA</td>\n",
       "      <td>2014-09-30</td>\n",
       "      <td>37.2</td>\n",
       "    </tr>\n",
       "    <tr>\n",
       "      <th>125</th>\n",
       "      <td>10294</td>\n",
       "      <td>Ipoh Coffee</td>\n",
       "      <td>Beverages</td>\n",
       "      <td>36.8</td>\n",
       "      <td>15</td>\n",
       "      <td>Rattlesnake Canyon Grocery</td>\n",
       "      <td>Albuquerque</td>\n",
       "      <td>USA</td>\n",
       "      <td>2014-09-30</td>\n",
       "      <td>552.0</td>\n",
       "    </tr>\n",
       "    <tr>\n",
       "      <th>126</th>\n",
       "      <td>10294</td>\n",
       "      <td>Alice Mutton</td>\n",
       "      <td>Meat/Poultry</td>\n",
       "      <td>31.2</td>\n",
       "      <td>15</td>\n",
       "      <td>Rattlesnake Canyon Grocery</td>\n",
       "      <td>Albuquerque</td>\n",
       "      <td>USA</td>\n",
       "      <td>2014-09-30</td>\n",
       "      <td>468.0</td>\n",
       "    </tr>\n",
       "    <tr>\n",
       "      <th>127</th>\n",
       "      <td>10294</td>\n",
       "      <td>Chai</td>\n",
       "      <td>Beverages</td>\n",
       "      <td>14.4</td>\n",
       "      <td>18</td>\n",
       "      <td>Rattlesnake Canyon Grocery</td>\n",
       "      <td>Albuquerque</td>\n",
       "      <td>USA</td>\n",
       "      <td>2014-09-30</td>\n",
       "      <td>259.2</td>\n",
       "    </tr>\n",
       "  </tbody>\n",
       "</table>\n",
       "<p>128 rows × 10 columns</p>\n",
       "</div>"
      ],
      "text/plain": [
       "     Order ID                        Product        Category  Unit Price  \\\n",
       "0       10248  Singaporean Hokkien Fried Mee  Grains/Cereals         9.8   \n",
       "1       10248         Mozzarella di Giovanni  Dairy Products        34.8   \n",
       "2       10248                 Queso Cabrales  Dairy Products        14.0   \n",
       "3       10249                           Tofu         Produce        18.6   \n",
       "4       10249          Manjimup Dried Apples         Produce        42.4   \n",
       "..        ...                            ...             ...         ...   \n",
       "123     10294              Camembert Pierrot  Dairy Products        27.2   \n",
       "124     10294           Rhönbräu Klosterbier       Beverages         6.2   \n",
       "125     10294                    Ipoh Coffee       Beverages        36.8   \n",
       "126     10294                   Alice Mutton    Meat/Poultry        31.2   \n",
       "127     10294                           Chai       Beverages        14.4   \n",
       "\n",
       "     Quantity                    Customer    Ship City Ship Country  \\\n",
       "0           1   Vins et alcools Chevalier        Reims       France   \n",
       "1           5   Vins et alcools Chevalier        Reims       France   \n",
       "2          12   Vins et alcools Chevalier        Reims       France   \n",
       "3           9          Toms Spezialitäten      Münster      Germany   \n",
       "4          40          Toms Spezialitäten      Münster      Germany   \n",
       "..        ...                         ...          ...          ...   \n",
       "123        21  Rattlesnake Canyon Grocery  Albuquerque          USA   \n",
       "124         6  Rattlesnake Canyon Grocery  Albuquerque          USA   \n",
       "125        15  Rattlesnake Canyon Grocery  Albuquerque          USA   \n",
       "126        15  Rattlesnake Canyon Grocery  Albuquerque          USA   \n",
       "127        18  Rattlesnake Canyon Grocery  Albuquerque          USA   \n",
       "\n",
       "    Order Date  Amount  \n",
       "0   2014-08-04     9.8  \n",
       "1   2014-08-04   174.0  \n",
       "2   2014-08-04   168.0  \n",
       "3   2014-08-05   167.4  \n",
       "4   2014-08-05  1696.0  \n",
       "..         ...     ...  \n",
       "123 2014-09-30   571.2  \n",
       "124 2014-09-30    37.2  \n",
       "125 2014-09-30   552.0  \n",
       "126 2014-09-30   468.0  \n",
       "127 2014-09-30   259.2  \n",
       "\n",
       "[128 rows x 10 columns]"
      ]
     },
     "execution_count": 1,
     "metadata": {},
     "output_type": "execute_result"
    }
   ],
   "source": [
    "import pandas as pd\n",
    "\n",
    "ruta = '/Users/andresrojo/Desktop/Python-PCEP/recursos_dia6/VentasGroucery_Meses.xlsx'\n",
    "\n",
    "# Primero cargar las ventas de Agosto 2014\n",
    "agosto_2014 = pd.read_excel('/Users/andresrojo/Desktop/Python-PCEP/recursos_dia6/VentasGroucery_Meses.xlsx',\n",
    "                        sheet_name = \"Ventas Agosto 2014\")# le indicamos la hoja dentro del excel\n",
    "\n",
    "agosto_2014 # visualizamos\n",
    "\n",
    "septiembre_2014 = pd.read_excel('/Users/andresrojo/Desktop/Python-PCEP/recursos_dia6/VentasGroucery_Meses.xlsx',\n",
    "                        sheet_name= \"Ventas Septiembre 2014\")# le indicamos la hoja dentro del excel, en este caso septiembre\n",
    "\n",
    "septiembre_2014 # lo visualizamos y nos aseguramos qeue sea el mes de septiembre\n",
    "\n",
    "# juntar con 'concat', deben contener el mismo nombre y número de columnas, si no, pueden aparecer valores NULL/NAN\n",
    "\n",
    "bimensual = pd.concat([agosto_2014,septiembre_2014], ignore_index = True) # reseteamos el indice con True\n",
    "bimensual.info() # comprobamos que se han concatenado las dios tablas cin el número de entries\n",
    "# creaamos la columna 'Amount'\n",
    "bimensual['Amount'] = bimensual['Unit Price']*bimensual['Quantity']# nueva_columna = operacion_columnas\n",
    "bimensual # visualizamos"
   ]
  },
  {
   "cell_type": "code",
   "execution_count": null,
   "metadata": {},
   "outputs": [
    {
     "data": {
      "text/plain": [
       "Category   Ship Country\n",
       "Beverages  Austria         2\n",
       "           Brazil          3\n",
       "           Finland         1\n",
       "           France          1\n",
       "           Germany         6\n",
       "                          ..\n",
       "Seafood    Germany         5\n",
       "           Mexico          4\n",
       "           Spain           1\n",
       "           Sweden          2\n",
       "           Switzerland     1\n",
       "Name: Ship City, Length: 68, dtype: int64"
      ]
     },
     "execution_count": 2,
     "metadata": {},
     "output_type": "execute_result"
    }
   ],
   "source": [
    "# Cómo agregar por categorias y ver la métrica escogida: la suma(total) de Amount por Category\n",
    "bimensual.groupby(['Category']).Amount.sum() # resumimos una operación en este caso la suma por categoria\n",
    "\n",
    "# Mediante 'groupby' le puedo indicar por qué dimensiones quiero agregar y la metrica o tipo de resumen\n",
    "# tipo de resumen, la cantidad de pedidos por categoría y país\n",
    "bimensual.groupby(['Category','Ship Country']).Amount.count()\n",
    "\n",
    "print()\n",
    "# otro caso entre []\n",
    "bimensual.groupby(['Category','Ship Country'])['Ship City'].count() # si el campo tiene espacio en blanco"
   ]
  },
  {
   "cell_type": "markdown",
   "metadata": {},
   "source": [
    "### PRACTICA 32:\n",
    "* Partiendo del fichero de excel, 'VentasGroucery_Meses.xlsx', cargaremos tres dataframes con los mess de agosto, septiembre y octubre y los anexionaremos para obtener el dataframe 'trimestre_2014', realizar las transformaciones necesarias para resolver los siguiente enunciados:\n",
    "\n",
    "  *   Crear una columna 'Amount' = Unit Price * Quantity\n",
    "  *   Crear la columna 'Enterprise' = \"Delta Enterprise\"\n",
    "  *   Crear la columna 'Discount' que contendra el 3,5% de dto(%) sobre el 'Amount', si el 'Country' es FRANCE o GERMANY, y después si no es ni FRANCE ni GERMANY el descuento será del 4,75%\n",
    "  *   Queremos clonar el dataframe de trimestre para que haya solo las ventas de las 'Category' = Beverages y Seafood\n",
    "  *   Sobre este dataframe clonado queremos ver la suma de Amount agrupada por 'Ship Country' y 'Ship City'\n",
    "  *   Sobre este dataframe clonado queremos ver el promedio del precio Unidad agrupado por 'Product'"
   ]
  },
  {
   "cell_type": "code",
   "execution_count": 4,
   "metadata": {},
   "outputs": [],
   "source": [
    "# importamos librerias\n",
    "\n",
    "import pandas as pd"
   ]
  },
  {
   "cell_type": "code",
   "execution_count": 5,
   "metadata": {},
   "outputs": [
    {
     "name": "stdout",
     "output_type": "stream",
     "text": [
      "   Order ID                        Product        Category  Unit Price  \\\n",
      "0     10248  Singaporean Hokkien Fried Mee  Grains/Cereals         9.8   \n",
      "1     10248         Mozzarella di Giovanni  Dairy Products        34.8   \n",
      "2     10248                 Queso Cabrales  Dairy Products        14.0   \n",
      "3     10249                           Tofu         Produce        18.6   \n",
      "4     10249          Manjimup Dried Apples         Produce        42.4   \n",
      "\n",
      "   Quantity                   Customer Ship City Ship Country Order Date  \n",
      "0         1  Vins et alcools Chevalier     Reims       France 2014-08-04  \n",
      "1         5  Vins et alcools Chevalier     Reims       France 2014-08-04  \n",
      "2        12  Vins et alcools Chevalier     Reims       France 2014-08-04  \n",
      "3         9         Toms Spezialitäten   Münster      Germany 2014-08-05  \n",
      "4        40         Toms Spezialitäten   Münster      Germany 2014-08-05  \n",
      "   Order ID                        Product        Category  Unit Price  \\\n",
      "0     10248  Singaporean Hokkien Fried Mee  Grains/Cereals         9.8   \n",
      "1     10248         Mozzarella di Giovanni  Dairy Products        34.8   \n",
      "2     10248                 Queso Cabrales  Dairy Products        14.0   \n",
      "\n",
      "   Quantity                   Customer Ship City Ship Country Order Date  \\\n",
      "0         1  Vins et alcools Chevalier     Reims       France 2014-08-04   \n",
      "1         5  Vins et alcools Chevalier     Reims       France 2014-08-04   \n",
      "2        12  Vins et alcools Chevalier     Reims       France 2014-08-04   \n",
      "\n",
      "   Amount  \n",
      "0     9.8  \n",
      "1   174.0  \n",
      "2   168.0  \n"
     ]
    }
   ],
   "source": [
    "# importamos las hojas del documento excel\n",
    "\n",
    "agosto2014 = pd.read_excel('/Users/andresrojo/Desktop/Python-PCEP/recursos_dia6/VentasGroucery_Meses.xlsx',\n",
    "                        sheet_name= 'Ventas Agosto 2014')\n",
    "\n",
    "septiembre2014 = pd.read_excel('/Users/andresrojo/Desktop/Python-PCEP/recursos_dia6/VentasGroucery_Meses.xlsx',\n",
    "                        sheet_name= 'Ventas Septiembre 2014')\n",
    "\n",
    "octubre2014 = pd.read_excel('/Users/andresrojo/Desktop/Python-PCEP/recursos_dia6/VentasGroucery_Meses.xlsx',\n",
    "                        sheet_name= 'Ventas Octubre 2014')\n",
    "octubre2014.head(5) # lo comprobamos\n",
    "\n",
    "trimestre2014 = pd.concat([agosto2014, septiembre2014, octubre2014], ignore_index = True)\n",
    "print(trimestre2014.head(5))\n",
    "# formamos la columna Amount = Unit Price * Quantity\n",
    "\n",
    "trimestre2014['Amount'] = trimestre2014['Unit Price'] * trimestre2014['Quantity']\n",
    "print(trimestre2014.head(3)) # mostramos 3 filas para comprobar que se ha creado la nueva columna Amount\n",
    "                    "
   ]
  },
  {
   "cell_type": "code",
   "execution_count": null,
   "metadata": {},
   "outputs": [
    {
     "data": {
      "application/vnd.microsoft.datawrangler.viewer.v0+json": {
       "columns": [
        {
         "name": "index",
         "rawType": "int64",
         "type": "integer"
        },
        {
         "name": "Order ID",
         "rawType": "int64",
         "type": "integer"
        },
        {
         "name": "Product",
         "rawType": "object",
         "type": "string"
        },
        {
         "name": "Category",
         "rawType": "object",
         "type": "string"
        },
        {
         "name": "Unit Price",
         "rawType": "float64",
         "type": "float"
        },
        {
         "name": "Quantity",
         "rawType": "int64",
         "type": "integer"
        },
        {
         "name": "Customer",
         "rawType": "object",
         "type": "string"
        },
        {
         "name": "Ship City",
         "rawType": "object",
         "type": "string"
        },
        {
         "name": "Ship Country",
         "rawType": "object",
         "type": "string"
        },
        {
         "name": "Order Date",
         "rawType": "datetime64[ns]",
         "type": "datetime"
        },
        {
         "name": "Amount",
         "rawType": "float64",
         "type": "float"
        },
        {
         "name": "Enterprise",
         "rawType": "object",
         "type": "string"
        }
       ],
       "conversionMethod": "pd.DataFrame",
       "ref": "e9608c05-0922-4f11-9082-96e892d1a2bd",
       "rows": [
        [
         "0",
         "10248",
         "Singaporean Hokkien Fried Mee",
         "Grains/Cereals",
         "9.8",
         "1",
         "Vins et alcools Chevalier",
         "Reims",
         "France",
         "2014-08-04 00:00:00",
         "9.8",
         "Delta Enterprise"
        ],
        [
         "1",
         "10248",
         "Mozzarella di Giovanni",
         "Dairy Products",
         "34.8",
         "5",
         "Vins et alcools Chevalier",
         "Reims",
         "France",
         "2014-08-04 00:00:00",
         "174.0",
         "Delta Enterprise"
        ],
        [
         "2",
         "10248",
         "Queso Cabrales",
         "Dairy Products",
         "14.0",
         "12",
         "Vins et alcools Chevalier",
         "Reims",
         "France",
         "2014-08-04 00:00:00",
         "168.0",
         "Delta Enterprise"
        ]
       ],
       "shape": {
        "columns": 11,
        "rows": 3
       }
      },
      "text/html": [
       "<div>\n",
       "<style scoped>\n",
       "    .dataframe tbody tr th:only-of-type {\n",
       "        vertical-align: middle;\n",
       "    }\n",
       "\n",
       "    .dataframe tbody tr th {\n",
       "        vertical-align: top;\n",
       "    }\n",
       "\n",
       "    .dataframe thead th {\n",
       "        text-align: right;\n",
       "    }\n",
       "</style>\n",
       "<table border=\"1\" class=\"dataframe\">\n",
       "  <thead>\n",
       "    <tr style=\"text-align: right;\">\n",
       "      <th></th>\n",
       "      <th>Order ID</th>\n",
       "      <th>Product</th>\n",
       "      <th>Category</th>\n",
       "      <th>Unit Price</th>\n",
       "      <th>Quantity</th>\n",
       "      <th>Customer</th>\n",
       "      <th>Ship City</th>\n",
       "      <th>Ship Country</th>\n",
       "      <th>Order Date</th>\n",
       "      <th>Amount</th>\n",
       "      <th>Enterprise</th>\n",
       "    </tr>\n",
       "  </thead>\n",
       "  <tbody>\n",
       "    <tr>\n",
       "      <th>0</th>\n",
       "      <td>10248</td>\n",
       "      <td>Singaporean Hokkien Fried Mee</td>\n",
       "      <td>Grains/Cereals</td>\n",
       "      <td>9.8</td>\n",
       "      <td>1</td>\n",
       "      <td>Vins et alcools Chevalier</td>\n",
       "      <td>Reims</td>\n",
       "      <td>France</td>\n",
       "      <td>2014-08-04</td>\n",
       "      <td>9.8</td>\n",
       "      <td>Delta Enterprise</td>\n",
       "    </tr>\n",
       "    <tr>\n",
       "      <th>1</th>\n",
       "      <td>10248</td>\n",
       "      <td>Mozzarella di Giovanni</td>\n",
       "      <td>Dairy Products</td>\n",
       "      <td>34.8</td>\n",
       "      <td>5</td>\n",
       "      <td>Vins et alcools Chevalier</td>\n",
       "      <td>Reims</td>\n",
       "      <td>France</td>\n",
       "      <td>2014-08-04</td>\n",
       "      <td>174.0</td>\n",
       "      <td>Delta Enterprise</td>\n",
       "    </tr>\n",
       "    <tr>\n",
       "      <th>2</th>\n",
       "      <td>10248</td>\n",
       "      <td>Queso Cabrales</td>\n",
       "      <td>Dairy Products</td>\n",
       "      <td>14.0</td>\n",
       "      <td>12</td>\n",
       "      <td>Vins et alcools Chevalier</td>\n",
       "      <td>Reims</td>\n",
       "      <td>France</td>\n",
       "      <td>2014-08-04</td>\n",
       "      <td>168.0</td>\n",
       "      <td>Delta Enterprise</td>\n",
       "    </tr>\n",
       "  </tbody>\n",
       "</table>\n",
       "</div>"
      ],
      "text/plain": [
       "   Order ID                        Product        Category  Unit Price  \\\n",
       "0     10248  Singaporean Hokkien Fried Mee  Grains/Cereals         9.8   \n",
       "1     10248         Mozzarella di Giovanni  Dairy Products        34.8   \n",
       "2     10248                 Queso Cabrales  Dairy Products        14.0   \n",
       "\n",
       "   Quantity                   Customer Ship City Ship Country Order Date  \\\n",
       "0         1  Vins et alcools Chevalier     Reims       France 2014-08-04   \n",
       "1         5  Vins et alcools Chevalier     Reims       France 2014-08-04   \n",
       "2        12  Vins et alcools Chevalier     Reims       France 2014-08-04   \n",
       "\n",
       "   Amount        Enterprise  \n",
       "0     9.8  Delta Enterprise  \n",
       "1   174.0  Delta Enterprise  \n",
       "2   168.0  Delta Enterprise  "
      ]
     },
     "execution_count": 6,
     "metadata": {},
     "output_type": "execute_result"
    }
   ],
   "source": [
    "# Seguimos en otra celda : Crear la columna Enterprise = \"Delta Enterprise\"\n",
    "\n",
    "trimestre2014['Enterprise'] = \"Delta Enterprise\"\n",
    "trimestre2014.head(3) # mostramos 3 filas para comprobar que se ha creado la nueva columna Enterprise\n"
   ]
  },
  {
   "cell_type": "code",
   "execution_count": null,
   "metadata": {},
   "outputs": [
    {
     "data": {
      "text/plain": [
       "Category\n",
       "Beverages         39\n",
       "Dairy Products    35\n",
       "Confections       30\n",
       "Seafood           26\n",
       "Condiments        19\n",
       "Meat/Poultry      15\n",
       "Grains/Cereals    11\n",
       "Produce           10\n",
       "Name: count, dtype: int64"
      ]
     },
     "execution_count": 7,
     "metadata": {},
     "output_type": "execute_result"
    }
   ],
   "source": [
    "# Ademas de ver las categorias que contiene, con 'value_counts()' contamos las unidades de las distintas categorias\n",
    "trimestre2014['Category'].value_counts() "
   ]
  },
  {
   "cell_type": "code",
   "execution_count": null,
   "metadata": {},
   "outputs": [
    {
     "data": {
      "text/plain": [
       "0        0.343\n",
       "1        6.090\n",
       "2        5.880\n",
       "3        5.859\n",
       "4       59.360\n",
       "        ...   \n",
       "180      7.448\n",
       "181     17.100\n",
       "182      3.658\n",
       "183    131.005\n",
       "184     13.680\n",
       "Name: Discount, Length: 185, dtype: float64"
      ]
     },
     "execution_count": 8,
     "metadata": {},
     "output_type": "execute_result"
    }
   ],
   "source": [
    "# Crear la columna 'Discount' que contendra el 3,5% de Dto sobre el 'Amount' Si el 'Country' es FRANCE o GERMANY, \n",
    "# y despues si no es ni FRANCE ni GERMANY el descuento será del 4,75%\n",
    "\n",
    "# La función que me hace el descuento en función a France o Germany\n",
    "def dto(country):\n",
    "    if (country == 'France') or (country == 'Germany'):\n",
    "        return 0.035 # equivale a 3.5%\n",
    "    else:\n",
    "        return 0.0475 # equivale a 4,75%\n",
    "\n",
    "# Creamos la columna 'Discount'\n",
    "trimestre2014['Discount'] = round(trimestre2014['Ship Country'].apply(dto)* trimestre2014['Amount'],3) # que nos muestre 3 decimales\n",
    "trimestre2014['Discount']\n"
   ]
  },
  {
   "cell_type": "code",
   "execution_count": 9,
   "metadata": {},
   "outputs": [
    {
     "data": {
      "application/vnd.microsoft.datawrangler.viewer.v0+json": {
       "columns": [
        {
         "name": "index",
         "rawType": "int64",
         "type": "integer"
        },
        {
         "name": "Order ID",
         "rawType": "int64",
         "type": "integer"
        },
        {
         "name": "Product",
         "rawType": "object",
         "type": "string"
        },
        {
         "name": "Category",
         "rawType": "object",
         "type": "string"
        },
        {
         "name": "Unit Price",
         "rawType": "float64",
         "type": "float"
        },
        {
         "name": "Quantity",
         "rawType": "int64",
         "type": "integer"
        },
        {
         "name": "Customer",
         "rawType": "object",
         "type": "string"
        },
        {
         "name": "Ship City",
         "rawType": "object",
         "type": "string"
        },
        {
         "name": "Ship Country",
         "rawType": "object",
         "type": "string"
        },
        {
         "name": "Order Date",
         "rawType": "datetime64[ns]",
         "type": "datetime"
        },
        {
         "name": "Amount",
         "rawType": "float64",
         "type": "float"
        },
        {
         "name": "Enterprise",
         "rawType": "object",
         "type": "string"
        },
        {
         "name": "Discount",
         "rawType": "float64",
         "type": "float"
        }
       ],
       "conversionMethod": "pd.DataFrame",
       "ref": "09bab2b3-41f3-4d7c-bc74-68fdde02fd65",
       "rows": [
        [
         "6",
         "10250",
         "Jack's New England Clam Chowder",
         "Seafood",
         "7.7",
         "10",
         "Hanari Carnes",
         "Rio de Janeiro",
         "Brazil",
         "2014-08-08 00:00:00",
         "77.0",
         "Delta Enterprise",
         "3.658"
        ],
        [
         "15",
         "10253",
         "Chartreuse verte",
         "Beverages",
         "14.4",
         "42",
         "Hanari Carnes",
         "Rio de Janeiro",
         "Brazil",
         "2014-08-10 00:00:00",
         "604.8000000000001",
         "Delta Enterprise",
         "28.728"
        ],
        [
         "19",
         "10254",
         "Guaraná Fantástica",
         "Beverages",
         "3.6",
         "15",
         "Chop-suey Chinese",
         "Bern",
         "Switzerland",
         "2014-08-11 00:00:00",
         "54.0",
         "Delta Enterprise",
         "2.565"
        ],
        [
         "21",
         "10255",
         "Chang",
         "Beverages",
         "15.2",
         "20",
         "Richter Supermarkt",
         "Genève",
         "Switzerland",
         "2014-08-12 00:00:00",
         "304.0",
         "Delta Enterprise",
         "14.44"
        ],
        [
         "23",
         "10255",
         "Inlagd Sill",
         "Seafood",
         "15.2",
         "25",
         "Richter Supermarkt",
         "Genève",
         "Switzerland",
         "2014-08-12 00:00:00",
         "380.0",
         "Delta Enterprise",
         "18.05"
        ]
       ],
       "shape": {
        "columns": 12,
        "rows": 5
       }
      },
      "text/html": [
       "<div>\n",
       "<style scoped>\n",
       "    .dataframe tbody tr th:only-of-type {\n",
       "        vertical-align: middle;\n",
       "    }\n",
       "\n",
       "    .dataframe tbody tr th {\n",
       "        vertical-align: top;\n",
       "    }\n",
       "\n",
       "    .dataframe thead th {\n",
       "        text-align: right;\n",
       "    }\n",
       "</style>\n",
       "<table border=\"1\" class=\"dataframe\">\n",
       "  <thead>\n",
       "    <tr style=\"text-align: right;\">\n",
       "      <th></th>\n",
       "      <th>Order ID</th>\n",
       "      <th>Product</th>\n",
       "      <th>Category</th>\n",
       "      <th>Unit Price</th>\n",
       "      <th>Quantity</th>\n",
       "      <th>Customer</th>\n",
       "      <th>Ship City</th>\n",
       "      <th>Ship Country</th>\n",
       "      <th>Order Date</th>\n",
       "      <th>Amount</th>\n",
       "      <th>Enterprise</th>\n",
       "      <th>Discount</th>\n",
       "    </tr>\n",
       "  </thead>\n",
       "  <tbody>\n",
       "    <tr>\n",
       "      <th>6</th>\n",
       "      <td>10250</td>\n",
       "      <td>Jack's New England Clam Chowder</td>\n",
       "      <td>Seafood</td>\n",
       "      <td>7.7</td>\n",
       "      <td>10</td>\n",
       "      <td>Hanari Carnes</td>\n",
       "      <td>Rio de Janeiro</td>\n",
       "      <td>Brazil</td>\n",
       "      <td>2014-08-08</td>\n",
       "      <td>77.0</td>\n",
       "      <td>Delta Enterprise</td>\n",
       "      <td>3.658</td>\n",
       "    </tr>\n",
       "    <tr>\n",
       "      <th>15</th>\n",
       "      <td>10253</td>\n",
       "      <td>Chartreuse verte</td>\n",
       "      <td>Beverages</td>\n",
       "      <td>14.4</td>\n",
       "      <td>42</td>\n",
       "      <td>Hanari Carnes</td>\n",
       "      <td>Rio de Janeiro</td>\n",
       "      <td>Brazil</td>\n",
       "      <td>2014-08-10</td>\n",
       "      <td>604.8</td>\n",
       "      <td>Delta Enterprise</td>\n",
       "      <td>28.728</td>\n",
       "    </tr>\n",
       "    <tr>\n",
       "      <th>19</th>\n",
       "      <td>10254</td>\n",
       "      <td>Guaraná Fantástica</td>\n",
       "      <td>Beverages</td>\n",
       "      <td>3.6</td>\n",
       "      <td>15</td>\n",
       "      <td>Chop-suey Chinese</td>\n",
       "      <td>Bern</td>\n",
       "      <td>Switzerland</td>\n",
       "      <td>2014-08-11</td>\n",
       "      <td>54.0</td>\n",
       "      <td>Delta Enterprise</td>\n",
       "      <td>2.565</td>\n",
       "    </tr>\n",
       "    <tr>\n",
       "      <th>21</th>\n",
       "      <td>10255</td>\n",
       "      <td>Chang</td>\n",
       "      <td>Beverages</td>\n",
       "      <td>15.2</td>\n",
       "      <td>20</td>\n",
       "      <td>Richter Supermarkt</td>\n",
       "      <td>Genève</td>\n",
       "      <td>Switzerland</td>\n",
       "      <td>2014-08-12</td>\n",
       "      <td>304.0</td>\n",
       "      <td>Delta Enterprise</td>\n",
       "      <td>14.440</td>\n",
       "    </tr>\n",
       "    <tr>\n",
       "      <th>23</th>\n",
       "      <td>10255</td>\n",
       "      <td>Inlagd Sill</td>\n",
       "      <td>Seafood</td>\n",
       "      <td>15.2</td>\n",
       "      <td>25</td>\n",
       "      <td>Richter Supermarkt</td>\n",
       "      <td>Genève</td>\n",
       "      <td>Switzerland</td>\n",
       "      <td>2014-08-12</td>\n",
       "      <td>380.0</td>\n",
       "      <td>Delta Enterprise</td>\n",
       "      <td>18.050</td>\n",
       "    </tr>\n",
       "  </tbody>\n",
       "</table>\n",
       "</div>"
      ],
      "text/plain": [
       "    Order ID                          Product   Category  Unit Price  \\\n",
       "6      10250  Jack's New England Clam Chowder    Seafood         7.7   \n",
       "15     10253                 Chartreuse verte  Beverages        14.4   \n",
       "19     10254               Guaraná Fantástica  Beverages         3.6   \n",
       "21     10255                            Chang  Beverages        15.2   \n",
       "23     10255                      Inlagd Sill    Seafood        15.2   \n",
       "\n",
       "    Quantity            Customer       Ship City Ship Country Order Date  \\\n",
       "6         10       Hanari Carnes  Rio de Janeiro       Brazil 2014-08-08   \n",
       "15        42       Hanari Carnes  Rio de Janeiro       Brazil 2014-08-10   \n",
       "19        15   Chop-suey Chinese            Bern  Switzerland 2014-08-11   \n",
       "21        20  Richter Supermarkt          Genève  Switzerland 2014-08-12   \n",
       "23        25  Richter Supermarkt          Genève  Switzerland 2014-08-12   \n",
       "\n",
       "    Amount        Enterprise  Discount  \n",
       "6     77.0  Delta Enterprise     3.658  \n",
       "15   604.8  Delta Enterprise    28.728  \n",
       "19    54.0  Delta Enterprise     2.565  \n",
       "21   304.0  Delta Enterprise    14.440  \n",
       "23   380.0  Delta Enterprise    18.050  "
      ]
     },
     "execution_count": 9,
     "metadata": {},
     "output_type": "execute_result"
    }
   ],
   "source": [
    "# Queremos clonar el dataframe de trimestre para que haya solo las ventas de las Category = Beverages y Seafood\n",
    "# generamos el filtro\n",
    "beve_seafood = trimestre2014[(trimestre2014['Category'] == 'Beverages') | (trimestre2014['Category'] == 'Seafood')]\n",
    "beve_seafood.head(5) # vemos los 5 primeros campos "
   ]
  },
  {
   "cell_type": "code",
   "execution_count": 10,
   "metadata": {},
   "outputs": [
    {
     "data": {
      "text/plain": [
       "Ship Country  Ship City      \n",
       "Austria       Graz               2102.8\n",
       "Belgium       Charleroi           441.6\n",
       "Brazil        Rio de Janeiro     1673.8\n",
       "Finland       Oulu               1376.0\n",
       "France        Strasbourg         1104.0\n",
       "Germany       Cunewalde          4810.8\n",
       "              Frankfurt a.M.       56.0\n",
       "              Köln                375.2\n",
       "              München             951.0\n",
       "              Stuttgart          1092.2\n",
       "Ireland       Cork               1952.0\n",
       "Italy         Bergamo              43.2\n",
       "Mexico        México D.F.        1174.0\n",
       "Spain         Madrid              410.4\n",
       "              Sevilla             588.0\n",
       "Sweden        Bräcke              724.5\n",
       "              Luleå               529.2\n",
       "Switzerland   Bern                 54.0\n",
       "              Genève              684.0\n",
       "UK            Cowes               516.8\n",
       "USA           Albuquerque        1243.4\n",
       "              Anchorage          1682.0\n",
       "              Portland            288.0\n",
       "Venezuela     San Cristóbal        86.4\n",
       "Name: Amount, dtype: float64"
      ]
     },
     "execution_count": 10,
     "metadata": {},
     "output_type": "execute_result"
    }
   ],
   "source": [
    "# Sobre este dataframe clonado queremos ver la suma de Amount agrupada por 'Ship Country' y 'Ship City'\n",
    "beve_seafood.groupby(['Ship Country','Ship City']).Amount.sum()"
   ]
  },
  {
   "cell_type": "code",
   "execution_count": 11,
   "metadata": {},
   "outputs": [
    {
     "data": {
      "text/plain": [
       "Product\n",
       "Boston Crab Meat                   14.7\n",
       "Carnarvon Tigers                   50.0\n",
       "Chai                               14.4\n",
       "Chang                              15.2\n",
       "Chartreuse verte                   14.4\n",
       "Escargots de Bourgogne             10.6\n",
       "Gravad lax                         20.8\n",
       "Guaraná Fantástica                  3.6\n",
       "Ikura                              24.8\n",
       "Inlagd Sill                        15.2\n",
       "Ipoh Coffee                        36.8\n",
       "Jack's New England Clam Chowder     7.7\n",
       "Konbu                               4.8\n",
       "Lakkalikööri                       14.4\n",
       "Laughing Lumberjack Lager          11.2\n",
       "Nord-Ost Matjeshering              20.7\n",
       "Outback Lager                      12.0\n",
       "Rhönbräu Klosterbier                6.2\n",
       "Röd Kaviar                         12.0\n",
       "Sasquatch Ale                      11.2\n",
       "Spegesild                           9.6\n",
       "Steeleye Stout                     14.4\n",
       "Name: Unit Price, dtype: float64"
      ]
     },
     "execution_count": 11,
     "metadata": {},
     "output_type": "execute_result"
    }
   ],
   "source": [
    "# Sobre este dataframe clonado queremos ver el promedio del Precio Unidad agrupado por 'Product'\n",
    "beve_seafood.groupby(['Product'])['Unit Price'].mean()"
   ]
  },
  {
   "cell_type": "markdown",
   "metadata": {},
   "source": [
    "### OBJETO iloc( INTEGER LOCATION):\n",
    "* Me permite acceder a filas/columnas de un dataframe usando los indices numéricos 'iloc[fila,columna]' , \n",
    "la primera fila es indice = 0 y la primera columna es indice = 0"
   ]
  },
  {
   "cell_type": "code",
   "execution_count": 12,
   "metadata": {},
   "outputs": [
    {
     "name": "stdout",
     "output_type": "stream",
     "text": [
      "Singaporean Hokkien Fried Mee\n"
     ]
    }
   ],
   "source": [
    "# nos muestra los que se encuentra en esa \"casilla\" del dataframe\n",
    "print(trimestre2014.iloc[0,1])\n"
   ]
  },
  {
   "cell_type": "code",
   "execution_count": 13,
   "metadata": {},
   "outputs": [
    {
     "data": {
      "application/vnd.microsoft.datawrangler.viewer.v0+json": {
       "columns": [
        {
         "name": "index",
         "rawType": "int64",
         "type": "integer"
        },
        {
         "name": "Order ID",
         "rawType": "int64",
         "type": "integer"
        },
        {
         "name": "Product",
         "rawType": "object",
         "type": "string"
        },
        {
         "name": "Category",
         "rawType": "object",
         "type": "string"
        },
        {
         "name": "Unit Price",
         "rawType": "float64",
         "type": "float"
        },
        {
         "name": "Quantity",
         "rawType": "int64",
         "type": "integer"
        },
        {
         "name": "Customer",
         "rawType": "object",
         "type": "string"
        },
        {
         "name": "Ship City",
         "rawType": "object",
         "type": "string"
        },
        {
         "name": "Ship Country",
         "rawType": "object",
         "type": "string"
        },
        {
         "name": "Order Date",
         "rawType": "datetime64[ns]",
         "type": "datetime"
        },
        {
         "name": "Amount",
         "rawType": "float64",
         "type": "float"
        },
        {
         "name": "Enterprise",
         "rawType": "object",
         "type": "string"
        },
        {
         "name": "Discount",
         "rawType": "float64",
         "type": "float"
        }
       ],
       "conversionMethod": "pd.DataFrame",
       "ref": "9872b023-f404-4dbe-8338-d34899bdcd00",
       "rows": [
        [
         "20",
         "10255",
         "Raclette Courdavault",
         "Dairy Products",
         "44.0",
         "30",
         "Richter Supermarkt",
         "Genève",
         "Switzerland",
         "2014-08-12 00:00:00",
         "1320.0",
         "Delta Enterprise",
         "62.7"
        ],
        [
         "21",
         "10255",
         "Chang",
         "Beverages",
         "15.2",
         "20",
         "Richter Supermarkt",
         "Genève",
         "Switzerland",
         "2014-08-12 00:00:00",
         "304.0",
         "Delta Enterprise",
         "14.44"
        ],
        [
         "22",
         "10255",
         "Pavlova",
         "Confections",
         "13.9",
         "35",
         "Richter Supermarkt",
         "Genève",
         "Switzerland",
         "2014-08-12 00:00:00",
         "486.5",
         "Delta Enterprise",
         "23.109"
        ],
        [
         "23",
         "10255",
         "Inlagd Sill",
         "Seafood",
         "15.2",
         "25",
         "Richter Supermarkt",
         "Genève",
         "Switzerland",
         "2014-08-12 00:00:00",
         "380.0",
         "Delta Enterprise",
         "18.05"
        ],
        [
         "24",
         "10256",
         "Perth Pasties",
         "Meat/Poultry",
         "26.2",
         "15",
         "Wellington Importadora",
         "Resende",
         "Brazil",
         "2014-08-15 00:00:00",
         "393.0",
         "Delta Enterprise",
         "18.668"
        ],
        [
         "25",
         "10256",
         "Original Frankfurter grüne Soße",
         "Condiments",
         "10.4",
         "12",
         "Wellington Importadora",
         "Resende",
         "Brazil",
         "2014-08-15 00:00:00",
         "124.80000000000001",
         "Delta Enterprise",
         "5.928"
        ],
        [
         "26",
         "10257",
         "Schoggi Schokolade",
         "Confections",
         "35.1",
         "25",
         "HILARIÓN-Abastos",
         "San Cristóbal",
         "Venezuela",
         "2014-08-16 00:00:00",
         "877.5",
         "Delta Enterprise",
         "41.681"
        ],
        [
         "27",
         "10257",
         "Chartreuse verte",
         "Beverages",
         "14.4",
         "6",
         "HILARIÓN-Abastos",
         "San Cristóbal",
         "Venezuela",
         "2014-08-16 00:00:00",
         "86.4",
         "Delta Enterprise",
         "4.104"
        ],
        [
         "28",
         "10257",
         "Original Frankfurter grüne Soße",
         "Condiments",
         "10.4",
         "15",
         "HILARIÓN-Abastos",
         "San Cristóbal",
         "Venezuela",
         "2014-08-16 00:00:00",
         "156.0",
         "Delta Enterprise",
         "7.41"
        ],
        [
         "29",
         "10258",
         "Chang",
         "Beverages",
         "15.2",
         "50",
         "Ernst Handel",
         "Graz",
         "Austria",
         "2014-08-17 00:00:00",
         "760.0",
         "Delta Enterprise",
         "36.1"
        ]
       ],
       "shape": {
        "columns": 12,
        "rows": 10
       }
      },
      "text/html": [
       "<div>\n",
       "<style scoped>\n",
       "    .dataframe tbody tr th:only-of-type {\n",
       "        vertical-align: middle;\n",
       "    }\n",
       "\n",
       "    .dataframe tbody tr th {\n",
       "        vertical-align: top;\n",
       "    }\n",
       "\n",
       "    .dataframe thead th {\n",
       "        text-align: right;\n",
       "    }\n",
       "</style>\n",
       "<table border=\"1\" class=\"dataframe\">\n",
       "  <thead>\n",
       "    <tr style=\"text-align: right;\">\n",
       "      <th></th>\n",
       "      <th>Order ID</th>\n",
       "      <th>Product</th>\n",
       "      <th>Category</th>\n",
       "      <th>Unit Price</th>\n",
       "      <th>Quantity</th>\n",
       "      <th>Customer</th>\n",
       "      <th>Ship City</th>\n",
       "      <th>Ship Country</th>\n",
       "      <th>Order Date</th>\n",
       "      <th>Amount</th>\n",
       "      <th>Enterprise</th>\n",
       "      <th>Discount</th>\n",
       "    </tr>\n",
       "  </thead>\n",
       "  <tbody>\n",
       "    <tr>\n",
       "      <th>20</th>\n",
       "      <td>10255</td>\n",
       "      <td>Raclette Courdavault</td>\n",
       "      <td>Dairy Products</td>\n",
       "      <td>44.0</td>\n",
       "      <td>30</td>\n",
       "      <td>Richter Supermarkt</td>\n",
       "      <td>Genève</td>\n",
       "      <td>Switzerland</td>\n",
       "      <td>2014-08-12</td>\n",
       "      <td>1320.0</td>\n",
       "      <td>Delta Enterprise</td>\n",
       "      <td>62.700</td>\n",
       "    </tr>\n",
       "    <tr>\n",
       "      <th>21</th>\n",
       "      <td>10255</td>\n",
       "      <td>Chang</td>\n",
       "      <td>Beverages</td>\n",
       "      <td>15.2</td>\n",
       "      <td>20</td>\n",
       "      <td>Richter Supermarkt</td>\n",
       "      <td>Genève</td>\n",
       "      <td>Switzerland</td>\n",
       "      <td>2014-08-12</td>\n",
       "      <td>304.0</td>\n",
       "      <td>Delta Enterprise</td>\n",
       "      <td>14.440</td>\n",
       "    </tr>\n",
       "    <tr>\n",
       "      <th>22</th>\n",
       "      <td>10255</td>\n",
       "      <td>Pavlova</td>\n",
       "      <td>Confections</td>\n",
       "      <td>13.9</td>\n",
       "      <td>35</td>\n",
       "      <td>Richter Supermarkt</td>\n",
       "      <td>Genève</td>\n",
       "      <td>Switzerland</td>\n",
       "      <td>2014-08-12</td>\n",
       "      <td>486.5</td>\n",
       "      <td>Delta Enterprise</td>\n",
       "      <td>23.109</td>\n",
       "    </tr>\n",
       "    <tr>\n",
       "      <th>23</th>\n",
       "      <td>10255</td>\n",
       "      <td>Inlagd Sill</td>\n",
       "      <td>Seafood</td>\n",
       "      <td>15.2</td>\n",
       "      <td>25</td>\n",
       "      <td>Richter Supermarkt</td>\n",
       "      <td>Genève</td>\n",
       "      <td>Switzerland</td>\n",
       "      <td>2014-08-12</td>\n",
       "      <td>380.0</td>\n",
       "      <td>Delta Enterprise</td>\n",
       "      <td>18.050</td>\n",
       "    </tr>\n",
       "    <tr>\n",
       "      <th>24</th>\n",
       "      <td>10256</td>\n",
       "      <td>Perth Pasties</td>\n",
       "      <td>Meat/Poultry</td>\n",
       "      <td>26.2</td>\n",
       "      <td>15</td>\n",
       "      <td>Wellington Importadora</td>\n",
       "      <td>Resende</td>\n",
       "      <td>Brazil</td>\n",
       "      <td>2014-08-15</td>\n",
       "      <td>393.0</td>\n",
       "      <td>Delta Enterprise</td>\n",
       "      <td>18.668</td>\n",
       "    </tr>\n",
       "    <tr>\n",
       "      <th>25</th>\n",
       "      <td>10256</td>\n",
       "      <td>Original Frankfurter grüne Soße</td>\n",
       "      <td>Condiments</td>\n",
       "      <td>10.4</td>\n",
       "      <td>12</td>\n",
       "      <td>Wellington Importadora</td>\n",
       "      <td>Resende</td>\n",
       "      <td>Brazil</td>\n",
       "      <td>2014-08-15</td>\n",
       "      <td>124.8</td>\n",
       "      <td>Delta Enterprise</td>\n",
       "      <td>5.928</td>\n",
       "    </tr>\n",
       "    <tr>\n",
       "      <th>26</th>\n",
       "      <td>10257</td>\n",
       "      <td>Schoggi Schokolade</td>\n",
       "      <td>Confections</td>\n",
       "      <td>35.1</td>\n",
       "      <td>25</td>\n",
       "      <td>HILARIÓN-Abastos</td>\n",
       "      <td>San Cristóbal</td>\n",
       "      <td>Venezuela</td>\n",
       "      <td>2014-08-16</td>\n",
       "      <td>877.5</td>\n",
       "      <td>Delta Enterprise</td>\n",
       "      <td>41.681</td>\n",
       "    </tr>\n",
       "    <tr>\n",
       "      <th>27</th>\n",
       "      <td>10257</td>\n",
       "      <td>Chartreuse verte</td>\n",
       "      <td>Beverages</td>\n",
       "      <td>14.4</td>\n",
       "      <td>6</td>\n",
       "      <td>HILARIÓN-Abastos</td>\n",
       "      <td>San Cristóbal</td>\n",
       "      <td>Venezuela</td>\n",
       "      <td>2014-08-16</td>\n",
       "      <td>86.4</td>\n",
       "      <td>Delta Enterprise</td>\n",
       "      <td>4.104</td>\n",
       "    </tr>\n",
       "    <tr>\n",
       "      <th>28</th>\n",
       "      <td>10257</td>\n",
       "      <td>Original Frankfurter grüne Soße</td>\n",
       "      <td>Condiments</td>\n",
       "      <td>10.4</td>\n",
       "      <td>15</td>\n",
       "      <td>HILARIÓN-Abastos</td>\n",
       "      <td>San Cristóbal</td>\n",
       "      <td>Venezuela</td>\n",
       "      <td>2014-08-16</td>\n",
       "      <td>156.0</td>\n",
       "      <td>Delta Enterprise</td>\n",
       "      <td>7.410</td>\n",
       "    </tr>\n",
       "    <tr>\n",
       "      <th>29</th>\n",
       "      <td>10258</td>\n",
       "      <td>Chang</td>\n",
       "      <td>Beverages</td>\n",
       "      <td>15.2</td>\n",
       "      <td>50</td>\n",
       "      <td>Ernst Handel</td>\n",
       "      <td>Graz</td>\n",
       "      <td>Austria</td>\n",
       "      <td>2014-08-17</td>\n",
       "      <td>760.0</td>\n",
       "      <td>Delta Enterprise</td>\n",
       "      <td>36.100</td>\n",
       "    </tr>\n",
       "  </tbody>\n",
       "</table>\n",
       "</div>"
      ],
      "text/plain": [
       "    Order ID                          Product        Category  Unit Price  \\\n",
       "20     10255             Raclette Courdavault  Dairy Products        44.0   \n",
       "21     10255                            Chang       Beverages        15.2   \n",
       "22     10255                          Pavlova     Confections        13.9   \n",
       "23     10255                      Inlagd Sill         Seafood        15.2   \n",
       "24     10256                    Perth Pasties    Meat/Poultry        26.2   \n",
       "25     10256  Original Frankfurter grüne Soße      Condiments        10.4   \n",
       "26     10257               Schoggi Schokolade     Confections        35.1   \n",
       "27     10257                 Chartreuse verte       Beverages        14.4   \n",
       "28     10257  Original Frankfurter grüne Soße      Condiments        10.4   \n",
       "29     10258                            Chang       Beverages        15.2   \n",
       "\n",
       "    Quantity                Customer      Ship City Ship Country Order Date  \\\n",
       "20        30      Richter Supermarkt         Genève  Switzerland 2014-08-12   \n",
       "21        20      Richter Supermarkt         Genève  Switzerland 2014-08-12   \n",
       "22        35      Richter Supermarkt         Genève  Switzerland 2014-08-12   \n",
       "23        25      Richter Supermarkt         Genève  Switzerland 2014-08-12   \n",
       "24        15  Wellington Importadora        Resende       Brazil 2014-08-15   \n",
       "25        12  Wellington Importadora        Resende       Brazil 2014-08-15   \n",
       "26        25        HILARIÓN-Abastos  San Cristóbal    Venezuela 2014-08-16   \n",
       "27         6        HILARIÓN-Abastos  San Cristóbal    Venezuela 2014-08-16   \n",
       "28        15        HILARIÓN-Abastos  San Cristóbal    Venezuela 2014-08-16   \n",
       "29        50            Ernst Handel           Graz      Austria 2014-08-17   \n",
       "\n",
       "    Amount        Enterprise  Discount  \n",
       "20  1320.0  Delta Enterprise    62.700  \n",
       "21   304.0  Delta Enterprise    14.440  \n",
       "22   486.5  Delta Enterprise    23.109  \n",
       "23   380.0  Delta Enterprise    18.050  \n",
       "24   393.0  Delta Enterprise    18.668  \n",
       "25   124.8  Delta Enterprise     5.928  \n",
       "26   877.5  Delta Enterprise    41.681  \n",
       "27    86.4  Delta Enterprise     4.104  \n",
       "28   156.0  Delta Enterprise     7.410  \n",
       "29   760.0  Delta Enterprise    36.100  "
      ]
     },
     "execution_count": 13,
     "metadata": {},
     "output_type": "execute_result"
    }
   ],
   "source": [
    "# [20:30] significa del indice 20 al 29 , si ddespués de la coma no le pongo nada o vacio, significa todas las columnas\n",
    "trimestre2014.iloc[20:30,]"
   ]
  },
  {
   "cell_type": "code",
   "execution_count": null,
   "metadata": {},
   "outputs": [
    {
     "data": {
      "application/vnd.microsoft.datawrangler.viewer.v0+json": {
       "columns": [
        {
         "name": "index",
         "rawType": "int64",
         "type": "integer"
        },
        {
         "name": "Category",
         "rawType": "object",
         "type": "string"
        },
        {
         "name": "Order ID",
         "rawType": "int64",
         "type": "integer"
        },
        {
         "name": "Product",
         "rawType": "object",
         "type": "string"
        }
       ],
       "conversionMethod": "pd.DataFrame",
       "ref": "bb61243e-8fd7-4020-b0ed-dd759740d177",
       "rows": [
        [
         "20",
         "Dairy Products",
         "10255",
         "Raclette Courdavault"
        ],
        [
         "21",
         "Beverages",
         "10255",
         "Chang"
        ],
        [
         "22",
         "Confections",
         "10255",
         "Pavlova"
        ],
        [
         "23",
         "Seafood",
         "10255",
         "Inlagd Sill"
        ],
        [
         "24",
         "Meat/Poultry",
         "10256",
         "Perth Pasties"
        ],
        [
         "25",
         "Condiments",
         "10256",
         "Original Frankfurter grüne Soße"
        ],
        [
         "26",
         "Confections",
         "10257",
         "Schoggi Schokolade"
        ],
        [
         "27",
         "Beverages",
         "10257",
         "Chartreuse verte"
        ],
        [
         "28",
         "Condiments",
         "10257",
         "Original Frankfurter grüne Soße"
        ],
        [
         "29",
         "Beverages",
         "10258",
         "Chang"
        ]
       ],
       "shape": {
        "columns": 3,
        "rows": 10
       }
      },
      "text/html": [
       "<div>\n",
       "<style scoped>\n",
       "    .dataframe tbody tr th:only-of-type {\n",
       "        vertical-align: middle;\n",
       "    }\n",
       "\n",
       "    .dataframe tbody tr th {\n",
       "        vertical-align: top;\n",
       "    }\n",
       "\n",
       "    .dataframe thead th {\n",
       "        text-align: right;\n",
       "    }\n",
       "</style>\n",
       "<table border=\"1\" class=\"dataframe\">\n",
       "  <thead>\n",
       "    <tr style=\"text-align: right;\">\n",
       "      <th></th>\n",
       "      <th>Category</th>\n",
       "      <th>Order ID</th>\n",
       "      <th>Product</th>\n",
       "    </tr>\n",
       "  </thead>\n",
       "  <tbody>\n",
       "    <tr>\n",
       "      <th>20</th>\n",
       "      <td>Dairy Products</td>\n",
       "      <td>10255</td>\n",
       "      <td>Raclette Courdavault</td>\n",
       "    </tr>\n",
       "    <tr>\n",
       "      <th>21</th>\n",
       "      <td>Beverages</td>\n",
       "      <td>10255</td>\n",
       "      <td>Chang</td>\n",
       "    </tr>\n",
       "    <tr>\n",
       "      <th>22</th>\n",
       "      <td>Confections</td>\n",
       "      <td>10255</td>\n",
       "      <td>Pavlova</td>\n",
       "    </tr>\n",
       "    <tr>\n",
       "      <th>23</th>\n",
       "      <td>Seafood</td>\n",
       "      <td>10255</td>\n",
       "      <td>Inlagd Sill</td>\n",
       "    </tr>\n",
       "    <tr>\n",
       "      <th>24</th>\n",
       "      <td>Meat/Poultry</td>\n",
       "      <td>10256</td>\n",
       "      <td>Perth Pasties</td>\n",
       "    </tr>\n",
       "    <tr>\n",
       "      <th>25</th>\n",
       "      <td>Condiments</td>\n",
       "      <td>10256</td>\n",
       "      <td>Original Frankfurter grüne Soße</td>\n",
       "    </tr>\n",
       "    <tr>\n",
       "      <th>26</th>\n",
       "      <td>Confections</td>\n",
       "      <td>10257</td>\n",
       "      <td>Schoggi Schokolade</td>\n",
       "    </tr>\n",
       "    <tr>\n",
       "      <th>27</th>\n",
       "      <td>Beverages</td>\n",
       "      <td>10257</td>\n",
       "      <td>Chartreuse verte</td>\n",
       "    </tr>\n",
       "    <tr>\n",
       "      <th>28</th>\n",
       "      <td>Condiments</td>\n",
       "      <td>10257</td>\n",
       "      <td>Original Frankfurter grüne Soße</td>\n",
       "    </tr>\n",
       "    <tr>\n",
       "      <th>29</th>\n",
       "      <td>Beverages</td>\n",
       "      <td>10258</td>\n",
       "      <td>Chang</td>\n",
       "    </tr>\n",
       "  </tbody>\n",
       "</table>\n",
       "</div>"
      ],
      "text/plain": [
       "          Category  Order ID                          Product\n",
       "20  Dairy Products     10255             Raclette Courdavault\n",
       "21       Beverages     10255                            Chang\n",
       "22     Confections     10255                          Pavlova\n",
       "23         Seafood     10255                      Inlagd Sill\n",
       "24    Meat/Poultry     10256                    Perth Pasties\n",
       "25      Condiments     10256  Original Frankfurter grüne Soße\n",
       "26     Confections     10257               Schoggi Schokolade\n",
       "27       Beverages     10257                 Chartreuse verte\n",
       "28      Condiments     10257  Original Frankfurter grüne Soße\n",
       "29       Beverages     10258                            Chang"
      ]
     },
     "execution_count": 14,
     "metadata": {},
     "output_type": "execute_result"
    }
   ],
   "source": [
    "# Muestras las columnas de la 0 a la 3 en orden\n",
    "trimestre2014.iloc[20:30,0:3]\n",
    "\n",
    "# Esto ya me da la pista que con iloc, puedo clonar un dataframe para ver solo algunas\n",
    "# columnas en el orden que me interese y también el nñumero de filas\n",
    "trimestre2014.iloc[20:30,[2,0,1]]"
   ]
  },
  {
   "cell_type": "code",
   "execution_count": null,
   "metadata": {},
   "outputs": [
    {
     "data": {
      "application/vnd.microsoft.datawrangler.viewer.v0+json": {
       "columns": [
        {
         "name": "index",
         "rawType": "int64",
         "type": "integer"
        },
        {
         "name": "Quantity",
         "rawType": "int64",
         "type": "integer"
        },
        {
         "name": "Category",
         "rawType": "object",
         "type": "string"
        },
        {
         "name": "Customer",
         "rawType": "object",
         "type": "string"
        }
       ],
       "conversionMethod": "pd.DataFrame",
       "ref": "bc4b1b5c-bf3e-40a3-aebb-adf6a102d764",
       "rows": [
        [
         "0",
         "1",
         "Grains/Cereals",
         "Vins et alcools Chevalier"
        ],
        [
         "1",
         "5",
         "Dairy Products",
         "Vins et alcools Chevalier"
        ],
        [
         "2",
         "12",
         "Dairy Products",
         "Vins et alcools Chevalier"
        ],
        [
         "3",
         "9",
         "Produce",
         "Toms Spezialitäten"
        ],
        [
         "4",
         "40",
         "Produce",
         "Toms Spezialitäten"
        ],
        [
         "5",
         "15",
         "Condiments",
         "Hanari Carnes"
        ],
        [
         "6",
         "10",
         "Seafood",
         "Hanari Carnes"
        ],
        [
         "7",
         "35",
         "Produce",
         "Hanari Carnes"
        ],
        [
         "8",
         "20",
         "Condiments",
         "Victuailles en stock"
        ],
        [
         "9",
         "6",
         "Grains/Cereals",
         "Victuailles en stock"
        ],
        [
         "10",
         "15",
         "Grains/Cereals",
         "Victuailles en stock"
        ],
        [
         "11",
         "40",
         "Confections",
         "Suprêmes délices"
        ],
        [
         "12",
         "25",
         "Dairy Products",
         "Suprêmes délices"
        ],
        [
         "13",
         "40",
         "Dairy Products",
         "Suprêmes délices"
        ],
        [
         "14",
         "40",
         "Confections",
         "Hanari Carnes"
        ],
        [
         "15",
         "42",
         "Beverages",
         "Hanari Carnes"
        ],
        [
         "16",
         "20",
         "Dairy Products",
         "Hanari Carnes"
        ],
        [
         "17",
         "21",
         "Meat/Poultry",
         "Chop-suey Chinese"
        ],
        [
         "18",
         "21",
         "Produce",
         "Chop-suey Chinese"
        ],
        [
         "19",
         "15",
         "Beverages",
         "Chop-suey Chinese"
        ],
        [
         "20",
         "30",
         "Dairy Products",
         "Richter Supermarkt"
        ],
        [
         "21",
         "20",
         "Beverages",
         "Richter Supermarkt"
        ],
        [
         "22",
         "35",
         "Confections",
         "Richter Supermarkt"
        ],
        [
         "23",
         "25",
         "Seafood",
         "Richter Supermarkt"
        ],
        [
         "24",
         "15",
         "Meat/Poultry",
         "Wellington Importadora"
        ],
        [
         "25",
         "12",
         "Condiments",
         "Wellington Importadora"
        ],
        [
         "26",
         "25",
         "Confections",
         "HILARIÓN-Abastos"
        ],
        [
         "27",
         "6",
         "Beverages",
         "HILARIÓN-Abastos"
        ],
        [
         "28",
         "15",
         "Condiments",
         "HILARIÓN-Abastos"
        ],
        [
         "29",
         "50",
         "Beverages",
         "Ernst Handel"
        ],
        [
         "30",
         "65",
         "Condiments",
         "Ernst Handel"
        ],
        [
         "31",
         "6",
         "Dairy Products",
         "Ernst Handel"
        ],
        [
         "32",
         "10",
         "Confections",
         "Centro comercial Moctezuma"
        ],
        [
         "33",
         "1",
         "Seafood",
         "Centro comercial Moctezuma"
        ],
        [
         "34",
         "16",
         "Seafood",
         "Ottilies Käseladen"
        ],
        [
         "35",
         "50",
         "Grains/Cereals",
         "Ottilies Käseladen"
        ],
        [
         "36",
         "15",
         "Confections",
         "Ottilies Käseladen"
        ],
        [
         "37",
         "21",
         "Beverages",
         "Ottilies Käseladen"
        ],
        [
         "38",
         "20",
         "Confections",
         "Que Delícia"
        ],
        [
         "39",
         "20",
         "Beverages",
         "Que Delícia"
        ],
        [
         "40",
         "12",
         "Condiments",
         "Rattlesnake Canyon Grocery"
        ],
        [
         "41",
         "15",
         "Produce",
         "Rattlesnake Canyon Grocery"
        ],
        [
         "42",
         "2",
         "Grains/Cereals",
         "Rattlesnake Canyon Grocery"
        ],
        [
         "43",
         "60",
         "Confections",
         "Ernst Handel"
        ],
        [
         "44",
         "28",
         "Beverages",
         "Ernst Handel"
        ],
        [
         "45",
         "60",
         "Seafood",
         "Ernst Handel"
        ],
        [
         "46",
         "36",
         "Produce",
         "Ernst Handel"
        ],
        [
         "47",
         "35",
         "Beverages",
         "Folk och fä HB"
        ],
        [
         "48",
         "25",
         "Seafood",
         "Folk och fä HB"
        ],
        [
         "49",
         "30",
         "Meat/Poultry",
         "Blondel père et fils"
        ]
       ],
       "shape": {
        "columns": 3,
        "rows": 185
       }
      },
      "text/html": [
       "<div>\n",
       "<style scoped>\n",
       "    .dataframe tbody tr th:only-of-type {\n",
       "        vertical-align: middle;\n",
       "    }\n",
       "\n",
       "    .dataframe tbody tr th {\n",
       "        vertical-align: top;\n",
       "    }\n",
       "\n",
       "    .dataframe thead th {\n",
       "        text-align: right;\n",
       "    }\n",
       "</style>\n",
       "<table border=\"1\" class=\"dataframe\">\n",
       "  <thead>\n",
       "    <tr style=\"text-align: right;\">\n",
       "      <th></th>\n",
       "      <th>Quantity</th>\n",
       "      <th>Category</th>\n",
       "      <th>Customer</th>\n",
       "    </tr>\n",
       "  </thead>\n",
       "  <tbody>\n",
       "    <tr>\n",
       "      <th>0</th>\n",
       "      <td>1</td>\n",
       "      <td>Grains/Cereals</td>\n",
       "      <td>Vins et alcools Chevalier</td>\n",
       "    </tr>\n",
       "    <tr>\n",
       "      <th>1</th>\n",
       "      <td>5</td>\n",
       "      <td>Dairy Products</td>\n",
       "      <td>Vins et alcools Chevalier</td>\n",
       "    </tr>\n",
       "    <tr>\n",
       "      <th>2</th>\n",
       "      <td>12</td>\n",
       "      <td>Dairy Products</td>\n",
       "      <td>Vins et alcools Chevalier</td>\n",
       "    </tr>\n",
       "    <tr>\n",
       "      <th>3</th>\n",
       "      <td>9</td>\n",
       "      <td>Produce</td>\n",
       "      <td>Toms Spezialitäten</td>\n",
       "    </tr>\n",
       "    <tr>\n",
       "      <th>4</th>\n",
       "      <td>40</td>\n",
       "      <td>Produce</td>\n",
       "      <td>Toms Spezialitäten</td>\n",
       "    </tr>\n",
       "    <tr>\n",
       "      <th>...</th>\n",
       "      <td>...</td>\n",
       "      <td>...</td>\n",
       "      <td>...</td>\n",
       "    </tr>\n",
       "    <tr>\n",
       "      <th>180</th>\n",
       "      <td>14</td>\n",
       "      <td>Beverages</td>\n",
       "      <td>Island Trading</td>\n",
       "    </tr>\n",
       "    <tr>\n",
       "      <th>181</th>\n",
       "      <td>30</td>\n",
       "      <td>Beverages</td>\n",
       "      <td>Island Trading</td>\n",
       "    </tr>\n",
       "    <tr>\n",
       "      <th>182</th>\n",
       "      <td>10</td>\n",
       "      <td>Seafood</td>\n",
       "      <td>Rattlesnake Canyon Grocery</td>\n",
       "    </tr>\n",
       "    <tr>\n",
       "      <th>183</th>\n",
       "      <td>70</td>\n",
       "      <td>Confections</td>\n",
       "      <td>Rattlesnake Canyon Grocery</td>\n",
       "    </tr>\n",
       "    <tr>\n",
       "      <th>184</th>\n",
       "      <td>20</td>\n",
       "      <td>Beverages</td>\n",
       "      <td>Lonesome Pine Restaurant</td>\n",
       "    </tr>\n",
       "  </tbody>\n",
       "</table>\n",
       "<p>185 rows × 3 columns</p>\n",
       "</div>"
      ],
      "text/plain": [
       "     Quantity        Category                    Customer\n",
       "0           1  Grains/Cereals   Vins et alcools Chevalier\n",
       "1           5  Dairy Products   Vins et alcools Chevalier\n",
       "2          12  Dairy Products   Vins et alcools Chevalier\n",
       "3           9         Produce          Toms Spezialitäten\n",
       "4          40         Produce          Toms Spezialitäten\n",
       "..        ...             ...                         ...\n",
       "180        14       Beverages              Island Trading\n",
       "181        30       Beverages              Island Trading\n",
       "182        10         Seafood  Rattlesnake Canyon Grocery\n",
       "183        70     Confections  Rattlesnake Canyon Grocery\n",
       "184        20       Beverages    Lonesome Pine Restaurant\n",
       "\n",
       "[185 rows x 3 columns]"
      ]
     },
     "execution_count": 15,
     "metadata": {},
     "output_type": "execute_result"
    }
   ],
   "source": [
    "# Nomenclatura para ver las columnas con todas las filas, en vez de blanco ponemos los dos puntos\n",
    "trimestre2014.iloc[ :,[4,2,5]]# la coma es importante para separar [filas,columnas]\n",
    "\n",
    "# si ponemos un indice que no vale, dará un error, pues no existe ese indice"
   ]
  },
  {
   "cell_type": "markdown",
   "metadata": {},
   "source": [
    "Para el proximo día, lo primero es aprender un dataframe con iloc tanto de lectura como de escritura"
   ]
  },
  {
   "cell_type": "code",
   "execution_count": null,
   "metadata": {},
   "outputs": [
    {
     "data": {
      "application/vnd.microsoft.datawrangler.viewer.v0+json": {
       "columns": [
        {
         "name": "index",
         "rawType": "int64",
         "type": "integer"
        },
        {
         "name": "Order ID",
         "rawType": "int64",
         "type": "integer"
        },
        {
         "name": "Product",
         "rawType": "object",
         "type": "string"
        },
        {
         "name": "Category",
         "rawType": "object",
         "type": "string"
        },
        {
         "name": "Unit Price",
         "rawType": "float64",
         "type": "float"
        },
        {
         "name": "Quantity",
         "rawType": "int64",
         "type": "integer"
        },
        {
         "name": "Customer",
         "rawType": "object",
         "type": "string"
        },
        {
         "name": "Ship City",
         "rawType": "object",
         "type": "string"
        },
        {
         "name": "Ship Country",
         "rawType": "object",
         "type": "string"
        },
        {
         "name": "Order Date",
         "rawType": "datetime64[ns]",
         "type": "datetime"
        },
        {
         "name": "Amount",
         "rawType": "float64",
         "type": "float"
        },
        {
         "name": "Enterprise",
         "rawType": "object",
         "type": "string"
        },
        {
         "name": "Discount",
         "rawType": "float64",
         "type": "float"
        }
       ],
       "conversionMethod": "pd.DataFrame",
       "ref": "7bb8d63c-ed06-4e88-9a00-3105cfb07d21",
       "rows": [
        [
         "0",
         "458",
         "Singaporean Hokkien Fried Mee",
         "Grains/Cereals",
         "9.8",
         "1",
         "Vins et alcools Chevalier",
         "Reims",
         "France",
         "2014-08-04 00:00:00",
         "9.8",
         "Delta Enterprise",
         "0.343"
        ],
        [
         "1",
         "10248",
         "Mozzarella di Giovanni",
         "Dairy Products",
         "34.8",
         "5",
         "Vins et alcools Chevalier",
         "Reims",
         "France",
         "2014-08-04 00:00:00",
         "174.0",
         "Delta Enterprise",
         "6.09"
        ],
        [
         "2",
         "10248",
         "Queso Cabrales",
         "Dairy Products",
         "14.0",
         "12",
         "Vins et alcools Chevalier",
         "Reims",
         "France",
         "2014-08-04 00:00:00",
         "168.0",
         "Delta Enterprise",
         "5.88"
        ],
        [
         "3",
         "10249",
         "Tofu",
         "Produce",
         "18.6",
         "9",
         "Toms Spezialitäten",
         "Münster",
         "Germany",
         "2014-08-05 00:00:00",
         "167.4",
         "Delta Enterprise",
         "5.859"
        ],
        [
         "4",
         "10249",
         "Manjimup Dried Apples",
         "Produce",
         "42.4",
         "40",
         "Toms Spezialitäten",
         "Münster",
         "Germany",
         "2014-08-05 00:00:00",
         "1696.0",
         "Delta Enterprise",
         "59.36"
        ]
       ],
       "shape": {
        "columns": 12,
        "rows": 5
       }
      },
      "text/html": [
       "<div>\n",
       "<style scoped>\n",
       "    .dataframe tbody tr th:only-of-type {\n",
       "        vertical-align: middle;\n",
       "    }\n",
       "\n",
       "    .dataframe tbody tr th {\n",
       "        vertical-align: top;\n",
       "    }\n",
       "\n",
       "    .dataframe thead th {\n",
       "        text-align: right;\n",
       "    }\n",
       "</style>\n",
       "<table border=\"1\" class=\"dataframe\">\n",
       "  <thead>\n",
       "    <tr style=\"text-align: right;\">\n",
       "      <th></th>\n",
       "      <th>Order ID</th>\n",
       "      <th>Product</th>\n",
       "      <th>Category</th>\n",
       "      <th>Unit Price</th>\n",
       "      <th>Quantity</th>\n",
       "      <th>Customer</th>\n",
       "      <th>Ship City</th>\n",
       "      <th>Ship Country</th>\n",
       "      <th>Order Date</th>\n",
       "      <th>Amount</th>\n",
       "      <th>Enterprise</th>\n",
       "      <th>Discount</th>\n",
       "    </tr>\n",
       "  </thead>\n",
       "  <tbody>\n",
       "    <tr>\n",
       "      <th>0</th>\n",
       "      <td>458</td>\n",
       "      <td>Singaporean Hokkien Fried Mee</td>\n",
       "      <td>Grains/Cereals</td>\n",
       "      <td>9.8</td>\n",
       "      <td>1</td>\n",
       "      <td>Vins et alcools Chevalier</td>\n",
       "      <td>Reims</td>\n",
       "      <td>France</td>\n",
       "      <td>2014-08-04</td>\n",
       "      <td>9.8</td>\n",
       "      <td>Delta Enterprise</td>\n",
       "      <td>0.343</td>\n",
       "    </tr>\n",
       "    <tr>\n",
       "      <th>1</th>\n",
       "      <td>10248</td>\n",
       "      <td>Mozzarella di Giovanni</td>\n",
       "      <td>Dairy Products</td>\n",
       "      <td>34.8</td>\n",
       "      <td>5</td>\n",
       "      <td>Vins et alcools Chevalier</td>\n",
       "      <td>Reims</td>\n",
       "      <td>France</td>\n",
       "      <td>2014-08-04</td>\n",
       "      <td>174.0</td>\n",
       "      <td>Delta Enterprise</td>\n",
       "      <td>6.090</td>\n",
       "    </tr>\n",
       "    <tr>\n",
       "      <th>2</th>\n",
       "      <td>10248</td>\n",
       "      <td>Queso Cabrales</td>\n",
       "      <td>Dairy Products</td>\n",
       "      <td>14.0</td>\n",
       "      <td>12</td>\n",
       "      <td>Vins et alcools Chevalier</td>\n",
       "      <td>Reims</td>\n",
       "      <td>France</td>\n",
       "      <td>2014-08-04</td>\n",
       "      <td>168.0</td>\n",
       "      <td>Delta Enterprise</td>\n",
       "      <td>5.880</td>\n",
       "    </tr>\n",
       "    <tr>\n",
       "      <th>3</th>\n",
       "      <td>10249</td>\n",
       "      <td>Tofu</td>\n",
       "      <td>Produce</td>\n",
       "      <td>18.6</td>\n",
       "      <td>9</td>\n",
       "      <td>Toms Spezialitäten</td>\n",
       "      <td>Münster</td>\n",
       "      <td>Germany</td>\n",
       "      <td>2014-08-05</td>\n",
       "      <td>167.4</td>\n",
       "      <td>Delta Enterprise</td>\n",
       "      <td>5.859</td>\n",
       "    </tr>\n",
       "    <tr>\n",
       "      <th>4</th>\n",
       "      <td>10249</td>\n",
       "      <td>Manjimup Dried Apples</td>\n",
       "      <td>Produce</td>\n",
       "      <td>42.4</td>\n",
       "      <td>40</td>\n",
       "      <td>Toms Spezialitäten</td>\n",
       "      <td>Münster</td>\n",
       "      <td>Germany</td>\n",
       "      <td>2014-08-05</td>\n",
       "      <td>1696.0</td>\n",
       "      <td>Delta Enterprise</td>\n",
       "      <td>59.360</td>\n",
       "    </tr>\n",
       "  </tbody>\n",
       "</table>\n",
       "</div>"
      ],
      "text/plain": [
       "   Order ID                        Product        Category  Unit Price  \\\n",
       "0       458  Singaporean Hokkien Fried Mee  Grains/Cereals         9.8   \n",
       "1     10248         Mozzarella di Giovanni  Dairy Products        34.8   \n",
       "2     10248                 Queso Cabrales  Dairy Products        14.0   \n",
       "3     10249                           Tofu         Produce        18.6   \n",
       "4     10249          Manjimup Dried Apples         Produce        42.4   \n",
       "\n",
       "   Quantity                   Customer Ship City Ship Country Order Date  \\\n",
       "0         1  Vins et alcools Chevalier     Reims       France 2014-08-04   \n",
       "1         5  Vins et alcools Chevalier     Reims       France 2014-08-04   \n",
       "2        12  Vins et alcools Chevalier     Reims       France 2014-08-04   \n",
       "3         9         Toms Spezialitäten   Münster      Germany 2014-08-05   \n",
       "4        40         Toms Spezialitäten   Münster      Germany 2014-08-05   \n",
       "\n",
       "   Amount        Enterprise  Discount  \n",
       "0     9.8  Delta Enterprise     0.343  \n",
       "1   174.0  Delta Enterprise     6.090  \n",
       "2   168.0  Delta Enterprise     5.880  \n",
       "3   167.4  Delta Enterprise     5.859  \n",
       "4  1696.0  Delta Enterprise    59.360  "
      ]
     },
     "execution_count": 20,
     "metadata": {},
     "output_type": "execute_result"
    }
   ],
   "source": [
    "# Igualando la posición y dándole un valor se cambia el valor de la posición, dado por iloc[,]\n",
    "trimestre2014.iloc[0,0] = 458  # valor original 10248\n",
    "#veremos como guardar un datafrmae y despues trabajar con SQL\n",
    "trimestre2014.head(5)"
   ]
  }
 ],
 "metadata": {
  "kernelspec": {
   "display_name": "Python 3",
   "language": "python",
   "name": "python3"
  },
  "language_info": {
   "codemirror_mode": {
    "name": "ipython",
    "version": 3
   },
   "file_extension": ".py",
   "mimetype": "text/x-python",
   "name": "python",
   "nbconvert_exporter": "python",
   "pygments_lexer": "ipython3",
   "version": "3.11.9"
  }
 },
 "nbformat": 4,
 "nbformat_minor": 2
}
